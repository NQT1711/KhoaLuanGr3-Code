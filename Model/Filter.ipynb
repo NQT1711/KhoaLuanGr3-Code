{
 "cells": [
  {
   "cell_type": "code",
   "execution_count": 2,
   "metadata": {},
   "outputs": [
    {
     "name": "stdout",
     "output_type": "stream",
     "text": [
      "60285\n"
     ]
    }
   ],
   "source": [
    "import pandas as pd\n",
    "import warnings\n",
    "warnings.filterwarnings('ignore')\n",
    "df_social = pd.read_csv('../Data/Preprocessed_data/SocialMediaReviews.csv')\n",
    "df_social.drop(columns=['ViewCount'],inplace=True)\n",
    "df_social.dropna(inplace=True)\n",
    "print(len(df_social))\n"
   ]
  },
  {
   "cell_type": "code",
   "execution_count": 3,
   "metadata": {},
   "outputs": [],
   "source": [
    "documents = df_social['Review']"
   ]
  },
  {
   "cell_type": "markdown",
   "metadata": {},
   "source": [
    "Preprocessing"
   ]
  },
  {
   "cell_type": "code",
   "execution_count": 11,
   "metadata": {},
   "outputs": [],
   "source": [
    "# from multiprocessing import Pool\n",
    "from nltk import word_tokenize\n",
    "\n",
    "documents = df_social['Review']\n",
    "stopwords = set(open('./vietnamese-stopwords.txt', encoding='utf-8').read().split('\\n')[:-1])\n",
    "puct_set = set([c for c in '!\"#$%&\\'()*+,./:;<=>?@[\\\\]^`{|}~'])\n",
    "\n",
    "def generateBigram(review):\n",
    "    words = review.split()\n",
    "    if len(words)==1:\n",
    "        return ''\n",
    "    bigrams = [words[i]+'_'+words[i+1] for i in range(0,len(words)-1)]\n",
    "    return ' '.join(bigrams)\n",
    "\n",
    "def removeRedundant(text,redundantSet):\n",
    "    words = text.split()\n",
    "    for i in range(0,len(words)):\n",
    "        if words[i].count('_') == 0 and (words[i] in redundantSet or words[i].isdigit()):\n",
    "            words[i] = ''\n",
    "        else:\n",
    "            sub_words = words[i].split('_')\n",
    "            if any(w in redundantSet or w.isdigit() for w in sub_words):\n",
    "                words[i] = ''\n",
    "    words = [w for w in words if w != '']\n",
    "    words = ' '.join(words)\n",
    "    return words\n",
    "\n",
    "\n",
    "def preprocessing(text):\n",
    "    text = ' '.join(word_tokenize(text))\n",
    "    text = text.lower()\n",
    "    text = ' '.join(text.split())\n",
    "    text = text + generateBigram(text)\n",
    "    text = removeRedundant(text,puct_set | stopwords)\n",
    "    return text\n",
    "\n",
    "clean_documents =  documents.apply(preprocessing)"
   ]
  },
  {
   "cell_type": "code",
   "execution_count": 4,
   "metadata": {},
   "outputs": [
    {
     "data": {
      "text/plain": [
       "'viết cầm pro max với mình chẳng tích_cực đàn yếu_đuối thế bài_viết vs_m m_chẳng tích_cực _đàn yếu_đuối'"
      ]
     },
     "execution_count": 4,
     "metadata": {},
     "output_type": "execute_result"
    }
   ],
   "source": [
    "\n",
    "text_preprocessed.preprocessing_text('viết cầm 14prm vs m chẳng 😆 đàn yếu đuối thế bài_viết vs_m m_chẳng 😆_đàn yếu_đuối')"
   ]
  },
  {
   "cell_type": "code",
   "execution_count": 7,
   "metadata": {},
   "outputs": [
    {
     "name": "stdout",
     "output_type": "stream",
     "text": [
      "'NoneType' object is not subscriptable\n"
     ]
    }
   ],
   "source": [
    "from text_preprocessed import preprocessing_text\n",
    "\n",
    "try:\n",
    "    cleaned_documents = documents.apply(preprocessing_text)\n",
    "except Exception as e:\n",
    "    print(e)"
   ]
  },
  {
   "cell_type": "code",
   "execution_count": 18,
   "metadata": {},
   "outputs": [
    {
     "data": {
      "text/plain": [
       "156                                được cái mã bên ngoài\n",
       "157                                    cái mã ngoài   đó\n",
       "158                             vẫn chưa hiểu tích_cực  \n",
       "159    bên ngành ông tô người_ta gọi facelift nâng_cấ...\n",
       "160    mấy thằng member tinhte từ_tục thấy chia_sẻ th...\n",
       "161    giàu bằng mồ_hôi của mình thì khoe mạnh lên ae...\n",
       "162    mình không ganh_ghét hay đố_kị những người già...\n",
       "163    chỉ chửi nhưng lại không ganh_ghét đố_kỵ   hay...\n",
       "164         chấp làm gì   nó chắc đang iphone nên cay_cú\n",
       "165    giàu chân_chính mà khoe thì đáng ngưởng mộ chứ...\n",
       "166    nhiều người mua iphone làm động mồ động mả bọn...\n",
       "167                             gato kìa lêu lêu   cay à\n",
       "168                             bớt sân si và đố_kỵ đi  \n",
       "169    ranh_con   có tí tiền đã khoe_khoang   muốn là...\n",
       "170    Ranh con, có tí tiền đã khoe khoang, muốn làm ...\n",
       "Name: Review, dtype: object"
      ]
     },
     "execution_count": 18,
     "metadata": {},
     "output_type": "execute_result"
    }
   ],
   "source": [
    "documents[155:170]"
   ]
  },
  {
   "cell_type": "code",
   "execution_count": 27,
   "metadata": {},
   "outputs": [],
   "source": [
    "# from text_preprocessed import convert_emoji,remove_abbreviations,remove_replicated\n",
    "# from pyvi import ViTokenizer\n",
    "# text = \"Có mỗi iphone  mà cả tuần này tinh tế xào nấu kho hâm lại chắc dùng 2 tháng mới hết 🤣\"\n",
    "# text_pre = text.lower()\n",
    "# import re\n",
    "# # Loại bỏ url\n",
    "# text_pre = re.sub(r'http\\S+', '', text_pre)\n",
    "\n",
    "# # Loại bỏ tên miền\n",
    "# text_pre = re.sub(r\"[^\\s]*\\.(com|vn|net)\", '', text_pre)\n",
    "\n",
    "# # Loại bỏ hashtag\n",
    "# text_pre = ' '.join(re.sub(\"(#[A-Za-z0-9]+)\", \" \", text_pre).split())\n",
    "\n",
    "# # Loại bỏ user mentions @\n",
    "# text_pre = ' '.join(re.sub(\"(@[A-Za-z0-9]+)\", \" \", text_pre).split())\n",
    "\n",
    "# # Loại bỏ dấu xuống dòng \\r, \\n và tab \\t\n",
    "# text_pre = text_pre.replace('\\r', ' ').replace('\\n', ' ').replace('\\t', ' ')\n",
    "\n",
    "# # Biến đổi emoji\n",
    "# # text_pre = convert_emoji(text_pre)\n",
    "\n",
    "# # Loại bỏ chữ bị lặp\n",
    "# text_pre = remove_replicated(text_pre)\n",
    "\n",
    "# # Loại bỏ chữ số\n",
    "# text_pre = re.sub(\"\\d+\", \" \", text_pre)\n",
    "\n",
    "# # Loại bỏ từ viết tắt và viết sai\n",
    "# text_pre = remove_abbreviations(text_pre)\n",
    "\n",
    "# # Tokenize\n",
    "# text_pre = ViTokenizer.tokenize(text_pre)\n",
    "\n",
    "# # Loại bỏ dấu câu và kí tự\n",
    "# text_pre = re.sub(r'[^\\s\\wáàảãạăắằẳẵặâấầẩẫậéèẻẽẹêếềểễệóòỏõọôốồổỗộơớờởỡợíìỉĩịúùủũụưứừửữựýỳỷỹỵđÁÀẢÃẠĂẮẰẲẴẶÂẤẦẨẪẬÉÈẺẼẸÊẾỀỂỄỆÓÒỎÕỌÔỐỒỔỖỘƠỚỜỞỠỢÍÌỈĨỊÚÙỦŨỤƯỨỪỬỮỰÝỲỶỸỴĐ_]', ' ', text_pre)\n"
   ]
  },
  {
   "cell_type": "code",
   "execution_count": 28,
   "metadata": {},
   "outputs": [
    {
     "data": {
      "text/plain": [
       "'có mỗi iphone mà cả tuần này tinh_tế xào_nấu kho hâm lại chắc dùng tháng mới hết  '"
      ]
     },
     "execution_count": 28,
     "metadata": {},
     "output_type": "execute_result"
    }
   ],
   "source": [
    "text_pre"
   ]
  },
  {
   "cell_type": "code",
   "execution_count": 31,
   "metadata": {},
   "outputs": [
    {
     "ename": "TypeError",
     "evalue": "'NoneType' object is not subscriptable",
     "output_type": "error",
     "traceback": [
      "\u001b[1;31m---------------------------------------------------------------------------\u001b[0m",
      "\u001b[1;31mTypeError\u001b[0m                                 Traceback (most recent call last)",
      "Cell \u001b[1;32mIn [31], line 2\u001b[0m\n\u001b[0;32m      1\u001b[0m \u001b[38;5;28;01mfrom\u001b[39;00m \u001b[38;5;21;01mtext_preprocessed\u001b[39;00m \u001b[38;5;28;01mimport\u001b[39;00m preprocessing_text\n\u001b[1;32m----> 2\u001b[0m \u001b[38;5;28mprint\u001b[39m(\u001b[43mpreprocessing_text\u001b[49m\u001b[43m(\u001b[49m\u001b[38;5;124;43m\"\u001b[39;49m\u001b[38;5;124;43mCó mỗi iphone  mà cả tuần này tinh tế xào nấu kho hâm lại chắc dùng 2 tháng mới hết 🤣\u001b[39;49m\u001b[38;5;124;43m\"\u001b[39;49m\u001b[43m)\u001b[49m)\n",
      "File \u001b[1;32md:\\OneDrive - mrsnguyen\\DUE\\KLTN\\KhoaLuanGr3-Code\\Model\\text_preprocessed.py:172\u001b[0m, in \u001b[0;36mpreprocessing_text\u001b[1;34m(text)\u001b[0m\n\u001b[0;32m    169\u001b[0m text_pre \u001b[38;5;241m=\u001b[39m text_pre\u001b[38;5;241m.\u001b[39mreplace(\u001b[38;5;124m'\u001b[39m\u001b[38;5;130;01m\\r\u001b[39;00m\u001b[38;5;124m'\u001b[39m, \u001b[38;5;124m'\u001b[39m\u001b[38;5;124m \u001b[39m\u001b[38;5;124m'\u001b[39m)\u001b[38;5;241m.\u001b[39mreplace(\u001b[38;5;124m'\u001b[39m\u001b[38;5;130;01m\\n\u001b[39;00m\u001b[38;5;124m'\u001b[39m, \u001b[38;5;124m'\u001b[39m\u001b[38;5;124m \u001b[39m\u001b[38;5;124m'\u001b[39m)\u001b[38;5;241m.\u001b[39mreplace(\u001b[38;5;124m'\u001b[39m\u001b[38;5;130;01m\\t\u001b[39;00m\u001b[38;5;124m'\u001b[39m, \u001b[38;5;124m'\u001b[39m\u001b[38;5;124m \u001b[39m\u001b[38;5;124m'\u001b[39m)\n\u001b[0;32m    171\u001b[0m \u001b[38;5;66;03m# Biến đổi emoji\u001b[39;00m\n\u001b[1;32m--> 172\u001b[0m text_pre \u001b[38;5;241m=\u001b[39m \u001b[43mconvert_emoji\u001b[49m\u001b[43m(\u001b[49m\u001b[43mtext_pre\u001b[49m\u001b[43m)\u001b[49m\n\u001b[0;32m    174\u001b[0m \u001b[38;5;66;03m# Loại bỏ chữ bị lặp\u001b[39;00m\n\u001b[0;32m    175\u001b[0m text_pre \u001b[38;5;241m=\u001b[39m remove_replicated(text_pre)\n",
      "File \u001b[1;32md:\\OneDrive - mrsnguyen\\DUE\\KLTN\\KhoaLuanGr3-Code\\Model\\text_preprocessed.py:138\u001b[0m, in \u001b[0;36mconvert_emoji\u001b[1;34m(text)\u001b[0m\n\u001b[0;32m    136\u001b[0m \u001b[38;5;28;01mif\u001b[39;00m t \u001b[38;5;129;01min\u001b[39;00m EMOJI_DATA:\n\u001b[0;32m    137\u001b[0m     sen_dict \u001b[38;5;241m=\u001b[39m {}\n\u001b[1;32m--> 138\u001b[0m     sen_dict[\u001b[38;5;124m'\u001b[39m\u001b[38;5;124mtích cực\u001b[39m\u001b[38;5;124m'\u001b[39m] \u001b[38;5;241m=\u001b[39m \u001b[43mget_emoji_sentiment_rank\u001b[49m\u001b[43m(\u001b[49m\u001b[43mt\u001b[49m\u001b[43m)\u001b[49m\u001b[43m[\u001b[49m\u001b[38;5;124;43m'\u001b[39;49m\u001b[38;5;124;43mpositive\u001b[39;49m\u001b[38;5;124;43m'\u001b[39;49m\u001b[43m]\u001b[49m\n\u001b[0;32m    139\u001b[0m     sen_dict[\u001b[38;5;124m'\u001b[39m\u001b[38;5;124mbình thường\u001b[39m\u001b[38;5;124m'\u001b[39m] \u001b[38;5;241m=\u001b[39m get_emoji_sentiment_rank(t)[\u001b[38;5;124m'\u001b[39m\u001b[38;5;124mneutral\u001b[39m\u001b[38;5;124m'\u001b[39m]\n\u001b[0;32m    140\u001b[0m     sen_dict[\u001b[38;5;124m'\u001b[39m\u001b[38;5;124mtiêu cực\u001b[39m\u001b[38;5;124m'\u001b[39m] \u001b[38;5;241m=\u001b[39m get_emoji_sentiment_rank(t)[\u001b[38;5;124m'\u001b[39m\u001b[38;5;124mnegative\u001b[39m\u001b[38;5;124m'\u001b[39m]\n",
      "\u001b[1;31mTypeError\u001b[0m: 'NoneType' object is not subscriptable"
     ]
    }
   ],
   "source": [
    "from text_preprocessed import preprocessing_text\n",
    "print(preprocessing_text(\"Có mỗi iphone  mà cả tuần này tinh tế xào nấu kho hâm lại chắc dùng 2 tháng mới hết 🤣\"))"
   ]
  },
  {
   "cell_type": "code",
   "execution_count": 21,
   "metadata": {},
   "outputs": [
    {
     "name": "stdout",
     "output_type": "stream",
     "text": [
      "Error processing row at index 771: 'NoneType' object is not subscriptable\n",
      "Có mỗi iphone  mà cả tuần này tinh tế xào nấu kho hâm lại chắc dùng 2 tháng mới hết 🤣\n",
      "Error processing row at index 817: 'NoneType' object is not subscriptable\n",
      "Bài này từ hồi \n",
      "iphone 11\n",
      "iphone 12\n",
      "iphone 13\n",
      "iphone 14\n",
      "iphone 15\n",
      "…\n",
      "\n",
      "“Hổng đc, hình em gái này chưa xinh, cũ rùi…”\n",
      "\n",
      "Ái chà, copy paste mỏi nay rùi sửa thêm cẩn thận kẻo anh em lại mắng oan ta🤣\n",
      "Error processing row at index 868: 'NoneType' object is not subscriptable\n",
      "Suỵt nói nhỏ thôi, nó lại bảo tái định nghĩa chứ ko bảo đi sao chép đâu 🤣🤣🤣\n",
      "Error processing row at index 888: 'NoneType' object is not subscriptable\n",
      "muốn hết nóng thì đợi apple ra bản update giảm hiệu năng A17 Pro thôi 🤣\n",
      "Error processing row at index 900: 'NoneType' object is not subscriptable\n",
      "Định nghĩa 🤣🤣🤣 Văn của mấy thằng ifan khá hài hước\n",
      "Error processing row at index 1187: 'NoneType' object is not subscriptable\n",
      "Sống ở VN mà ko hiểu tiếng việt ah🤐. Lại vặn “không khác” và “ko khác nhiều” thì tôi cũng  ạ bạn.\n",
      "Error processing row at index 1201: 'NoneType' object is not subscriptable\n",
      "Thế cơ à...😂🤣🤣😂🤣\n",
      "Error processing row at index 1255: 'NoneType' object is not subscriptable\n",
      "Thì ở tinhte Apple là tôn giáo mà bạn, cái Apple pay có gì đâu mà cũng bú 20-30 bài, iPhone thì chắc phải x2 🤡\n",
      "Error processing row at index 1306: 'NoneType' object is not subscriptable\n",
      "Dm bằng tay cơ ak 🤣\n",
      "Error processing row at index 1323: 'NoneType' object is not subscriptable\n",
      "Các cháu bảo đột phá lắm bác🤣🤣🤣🤣\n",
      "Error processing row at index 1416: 'NoneType' object is not subscriptable\n",
      "Nặng lắm 🤣🤣😂\n",
      "Error processing row at index 1426: 'NoneType' object is not subscriptable\n",
      "Mềm như iphone 6plus 🤣\n",
      "Error processing row at index 1576: 'NoneType' object is not subscriptable\n",
      "Crop trên cảm biến vẫn tính là zoom quang sao 🤣\n",
      "Error processing row at index 1668: 'NoneType' object is not subscriptable\n",
      "Chụp ss up bằng IP, mình đang áp dụng 🤣\n",
      "Error processing row at index 1669: 'NoneType' object is not subscriptable\n",
      "Ủa, cái này có thật ah? Mình tưởng chỉ là tin đồn thôi chứ? 🙂\n",
      "Error processing row at index 1714: 'NoneType' object is not subscriptable\n",
      "Tui đang xài ip mà nghe bạn nói cười đau bụng ..xài con s23 ultra chưa hay nói đại vậy 🤣\n",
      "Error processing row at index 1738: 'NoneType' object is not subscriptable\n",
      "Đi khám mắt với đo điện não lại đi cưng. Có khi nhìn ám vàng riết nhìn bình thường lại ra ám xanh, kẻo tối nhìn vợ tưởng bị blue clam nữa 🤣\n",
      "Error processing row at index 1780: 'NoneType' object is not subscriptable\n",
      "Để mấy con bot đi dizz thấy comment nào smart thì tự ngu thôi, sai pà nó chức năng rồi 🤣\n",
      "Error processing row at index 1922: 'NoneType' object is not subscriptable\n",
      "Để nguyên bản mà bán ko để. Sơn xanh lên xong ế màu xanh bạn nhỉ  🤣\n",
      "Error processing row at index 1924: 'NoneType' object is not subscriptable\n",
      "Haha tưởng tự nhiên thì hắn phải tự nhiên 🤣\n",
      "Error processing row at index 1961: 'NoneType' object is not subscriptable\n",
      "Khó có đối thủ mà chẳng dám so sánh với đối thủ nào 🤣\n",
      "Error processing row at index 2137: 'NoneType' object is not subscriptable\n",
      "Sao thấy nó chưa bằng 5x trên note 20 ultra ta 🙄🙄\n",
      "Error processing row at index 2240: 'NoneType' object is not subscriptable\n",
      "Viết bài bị lỗi chính tả hay bị nhầm là đặc sản của Tinh tế rồi. Cũng do lây từ tay chủ tịch Ku Hiệp mà ra. \n",
      "Nên mấy bác cứ thông cảm nhé. 🤣\n",
      "Error processing row at index 2318: 'NoneType' object is not subscriptable\n",
      "Vậy ai bảo là iPhone không cần nhiều bộ nhớ Ram 🤣🤣🤣🤣🤣 bây giờ rõ rồi nhé ! iPhone nó cũng như androi thôi . Không tránh được kiếp nhân sinh đâu\n",
      "Error processing row at index 2323: 'NoneType' object is not subscriptable\n",
      "Đg suy nghĩ chọn màu. Cũng k quan tâm lắm mấy cái thông số này 🤣🤣🤣. Hình như từ lâu rồi.\n",
      "Error processing row at index 2324: 'NoneType' object is not subscriptable\n",
      "Ram 6GB trên iphone là thấy dư dùng rồi 🤣🤣\n",
      "Error processing row at index 2331: 'NoneType' object is not subscriptable\n",
      "8GB RAM Apple = 32GB RAM Android 🤣\n",
      "Error processing row at index 2371: 'NoneType' object is not subscriptable\n",
      "Loại gian xảo lại còn Chí Phèo, ai dạy cu thế đấy 🤣\n",
      "Error processing row at index 2446: 'NoneType' object is not subscriptable\n",
      "Thế ra mày viết cả chục cái cmt chỉ để lặp đi lặp lại cái ai-cũng-biết đấy à, đúng là thằng khùng, ai chả biết sau post này thì khai trung thực đó là cách phòng mất tg ngoài ý muốn, sau post này ngta tự rõ, cần mày lặp cả chục cái cmt để nói quá, chết cười. Quan trọng rồi trung thực xong vẫn có khả năng mất tiền, đó mới là cái ngta bàn luận, mẹ đúng thằng khùng, hóa ra nó nói không đâu 🤣\n",
      "Error processing row at index 2479: 'NoneType' object is not subscriptable\n",
      "Nghìn tỷ mà làm ăn chán đời 🤣...nó đặt cái store online xong mà ko chơi full tiếng Việt là đủ hiểu nó xem thường cỡ nào🙄\n",
      "Error processing row at index 2535: 'NoneType' object is not subscriptable\n",
      "Cộng nhiều quá bạn kia tính không kịp🤣\n",
      "Error processing row at index 2619: 'NoneType' object is not subscriptable\n",
      "Giống mình, làm việc với tiếng anh hàng ngày nhưng những dòng như này đúng ... Nuốt không trôi, chắc nó thành trap 🤣🤣🤣\n",
      "Error processing row at index 2702: 'NoneType' object is not subscriptable\n",
      "Vì cầm iporn vẫn sướng chim hơn cầm hà thiên lộn á bro ơi 🤣\n",
      "Error processing row at index 2837: 'NoneType' object is not subscriptable\n",
      "Nghĩ theo hướng tích cực đi bâc. Phải có nhiều con gà để lùa như bác thì apple mới có thể trở thành tập đoàn nghìn tỷ đô la. Để từ đó có thể cho ra những con ip mới để bác dùng chứ 🤣🤣🤣\n",
      "Error processing row at index 2857: 'NoneType' object is not subscriptable\n",
      "Chơi khốn nạn thật, đớp cả của người dùng cá nhân luôn. Chúc mừng mày được tao chấp nhận thu mua máy với giá 0đ🤣🤣🤣. Khéo nhân viên nó đem về cho người nhà sài luôn rồi\n",
      "Error processing row at index 2931: 'NoneType' object is not subscriptable\n",
      "Khó phân biệt thật 🙄\n",
      "Error processing row at index 2964: 'NoneType' object is not subscriptable\n",
      "Bạn ơi? Bạn đọc không hiểu rõ nội dung rồi ấn xác nhận rồi kêu người ta lừa bạn là sao? Kiểu vừa ăn cướp vừa la làng ý. Tại sao mình ko mạnh dạng nhận mình sai? Mình dốt ngoại ngữ và chia sẻ lại cái sự sai lầm của mình??? Tại sao lại bảo họ bẫy? Quá trình họ thẩm định máy của bạn là với nhà máy ? Mà nhà máy nó ko có nghĩa vụ phải reply bằng tiền Việt đâu ạ? Và họ gửi nội dung rõ ràng do mình dịch qua loa thì chấp nhận với cái SAI của mình đi đã bảo họ TRAP mình 🙏🏻\n",
      "Error processing row at index 2966: 'NoneType' object is not subscriptable\n",
      "Chưa kể lúc khai báo tình trạng sao không kê khai máy mình bị bể kính lưng? Muốn lừa nó trước để thu được gía cao ai ngờ bị mắc xương ngược lại lên gào thét như kiểu bị hại, với tình trạng máy như thế ra hàng nó cũng chả thu dc tới 7tr 🙏🏻 mà đòi lừa Tư Bản trước 🤣\n",
      "Error processing row at index 2971: 'NoneType' object is not subscriptable\n",
      "Uhm thì mình dốt tiếng Việt nhưng mình không bạo biện cho sự ngu dốt đó. Còn phản biện cho cố xong “bị lừa” 1 cách đáng sợ là thông điệp cần được truyền tải rộng rãi lên nè. Bạn auto đúng, và bạn là nhất 🥇 okay ☝🏻\n",
      "Error processing row at index 2980: 'NoneType' object is not subscriptable\n",
      "Bác cãi ko lại tụi chó hùa đâu, người viết Sai rồi không nói, nhưng thành phần hùa theo để bảo biện cho cái Sai đó thành bình thường mới là thành phần nguy hiểm. Thay vào  ở đó cầu thị học hỏi, thừa nhận mình SAI và DỐT trước đi đã thì ở đây nó còn lập luận ngoặc kép với ngoặc vuông ? \n",
      "\n",
      "“ bị lừa “ 1 cách đáng sợ mà nó phản biện là mình dốt tiếng việt nên không hiểu ý thành tâm hối cải nhận sai nhận dốt của chủ bài viết thì cũng quỳ 🙏🏻 1 câu nói kinh điển : không thể chống lại lũ Ngu vì chúng quá đông 🤣\n",
      "Error processing row at index 2988: 'NoneType' object is not subscriptable\n",
      "Vậy bớt lươn lẹo đi để người ta khỏi coi thường 🙃\n",
      "Error processing row at index 2992: 'NoneType' object is not subscriptable\n",
      "Làm ăn ở Việt Nam nhưng đoạn trọng tâm ta chơi tiếng anh, bạn nghĩ nó để cho mình có cơ hội report không 🤣🤣🤣\n",
      "Error processing row at index 2995: 'NoneType' object is not subscriptable\n",
      "Một thằng lươn lẹo ngay từ đầu rồi đổ thừa người ta lừa đảo 🙃 chán nhất là đứa vào cmt bênh nữa. Phải ngay từ đầu mình ngay thẳng thì mới đủ tư cách nói người khác lừa đảo chứ 🤣\n",
      "Error processing row at index 3118: 'NoneType' object is not subscriptable\n",
      "Ra cửa hàng trade in cái là có máy mới với giá rẻ hơn trên apple store 🙂\n",
      "Error processing row at index 3202: 'NoneType' object is not subscriptable\n",
      "Ncl rách. Khóc từ bên group ip sang đây cũng đ ai bênh. Tính lừa tk apple nhưng ko đc quay ra cay cú à 🙂\n",
      "Error processing row at index 3220: 'NoneType' object is not subscriptable\n",
      "Khóc than người khác lừa mình trong khi chính bản thân đã chủ động lừa người khác, còn trẻ thì học thói trung thực ngay từ đầu thay vì dùng những ngôn từ thoá mạ người khác. Rách 🙃 \n",
      " Sent from CRAZYSEXYCOOL1981 using BlackBerry Athena \n",
      "Error processing row at index 3243: 'NoneType' object is not subscriptable\n",
      "Trong khi iPhone nào cũng bền vl ra mà mấy thằng ngáo chưa được sờ con 15 pro bao h phán như dúng rồi 🤣\n",
      "Error processing row at index 3313: 'NoneType' object is not subscriptable\n",
      "Câu hỏi chí mạng 🤣\n",
      "Error processing row at index 3383: 'NoneType' object is not subscriptable\n",
      "Hồi giờ A vẫn làm khung nhôm với khung inox mà bạn 🤣\n",
      "Error processing row at index 3413: 'NoneType' object is not subscriptable\n",
      "Nguyên tắc làm kiếm nhạt thế nào nói nghe chơi bạn, coi thử có giống với cách apple làm ko 🤣\n",
      "Error processing row at index 3429: 'NoneType' object is not subscriptable\n",
      "🌶️🌶️🌶️ 😆\n",
      "Error processing row at index 3440: 'NoneType' object is not subscriptable\n",
      "“Anh em nói khung sườn iPhone 15 Pro bằng Titanium là không đúng. Nó là bằng nhôm và phủ Titanium.”\n",
      "\n",
      "Ông lo mà kêu đám mod nhân viên sửa lại mấy bài viết từ hôm qua tới giờ đi kìa! Đầy thím hô là khung titanium 🤣 🤣 🤣\n",
      "Error processing row at index 3465: 'NoneType' object is not subscriptable\n",
      "Bằng titan với phủ titan là hai khái niệm khác nhau. Tóm lại cái khung vẫn là nhôm. Bạn ko thể lấy cái nhẫn bạc mạ vàng lên xong gọi nó là nhẫn vàng đc 🤔\n",
      "Error processing row at index 3470: 'NoneType' object is not subscriptable\n",
      "Đẳng cấp cao nên giá cũng phải tương xứng 🤑\n",
      "Error processing row at index 3491: 'NoneType' object is not subscriptable\n",
      "Nói chung là cũng éo có gì thú vị , đàng bồi nào 98% người dùng chả ốp , dán ... các kiểu . T còn thấy có thể loại bình thường thì đeo ốp kín mít , xong khi nào ngồi đâu sang chảnh , ha oai thì tháo ốp để trần xong nâng như nâng bi vậy 🤣🤣🤣\n",
      "Error processing row at index 3500: 'NoneType' object is not subscriptable\n",
      "Cái màu gold sang chảnh đời 15 lại k có, chán chả muốn lên đời ae ạ, tôi vẫn sài tiếp 14pro max 🤣 15 ko có gì hấp dẫn lắm ae ạ\n",
      "Error processing row at index 3535: 'NoneType' object is not subscriptable\n",
      "hai cái đó là hai phần riêng biệt, theo như cách họ nói hai cái đó phần tiếp xúc trộn lẫn lại dzới nhau, mà để hai cái đó trộn lẫn được thì chỉ có nung chảy chỗ tiếp xúc đó, mà để chỉ nung chảy phần phần tiếp xúc đó cho tụi nó trộn dzô nhau mà hông ảnh hưởng tới cái viền cái khung thi công nghệ ghê thiệc, hay chỉ là cách nói quá chớ thặc sự chỉ xi mạ 🤣🤣🤣\n",
      "Error processing row at index 3678: 'NoneType' object is not subscriptable\n",
      "Vẫn ko hơn gì con iPhone 16 Pro Max đang xài, bỏ qua được rồi 🙂\n"
     ]
    },
    {
     "ename": "KeyboardInterrupt",
     "evalue": "",
     "output_type": "error",
     "traceback": [
      "\u001b[1;31m---------------------------------------------------------------------------\u001b[0m",
      "\u001b[1;31mKeyboardInterrupt\u001b[0m                         Traceback (most recent call last)",
      "Cell \u001b[1;32mIn [21], line 5\u001b[0m\n\u001b[0;32m      3\u001b[0m \u001b[38;5;28;01mfor\u001b[39;00m index, row \u001b[38;5;129;01min\u001b[39;00m \u001b[38;5;28menumerate\u001b[39m(documents):\n\u001b[0;32m      4\u001b[0m     \u001b[38;5;28;01mtry\u001b[39;00m:\n\u001b[1;32m----> 5\u001b[0m         documents\u001b[38;5;241m.\u001b[39mloc[index] \u001b[38;5;241m=\u001b[39m \u001b[43mpreprocessing_text\u001b[49m\u001b[43m(\u001b[49m\u001b[43mrow\u001b[49m\u001b[43m)\u001b[49m\n\u001b[0;32m      6\u001b[0m     \u001b[38;5;28;01mexcept\u001b[39;00m \u001b[38;5;167;01mException\u001b[39;00m \u001b[38;5;28;01mas\u001b[39;00m e:\n\u001b[0;32m      7\u001b[0m         \u001b[38;5;28mprint\u001b[39m(\u001b[38;5;124mf\u001b[39m\u001b[38;5;124m\"\u001b[39m\u001b[38;5;124mError processing row at index \u001b[39m\u001b[38;5;132;01m{\u001b[39;00mindex\u001b[38;5;132;01m}\u001b[39;00m\u001b[38;5;124m: \u001b[39m\u001b[38;5;132;01m{\u001b[39;00me\u001b[38;5;132;01m}\u001b[39;00m\u001b[38;5;124m\"\u001b[39m)\n",
      "File \u001b[1;32md:\\OneDrive - mrsnguyen\\DUE\\KLTN\\KhoaLuanGr3-Code\\Model\\text_preprocessed.py:181\u001b[0m, in \u001b[0;36mpreprocessing_text\u001b[1;34m(text)\u001b[0m\n\u001b[0;32m    178\u001b[0m text_pre \u001b[38;5;241m=\u001b[39m re\u001b[38;5;241m.\u001b[39msub(\u001b[38;5;124m\"\u001b[39m\u001b[38;5;124m\\\u001b[39m\u001b[38;5;124md+\u001b[39m\u001b[38;5;124m\"\u001b[39m, \u001b[38;5;124m\"\u001b[39m\u001b[38;5;124m \u001b[39m\u001b[38;5;124m\"\u001b[39m, text_pre)\n\u001b[0;32m    180\u001b[0m \u001b[38;5;66;03m# Loại bỏ từ viết tắt và viết sai\u001b[39;00m\n\u001b[1;32m--> 181\u001b[0m text_pre \u001b[38;5;241m=\u001b[39m \u001b[43mremove_abbreviations\u001b[49m\u001b[43m(\u001b[49m\u001b[43mtext_pre\u001b[49m\u001b[43m)\u001b[49m\n\u001b[0;32m    183\u001b[0m \u001b[38;5;66;03m# Tokenize\u001b[39;00m\n\u001b[0;32m    184\u001b[0m text_pre \u001b[38;5;241m=\u001b[39m ViTokenizer\u001b[38;5;241m.\u001b[39mtokenize(text_pre)\n",
      "File \u001b[1;32md:\\OneDrive - mrsnguyen\\DUE\\KLTN\\KhoaLuanGr3-Code\\Model\\text_preprocessed.py:100\u001b[0m, in \u001b[0;36mremove_abbreviations\u001b[1;34m(text)\u001b[0m\n\u001b[0;32m     99\u001b[0m \u001b[38;5;28;01mdef\u001b[39;00m \u001b[38;5;21mremove_abbreviations\u001b[39m(text):\n\u001b[1;32m--> 100\u001b[0m     abbreviations \u001b[38;5;241m=\u001b[39m \u001b[43mpd\u001b[49m\u001b[38;5;241;43m.\u001b[39;49m\u001b[43mread_excel\u001b[49m\u001b[43m(\u001b[49m\u001b[38;5;124;43m'\u001b[39;49m\u001b[38;5;124;43mabbreviations.xlsx\u001b[39;49m\u001b[38;5;124;43m'\u001b[39;49m\u001b[43m)\u001b[49m\n\u001b[0;32m    101\u001b[0m     remove_abbreviations_list \u001b[38;5;241m=\u001b[39m []\n\u001b[0;32m    102\u001b[0m     \u001b[38;5;28;01mfor\u001b[39;00m t \u001b[38;5;129;01min\u001b[39;00m text\u001b[38;5;241m.\u001b[39msplit(\u001b[38;5;124m'\u001b[39m\u001b[38;5;124m \u001b[39m\u001b[38;5;124m'\u001b[39m):\n",
      "File \u001b[1;32mc:\\Users\\nguye\\AppData\\Local\\Programs\\Python\\Python310\\lib\\site-packages\\pandas\\io\\excel\\_base.py:504\u001b[0m, in \u001b[0;36mread_excel\u001b[1;34m(io, sheet_name, header, names, index_col, usecols, dtype, engine, converters, true_values, false_values, skiprows, nrows, na_values, keep_default_na, na_filter, verbose, parse_dates, date_parser, date_format, thousands, decimal, comment, skipfooter, storage_options, dtype_backend, engine_kwargs)\u001b[0m\n\u001b[0;32m    502\u001b[0m \u001b[38;5;28;01mif\u001b[39;00m \u001b[38;5;129;01mnot\u001b[39;00m \u001b[38;5;28misinstance\u001b[39m(io, ExcelFile):\n\u001b[0;32m    503\u001b[0m     should_close \u001b[38;5;241m=\u001b[39m \u001b[38;5;28;01mTrue\u001b[39;00m\n\u001b[1;32m--> 504\u001b[0m     io \u001b[38;5;241m=\u001b[39m \u001b[43mExcelFile\u001b[49m\u001b[43m(\u001b[49m\n\u001b[0;32m    505\u001b[0m \u001b[43m        \u001b[49m\u001b[43mio\u001b[49m\u001b[43m,\u001b[49m\n\u001b[0;32m    506\u001b[0m \u001b[43m        \u001b[49m\u001b[43mstorage_options\u001b[49m\u001b[38;5;241;43m=\u001b[39;49m\u001b[43mstorage_options\u001b[49m\u001b[43m,\u001b[49m\n\u001b[0;32m    507\u001b[0m \u001b[43m        \u001b[49m\u001b[43mengine\u001b[49m\u001b[38;5;241;43m=\u001b[39;49m\u001b[43mengine\u001b[49m\u001b[43m,\u001b[49m\n\u001b[0;32m    508\u001b[0m \u001b[43m        \u001b[49m\u001b[43mengine_kwargs\u001b[49m\u001b[38;5;241;43m=\u001b[39;49m\u001b[43mengine_kwargs\u001b[49m\u001b[43m,\u001b[49m\n\u001b[0;32m    509\u001b[0m \u001b[43m    \u001b[49m\u001b[43m)\u001b[49m\n\u001b[0;32m    510\u001b[0m \u001b[38;5;28;01melif\u001b[39;00m engine \u001b[38;5;129;01mand\u001b[39;00m engine \u001b[38;5;241m!=\u001b[39m io\u001b[38;5;241m.\u001b[39mengine:\n\u001b[0;32m    511\u001b[0m     \u001b[38;5;28;01mraise\u001b[39;00m \u001b[38;5;167;01mValueError\u001b[39;00m(\n\u001b[0;32m    512\u001b[0m         \u001b[38;5;124m\"\u001b[39m\u001b[38;5;124mEngine should not be specified when passing \u001b[39m\u001b[38;5;124m\"\u001b[39m\n\u001b[0;32m    513\u001b[0m         \u001b[38;5;124m\"\u001b[39m\u001b[38;5;124man ExcelFile - ExcelFile already has the engine set\u001b[39m\u001b[38;5;124m\"\u001b[39m\n\u001b[0;32m    514\u001b[0m     )\n",
      "File \u001b[1;32mc:\\Users\\nguye\\AppData\\Local\\Programs\\Python\\Python310\\lib\\site-packages\\pandas\\io\\excel\\_base.py:1550\u001b[0m, in \u001b[0;36mExcelFile.__init__\u001b[1;34m(self, path_or_buffer, engine, storage_options, engine_kwargs)\u001b[0m\n\u001b[0;32m   1547\u001b[0m \u001b[38;5;28mself\u001b[39m\u001b[38;5;241m.\u001b[39m_io \u001b[38;5;241m=\u001b[39m stringify_path(path_or_buffer)\n\u001b[0;32m   1549\u001b[0m \u001b[38;5;66;03m# Determine xlrd version if installed\u001b[39;00m\n\u001b[1;32m-> 1550\u001b[0m \u001b[38;5;28;01mif\u001b[39;00m \u001b[43mimport_optional_dependency\u001b[49m\u001b[43m(\u001b[49m\u001b[38;5;124;43m\"\u001b[39;49m\u001b[38;5;124;43mxlrd\u001b[39;49m\u001b[38;5;124;43m\"\u001b[39;49m\u001b[43m,\u001b[49m\u001b[43m \u001b[49m\u001b[43merrors\u001b[49m\u001b[38;5;241;43m=\u001b[39;49m\u001b[38;5;124;43m\"\u001b[39;49m\u001b[38;5;124;43mignore\u001b[39;49m\u001b[38;5;124;43m\"\u001b[39;49m\u001b[43m)\u001b[49m \u001b[38;5;129;01mis\u001b[39;00m \u001b[38;5;28;01mNone\u001b[39;00m:\n\u001b[0;32m   1551\u001b[0m     xlrd_version \u001b[38;5;241m=\u001b[39m \u001b[38;5;28;01mNone\u001b[39;00m\n\u001b[0;32m   1552\u001b[0m \u001b[38;5;28;01melse\u001b[39;00m:\n",
      "File \u001b[1;32mc:\\Users\\nguye\\AppData\\Local\\Programs\\Python\\Python310\\lib\\site-packages\\pandas\\compat\\_optional.py:132\u001b[0m, in \u001b[0;36mimport_optional_dependency\u001b[1;34m(name, extra, errors, min_version)\u001b[0m\n\u001b[0;32m    127\u001b[0m msg \u001b[38;5;241m=\u001b[39m (\n\u001b[0;32m    128\u001b[0m     \u001b[38;5;124mf\u001b[39m\u001b[38;5;124m\"\u001b[39m\u001b[38;5;124mMissing optional dependency \u001b[39m\u001b[38;5;124m'\u001b[39m\u001b[38;5;132;01m{\u001b[39;00minstall_name\u001b[38;5;132;01m}\u001b[39;00m\u001b[38;5;124m'\u001b[39m\u001b[38;5;124m. \u001b[39m\u001b[38;5;132;01m{\u001b[39;00mextra\u001b[38;5;132;01m}\u001b[39;00m\u001b[38;5;124m \u001b[39m\u001b[38;5;124m\"\u001b[39m\n\u001b[0;32m    129\u001b[0m     \u001b[38;5;124mf\u001b[39m\u001b[38;5;124m\"\u001b[39m\u001b[38;5;124mUse pip or conda to install \u001b[39m\u001b[38;5;132;01m{\u001b[39;00minstall_name\u001b[38;5;132;01m}\u001b[39;00m\u001b[38;5;124m.\u001b[39m\u001b[38;5;124m\"\u001b[39m\n\u001b[0;32m    130\u001b[0m )\n\u001b[0;32m    131\u001b[0m \u001b[38;5;28;01mtry\u001b[39;00m:\n\u001b[1;32m--> 132\u001b[0m     module \u001b[38;5;241m=\u001b[39m \u001b[43mimportlib\u001b[49m\u001b[38;5;241;43m.\u001b[39;49m\u001b[43mimport_module\u001b[49m\u001b[43m(\u001b[49m\u001b[43mname\u001b[49m\u001b[43m)\u001b[49m\n\u001b[0;32m    133\u001b[0m \u001b[38;5;28;01mexcept\u001b[39;00m \u001b[38;5;167;01mImportError\u001b[39;00m:\n\u001b[0;32m    134\u001b[0m     \u001b[38;5;28;01mif\u001b[39;00m errors \u001b[38;5;241m==\u001b[39m \u001b[38;5;124m\"\u001b[39m\u001b[38;5;124mraise\u001b[39m\u001b[38;5;124m\"\u001b[39m:\n",
      "File \u001b[1;32mc:\\Users\\nguye\\AppData\\Local\\Programs\\Python\\Python310\\lib\\importlib\\__init__.py:126\u001b[0m, in \u001b[0;36mimport_module\u001b[1;34m(name, package)\u001b[0m\n\u001b[0;32m    124\u001b[0m             \u001b[38;5;28;01mbreak\u001b[39;00m\n\u001b[0;32m    125\u001b[0m         level \u001b[38;5;241m+\u001b[39m\u001b[38;5;241m=\u001b[39m \u001b[38;5;241m1\u001b[39m\n\u001b[1;32m--> 126\u001b[0m \u001b[38;5;28;01mreturn\u001b[39;00m \u001b[43m_bootstrap\u001b[49m\u001b[38;5;241;43m.\u001b[39;49m\u001b[43m_gcd_import\u001b[49m\u001b[43m(\u001b[49m\u001b[43mname\u001b[49m\u001b[43m[\u001b[49m\u001b[43mlevel\u001b[49m\u001b[43m:\u001b[49m\u001b[43m]\u001b[49m\u001b[43m,\u001b[49m\u001b[43m \u001b[49m\u001b[43mpackage\u001b[49m\u001b[43m,\u001b[49m\u001b[43m \u001b[49m\u001b[43mlevel\u001b[49m\u001b[43m)\u001b[49m\n",
      "File \u001b[1;32m<frozen importlib._bootstrap>:1050\u001b[0m, in \u001b[0;36m_gcd_import\u001b[1;34m(name, package, level)\u001b[0m\n",
      "File \u001b[1;32m<frozen importlib._bootstrap>:1027\u001b[0m, in \u001b[0;36m_find_and_load\u001b[1;34m(name, import_)\u001b[0m\n",
      "File \u001b[1;32m<frozen importlib._bootstrap>:1002\u001b[0m, in \u001b[0;36m_find_and_load_unlocked\u001b[1;34m(name, import_)\u001b[0m\n",
      "File \u001b[1;32m<frozen importlib._bootstrap>:945\u001b[0m, in \u001b[0;36m_find_spec\u001b[1;34m(name, path, target)\u001b[0m\n",
      "File \u001b[1;32m<frozen importlib._bootstrap_external>:1439\u001b[0m, in \u001b[0;36mfind_spec\u001b[1;34m(cls, fullname, path, target)\u001b[0m\n",
      "File \u001b[1;32m<frozen importlib._bootstrap_external>:1411\u001b[0m, in \u001b[0;36m_get_spec\u001b[1;34m(cls, fullname, path, target)\u001b[0m\n",
      "File \u001b[1;32m<frozen importlib._bootstrap_external>:1544\u001b[0m, in \u001b[0;36mfind_spec\u001b[1;34m(self, fullname, target)\u001b[0m\n",
      "File \u001b[1;32m<frozen importlib._bootstrap_external>:147\u001b[0m, in \u001b[0;36m_path_stat\u001b[1;34m(path)\u001b[0m\n",
      "\u001b[1;31mKeyboardInterrupt\u001b[0m: "
     ]
    }
   ],
   "source": [
    "error_indices = []\n",
    "\n",
    "for index, row in enumerate(documents):\n",
    "    try:\n",
    "        documents.loc[index] = preprocessing_text(row)\n",
    "    except Exception as e:\n",
    "        print(f\"Error processing row at index {index}: {e}\")\n",
    "        print(row)\n",
    "        error_indices.append(index)\n",
    "\n",
    "print(\"Rows with errors:\", error_indices)\n"
   ]
  },
  {
   "cell_type": "code",
   "execution_count": 20,
   "metadata": {},
   "outputs": [
    {
     "data": {
      "text/plain": [
       "100      dài quá đọc được bài rồi em cuôn xuống và đi ra\n",
       "101    kể hết các điểm trên con iphone đời_mới tích_c...\n",
       "102    bài này viết chủ_đề lý_do mua từ tháng trước r...\n",
       "103    vậy_mà iphone pro max bình_chọn tốt nhất chắc ...\n",
       "104                                            thừa tiền\n",
       "                             ...                        \n",
       "496                   để mua iphone pro max thử tích_cực\n",
       "497                            thớt chụp mấy tấm đẹp quá\n",
       "498                                               cảm_ơn\n",
       "499    cái x là cái vô_dụng nhất   ảnh chụp x ra nhìn...\n",
       "500    nếu chụp trong điều_kiện thiếu sáng mà nét căn...\n",
       "Name: Review, Length: 400, dtype: object"
      ]
     },
     "execution_count": 20,
     "metadata": {},
     "output_type": "execute_result"
    }
   ],
   "source": [
    "documents"
   ]
  },
  {
   "cell_type": "code",
   "execution_count": null,
   "metadata": {},
   "outputs": [],
   "source": [
    "clean_documents = [doc for doc in clean_documents if doc != '']\n"
   ]
  },
  {
   "cell_type": "markdown",
   "metadata": {},
   "source": [
    "Feature Extraction = LSA = TruncatedSVD(TF-IDF)"
   ]
  },
  {
   "cell_type": "code",
   "execution_count": 1,
   "metadata": {},
   "outputs": [
    {
     "ename": "NameError",
     "evalue": "name 'clean_documents' is not defined",
     "output_type": "error",
     "traceback": [
      "\u001b[1;31m---------------------------------------------------------------------------\u001b[0m",
      "\u001b[1;31mNameError\u001b[0m                                 Traceback (most recent call last)",
      "Cell \u001b[1;32mIn [1], line 5\u001b[0m\n\u001b[0;32m      2\u001b[0m \u001b[38;5;28;01mfrom\u001b[39;00m \u001b[38;5;21;01msklearn\u001b[39;00m\u001b[38;5;21;01m.\u001b[39;00m\u001b[38;5;21;01mdecomposition\u001b[39;00m \u001b[38;5;28;01mimport\u001b[39;00m TruncatedSVD,PCA\n\u001b[0;32m      4\u001b[0m vectorizer \u001b[38;5;241m=\u001b[39m TfidfVectorizer(token_pattern \u001b[38;5;241m=\u001b[39m \u001b[38;5;124m\"\u001b[39m\u001b[38;5;124m\\\u001b[39m\u001b[38;5;124mS+\u001b[39m\u001b[38;5;124m\"\u001b[39m, min_df \u001b[38;5;241m=\u001b[39m \u001b[38;5;241m2\u001b[39m)\n\u001b[1;32m----> 5\u001b[0m vectors \u001b[38;5;241m=\u001b[39m vectorizer\u001b[38;5;241m.\u001b[39mfit_transform(\u001b[43mclean_documents\u001b[49m)\n\u001b[0;32m      7\u001b[0m \u001b[38;5;28mprint\u001b[39m(\u001b[38;5;124m\"\u001b[39m\u001b[38;5;124mTf-idf shape: \u001b[39m\u001b[38;5;124m\"\u001b[39m \u001b[38;5;241m+\u001b[39m \u001b[38;5;28mstr\u001b[39m(vectors\u001b[38;5;241m.\u001b[39mshape))\n\u001b[0;32m      9\u001b[0m svd \u001b[38;5;241m=\u001b[39m TruncatedSVD(n_components\u001b[38;5;241m=\u001b[39m\u001b[38;5;241m100\u001b[39m, n_iter\u001b[38;5;241m=\u001b[39m\u001b[38;5;241m10\u001b[39m, random_state\u001b[38;5;241m=\u001b[39m\u001b[38;5;241m42\u001b[39m)\n",
      "\u001b[1;31mNameError\u001b[0m: name 'clean_documents' is not defined"
     ]
    }
   ],
   "source": [
    "from sklearn.feature_extraction.text import TfidfVectorizer\n",
    "from sklearn.decomposition import TruncatedSVD,PCA\n",
    "\n",
    "vectorizer = TfidfVectorizer(token_pattern = \"\\S+\", min_df = 2)\n",
    "vectors = vectorizer.fit_transform(clean_documents)\n",
    "\n",
    "print(\"Tf-idf shape: \" + str(vectors.shape))\n",
    "\n",
    "svd = TruncatedSVD(n_components=100, n_iter=10, random_state=42)\n",
    "svd_vectors = svd.fit_transform(vectors)\n",
    "\n",
    "print(\"Document 1's Vector : \")\n",
    "print(svd_vectors[0])"
   ]
  },
  {
   "cell_type": "code",
   "execution_count": 34,
   "metadata": {},
   "outputs": [
    {
     "ename": "ValueError",
     "evalue": "empty vocabulary; perhaps the documents only contain stop words",
     "output_type": "error",
     "traceback": [
      "\u001b[1;31m---------------------------------------------------------------------------\u001b[0m",
      "\u001b[1;31mValueError\u001b[0m                                Traceback (most recent call last)",
      "Cell \u001b[1;32mIn [34], line 4\u001b[0m\n\u001b[0;32m      2\u001b[0m \u001b[38;5;28;01mfrom\u001b[39;00m \u001b[38;5;21;01msklearn\u001b[39;00m\u001b[38;5;21;01m.\u001b[39;00m\u001b[38;5;21;01mdecomposition\u001b[39;00m \u001b[38;5;28;01mimport\u001b[39;00m TruncatedSVD,PCA\n\u001b[0;32m      3\u001b[0m vectorizer \u001b[38;5;241m=\u001b[39m  TfidfVectorizer(token_pattern\u001b[38;5;241m=\u001b[39m\u001b[38;5;124m\"\u001b[39m\u001b[38;5;124mS+\u001b[39m\u001b[38;5;124m\"\u001b[39m,min_df\u001b[38;5;241m=\u001b[39m\u001b[38;5;241m2\u001b[39m)\n\u001b[1;32m----> 4\u001b[0m vectors \u001b[38;5;241m=\u001b[39m \u001b[43mvectorizer\u001b[49m\u001b[38;5;241;43m.\u001b[39;49m\u001b[43mfit_transform\u001b[49m\u001b[43m(\u001b[49m\u001b[43mcleaned_documents\u001b[49m\u001b[43m)\u001b[49m\n",
      "File \u001b[1;32mc:\\Users\\nguye\\AppData\\Local\\Programs\\Python\\Python310\\lib\\site-packages\\sklearn\\feature_extraction\\text.py:2138\u001b[0m, in \u001b[0;36mTfidfVectorizer.fit_transform\u001b[1;34m(self, raw_documents, y)\u001b[0m\n\u001b[0;32m   2131\u001b[0m \u001b[38;5;28mself\u001b[39m\u001b[38;5;241m.\u001b[39m_check_params()\n\u001b[0;32m   2132\u001b[0m \u001b[38;5;28mself\u001b[39m\u001b[38;5;241m.\u001b[39m_tfidf \u001b[38;5;241m=\u001b[39m TfidfTransformer(\n\u001b[0;32m   2133\u001b[0m     norm\u001b[38;5;241m=\u001b[39m\u001b[38;5;28mself\u001b[39m\u001b[38;5;241m.\u001b[39mnorm,\n\u001b[0;32m   2134\u001b[0m     use_idf\u001b[38;5;241m=\u001b[39m\u001b[38;5;28mself\u001b[39m\u001b[38;5;241m.\u001b[39muse_idf,\n\u001b[0;32m   2135\u001b[0m     smooth_idf\u001b[38;5;241m=\u001b[39m\u001b[38;5;28mself\u001b[39m\u001b[38;5;241m.\u001b[39msmooth_idf,\n\u001b[0;32m   2136\u001b[0m     sublinear_tf\u001b[38;5;241m=\u001b[39m\u001b[38;5;28mself\u001b[39m\u001b[38;5;241m.\u001b[39msublinear_tf,\n\u001b[0;32m   2137\u001b[0m )\n\u001b[1;32m-> 2138\u001b[0m X \u001b[38;5;241m=\u001b[39m \u001b[38;5;28;43msuper\u001b[39;49m\u001b[43m(\u001b[49m\u001b[43m)\u001b[49m\u001b[38;5;241;43m.\u001b[39;49m\u001b[43mfit_transform\u001b[49m\u001b[43m(\u001b[49m\u001b[43mraw_documents\u001b[49m\u001b[43m)\u001b[49m\n\u001b[0;32m   2139\u001b[0m \u001b[38;5;28mself\u001b[39m\u001b[38;5;241m.\u001b[39m_tfidf\u001b[38;5;241m.\u001b[39mfit(X)\n\u001b[0;32m   2140\u001b[0m \u001b[38;5;66;03m# X is already a transformed view of raw_documents so\u001b[39;00m\n\u001b[0;32m   2141\u001b[0m \u001b[38;5;66;03m# we set copy to False\u001b[39;00m\n",
      "File \u001b[1;32mc:\\Users\\nguye\\AppData\\Local\\Programs\\Python\\Python310\\lib\\site-packages\\sklearn\\base.py:1474\u001b[0m, in \u001b[0;36m_fit_context.<locals>.decorator.<locals>.wrapper\u001b[1;34m(estimator, *args, **kwargs)\u001b[0m\n\u001b[0;32m   1467\u001b[0m     estimator\u001b[38;5;241m.\u001b[39m_validate_params()\n\u001b[0;32m   1469\u001b[0m \u001b[38;5;28;01mwith\u001b[39;00m config_context(\n\u001b[0;32m   1470\u001b[0m     skip_parameter_validation\u001b[38;5;241m=\u001b[39m(\n\u001b[0;32m   1471\u001b[0m         prefer_skip_nested_validation \u001b[38;5;129;01mor\u001b[39;00m global_skip_validation\n\u001b[0;32m   1472\u001b[0m     )\n\u001b[0;32m   1473\u001b[0m ):\n\u001b[1;32m-> 1474\u001b[0m     \u001b[38;5;28;01mreturn\u001b[39;00m fit_method(estimator, \u001b[38;5;241m*\u001b[39margs, \u001b[38;5;241m*\u001b[39m\u001b[38;5;241m*\u001b[39mkwargs)\n",
      "File \u001b[1;32mc:\\Users\\nguye\\AppData\\Local\\Programs\\Python\\Python310\\lib\\site-packages\\sklearn\\feature_extraction\\text.py:1389\u001b[0m, in \u001b[0;36mCountVectorizer.fit_transform\u001b[1;34m(self, raw_documents, y)\u001b[0m\n\u001b[0;32m   1381\u001b[0m             warnings\u001b[38;5;241m.\u001b[39mwarn(\n\u001b[0;32m   1382\u001b[0m                 \u001b[38;5;124m\"\u001b[39m\u001b[38;5;124mUpper case characters found in\u001b[39m\u001b[38;5;124m\"\u001b[39m\n\u001b[0;32m   1383\u001b[0m                 \u001b[38;5;124m\"\u001b[39m\u001b[38;5;124m vocabulary while \u001b[39m\u001b[38;5;124m'\u001b[39m\u001b[38;5;124mlowercase\u001b[39m\u001b[38;5;124m'\u001b[39m\u001b[38;5;124m\"\u001b[39m\n\u001b[0;32m   1384\u001b[0m                 \u001b[38;5;124m\"\u001b[39m\u001b[38;5;124m is True. These entries will not\u001b[39m\u001b[38;5;124m\"\u001b[39m\n\u001b[0;32m   1385\u001b[0m                 \u001b[38;5;124m\"\u001b[39m\u001b[38;5;124m be matched with any documents\u001b[39m\u001b[38;5;124m\"\u001b[39m\n\u001b[0;32m   1386\u001b[0m             )\n\u001b[0;32m   1387\u001b[0m             \u001b[38;5;28;01mbreak\u001b[39;00m\n\u001b[1;32m-> 1389\u001b[0m vocabulary, X \u001b[38;5;241m=\u001b[39m \u001b[38;5;28;43mself\u001b[39;49m\u001b[38;5;241;43m.\u001b[39;49m\u001b[43m_count_vocab\u001b[49m\u001b[43m(\u001b[49m\u001b[43mraw_documents\u001b[49m\u001b[43m,\u001b[49m\u001b[43m \u001b[49m\u001b[38;5;28;43mself\u001b[39;49m\u001b[38;5;241;43m.\u001b[39;49m\u001b[43mfixed_vocabulary_\u001b[49m\u001b[43m)\u001b[49m\n\u001b[0;32m   1391\u001b[0m \u001b[38;5;28;01mif\u001b[39;00m \u001b[38;5;28mself\u001b[39m\u001b[38;5;241m.\u001b[39mbinary:\n\u001b[0;32m   1392\u001b[0m     X\u001b[38;5;241m.\u001b[39mdata\u001b[38;5;241m.\u001b[39mfill(\u001b[38;5;241m1\u001b[39m)\n",
      "File \u001b[1;32mc:\\Users\\nguye\\AppData\\Local\\Programs\\Python\\Python310\\lib\\site-packages\\sklearn\\feature_extraction\\text.py:1295\u001b[0m, in \u001b[0;36mCountVectorizer._count_vocab\u001b[1;34m(self, raw_documents, fixed_vocab)\u001b[0m\n\u001b[0;32m   1293\u001b[0m     vocabulary \u001b[38;5;241m=\u001b[39m \u001b[38;5;28mdict\u001b[39m(vocabulary)\n\u001b[0;32m   1294\u001b[0m     \u001b[38;5;28;01mif\u001b[39;00m \u001b[38;5;129;01mnot\u001b[39;00m vocabulary:\n\u001b[1;32m-> 1295\u001b[0m         \u001b[38;5;28;01mraise\u001b[39;00m \u001b[38;5;167;01mValueError\u001b[39;00m(\n\u001b[0;32m   1296\u001b[0m             \u001b[38;5;124m\"\u001b[39m\u001b[38;5;124mempty vocabulary; perhaps the documents only contain stop words\u001b[39m\u001b[38;5;124m\"\u001b[39m\n\u001b[0;32m   1297\u001b[0m         )\n\u001b[0;32m   1299\u001b[0m \u001b[38;5;28;01mif\u001b[39;00m indptr[\u001b[38;5;241m-\u001b[39m\u001b[38;5;241m1\u001b[39m] \u001b[38;5;241m>\u001b[39m np\u001b[38;5;241m.\u001b[39miinfo(np\u001b[38;5;241m.\u001b[39mint32)\u001b[38;5;241m.\u001b[39mmax:  \u001b[38;5;66;03m# = 2**31 - 1\u001b[39;00m\n\u001b[0;32m   1300\u001b[0m     \u001b[38;5;28;01mif\u001b[39;00m _IS_32BIT:\n",
      "\u001b[1;31mValueError\u001b[0m: empty vocabulary; perhaps the documents only contain stop words"
     ]
    }
   ],
   "source": [
    "from sklearn.feature_extraction.text import TfidfVectorizer\n",
    "from sklearn.decomposition import TruncatedSVD,PCA\n",
    "vectorizer =  TfidfVectorizer(token_pattern=\"S+\",min_df=2)\n",
    "vectors = vectorizer.fit_transform(cleaned_documents)"
   ]
  },
  {
   "cell_type": "code",
   "execution_count": 37,
   "metadata": {},
   "outputs": [],
   "source": [
    "from pyvi import ViTokenizer\n",
    "\n",
    "def vietnamese_tokenizer(text):\n",
    "    return ViTokenizer.tokenize(text)\n",
    "\n",
    "# Initialize TfidfVectorizer with Vietnamese tokenizer\n",
    "vectorizer = TfidfVectorizer(tokenizer=vietnamese_tokenizer)\n",
    "\n",
    "# Fit and transform the documents\n",
    "vectors = vectorizer.fit_transform(cleaned_documents)"
   ]
  },
  {
   "cell_type": "code",
   "execution_count": null,
   "metadata": {},
   "outputs": [],
   "source": []
  },
  {
   "cell_type": "code",
   "execution_count": 36,
   "metadata": {},
   "outputs": [
    {
     "name": "stdout",
     "output_type": "stream",
     "text": [
      "Tfidf shape:(60285, 394)\n",
      "Document 1's Vector : \n",
      "[ 9.75689395e-01 -3.66864101e-02  3.76155339e-02 -6.66627690e-03\n",
      "  2.35498501e-02  3.35414139e-02  2.97596616e-02 -1.32784354e-02\n",
      "  4.37651133e-02 -1.09132991e-01 -5.40689923e-03 -1.40232757e-02\n",
      " -7.15484564e-03  7.47907831e-03  2.95028372e-02  1.59393085e-02\n",
      "  5.28207376e-02  1.50690770e-02  1.06979634e-02 -9.89425938e-03\n",
      "  2.57207745e-04  4.06022106e-03  1.33053934e-02 -6.88813313e-03\n",
      " -1.35034359e-02  1.09001277e-02  4.11336451e-03  1.08588695e-02\n",
      "  1.35921669e-02 -3.09220443e-02 -2.88219392e-02  3.38235836e-02\n",
      "  1.74701702e-02  5.71909025e-03 -2.50218230e-02  2.21057832e-02\n",
      " -2.92006185e-02 -1.56376770e-02 -2.66019461e-03 -9.59141384e-03\n",
      "  1.81684431e-02 -2.18200257e-02 -1.42638019e-02  1.27177427e-02\n",
      "  3.50329398e-02  9.08934671e-03  1.48472162e-05 -7.05407752e-04\n",
      " -2.94085798e-02  2.51918361e-03 -1.08195184e-02  1.04738744e-02\n",
      "  2.40394748e-02 -1.33588051e-03 -4.97608382e-04  7.02950472e-03\n",
      "  1.22409105e-03  7.58772890e-04 -1.12639586e-02 -1.47705711e-02\n",
      " -7.76125199e-03 -2.45931162e-02  2.49884396e-02  9.89173337e-03\n",
      "  1.09829001e-02 -1.01014453e-02 -3.02612986e-02  1.57956155e-03\n",
      "  3.41346197e-02  5.90523462e-03  2.64357334e-03 -4.08774168e-03\n",
      "  1.16695492e-02  8.11889902e-03 -1.37122628e-02  6.19757359e-03\n",
      " -6.44510616e-03 -2.56077505e-02  4.10276600e-02  8.76990136e-03\n",
      " -1.16751439e-02  1.19514915e-02 -3.71195585e-03 -1.89898878e-02\n",
      " -4.35153324e-03  4.56490207e-02  3.78031669e-03  1.12083299e-02\n",
      "  4.18567147e-03  1.52733407e-02  8.29465132e-03  2.67628350e-02\n",
      "  8.54974967e-03  5.97867377e-03 -3.95386179e-03  1.27299956e-02\n",
      " -3.17871673e-03 -2.78422294e-03  3.47048495e-03  1.98022806e-02]\n"
     ]
    }
   ],
   "source": [
    "print(\"Tfidf shape:\"+str(vectors.shape))\n",
    "svd = TruncatedSVD(n_components=100,n_iter=10)\n",
    "svd_vectors=svd.fit_transform(vectors)\n",
    "print(\"Document 1's Vector : \")\n",
    "print(svd_vectors[0])"
   ]
  },
  {
   "cell_type": "code",
   "execution_count": 39,
   "metadata": {},
   "outputs": [
    {
     "ename": "MemoryError",
     "evalue": "Unable to allocate 460. MiB for an array with shape (1000, 60285) and data type float64",
     "output_type": "error",
     "traceback": [
      "\u001b[1;31m---------------------------------------------------------------------------\u001b[0m",
      "\u001b[1;31m_RemoteTraceback\u001b[0m                          Traceback (most recent call last)",
      "\u001b[1;31m_RemoteTraceback\u001b[0m: \n\"\"\"\nTraceback (most recent call last):\n  File \"C:\\Users\\nguye\\AppData\\Roaming\\Python\\Python310\\site-packages\\joblib\\externals\\loky\\process_executor.py\", line 428, in _process_worker\n    r = call_item()\n  File \"C:\\Users\\nguye\\AppData\\Roaming\\Python\\Python310\\site-packages\\joblib\\externals\\loky\\process_executor.py\", line 275, in __call__\n    return self.fn(*self.args, **self.kwargs)\n  File \"C:\\Users\\nguye\\AppData\\Roaming\\Python\\Python310\\site-packages\\joblib\\_parallel_backends.py\", line 620, in __call__\n    return self.func(*args, **kwargs)\n  File \"C:\\Users\\nguye\\AppData\\Roaming\\Python\\Python310\\site-packages\\joblib\\parallel.py\", line 288, in __call__\n    return [func(*args, **kwargs)\n  File \"C:\\Users\\nguye\\AppData\\Roaming\\Python\\Python310\\site-packages\\joblib\\parallel.py\", line 288, in <listcomp>\n    return [func(*args, **kwargs)\n  File \"C:\\Users\\nguye\\AppData\\Local\\Temp\\ipykernel_17832\\3119295640.py\", line 31, in distance\n  File \"c:\\Users\\nguye\\AppData\\Local\\Programs\\Python\\Python310\\lib\\site-packages\\sklearn\\utils\\_param_validation.py\", line 213, in wrapper\n    return func(*args, **kwargs)\n  File \"c:\\Users\\nguye\\AppData\\Local\\Programs\\Python\\Python310\\lib\\site-packages\\sklearn\\metrics\\pairwise.py\", line 2331, in pairwise_distances\n    return _parallel_pairwise(X, Y, func, n_jobs, **kwds)\n  File \"c:\\Users\\nguye\\AppData\\Local\\Programs\\Python\\Python310\\lib\\site-packages\\sklearn\\metrics\\pairwise.py\", line 1871, in _parallel_pairwise\n    return func(X, Y, **kwds)\n  File \"c:\\Users\\nguye\\AppData\\Local\\Programs\\Python\\Python310\\lib\\site-packages\\sklearn\\utils\\_param_validation.py\", line 186, in wrapper\n    return func(*args, **kwargs)\n  File \"c:\\Users\\nguye\\AppData\\Local\\Programs\\Python\\Python310\\lib\\site-packages\\sklearn\\metrics\\pairwise.py\", line 1108, in cosine_distances\n    S = cosine_similarity(X, Y)\n  File \"c:\\Users\\nguye\\AppData\\Local\\Programs\\Python\\Python310\\lib\\site-packages\\sklearn\\utils\\_param_validation.py\", line 186, in wrapper\n    return func(*args, **kwargs)\n  File \"c:\\Users\\nguye\\AppData\\Local\\Programs\\Python\\Python310\\lib\\site-packages\\sklearn\\metrics\\pairwise.py\", line 1665, in cosine_similarity\n    K = safe_sparse_dot(X_normalized, Y_normalized.T, dense_output=dense_output)\n  File \"c:\\Users\\nguye\\AppData\\Local\\Programs\\Python\\Python310\\lib\\site-packages\\sklearn\\utils\\extmath.py\", line 208, in safe_sparse_dot\n    ret = a @ b\nnumpy.core._exceptions._ArrayMemoryError: Unable to allocate 460. MiB for an array with shape (1000, 60285) and data type float64\n\"\"\"",
      "\nThe above exception was the direct cause of the following exception:\n",
      "\u001b[1;31mMemoryError\u001b[0m                               Traceback (most recent call last)",
      "Cell \u001b[1;32mIn [39], line 42\u001b[0m\n\u001b[0;32m     39\u001b[0m vector_chunks \u001b[38;5;241m=\u001b[39m \u001b[38;5;28mlist\u001b[39m(chunks_vec(svd_vectors, \u001b[38;5;241m1000\u001b[39m))\n\u001b[0;32m     41\u001b[0m \u001b[38;5;66;03m# Use joblib for parallel processing\u001b[39;00m\n\u001b[1;32m---> 42\u001b[0m Dis_matrices \u001b[38;5;241m=\u001b[39m \u001b[43mParallel\u001b[49m\u001b[43m(\u001b[49m\u001b[43mn_jobs\u001b[49m\u001b[38;5;241;43m=\u001b[39;49m\u001b[38;5;241;43m2\u001b[39;49m\u001b[43m)\u001b[49m\u001b[43m(\u001b[49m\u001b[43mdelayed\u001b[49m\u001b[43m(\u001b[49m\u001b[43mdistance\u001b[49m\u001b[43m)\u001b[49m\u001b[43m(\u001b[49m\u001b[43mchunk\u001b[49m\u001b[43m)\u001b[49m\u001b[43m \u001b[49m\u001b[38;5;28;43;01mfor\u001b[39;49;00m\u001b[43m \u001b[49m\u001b[43mchunk\u001b[49m\u001b[43m \u001b[49m\u001b[38;5;129;43;01min\u001b[39;49;00m\u001b[43m \u001b[49m\u001b[43mvector_chunks\u001b[49m\u001b[43m)\u001b[49m\n\u001b[0;32m     44\u001b[0m \u001b[38;5;66;03m# Process results incrementally\u001b[39;00m\n\u001b[0;32m     45\u001b[0m Dis_matrix \u001b[38;5;241m=\u001b[39m Dis_matrices[\u001b[38;5;241m0\u001b[39m]\n",
      "File \u001b[1;32m~\\AppData\\Roaming\\Python\\Python310\\site-packages\\joblib\\parallel.py:1098\u001b[0m, in \u001b[0;36mParallel.__call__\u001b[1;34m(self, iterable)\u001b[0m\n\u001b[0;32m   1095\u001b[0m     \u001b[38;5;28mself\u001b[39m\u001b[38;5;241m.\u001b[39m_iterating \u001b[38;5;241m=\u001b[39m \u001b[38;5;28;01mFalse\u001b[39;00m\n\u001b[0;32m   1097\u001b[0m \u001b[38;5;28;01mwith\u001b[39;00m \u001b[38;5;28mself\u001b[39m\u001b[38;5;241m.\u001b[39m_backend\u001b[38;5;241m.\u001b[39mretrieval_context():\n\u001b[1;32m-> 1098\u001b[0m     \u001b[38;5;28;43mself\u001b[39;49m\u001b[38;5;241;43m.\u001b[39;49m\u001b[43mretrieve\u001b[49m\u001b[43m(\u001b[49m\u001b[43m)\u001b[49m\n\u001b[0;32m   1099\u001b[0m \u001b[38;5;66;03m# Make sure that we get a last message telling us we are done\u001b[39;00m\n\u001b[0;32m   1100\u001b[0m elapsed_time \u001b[38;5;241m=\u001b[39m time\u001b[38;5;241m.\u001b[39mtime() \u001b[38;5;241m-\u001b[39m \u001b[38;5;28mself\u001b[39m\u001b[38;5;241m.\u001b[39m_start_time\n",
      "File \u001b[1;32m~\\AppData\\Roaming\\Python\\Python310\\site-packages\\joblib\\parallel.py:975\u001b[0m, in \u001b[0;36mParallel.retrieve\u001b[1;34m(self)\u001b[0m\n\u001b[0;32m    973\u001b[0m \u001b[38;5;28;01mtry\u001b[39;00m:\n\u001b[0;32m    974\u001b[0m     \u001b[38;5;28;01mif\u001b[39;00m \u001b[38;5;28mgetattr\u001b[39m(\u001b[38;5;28mself\u001b[39m\u001b[38;5;241m.\u001b[39m_backend, \u001b[38;5;124m'\u001b[39m\u001b[38;5;124msupports_timeout\u001b[39m\u001b[38;5;124m'\u001b[39m, \u001b[38;5;28;01mFalse\u001b[39;00m):\n\u001b[1;32m--> 975\u001b[0m         \u001b[38;5;28mself\u001b[39m\u001b[38;5;241m.\u001b[39m_output\u001b[38;5;241m.\u001b[39mextend(\u001b[43mjob\u001b[49m\u001b[38;5;241;43m.\u001b[39;49m\u001b[43mget\u001b[49m\u001b[43m(\u001b[49m\u001b[43mtimeout\u001b[49m\u001b[38;5;241;43m=\u001b[39;49m\u001b[38;5;28;43mself\u001b[39;49m\u001b[38;5;241;43m.\u001b[39;49m\u001b[43mtimeout\u001b[49m\u001b[43m)\u001b[49m)\n\u001b[0;32m    976\u001b[0m     \u001b[38;5;28;01melse\u001b[39;00m:\n\u001b[0;32m    977\u001b[0m         \u001b[38;5;28mself\u001b[39m\u001b[38;5;241m.\u001b[39m_output\u001b[38;5;241m.\u001b[39mextend(job\u001b[38;5;241m.\u001b[39mget())\n",
      "File \u001b[1;32m~\\AppData\\Roaming\\Python\\Python310\\site-packages\\joblib\\_parallel_backends.py:567\u001b[0m, in \u001b[0;36mLokyBackend.wrap_future_result\u001b[1;34m(future, timeout)\u001b[0m\n\u001b[0;32m    564\u001b[0m \u001b[38;5;124;03m\"\"\"Wrapper for Future.result to implement the same behaviour as\u001b[39;00m\n\u001b[0;32m    565\u001b[0m \u001b[38;5;124;03mAsyncResults.get from multiprocessing.\"\"\"\u001b[39;00m\n\u001b[0;32m    566\u001b[0m \u001b[38;5;28;01mtry\u001b[39;00m:\n\u001b[1;32m--> 567\u001b[0m     \u001b[38;5;28;01mreturn\u001b[39;00m \u001b[43mfuture\u001b[49m\u001b[38;5;241;43m.\u001b[39;49m\u001b[43mresult\u001b[49m\u001b[43m(\u001b[49m\u001b[43mtimeout\u001b[49m\u001b[38;5;241;43m=\u001b[39;49m\u001b[43mtimeout\u001b[49m\u001b[43m)\u001b[49m\n\u001b[0;32m    568\u001b[0m \u001b[38;5;28;01mexcept\u001b[39;00m CfTimeoutError \u001b[38;5;28;01mas\u001b[39;00m e:\n\u001b[0;32m    569\u001b[0m     \u001b[38;5;28;01mraise\u001b[39;00m \u001b[38;5;167;01mTimeoutError\u001b[39;00m \u001b[38;5;28;01mfrom\u001b[39;00m \u001b[38;5;21;01me\u001b[39;00m\n",
      "File \u001b[1;32mc:\\Users\\nguye\\AppData\\Local\\Programs\\Python\\Python310\\lib\\concurrent\\futures\\_base.py:451\u001b[0m, in \u001b[0;36mFuture.result\u001b[1;34m(self, timeout)\u001b[0m\n\u001b[0;32m    449\u001b[0m     \u001b[38;5;28;01mraise\u001b[39;00m CancelledError()\n\u001b[0;32m    450\u001b[0m \u001b[38;5;28;01melif\u001b[39;00m \u001b[38;5;28mself\u001b[39m\u001b[38;5;241m.\u001b[39m_state \u001b[38;5;241m==\u001b[39m FINISHED:\n\u001b[1;32m--> 451\u001b[0m     \u001b[38;5;28;01mreturn\u001b[39;00m \u001b[38;5;28;43mself\u001b[39;49m\u001b[38;5;241;43m.\u001b[39;49m\u001b[43m__get_result\u001b[49m\u001b[43m(\u001b[49m\u001b[43m)\u001b[49m\n\u001b[0;32m    453\u001b[0m \u001b[38;5;28mself\u001b[39m\u001b[38;5;241m.\u001b[39m_condition\u001b[38;5;241m.\u001b[39mwait(timeout)\n\u001b[0;32m    455\u001b[0m \u001b[38;5;28;01mif\u001b[39;00m \u001b[38;5;28mself\u001b[39m\u001b[38;5;241m.\u001b[39m_state \u001b[38;5;129;01min\u001b[39;00m [CANCELLED, CANCELLED_AND_NOTIFIED]:\n",
      "File \u001b[1;32mc:\\Users\\nguye\\AppData\\Local\\Programs\\Python\\Python310\\lib\\concurrent\\futures\\_base.py:403\u001b[0m, in \u001b[0;36mFuture.__get_result\u001b[1;34m(self)\u001b[0m\n\u001b[0;32m    401\u001b[0m \u001b[38;5;28;01mif\u001b[39;00m \u001b[38;5;28mself\u001b[39m\u001b[38;5;241m.\u001b[39m_exception:\n\u001b[0;32m    402\u001b[0m     \u001b[38;5;28;01mtry\u001b[39;00m:\n\u001b[1;32m--> 403\u001b[0m         \u001b[38;5;28;01mraise\u001b[39;00m \u001b[38;5;28mself\u001b[39m\u001b[38;5;241m.\u001b[39m_exception\n\u001b[0;32m    404\u001b[0m     \u001b[38;5;28;01mfinally\u001b[39;00m:\n\u001b[0;32m    405\u001b[0m         \u001b[38;5;66;03m# Break a reference cycle with the exception in self._exception\u001b[39;00m\n\u001b[0;32m    406\u001b[0m         \u001b[38;5;28mself\u001b[39m \u001b[38;5;241m=\u001b[39m \u001b[38;5;28;01mNone\u001b[39;00m\n",
      "\u001b[1;31mMemoryError\u001b[0m: Unable to allocate 460. MiB for an array with shape (1000, 60285) and data type float64"
     ]
    }
   ],
   "source": [
    "from sklearn.metrics.pairwise import pairwise_distances\n",
    "import numpy as np\n",
    "def distance(vecs):\n",
    "    vec1 = vecs[0]\n",
    "    vecAll = vecs[1]\n",
    "    Dis_matrix = pairwise_distances(vec1,vecAll,metric = 'cosine',n_jobs=1)\n",
    "    Dis_matrix = Dis_matrix.astype(np.float16)\n",
    "    return Dis_matrix\n",
    "\n",
    "def chunks_vec(l, n):\n",
    "    for i in range(0, l.shape[0], n):\n",
    "        yield l[i:i + n]\n",
    "\n",
    "vector_chunks = list(chunks_vec(svd_vectors,1000))\n",
    "vector_chunks = [(i,svd_vectors) for i in vector_chunks]\n",
    "\n",
    "pool = Pool(2)\n",
    "Dis_matrix = pool.map(distance,vector_chunks)\n",
    "Dis_matrix = np.vstack(Dis_matrix)\n",
    "pool.terminate()\n",
    "\n",
    "print('cosine distance between Document 1 and Document 2 : ', Dis_matrix[0][2])\n",
    "print('cosine distance between Document 2 and Document 3 : ', Dis_matrix[2][3])"
   ]
  },
  {
   "cell_type": "code",
   "execution_count": null,
   "metadata": {},
   "outputs": [],
   "source": [
    "from copy import deepcopy\n",
    "\n",
    "THRESHOLD = 0.5\n",
    "\n",
    "graph = deepcopy(Dis_matrix)\n",
    "graph[graph <= THRESHOLD] = 2\n",
    "graph[graph != 2] = 0\n",
    "graph[graph == 2] = 1\n",
    "graph = graph.astype(np.int8)"
   ]
  },
  {
   "cell_type": "code",
   "execution_count": null,
   "metadata": {},
   "outputs": [],
   "source": [
    "from scipy.sparse.csgraph import connected_components\n",
    "res = connected_components(graph,directed=False)"
   ]
  },
  {
   "cell_type": "code",
   "execution_count": null,
   "metadata": {},
   "outputs": [],
   "source": [
    "from collections import OrderedDict\n",
    "cluster_labels = res[1]\n",
    "num_cluster = res[0]\n",
    "res_cluster = OrderedDict()\n",
    "\n",
    "for i in range(0,len(cluster_labels)):\n",
    "    if cluster_labels[i] in res_cluster: res_cluster[cluster_labels[i]].append(i)\n",
    "    else: res_cluster[cluster_labels[i]] = [i]\n",
    "\n",
    "res_cluster = [res_cluster[i] for i in range(0,num_cluster)]\n",
    "res_cluster = [sorted(r) for r in res_cluster if len(r) > 1]\n",
    "res_cluster.sort(key=len,reverse=True)\n",
    "\n",
    "print(\"Number of cluster: \", len(res_cluster))\n",
    "print(\"Number of clustered documents: \", len([j for i in res_cluster for j in i]))\n",
    "print(\"Number of noise documents: \", len(documents) - len([j for i in res_cluster for j in i]))"
   ]
  },
  {
   "cell_type": "code",
   "execution_count": null,
   "metadata": {},
   "outputs": [],
   "source": [
    "for i in range(0,len(res_cluster)):\n",
    "    print(\"Cluster \" + str(i))\n",
    "    for idx in res_cluster[i]:\n",
    "        print(documents[idx].split('\\n')[0])\n",
    "    print('\\n')"
   ]
  }
 ],
 "metadata": {
  "kernelspec": {
   "display_name": "Python 3",
   "language": "python",
   "name": "python3"
  },
  "language_info": {
   "codemirror_mode": {
    "name": "ipython",
    "version": 3
   },
   "file_extension": ".py",
   "mimetype": "text/x-python",
   "name": "python",
   "nbconvert_exporter": "python",
   "pygments_lexer": "ipython3",
   "version": "3.10.8"
  }
 },
 "nbformat": 4,
 "nbformat_minor": 2
}
