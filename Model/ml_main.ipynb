{
 "cells": [
  {
   "cell_type": "code",
   "execution_count": 3,
   "metadata": {},
   "outputs": [],
   "source": [
    "from ml_utils import * \n",
    "import yaml\n",
    "import torch\n",
    "pd.options.mode.copy_on_write = True\n",
    "import sys\n",
    "import os\n",
    "\n",
    "import warnings\n",
    "warnings.filterwarnings('ignore')\n"
   ]
  },
  {
   "cell_type": "code",
   "execution_count": 4,
   "metadata": {},
   "outputs": [],
   "source": [
    "# Multioutput to multilabel function\n",
    "aspects =['SCREEN','CAMERA','FEATURES','BATTERY','PERFORMANCE',\n",
    "        'STORAGE','DESIGN','PRICE','GENERAL','SER&ACC']\n",
    "\n",
    "sentiments = ['NEG','NEU','POS']\n",
    "\n",
    "# Multiouput to Multi Label\n",
    "def motml(y):\n",
    "    name_cols = [f'{a}#{s}' for a in aspects for s in sentiments]\n",
    "    nrows, ncols = len(y),len(name_cols)\n",
    "    ml = pd.DataFrame(np.zeros((nrows,ncols)),columns=name_cols)\n",
    "\n",
    "    for i,a in enumerate(aspects):\n",
    "        for j in range(1,4):\n",
    "            indices = y[a] ==j #?\n",
    "            ml.iloc[indices,i*3+j-1] = 1\n",
    "    return ml\n",
    "\n",
    "# Mutioutput to dataframe\n",
    "def motdf(y):\n",
    "    if isinstance(y, pd.DataFrame):\n",
    "        return y\n",
    "    return pd.DataFrame(y, columns=aspects)\n",
    "\n",
    "\n",
    "def init_data(df):\n",
    "    X = df.pop('comment')\n",
    "    y = df.replace({np.nan: 0,\n",
    "                    'Negative': 1,\n",
    "                    'Neutral': 2,\n",
    "                    'Positive': 3}).astype(np.uint8)\n",
    "\n",
    "    print('X.shape:', X.shape, 'y.shape:', y.shape)\n",
    "    return X, y"
   ]
  },
  {
   "cell_type": "code",
   "execution_count": 5,
   "metadata": {},
   "outputs": [
    {
     "name": "stdout",
     "output_type": "stream",
     "text": [
      "### Loading config {'aspect': ['SCREEN', 'CAMERA', 'FEATURES', 'BATTERY', 'PERFORMANCE', 'STORAGE', 'DESIGN', 'PRICE', 'GENERAL', 'SER&ACC'], 'labels': ['negative', 'neutral', 'positive'], 'train_file': '../Data/Pre_train_model/ML/Train.csv', 'dev_file': '../Data/Pre_train_model/ML/Dev.csv', 'test_file': '../Data/Pre_train_model/ML/Test.csv', 'device': device(type='cpu')}\n"
     ]
    }
   ],
   "source": [
    "with open('ml_model.yaml') as f:\n",
    "  cfg = yaml.load(f, Loader=yaml.SafeLoader)\n",
    "  cfg['device']= torch.device(\"cuda:0\" if torch.cuda.is_available() else \"cpu\")\n",
    "  print(f\"### Loading config {cfg}\")"
   ]
  },
  {
   "cell_type": "code",
   "execution_count": 6,
   "metadata": {},
   "outputs": [],
   "source": [
    "def txt2df(filepath, aspect):\n",
    "    df = pd.read_csv(filepath)\n",
    "    df[aspect] = [label_encoder(label, aspect) for label in df['label']]\n",
    "    df_new=df.drop(columns=['index','n_star','date_time','label'])\n",
    "    return df_new"
   ]
  },
  {
   "cell_type": "code",
   "execution_count": 7,
   "metadata": {},
   "outputs": [
    {
     "name": "stdout",
     "output_type": "stream",
     "text": [
      "X.shape: (7786,) y.shape: (7786, 10)\n",
      "X.shape: (1112,) y.shape: (1112, 10)\n",
      "X.shape: (2224,) y.shape: (2224, 10)\n"
     ]
    }
   ],
   "source": [
    "train = txt2df(cfg['train_file'], cfg['aspect'])\n",
    "dev = txt2df(cfg['dev_file'], cfg['aspect'])\n",
    "test = txt2df(cfg['test_file'], cfg['aspect'])\n",
    "\n",
    "Xtrain, ytrain = init_data(train)\n",
    "Xdev,   ydev   = init_data(dev)\n",
    "Xtest,  ytest  = init_data(test)"
   ]
  },
  {
   "cell_type": "code",
   "execution_count": 8,
   "metadata": {},
   "outputs": [
    {
     "data": {
      "text/html": [
       "<div>\n",
       "<style scoped>\n",
       "    .dataframe tbody tr th:only-of-type {\n",
       "        vertical-align: middle;\n",
       "    }\n",
       "\n",
       "    .dataframe tbody tr th {\n",
       "        vertical-align: top;\n",
       "    }\n",
       "\n",
       "    .dataframe thead th {\n",
       "        text-align: right;\n",
       "    }\n",
       "</style>\n",
       "<table border=\"1\" class=\"dataframe\">\n",
       "  <thead>\n",
       "    <tr style=\"text-align: right;\">\n",
       "      <th></th>\n",
       "      <th>SCREEN</th>\n",
       "      <th>CAMERA</th>\n",
       "      <th>FEATURES</th>\n",
       "      <th>BATTERY</th>\n",
       "      <th>PERFORMANCE</th>\n",
       "      <th>STORAGE</th>\n",
       "      <th>DESIGN</th>\n",
       "      <th>PRICE</th>\n",
       "      <th>GENERAL</th>\n",
       "      <th>SER&amp;ACC</th>\n",
       "    </tr>\n",
       "  </thead>\n",
       "  <tbody>\n",
       "    <tr>\n",
       "      <th>0</th>\n",
       "      <td>0</td>\n",
       "      <td>3</td>\n",
       "      <td>3</td>\n",
       "      <td>3</td>\n",
       "      <td>0</td>\n",
       "      <td>0</td>\n",
       "      <td>0</td>\n",
       "      <td>3</td>\n",
       "      <td>3</td>\n",
       "      <td>3</td>\n",
       "    </tr>\n",
       "    <tr>\n",
       "      <th>1</th>\n",
       "      <td>0</td>\n",
       "      <td>0</td>\n",
       "      <td>0</td>\n",
       "      <td>1</td>\n",
       "      <td>0</td>\n",
       "      <td>0</td>\n",
       "      <td>0</td>\n",
       "      <td>0</td>\n",
       "      <td>3</td>\n",
       "      <td>0</td>\n",
       "    </tr>\n",
       "    <tr>\n",
       "      <th>2</th>\n",
       "      <td>0</td>\n",
       "      <td>0</td>\n",
       "      <td>1</td>\n",
       "      <td>0</td>\n",
       "      <td>0</td>\n",
       "      <td>0</td>\n",
       "      <td>0</td>\n",
       "      <td>0</td>\n",
       "      <td>0</td>\n",
       "      <td>0</td>\n",
       "    </tr>\n",
       "  </tbody>\n",
       "</table>\n",
       "</div>"
      ],
      "text/plain": [
       "   SCREEN  CAMERA  FEATURES  BATTERY  PERFORMANCE  STORAGE  DESIGN  PRICE  \\\n",
       "0       0       3         3        3            0        0       0      3   \n",
       "1       0       0         0        1            0        0       0      0   \n",
       "2       0       0         1        0            0        0       0      0   \n",
       "\n",
       "   GENERAL  SER&ACC  \n",
       "0        3        3  \n",
       "1        3        0  \n",
       "2        0        0  "
      ]
     },
     "execution_count": 8,
     "metadata": {},
     "output_type": "execute_result"
    }
   ],
   "source": [
    "ytrain.head(3)"
   ]
  },
  {
   "cell_type": "code",
   "execution_count": 9,
   "metadata": {},
   "outputs": [],
   "source": [
    "# y in real data for evaluation\n",
    "ytrain_ml = motml(ytrain)\n",
    "ydev_ml   = motml(ydev)\n",
    "ytest_ml  = motml(ytest)"
   ]
  },
  {
   "cell_type": "code",
   "execution_count": 10,
   "metadata": {},
   "outputs": [
    {
     "data": {
      "text/html": [
       "<div>\n",
       "<style scoped>\n",
       "    .dataframe tbody tr th:only-of-type {\n",
       "        vertical-align: middle;\n",
       "    }\n",
       "\n",
       "    .dataframe tbody tr th {\n",
       "        vertical-align: top;\n",
       "    }\n",
       "\n",
       "    .dataframe thead th {\n",
       "        text-align: right;\n",
       "    }\n",
       "</style>\n",
       "<table border=\"1\" class=\"dataframe\">\n",
       "  <thead>\n",
       "    <tr style=\"text-align: right;\">\n",
       "      <th></th>\n",
       "      <th>SCREEN#NEG</th>\n",
       "      <th>SCREEN#NEU</th>\n",
       "      <th>SCREEN#POS</th>\n",
       "      <th>CAMERA#NEG</th>\n",
       "      <th>CAMERA#NEU</th>\n",
       "      <th>CAMERA#POS</th>\n",
       "      <th>FEATURES#NEG</th>\n",
       "      <th>FEATURES#NEU</th>\n",
       "      <th>FEATURES#POS</th>\n",
       "      <th>BATTERY#NEG</th>\n",
       "      <th>...</th>\n",
       "      <th>DESIGN#POS</th>\n",
       "      <th>PRICE#NEG</th>\n",
       "      <th>PRICE#NEU</th>\n",
       "      <th>PRICE#POS</th>\n",
       "      <th>GENERAL#NEG</th>\n",
       "      <th>GENERAL#NEU</th>\n",
       "      <th>GENERAL#POS</th>\n",
       "      <th>SER&amp;ACC#NEG</th>\n",
       "      <th>SER&amp;ACC#NEU</th>\n",
       "      <th>SER&amp;ACC#POS</th>\n",
       "    </tr>\n",
       "  </thead>\n",
       "  <tbody>\n",
       "    <tr>\n",
       "      <th>0</th>\n",
       "      <td>0.0</td>\n",
       "      <td>0.0</td>\n",
       "      <td>0.0</td>\n",
       "      <td>0.0</td>\n",
       "      <td>0.0</td>\n",
       "      <td>1.0</td>\n",
       "      <td>0.0</td>\n",
       "      <td>0.0</td>\n",
       "      <td>1.0</td>\n",
       "      <td>0.0</td>\n",
       "      <td>...</td>\n",
       "      <td>0.0</td>\n",
       "      <td>0.0</td>\n",
       "      <td>0.0</td>\n",
       "      <td>1.0</td>\n",
       "      <td>0.0</td>\n",
       "      <td>0.0</td>\n",
       "      <td>1.0</td>\n",
       "      <td>0.0</td>\n",
       "      <td>0.0</td>\n",
       "      <td>1.0</td>\n",
       "    </tr>\n",
       "    <tr>\n",
       "      <th>1</th>\n",
       "      <td>0.0</td>\n",
       "      <td>0.0</td>\n",
       "      <td>0.0</td>\n",
       "      <td>0.0</td>\n",
       "      <td>0.0</td>\n",
       "      <td>0.0</td>\n",
       "      <td>0.0</td>\n",
       "      <td>0.0</td>\n",
       "      <td>0.0</td>\n",
       "      <td>1.0</td>\n",
       "      <td>...</td>\n",
       "      <td>0.0</td>\n",
       "      <td>0.0</td>\n",
       "      <td>0.0</td>\n",
       "      <td>0.0</td>\n",
       "      <td>0.0</td>\n",
       "      <td>0.0</td>\n",
       "      <td>1.0</td>\n",
       "      <td>0.0</td>\n",
       "      <td>0.0</td>\n",
       "      <td>0.0</td>\n",
       "    </tr>\n",
       "    <tr>\n",
       "      <th>2</th>\n",
       "      <td>0.0</td>\n",
       "      <td>0.0</td>\n",
       "      <td>0.0</td>\n",
       "      <td>0.0</td>\n",
       "      <td>0.0</td>\n",
       "      <td>0.0</td>\n",
       "      <td>1.0</td>\n",
       "      <td>0.0</td>\n",
       "      <td>0.0</td>\n",
       "      <td>0.0</td>\n",
       "      <td>...</td>\n",
       "      <td>0.0</td>\n",
       "      <td>0.0</td>\n",
       "      <td>0.0</td>\n",
       "      <td>0.0</td>\n",
       "      <td>0.0</td>\n",
       "      <td>0.0</td>\n",
       "      <td>0.0</td>\n",
       "      <td>0.0</td>\n",
       "      <td>0.0</td>\n",
       "      <td>0.0</td>\n",
       "    </tr>\n",
       "  </tbody>\n",
       "</table>\n",
       "<p>3 rows × 30 columns</p>\n",
       "</div>"
      ],
      "text/plain": [
       "   SCREEN#NEG  SCREEN#NEU  SCREEN#POS  CAMERA#NEG  CAMERA#NEU  CAMERA#POS  \\\n",
       "0         0.0         0.0         0.0         0.0         0.0         1.0   \n",
       "1         0.0         0.0         0.0         0.0         0.0         0.0   \n",
       "2         0.0         0.0         0.0         0.0         0.0         0.0   \n",
       "\n",
       "   FEATURES#NEG  FEATURES#NEU  FEATURES#POS  BATTERY#NEG  ...  DESIGN#POS  \\\n",
       "0           0.0           0.0           1.0          0.0  ...         0.0   \n",
       "1           0.0           0.0           0.0          1.0  ...         0.0   \n",
       "2           1.0           0.0           0.0          0.0  ...         0.0   \n",
       "\n",
       "   PRICE#NEG  PRICE#NEU  PRICE#POS  GENERAL#NEG  GENERAL#NEU  GENERAL#POS  \\\n",
       "0        0.0        0.0        1.0          0.0          0.0          1.0   \n",
       "1        0.0        0.0        0.0          0.0          0.0          1.0   \n",
       "2        0.0        0.0        0.0          0.0          0.0          0.0   \n",
       "\n",
       "   SER&ACC#NEG  SER&ACC#NEU  SER&ACC#POS  \n",
       "0          0.0          0.0          1.0  \n",
       "1          0.0          0.0          0.0  \n",
       "2          0.0          0.0          0.0  \n",
       "\n",
       "[3 rows x 30 columns]"
      ]
     },
     "execution_count": 10,
     "metadata": {},
     "output_type": "execute_result"
    }
   ],
   "source": [
    "ytrain_ml.head(3)"
   ]
  },
  {
   "cell_type": "code",
   "execution_count": 11,
   "metadata": {},
   "outputs": [],
   "source": [
    "from ml_text_preprocessed import preprocess_fn\n",
    "\n",
    "xtrain = Xtrain.apply(preprocess_fn)\n",
    "xdev   = Xdev.apply(preprocess_fn)\n",
    "xtest  = Xtest.apply(preprocess_fn)"
   ]
  },
  {
   "cell_type": "code",
   "execution_count": 12,
   "metadata": {},
   "outputs": [
    {
     "data": {
      "text/plain": [
       "0       mới mua máy này tại thegioididong thốt nốt cảm...\n",
       "1       pin kém còn lại miễn_chê mua 832019 tình_trạng...\n",
       "2       sao lúc gọi điện_thoại màn_hình bị chấm nhỏ nh...\n",
       "3       mọi người cập_nhật phần_mềm lại nó sẽ bớt tốn_...\n",
       "4       mới mua xài được 1 tháng thấy pin rất trâu xài...\n",
       "                              ...                        \n",
       "7781    8 g cái đi đánh là mạng giật_giật không chịu n...\n",
       "7782    mua được giảm 500 k mà lỗi lòi ra hết treo màn...\n",
       "7783    máy xài 3 tháng rồi rất ok pin trâu khỏi nói x...\n",
       "7784    rất tiếc hàng realme không có ốp lưng ngoài nê...\n",
       "7785    mình rất thất_vọng khi mua máy này bắt wifi cự...\n",
       "Name: comment, Length: 7786, dtype: object"
      ]
     },
     "execution_count": 12,
     "metadata": {},
     "output_type": "execute_result"
    }
   ],
   "source": [
    "xtrain"
   ]
  },
  {
   "cell_type": "code",
   "execution_count": 13,
   "metadata": {},
   "outputs": [],
   "source": [
    "from sklearn.feature_extraction.text import TfidfVectorizer\n",
    "\n",
    "vectorizer = TfidfVectorizer(ngram_range=(1, 2),\n",
    "                             min_df=4, max_df=0.8)\n",
    "\n",
    "# x data using basic clean up class and basic features extrator\n",
    "xtrain_tfidf = vectorizer.fit_transform(xtrain)\n",
    "xdev_tfidf   = vectorizer.transform(xdev)\n",
    "xtest_tfidf  = vectorizer.transform(xtest)\n"
   ]
  },
  {
   "cell_type": "code",
   "execution_count": 14,
   "metadata": {},
   "outputs": [
    {
     "data": {
      "text/plain": [
       "(7786, 11903)"
      ]
     },
     "execution_count": 14,
     "metadata": {},
     "output_type": "execute_result"
    }
   ],
   "source": [
    "xtrain_tfidf.shape"
   ]
  },
  {
   "cell_type": "code",
   "execution_count": 15,
   "metadata": {},
   "outputs": [],
   "source": [
    "from sklearn.multioutput import MultiOutputClassifier as MOC\n",
    "from sklearn.metrics import f1_score, classification_report\n",
    "\n",
    "categories= list(ytest.columns)\n",
    "\n",
    "def quick_f1(y_true, y_pred):\n",
    "    y_pred = motml(motdf(y_pred))\n",
    "    return round(f1_score(y_true, y_pred, average='micro', zero_division=0), 4)\n",
    "\n",
    "def evaluate(model, X, y, average='micro'):\n",
    "    yb_true  = motml(y)\n",
    "\n",
    "    yb_pred  = motdf(model.predict(X))\n",
    "    yb_pred  = motml(yb_pred)\n",
    "\n",
    "    return classification_report(yb_true, yb_pred, zero_division=0)"
   ]
  },
  {
   "cell_type": "code",
   "execution_count": 16,
   "metadata": {},
   "outputs": [],
   "source": [
    "from ml_utils import aspect_detection_eval, sentiment_classification_eval, combination_eval"
   ]
  },
  {
   "cell_type": "code",
   "execution_count": 17,
   "metadata": {},
   "outputs": [],
   "source": [
    "from sklearn.svm import LinearSVC\n",
    "# from sklearn.linear_model import LogisticRegression\n",
    "clf0 = MOC(LinearSVC(random_state=5))\n",
    "clf0.fit(xtrain_tfidf, ytrain)\n",
    "ypred= clf0.predict(xtest_tfidf)"
   ]
  },
  {
   "cell_type": "code",
   "execution_count": 18,
   "metadata": {},
   "outputs": [
    {
     "data": {
      "text/plain": [
       "['SCREEN',\n",
       " 'CAMERA',\n",
       " 'FEATURES',\n",
       " 'BATTERY',\n",
       " 'PERFORMANCE',\n",
       " 'STORAGE',\n",
       " 'DESIGN',\n",
       " 'PRICE',\n",
       " 'GENERAL',\n",
       " 'SER&ACC']"
      ]
     },
     "execution_count": 18,
     "metadata": {},
     "output_type": "execute_result"
    }
   ],
   "source": [
    "clf0.predict(vectorizer.transform(['Mình mới mua dc 4 ngày, sao để dt qua đêm , sáng dậy lúc nào cũng bị tụt 4 5 % pin']))\n",
    "categories"
   ]
  },
  {
   "cell_type": "code",
   "execution_count": 19,
   "metadata": {},
   "outputs": [
    {
     "name": "stdout",
     "output_type": "stream",
     "text": [
      "## Aspect Detection Evaluate ##\n",
      "              precision    recall  f1-score   support\n",
      "\n",
      "                 0.8972    0.9627    0.9288     15518\n",
      "     BATTERY     0.9564    0.8442    0.8968      1014\n",
      "      CAMERA     0.9501    0.7449    0.8351       588\n",
      "      DESIGN     0.9249    0.5879    0.7189       398\n",
      "    FEATURES     0.8991    0.7145    0.7962       711\n",
      "     GENERAL     0.8346    0.7893    0.8113      1381\n",
      " PERFORMANCE     0.8816    0.7944    0.8357      1172\n",
      "       PRICE     0.9067    0.7346    0.8117       569\n",
      "      SCREEN     0.8639    0.5428    0.6667       269\n",
      "     SER&ACC     0.9209    0.6476    0.7604       593\n",
      "     STORAGE     0.8571    0.2222    0.3529        27\n",
      "\n",
      "    accuracy                         0.8970     22240\n",
      "   macro avg     0.8993    0.6895    0.7650     22240\n",
      "weighted avg     0.8976    0.8970    0.8933     22240\n",
      "\n"
     ]
    }
   ],
   "source": [
    "ypred= pd.DataFrame(ypred, columns= categories)\n",
    "aspect_detection_eval(ytest, ypred)"
   ]
  },
  {
   "cell_type": "code",
   "execution_count": 20,
   "metadata": {},
   "outputs": [
    {
     "name": "stdout",
     "output_type": "stream",
     "text": [
      "## Sentiment Classification Evaluate ##\n",
      "              precision    recall  f1-score   support\n",
      "\n",
      "        None     0.8972    0.9627    0.9288     15518\n",
      "    negative     0.7425    0.5937    0.6598      2210\n",
      "     neutral     0.6914    0.3537    0.4680       817\n",
      "    positive     0.8129    0.7491    0.7797      3695\n",
      "\n",
      "    accuracy                         0.8682     22240\n",
      "   macro avg     0.7860    0.6648    0.7091     22240\n",
      "weighted avg     0.8603    0.8682    0.8604     22240\n",
      "\n"
     ]
    }
   ],
   "source": [
    "sentiment_classification_eval(ytest, ypred)"
   ]
  },
  {
   "cell_type": "code",
   "execution_count": 21,
   "metadata": {},
   "outputs": [
    {
     "name": "stdout",
     "output_type": "stream",
     "text": [
      "## Combination Evaluate (Aspect Detection + Sentiment Classification) ##\n",
      "                      precision    recall  f1-score   support\n",
      "\n",
      "        BATTERY,None     0.8811    0.9678    0.9224      1210\n",
      "    BATTERY,negative     0.7708    0.7310    0.7503       368\n",
      "     BATTERY,neutral     0.4545    0.1630    0.2400        92\n",
      "    BATTERY,positive     0.8499    0.7870    0.8172       554\n",
      "         CAMERA,None     0.9149    0.9859    0.9491      1636\n",
      "     CAMERA,negative     0.7838    0.5088    0.6170       171\n",
      "      CAMERA,neutral     0.4571    0.2254    0.3019        71\n",
      "     CAMERA,positive     0.7905    0.7197    0.7534       346\n",
      "         DESIGN,None     0.9168    0.9896    0.9518      1826\n",
      "     DESIGN,negative     0.7778    0.2188    0.3415        96\n",
      "      DESIGN,neutral     1.0000    0.0357    0.0690        28\n",
      "     DESIGN,positive     0.8489    0.6971    0.7655       274\n",
      "       FEATURES,None     0.8776    0.9623    0.9180      1513\n",
      "   FEATURES,negative     0.7723    0.7168    0.7435       459\n",
      "    FEATURES,neutral     0.2727    0.0577    0.0952        52\n",
      "   FEATURES,positive     0.7812    0.5000    0.6098       200\n",
      "        GENERAL,None     0.6830    0.7438    0.7121       843\n",
      "    GENERAL,negative     0.6846    0.5612    0.6168       294\n",
      "     GENERAL,neutral     0.6800    0.2048    0.3148        83\n",
      "    GENERAL,positive     0.8125    0.8416    0.8268      1004\n",
      "    PERFORMANCE,None     0.7937    0.8812    0.8351      1052\n",
      "PERFORMANCE,negative     0.7317    0.7026    0.7169       454\n",
      " PERFORMANCE,neutral     0.5556    0.0862    0.1493       116\n",
      "PERFORMANCE,positive     0.7774    0.7774    0.7774       602\n",
      "          PRICE,None     0.9144    0.9740    0.9432      1655\n",
      "      PRICE,negative     0.5909    0.3291    0.4228        79\n",
      "       PRICE,neutral     0.7747    0.6921    0.7311       328\n",
      "      PRICE,positive     0.7258    0.5556    0.6294       162\n",
      "         SCREEN,None     0.9401    0.9882    0.9636      1955\n",
      "     SCREEN,negative     0.7941    0.4655    0.5870       116\n",
      "      SCREEN,neutral     1.0000    0.0000    0.0000        17\n",
      "     SCREEN,positive     0.7921    0.5882    0.6751       136\n",
      "        SER&ACC,None     0.8843    0.9798    0.9296      1631\n",
      "    SER&ACC,negative     0.6406    0.2455    0.3550       167\n",
      "     SER&ACC,neutral     0.0000    0.0000    0.0000        27\n",
      "    SER&ACC,positive     0.8689    0.7644    0.8133       399\n",
      "        STORAGE,None     0.9905    0.9995    0.9950      2197\n",
      "    STORAGE,negative     1.0000    0.1667    0.2857         6\n",
      "     STORAGE,neutral     1.0000    0.0000    0.0000         3\n",
      "    STORAGE,positive     0.6667    0.2222    0.3333        18\n",
      "\n",
      "            accuracy                         0.8682     22240\n",
      "           macro avg     0.7613    0.5509    0.5865     22240\n",
      "        weighted avg     0.8584    0.8682    0.8565     22240\n",
      "\n"
     ]
    }
   ],
   "source": [
    "combination_eval(ytest, ypred)"
   ]
  },
  {
   "cell_type": "markdown",
   "metadata": {},
   "source": [
    "Using Trained Model to Predict"
   ]
  },
  {
   "cell_type": "code",
   "execution_count": 23,
   "metadata": {},
   "outputs": [
    {
     "name": "stdout",
     "output_type": "stream",
     "text": [
      "6614\n",
      "3044\n"
     ]
    }
   ],
   "source": [
    "import pandas as pd \n",
    "df_ecom = pd.read_csv('../Data/Preprocessed_data/EcomReviews.csv')\n",
    "print(len(df_ecom))\n",
    "\n",
    "# Drop duplicated\n",
    "df_ecom.dropna(subset=['Review'],inplace=True)\n",
    "print(len(df_ecom))\n",
    "\n",
    "# Preprocess data\n",
    "df_ecom['ml_review'] = df_ecom['Review'].apply(preprocess_fn)\n",
    "\n",
    "# Transform TF IDF\n",
    "X_int = vectorizer.transform(df_ecom['ml_review'])\n",
    "\n",
    "# Predict \n",
    "Y_out= clf0.predict(X_int)\n",
    "Y_out= pd.DataFrame(Y_out, columns= categories)\n",
    "\n",
    "# Tranform for User\n",
    "Y_out.replace({0: 'None',\n",
    "              1: 'negative',\n",
    "              2: 'neutral',\n",
    "              3: 'positive'},inplace=True)\n",
    "df_ecom.reset_index(drop=True, inplace=True)\n",
    "Y_out.reset_index(drop=True, inplace=True)\n",
    "df_ecom_pred = pd.concat([df_ecom,Y_out],axis=1)\n",
    "\n",
    "# Save\n",
    "# df_ecom_pred.to_excel('..\\Data\\EcomReviews_Labeled.xlsx',index=False)"
   ]
  },
  {
   "cell_type": "code",
   "execution_count": 24,
   "metadata": {},
   "outputs": [
    {
     "name": "stdout",
     "output_type": "stream",
     "text": [
      "60822\n",
      "60520\n"
     ]
    }
   ],
   "source": [
    "import pandas as pd \n",
    "df_social = pd.read_csv('../Data/Preprocessed_data/SocialMediaReviews.csv')\n",
    "print(len(df_social))\n",
    "\n",
    "# Drop duplicated\n",
    "df_social.dropna(subset=['Review'],inplace=True)\n",
    "print(len(df_social))\n",
    "\n",
    "# Preprocess data\n",
    "df_social['ml_review'] = df_social['Review'].apply(preprocess_fn)\n",
    "\n",
    "# Transform TF IDF\n",
    "X_int = vectorizer.transform(df_social['ml_review'])\n",
    "\n",
    "# Predict \n",
    "Y_out= clf0.predict(X_int)\n",
    "Y_out= pd.DataFrame(Y_out, columns= categories)\n",
    "\n",
    "# Tranform for User\n",
    "Y_out.replace({0: 'None',\n",
    "              1: 'negative',\n",
    "              2: 'neutral',\n",
    "              3: 'positive'},inplace=True)\n",
    "df_social.reset_index(drop=True, inplace=True)\n",
    "Y_out.reset_index(drop=True, inplace=True)\n",
    "df_social_pred = pd.concat([df_social,Y_out],axis=1)\n",
    "\n",
    "# Save\n",
    "# df_social_pred.to_excel('..\\Data\\MachineLearning\\SocialMediaReviews_Labeled.xlsx',index=False)"
   ]
  },
  {
   "cell_type": "markdown",
   "metadata": {},
   "source": [
    "Fine Turning"
   ]
  },
  {
   "cell_type": "code",
   "execution_count": 25,
   "metadata": {},
   "outputs": [],
   "source": [
    "import optuna\n",
    "from optuna.samplers import TPESampler"
   ]
  },
  {
   "cell_type": "code",
   "execution_count": 26,
   "metadata": {},
   "outputs": [],
   "source": [
    "def callback(study, trial):\n",
    "    if study.best_trial.number == trial.number:\n",
    "        study.set_user_attr(key='best_model', value=trial.user_attrs['model'])"
   ]
  },
  {
   "cell_type": "code",
   "execution_count": 27,
   "metadata": {},
   "outputs": [
    {
     "name": "stderr",
     "output_type": "stream",
     "text": [
      "[I 2024-05-14 22:35:34,310] A new study created in memory with name: no-name-58a624e3-f546-4a94-9cab-6b8668b7bf9a\n",
      "[I 2024-05-14 22:35:34,702] Trial 0 finished with value: 0.2385 and parameters: {'C': 1.9636582699290402e-07, 'class_weight': 'balanced', 'loss': 'hinge'}. Best is trial 0 with value: 0.2385.\n",
      "[I 2024-05-14 22:35:35,311] Trial 1 finished with value: 0.2385 and parameters: {'C': 5.339536586472381e-06, 'class_weight': None, 'loss': 'squared_hinge'}. Best is trial 0 with value: 0.2385.\n",
      "[I 2024-05-14 22:35:35,551] Trial 2 finished with value: 0.2385 and parameters: {'C': 1.3055563380836963e-09, 'class_weight': None, 'loss': 'hinge'}. Best is trial 0 with value: 0.2385.\n",
      "[I 2024-05-14 22:35:35,816] Trial 3 finished with value: 0.2385 and parameters: {'C': 1.1682869614143264e-09, 'class_weight': None, 'loss': 'hinge'}. Best is trial 0 with value: 0.2385.\n",
      "[I 2024-05-14 22:35:36,794] Trial 4 finished with value: 0.7036 and parameters: {'C': 0.2804917948703948, 'class_weight': 'balanced', 'loss': 'hinge'}. Best is trial 4 with value: 0.7036.\n",
      "[I 2024-05-14 22:35:37,561] Trial 5 finished with value: 0.3846 and parameters: {'C': 0.002674151911363306, 'class_weight': 'balanced', 'loss': 'squared_hinge'}. Best is trial 4 with value: 0.7036.\n",
      "[I 2024-05-14 22:35:38,767] Trial 6 finished with value: 0.6628 and parameters: {'C': 0.02828254640470946, 'class_weight': 'balanced', 'loss': 'squared_hinge'}. Best is trial 4 with value: 0.7036.\n",
      "[I 2024-05-14 22:35:40,333] Trial 7 finished with value: 0.718 and parameters: {'C': 0.15640579894830894, 'class_weight': 'balanced', 'loss': 'squared_hinge'}. Best is trial 7 with value: 0.718.\n",
      "[I 2024-05-14 22:35:40,773] Trial 8 finished with value: 0.2385 and parameters: {'C': 2.6540634283127564e-06, 'class_weight': None, 'loss': 'hinge'}. Best is trial 7 with value: 0.718.\n",
      "[I 2024-05-14 22:35:42,084] Trial 9 finished with value: 0.6716 and parameters: {'C': 0.03412839819879307, 'class_weight': 'balanced', 'loss': 'squared_hinge'}. Best is trial 7 with value: 0.718.\n",
      "[I 2024-05-14 22:36:12,695] Trial 10 finished with value: 0.6908 and parameters: {'C': 78.77092791878178, 'class_weight': 'balanced', 'loss': 'squared_hinge'}. Best is trial 7 with value: 0.718.\n",
      "[I 2024-05-14 22:36:18,422] Trial 11 finished with value: 0.6974 and parameters: {'C': 5.974855701699716, 'class_weight': 'balanced', 'loss': 'hinge'}. Best is trial 7 with value: 0.718.\n",
      "[I 2024-05-14 22:36:19,674] Trial 12 finished with value: 0.7046 and parameters: {'C': 0.3122532064423224, 'class_weight': 'balanced', 'loss': 'hinge'}. Best is trial 7 with value: 0.718.\n",
      "[I 2024-05-14 22:36:22,262] Trial 13 finished with value: 0.723 and parameters: {'C': 1.321090493383728, 'class_weight': 'balanced', 'loss': 'squared_hinge'}. Best is trial 13 with value: 0.723.\n",
      "[I 2024-05-14 22:36:23,095] Trial 14 finished with value: 0.2385 and parameters: {'C': 0.0003433735485076389, 'class_weight': 'balanced', 'loss': 'squared_hinge'}. Best is trial 13 with value: 0.723.\n",
      "[I 2024-05-14 22:36:29,612] Trial 15 finished with value: 0.6995 and parameters: {'C': 6.702984736026201, 'class_weight': 'balanced', 'loss': 'squared_hinge'}. Best is trial 13 with value: 0.723.\n",
      "[I 2024-05-14 22:36:33,568] Trial 16 finished with value: 0.7109 and parameters: {'C': 3.3309389957189763, 'class_weight': 'balanced', 'loss': 'squared_hinge'}. Best is trial 13 with value: 0.723.\n",
      "[I 2024-05-14 22:36:34,455] Trial 17 finished with value: 0.4802 and parameters: {'C': 0.004104434806907302, 'class_weight': 'balanced', 'loss': 'squared_hinge'}. Best is trial 13 with value: 0.723.\n",
      "[I 2024-05-14 22:37:07,151] Trial 18 finished with value: 0.691 and parameters: {'C': 83.93966822473506, 'class_weight': None, 'loss': 'squared_hinge'}. Best is trial 13 with value: 0.723.\n",
      "[I 2024-05-14 22:37:09,432] Trial 19 finished with value: 0.7253 and parameters: {'C': 0.3585569701604966, 'class_weight': 'balanced', 'loss': 'squared_hinge'}. Best is trial 19 with value: 0.7253.\n",
      "[I 2024-05-14 22:37:10,515] Trial 20 finished with value: 0.2385 and parameters: {'C': 6.461014086688208e-05, 'class_weight': 'balanced', 'loss': 'squared_hinge'}. Best is trial 19 with value: 0.7253.\n",
      "[I 2024-05-14 22:37:12,825] Trial 21 finished with value: 0.7263 and parameters: {'C': 0.37685262280577625, 'class_weight': 'balanced', 'loss': 'squared_hinge'}. Best is trial 21 with value: 0.7263.\n",
      "[I 2024-05-14 22:37:15,745] Trial 22 finished with value: 0.7214 and parameters: {'C': 1.4598316325472036, 'class_weight': 'balanced', 'loss': 'squared_hinge'}. Best is trial 21 with value: 0.7263.\n",
      "[I 2024-05-14 22:37:17,020] Trial 23 finished with value: 0.6063 and parameters: {'C': 0.011532000216956958, 'class_weight': 'balanced', 'loss': 'squared_hinge'}. Best is trial 21 with value: 0.7263.\n",
      "[I 2024-05-14 22:37:17,942] Trial 24 finished with value: 0.2385 and parameters: {'C': 0.00027805136757010545, 'class_weight': 'balanced', 'loss': 'squared_hinge'}. Best is trial 21 with value: 0.7263.\n",
      "[I 2024-05-14 22:37:30,482] Trial 25 finished with value: 0.6964 and parameters: {'C': 16.369176924257115, 'class_weight': 'balanced', 'loss': 'squared_hinge'}. Best is trial 21 with value: 0.7263.\n",
      "[I 2024-05-14 22:37:32,442] Trial 26 finished with value: 0.7177 and parameters: {'C': 0.42965624696195814, 'class_weight': None, 'loss': 'squared_hinge'}. Best is trial 21 with value: 0.7263.\n",
      "[I 2024-05-14 22:37:33,779] Trial 27 finished with value: 0.6789 and parameters: {'C': 0.039673545946062434, 'class_weight': 'balanced', 'loss': 'squared_hinge'}. Best is trial 21 with value: 0.7263.\n",
      "[I 2024-05-14 22:37:36,910] Trial 28 finished with value: 0.7229 and parameters: {'C': 1.2557351302071542, 'class_weight': 'balanced', 'loss': 'squared_hinge'}. Best is trial 21 with value: 0.7263.\n",
      "[I 2024-05-14 22:37:38,017] Trial 29 finished with value: 0.2459 and parameters: {'C': 0.0008063590788725637, 'class_weight': 'balanced', 'loss': 'squared_hinge'}. Best is trial 21 with value: 0.7263.\n",
      "[I 2024-05-14 22:37:52,148] Trial 30 finished with value: 0.6954 and parameters: {'C': 18.309907105906586, 'class_weight': 'balanced', 'loss': 'squared_hinge'}. Best is trial 21 with value: 0.7263.\n",
      "[I 2024-05-14 22:37:55,007] Trial 31 finished with value: 0.7226 and parameters: {'C': 1.232569728622552, 'class_weight': 'balanced', 'loss': 'squared_hinge'}. Best is trial 21 with value: 0.7263.\n",
      "[I 2024-05-14 22:37:56,579] Trial 32 finished with value: 0.7091 and parameters: {'C': 0.09876280703155878, 'class_weight': 'balanced', 'loss': 'squared_hinge'}. Best is trial 21 with value: 0.7263.\n",
      "[I 2024-05-14 22:37:57,114] Trial 33 finished with value: 0.2385 and parameters: {'C': 5.5604390411207435e-08, 'class_weight': 'balanced', 'loss': 'squared_hinge'}. Best is trial 21 with value: 0.7263.\n",
      "[I 2024-05-14 22:37:59,211] Trial 34 finished with value: 0.7217 and parameters: {'C': 0.9598128056438519, 'class_weight': None, 'loss': 'squared_hinge'}. Best is trial 21 with value: 0.7263.\n",
      "[I 2024-05-14 22:38:07,459] Trial 35 finished with value: 0.6916 and parameters: {'C': 16.58561414058428, 'class_weight': 'balanced', 'loss': 'hinge'}. Best is trial 21 with value: 0.7263.\n",
      "[I 2024-05-14 22:38:08,440] Trial 36 finished with value: 0.3394 and parameters: {'C': 0.006657366601642837, 'class_weight': None, 'loss': 'squared_hinge'}. Best is trial 21 with value: 0.7263.\n",
      "[I 2024-05-14 22:38:09,196] Trial 37 finished with value: 0.6485 and parameters: {'C': 0.07037065013945265, 'class_weight': 'balanced', 'loss': 'hinge'}. Best is trial 21 with value: 0.7263.\n",
      "[I 2024-05-14 22:38:11,008] Trial 38 finished with value: 0.7263 and parameters: {'C': 0.37163483615576853, 'class_weight': 'balanced', 'loss': 'squared_hinge'}. Best is trial 21 with value: 0.7263.\n",
      "[I 2024-05-14 22:38:12,124] Trial 39 finished with value: 0.2385 and parameters: {'C': 4.7581874709848163e-05, 'class_weight': None, 'loss': 'squared_hinge'}. Best is trial 21 with value: 0.7263.\n",
      "[I 2024-05-14 22:38:12,423] Trial 40 finished with value: 0.2385 and parameters: {'C': 1.0204509843860447e-08, 'class_weight': 'balanced', 'loss': 'hinge'}. Best is trial 21 with value: 0.7263.\n",
      "[I 2024-05-14 22:38:14,408] Trial 41 finished with value: 0.7271 and parameters: {'C': 0.4493072714375323, 'class_weight': 'balanced', 'loss': 'squared_hinge'}. Best is trial 41 with value: 0.7271.\n",
      "[I 2024-05-14 22:38:16,141] Trial 42 finished with value: 0.7217 and parameters: {'C': 0.2977734766159126, 'class_weight': 'balanced', 'loss': 'squared_hinge'}. Best is trial 41 with value: 0.7271.\n",
      "[I 2024-05-14 22:38:17,307] Trial 43 finished with value: 0.6334 and parameters: {'C': 0.017043641817182764, 'class_weight': 'balanced', 'loss': 'squared_hinge'}. Best is trial 41 with value: 0.7271.\n",
      "[I 2024-05-14 22:38:18,733] Trial 44 finished with value: 0.7159 and parameters: {'C': 0.13768968951221786, 'class_weight': 'balanced', 'loss': 'squared_hinge'}. Best is trial 41 with value: 0.7271.\n",
      "[I 2024-05-14 22:38:19,575] Trial 45 finished with value: 0.322 and parameters: {'C': 0.0018895580238877708, 'class_weight': 'balanced', 'loss': 'squared_hinge'}. Best is trial 41 with value: 0.7271.\n",
      "[I 2024-05-14 22:38:25,355] Trial 46 finished with value: 0.7015 and parameters: {'C': 5.649201003572734, 'class_weight': 'balanced', 'loss': 'squared_hinge'}. Best is trial 41 with value: 0.7271.\n",
      "[I 2024-05-14 22:38:27,308] Trial 47 finished with value: 0.7265 and parameters: {'C': 0.4329488103428893, 'class_weight': 'balanced', 'loss': 'squared_hinge'}. Best is trial 41 with value: 0.7271.\n",
      "[I 2024-05-14 22:38:27,699] Trial 48 finished with value: 0.2385 and parameters: {'C': 1.3382186485067576e-06, 'class_weight': 'balanced', 'loss': 'hinge'}. Best is trial 41 with value: 0.7271.\n",
      "[I 2024-05-14 22:38:29,071] Trial 49 finished with value: 0.6649 and parameters: {'C': 0.030075801135704787, 'class_weight': 'balanced', 'loss': 'squared_hinge'}. Best is trial 41 with value: 0.7271.\n"
     ]
    },
    {
     "name": "stdout",
     "output_type": "stream",
     "text": [
      "{'C': 0.4493072714375323, 'class_weight': 'balanced', 'dual': 'warn', 'fit_intercept': True, 'intercept_scaling': 1, 'loss': 'squared_hinge', 'max_iter': 2000, 'multi_class': 'ovr', 'penalty': 'l2', 'random_state': 5, 'tol': 0.0001, 'verbose': 0}\n",
      "{'C': 0.4493072714375323, 'class_weight': 'balanced', 'loss': 'squared_hinge'}\n"
     ]
    }
   ],
   "source": [
    "import warnings\n",
    "warnings.filterwarnings(\"ignore\")\n",
    "def linearsvc_objective(trial):\n",
    "    params = dict(\n",
    "        C=trial.suggest_float('C', 1e-9, 1e2, log=True),\n",
    "        class_weight=trial.suggest_categorical('class_weight', ['balanced', None]),\n",
    "        loss=trial.suggest_categorical('loss', ['hinge', 'squared_hinge']),\n",
    "        max_iter=2000,\n",
    "        random_state=5\n",
    "    )\n",
    "\n",
    "    clf = MOC(LinearSVC(**params))\n",
    "    clf.fit(xtrain_tfidf, ytrain)\n",
    "    trial.set_user_attr(key=\"model\", value=clf)\n",
    "\n",
    "    y_pred = clf.predict(xdev_tfidf)\n",
    "    return quick_f1(ydev_ml, y_pred)\n",
    "\n",
    "sampler = TPESampler(seed=22)\n",
    "linearsvc_study = optuna.create_study(sampler=sampler, direction='maximize')\n",
    "linearsvc_study.optimize(linearsvc_objective, n_trials=50, callbacks=[callback])\n",
    "\n",
    "\n",
    "clf2 = linearsvc_study.user_attrs['best_model']\n",
    "\n",
    "print(clf2.estimators_[0].get_params())\n",
    "print(linearsvc_study.best_params)"
   ]
  },
  {
   "cell_type": "code",
   "execution_count": 28,
   "metadata": {},
   "outputs": [
    {
     "name": "stdout",
     "output_type": "stream",
     "text": [
      "## Aspect Detection Evaluate ##\n",
      "              precision    recall  f1-score   support\n",
      "\n",
      "                 0.9115    0.9532    0.9319     15518\n",
      "     BATTERY     0.9585    0.8649    0.9093      1014\n",
      "      CAMERA     0.9315    0.8095    0.8662       588\n",
      "      DESIGN     0.9152    0.6508    0.7606       398\n",
      "    FEATURES     0.8633    0.7637    0.8104       711\n",
      "     GENERAL     0.8250    0.8161    0.8205      1381\n",
      " PERFORMANCE     0.8718    0.8123    0.8410      1172\n",
      "       PRICE     0.8926    0.7891    0.8377       569\n",
      "      SCREEN     0.7955    0.6506    0.7157       269\n",
      "     SER&ACC     0.8678    0.7083    0.7799       593\n",
      "     STORAGE     0.8889    0.2963    0.4444        27\n",
      "\n",
      "    accuracy                         0.9028     22240\n",
      "   macro avg     0.8838    0.7377    0.7925     22240\n",
      "weighted avg     0.9022    0.9028    0.9008     22240\n",
      "\n"
     ]
    }
   ],
   "source": [
    "ypred2=clf2.predict(xtest_tfidf)\n",
    "ypred2= pd.DataFrame(ypred2, columns= categories)\n",
    "aspect_detection_eval(ytest, ypred2)"
   ]
  },
  {
   "cell_type": "code",
   "execution_count": 29,
   "metadata": {},
   "outputs": [
    {
     "name": "stdout",
     "output_type": "stream",
     "text": [
      "## Sentiment Classification Evaluate ##\n",
      "              precision    recall  f1-score   support\n",
      "\n",
      "        None     0.9115    0.9532    0.9319     15518\n",
      "    negative     0.7074    0.6520    0.6786      2210\n",
      "     neutral     0.5823    0.4027    0.4761       817\n",
      "    positive     0.8176    0.7545    0.7848      3695\n",
      "\n",
      "    accuracy                         0.8701     22240\n",
      "   macro avg     0.7547    0.6906    0.7179     22240\n",
      "weighted avg     0.8635    0.8701    0.8655     22240\n",
      "\n"
     ]
    }
   ],
   "source": [
    "sentiment_classification_eval(ytest, ypred2)"
   ]
  },
  {
   "cell_type": "code",
   "execution_count": 30,
   "metadata": {},
   "outputs": [
    {
     "name": "stdout",
     "output_type": "stream",
     "text": [
      "## Combination Evaluate (Aspect Detection + Sentiment Classification) ##\n",
      "                      precision    recall  f1-score   support\n",
      "\n",
      "        BATTERY,None     0.8953    0.9686    0.9305      1210\n",
      "    BATTERY,negative     0.7699    0.7364    0.7528       368\n",
      "     BATTERY,neutral     0.3968    0.2717    0.3226        92\n",
      "    BATTERY,positive     0.8600    0.7762    0.8159       554\n",
      "         CAMERA,None     0.9346    0.9786    0.9561      1636\n",
      "     CAMERA,negative     0.7448    0.6316    0.6835       171\n",
      "      CAMERA,neutral     0.4182    0.3239    0.3651        71\n",
      "     CAMERA,positive     0.8199    0.7370    0.7763       346\n",
      "         DESIGN,None     0.9284    0.9869    0.9567      1826\n",
      "     DESIGN,negative     0.6579    0.2604    0.3731        96\n",
      "      DESIGN,neutral     0.4000    0.0714    0.1212        28\n",
      "     DESIGN,positive     0.8375    0.7336    0.7821       274\n",
      "       FEATURES,None     0.8947    0.9432    0.9183      1513\n",
      "   FEATURES,negative     0.7663    0.7429    0.7544       459\n",
      "    FEATURES,neutral     0.1923    0.0962    0.1282        52\n",
      "   FEATURES,positive     0.7152    0.5650    0.6313       200\n",
      "        GENERAL,None     0.7040    0.7165    0.7102       843\n",
      "    GENERAL,negative     0.6190    0.6633    0.6404       294\n",
      "     GENERAL,neutral     0.4154    0.3253    0.3649        83\n",
      "    GENERAL,positive     0.8398    0.8247    0.8322      1004\n",
      "    PERFORMANCE,None     0.8057    0.8669    0.8352      1052\n",
      "PERFORMANCE,negative     0.7102    0.7181    0.7141       454\n",
      " PERFORMANCE,neutral     0.4314    0.1897    0.2635       116\n",
      "PERFORMANCE,positive     0.7887    0.7625    0.7753       602\n",
      "          PRICE,None     0.9303    0.9674    0.9485      1655\n",
      "      PRICE,negative     0.6119    0.5190    0.5616        79\n",
      "       PRICE,neutral     0.7705    0.6860    0.7258       328\n",
      "      PRICE,positive     0.6875    0.6111    0.6471       162\n",
      "         SCREEN,None     0.9531    0.9770    0.9649      1955\n",
      "     SCREEN,negative     0.7000    0.6034    0.6481       116\n",
      "      SCREEN,neutral     0.0000    0.0000    0.0000        17\n",
      "     SCREEN,positive     0.7311    0.6397    0.6824       136\n",
      "        SER&ACC,None     0.9006    0.9608    0.9297      1631\n",
      "    SER&ACC,negative     0.5439    0.3713    0.4413       167\n",
      "     SER&ACC,neutral     0.0000    0.0000    0.0000        27\n",
      "    SER&ACC,positive     0.8567    0.7794    0.8163       399\n",
      "        STORAGE,None     0.9914    0.9995    0.9955      2197\n",
      "    STORAGE,negative     1.0000    0.3333    0.5000         6\n",
      "     STORAGE,neutral     1.0000    0.0000    0.0000         3\n",
      "    STORAGE,positive     0.7143    0.2778    0.4000        18\n",
      "\n",
      "            accuracy                         0.8701     22240\n",
      "           macro avg     0.6984    0.5904    0.6166     22240\n",
      "        weighted avg     0.8612    0.8701    0.8636     22240\n",
      "\n"
     ]
    }
   ],
   "source": [
    "combination_eval(ytest, ypred2)"
   ]
  }
 ],
 "metadata": {
  "kernelspec": {
   "display_name": "Python 3",
   "language": "python",
   "name": "python3"
  },
  "language_info": {
   "codemirror_mode": {
    "name": "ipython",
    "version": 3
   },
   "file_extension": ".py",
   "mimetype": "text/x-python",
   "name": "python",
   "nbconvert_exporter": "python",
   "pygments_lexer": "ipython3",
   "version": "3.10.8"
  }
 },
 "nbformat": 4,
 "nbformat_minor": 2
}
