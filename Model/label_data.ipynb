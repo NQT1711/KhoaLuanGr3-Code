{
 "cells": [
  {
   "cell_type": "markdown",
   "metadata": {},
   "source": [
    "# Import libraries"
   ]
  },
  {
   "cell_type": "code",
   "execution_count": 1,
   "metadata": {},
   "outputs": [
    {
     "name": "stderr",
     "output_type": "stream",
     "text": [
      "c:\\Users\\Nguyen Quang Tu\\AppData\\Local\\Programs\\Python\\Python39\\lib\\site-packages\\tqdm\\auto.py:21: TqdmWarning: IProgress not found. Please update jupyter and ipywidgets. See https://ipywidgets.readthedocs.io/en/stable/user_install.html\n",
      "  from .autonotebook import tqdm as notebook_tqdm\n",
      "Some layers from the model checkpoint at vinai/phobert-base were not used when initializing TFRobertaModel: ['lm_head']\n",
      "- This IS expected if you are initializing TFRobertaModel from the checkpoint of a model trained on another task or with another architecture (e.g. initializing a BertForSequenceClassification model from a BertForPreTraining model).\n",
      "- This IS NOT expected if you are initializing TFRobertaModel from the checkpoint of a model that you expect to be exactly identical (initializing a BertForSequenceClassification model from a BertForSequenceClassification model).\n",
      "All the layers of TFRobertaModel were initialized from the model checkpoint at vinai/phobert-base.\n",
      "If your task is similar to the task the model of the checkpoint was trained on, you can already use TFRobertaModel for predictions without further training.\n"
     ]
    }
   ],
   "source": [
    "import pandas as pd\n",
    "import numpy as np\n",
    "from text_preprocessed import preprocessing_text\n",
    "from nltk.probability import FreqDist\n",
    "from predict_function import predict_label"
   ]
  },
  {
   "cell_type": "code",
   "execution_count": 2,
   "metadata": {},
   "outputs": [],
   "source": [
    "pd.options.mode.copy_on_write = True"
   ]
  },
  {
   "cell_type": "markdown",
   "metadata": {},
   "source": [
    "# Data"
   ]
  },
  {
   "cell_type": "code",
   "execution_count": 8,
   "metadata": {},
   "outputs": [],
   "source": [
    "ecom_reviews = pd.read_csv(r'..\\Data\\Preprocessed_data\\EcomReviews.csv')\n",
    "sm_reviews = pd.read_csv(r'..\\Data\\Preprocessed_data\\SocialMediaReviews.csv')\n",
    "# reviews = [item for item in list(ecom_reviews)] + [item for item in list(sm_reviews)]"
   ]
  },
  {
   "cell_type": "code",
   "execution_count": 6,
   "metadata": {},
   "outputs": [],
   "source": [
    "ecom_reviews['Review_pre'] = ecom_reviews['Review'].map(preprocessing_text)"
   ]
  },
  {
   "cell_type": "code",
   "execution_count": 4,
   "metadata": {},
   "outputs": [],
   "source": [
    "sm_reviews['Review_pre'] = sm_reviews['Review'].map(preprocessing_text)"
   ]
  },
  {
   "cell_type": "markdown",
   "metadata": {},
   "source": [
    "# Model"
   ]
  },
  {
   "cell_type": "code",
   "execution_count": 18,
   "metadata": {},
   "outputs": [],
   "source": [
    "ecom_reviews_label = []\n",
    "\n",
    "for rv in ecom_reviews['Review_pre'].values:\n",
    "    if rv != '':\n",
    "        pred_label = predict_label(rv)\n",
    "        ecom_reviews_label.append(pred_label)\n",
    "    else:\n",
    "        ecom_reviews_label.append({'Review': '',\n",
    "                                    'BATTERY': 'None',\n",
    "                                    'CAMERA': 'None',\n",
    "                                    'GENERAL': 'None',\n",
    "                                    'SER&ACC': 'None',\n",
    "                                    'PERFORMANCE': 'None',\n",
    "                                    'DESIGN': 'None',\n",
    "                                    'FEATURES': 'None',\n",
    "                                    'PRICE': 'None',\n",
    "                                    'SCREEN': 'None',\n",
    "                                    'STORAGE': 'None'})"
   ]
  },
  {
   "cell_type": "code",
   "execution_count": 28,
   "metadata": {},
   "outputs": [],
   "source": [
    "sm_reviews_label = []\n",
    "\n",
    "for rv in sm_reviews['Review_pre'].values:\n",
    "    if rv != '':\n",
    "        pred_label = predict_label(rv)\n",
    "        sm_reviews_label.append(pred_label)\n",
    "    else:\n",
    "        sm_reviews_label.append({'Review': '',\n",
    "                                    'BATTERY': 'None',\n",
    "                                    'CAMERA': 'None',\n",
    "                                    'GENERAL': 'None',\n",
    "                                    'SER&ACC': 'None',\n",
    "                                    'PERFORMANCE': 'None',\n",
    "                                    'DESIGN': 'None',\n",
    "                                    'FEATURES': 'None',\n",
    "                                    'PRICE': 'None',\n",
    "                                    'SCREEN': 'None',\n",
    "                                    'STORAGE': 'None'})"
   ]
  },
  {
   "cell_type": "code",
   "execution_count": 34,
   "metadata": {},
   "outputs": [
    {
     "data": {
      "text/html": [
       "<div>\n",
       "<style scoped>\n",
       "    .dataframe tbody tr th:only-of-type {\n",
       "        vertical-align: middle;\n",
       "    }\n",
       "\n",
       "    .dataframe tbody tr th {\n",
       "        vertical-align: top;\n",
       "    }\n",
       "\n",
       "    .dataframe thead th {\n",
       "        text-align: right;\n",
       "    }\n",
       "</style>\n",
       "<table border=\"1\" class=\"dataframe\">\n",
       "  <thead>\n",
       "    <tr style=\"text-align: right;\">\n",
       "      <th></th>\n",
       "      <th>Review</th>\n",
       "      <th>BATTERY</th>\n",
       "      <th>CAMERA</th>\n",
       "      <th>GENERAL</th>\n",
       "      <th>SER&amp;ACC</th>\n",
       "      <th>PERFORMANCE</th>\n",
       "      <th>DESIGN</th>\n",
       "      <th>FEATURES</th>\n",
       "      <th>PRICE</th>\n",
       "      <th>SCREEN</th>\n",
       "      <th>STORAGE</th>\n",
       "    </tr>\n",
       "  </thead>\n",
       "  <tbody>\n",
       "    <tr>\n",
       "      <th>0</th>\n",
       "      <td>1   giới_thiệu mình là một ifan chính_hiệu từ ...</td>\n",
       "      <td>None</td>\n",
       "      <td>None</td>\n",
       "      <td>positive</td>\n",
       "      <td>None</td>\n",
       "      <td>None</td>\n",
       "      <td>None</td>\n",
       "      <td>None</td>\n",
       "      <td>None</td>\n",
       "      <td>None</td>\n",
       "      <td>None</td>\n",
       "    </tr>\n",
       "    <tr>\n",
       "      <th>1</th>\n",
       "      <td>về mặt lý_thuyết thì đây là kèo rất cân vì cả ...</td>\n",
       "      <td>None</td>\n",
       "      <td>negative</td>\n",
       "      <td>None</td>\n",
       "      <td>None</td>\n",
       "      <td>None</td>\n",
       "      <td>None</td>\n",
       "      <td>None</td>\n",
       "      <td>None</td>\n",
       "      <td>None</td>\n",
       "      <td>None</td>\n",
       "    </tr>\n",
       "    <tr>\n",
       "      <th>2</th>\n",
       "      <td>đây là cách thiết_lập máy của mình sau khi nhậ...</td>\n",
       "      <td>None</td>\n",
       "      <td>None</td>\n",
       "      <td>None</td>\n",
       "      <td>None</td>\n",
       "      <td>None</td>\n",
       "      <td>None</td>\n",
       "      <td>None</td>\n",
       "      <td>None</td>\n",
       "      <td>None</td>\n",
       "      <td>None</td>\n",
       "    </tr>\n",
       "    <tr>\n",
       "      <th>3</th>\n",
       "      <td>tinh_tế đã có sớm iphone 15 pro max natural ti...</td>\n",
       "      <td>None</td>\n",
       "      <td>None</td>\n",
       "      <td>None</td>\n",
       "      <td>None</td>\n",
       "      <td>None</td>\n",
       "      <td>None</td>\n",
       "      <td>None</td>\n",
       "      <td>None</td>\n",
       "      <td>None</td>\n",
       "      <td>None</td>\n",
       "    </tr>\n",
       "    <tr>\n",
       "      <th>4</th>\n",
       "      <td>iphone 15 pro max là chiếc iphone kích_thước l...</td>\n",
       "      <td>None</td>\n",
       "      <td>None</td>\n",
       "      <td>None</td>\n",
       "      <td>None</td>\n",
       "      <td>None</td>\n",
       "      <td>None</td>\n",
       "      <td>None</td>\n",
       "      <td>None</td>\n",
       "      <td>None</td>\n",
       "      <td>None</td>\n",
       "    </tr>\n",
       "    <tr>\n",
       "      <th>...</th>\n",
       "      <td>...</td>\n",
       "      <td>...</td>\n",
       "      <td>...</td>\n",
       "      <td>...</td>\n",
       "      <td>...</td>\n",
       "      <td>...</td>\n",
       "      <td>...</td>\n",
       "      <td>...</td>\n",
       "      <td>...</td>\n",
       "      <td>...</td>\n",
       "      <td>...</td>\n",
       "    </tr>\n",
       "    <tr>\n",
       "      <th>60817</th>\n",
       "      <td>đã có google pay thay_thế nên giờ không là vấn_đề</td>\n",
       "      <td>None</td>\n",
       "      <td>None</td>\n",
       "      <td>positive</td>\n",
       "      <td>None</td>\n",
       "      <td>None</td>\n",
       "      <td>None</td>\n",
       "      <td>None</td>\n",
       "      <td>None</td>\n",
       "      <td>None</td>\n",
       "      <td>None</td>\n",
       "    </tr>\n",
       "    <tr>\n",
       "      <th>60818</th>\n",
       "      <td>máy bản hàn sản_xuất tại hàn quốc bạn ơi</td>\n",
       "      <td>None</td>\n",
       "      <td>None</td>\n",
       "      <td>None</td>\n",
       "      <td>None</td>\n",
       "      <td>None</td>\n",
       "      <td>None</td>\n",
       "      <td>None</td>\n",
       "      <td>None</td>\n",
       "      <td>None</td>\n",
       "      <td>None</td>\n",
       "    </tr>\n",
       "    <tr>\n",
       "      <th>60819</th>\n",
       "      <td>cước gửi từ bên hàn về 700 tiền việt cho 1 máy</td>\n",
       "      <td>None</td>\n",
       "      <td>None</td>\n",
       "      <td>None</td>\n",
       "      <td>None</td>\n",
       "      <td>None</td>\n",
       "      <td>None</td>\n",
       "      <td>None</td>\n",
       "      <td>None</td>\n",
       "      <td>None</td>\n",
       "      <td>None</td>\n",
       "    </tr>\n",
       "    <tr>\n",
       "      <th>60820</th>\n",
       "      <td>mình nghĩ là nhx người mua con s hàn này chắc ...</td>\n",
       "      <td>None</td>\n",
       "      <td>None</td>\n",
       "      <td>positive</td>\n",
       "      <td>None</td>\n",
       "      <td>None</td>\n",
       "      <td>None</td>\n",
       "      <td>None</td>\n",
       "      <td>None</td>\n",
       "      <td>None</td>\n",
       "      <td>None</td>\n",
       "    </tr>\n",
       "    <tr>\n",
       "      <th>60821</th>\n",
       "      <td>thằng nào bảo mình s23 hàn sản_xuất ở hq  ...</td>\n",
       "      <td>None</td>\n",
       "      <td>None</td>\n",
       "      <td>None</td>\n",
       "      <td>None</td>\n",
       "      <td>None</td>\n",
       "      <td>None</td>\n",
       "      <td>None</td>\n",
       "      <td>None</td>\n",
       "      <td>None</td>\n",
       "      <td>None</td>\n",
       "    </tr>\n",
       "  </tbody>\n",
       "</table>\n",
       "<p>60822 rows × 11 columns</p>\n",
       "</div>"
      ],
      "text/plain": [
       "                                                  Review BATTERY    CAMERA  \\\n",
       "0      1   giới_thiệu mình là một ifan chính_hiệu từ ...    None      None   \n",
       "1      về mặt lý_thuyết thì đây là kèo rất cân vì cả ...    None  negative   \n",
       "2      đây là cách thiết_lập máy của mình sau khi nhậ...    None      None   \n",
       "3      tinh_tế đã có sớm iphone 15 pro max natural ti...    None      None   \n",
       "4      iphone 15 pro max là chiếc iphone kích_thước l...    None      None   \n",
       "...                                                  ...     ...       ...   \n",
       "60817  đã có google pay thay_thế nên giờ không là vấn_đề    None      None   \n",
       "60818           máy bản hàn sản_xuất tại hàn quốc bạn ơi    None      None   \n",
       "60819     cước gửi từ bên hàn về 700 tiền việt cho 1 máy    None      None   \n",
       "60820  mình nghĩ là nhx người mua con s hàn này chắc ...    None      None   \n",
       "60821      thằng nào bảo mình s23 hàn sản_xuất ở hq  ...    None      None   \n",
       "\n",
       "        GENERAL SER&ACC PERFORMANCE DESIGN FEATURES PRICE SCREEN STORAGE  \n",
       "0      positive    None        None   None     None  None   None    None  \n",
       "1          None    None        None   None     None  None   None    None  \n",
       "2          None    None        None   None     None  None   None    None  \n",
       "3          None    None        None   None     None  None   None    None  \n",
       "4          None    None        None   None     None  None   None    None  \n",
       "...         ...     ...         ...    ...      ...   ...    ...     ...  \n",
       "60817  positive    None        None   None     None  None   None    None  \n",
       "60818      None    None        None   None     None  None   None    None  \n",
       "60819      None    None        None   None     None  None   None    None  \n",
       "60820  positive    None        None   None     None  None   None    None  \n",
       "60821      None    None        None   None     None  None   None    None  \n",
       "\n",
       "[60822 rows x 11 columns]"
      ]
     },
     "execution_count": 34,
     "metadata": {},
     "output_type": "execute_result"
    }
   ],
   "source": [
    "pd.DataFrame(sm_reviews_label)"
   ]
  },
  {
   "cell_type": "code",
   "execution_count": 4,
   "metadata": {},
   "outputs": [],
   "source": [
    "sm_reviews_label = pd.read_excel('sm_reviews_label.xlsx')\n",
    "ecom_reviews_label = pd.read_excel('ecom_reviews_label.xlsx')"
   ]
  },
  {
   "cell_type": "code",
   "execution_count": 14,
   "metadata": {},
   "outputs": [],
   "source": [
    "ecom_reviews_label['ID'] = ecom_reviews['EcomReviewID']\n",
    "sm_reviews_label['ID'] = sm_reviews['SMReviewID']"
   ]
  },
  {
   "cell_type": "code",
   "execution_count": 17,
   "metadata": {},
   "outputs": [],
   "source": [
    "ecom_reviews_label = ecom_reviews_label[['ID', 'Review', 'BATTERY', 'CAMERA', 'GENERAL', 'SER&ACC', 'PERFORMANCE',\n",
    "                                            'DESIGN', 'FEATURES', 'PRICE', 'SCREEN', 'STORAGE']]\n",
    "sm_reviews_label = sm_reviews_label[['ID', 'Review', 'BATTERY', 'CAMERA', 'GENERAL', 'SER&ACC', 'PERFORMANCE',\n",
    "                                            'DESIGN', 'FEATURES', 'PRICE', 'SCREEN', 'STORAGE']]"
   ]
  },
  {
   "cell_type": "code",
   "execution_count": 22,
   "metadata": {},
   "outputs": [],
   "source": [
    "concat_df = pd.concat([ecom_reviews_label, sm_reviews_label], axis=0, ignore_index=True)"
   ]
  },
  {
   "cell_type": "code",
   "execution_count": 26,
   "metadata": {},
   "outputs": [],
   "source": [
    "concat_df.to_excel(r'..\\Data\\Review_labeled\\All_reviews_labeled.xlsx', index=False)"
   ]
  },
  {
   "cell_type": "code",
   "execution_count": null,
   "metadata": {},
   "outputs": [],
   "source": []
  }
 ],
 "metadata": {
  "kernelspec": {
   "display_name": "Python 3",
   "language": "python",
   "name": "python3"
  },
  "language_info": {
   "codemirror_mode": {
    "name": "ipython",
    "version": 3
   },
   "file_extension": ".py",
   "mimetype": "text/x-python",
   "name": "python",
   "nbconvert_exporter": "python",
   "pygments_lexer": "ipython3",
   "version": "3.9.0"
  }
 },
 "nbformat": 4,
 "nbformat_minor": 2
}
