{
 "cells": [
  {
   "cell_type": "markdown",
   "metadata": {},
   "source": [
    "# Import libraries"
   ]
  },
  {
   "cell_type": "code",
   "execution_count": 1,
   "metadata": {},
   "outputs": [
    {
     "name": "stderr",
     "output_type": "stream",
     "text": [
      "c:\\Users\\Nguyen Quang Tu\\AppData\\Local\\Programs\\Python\\Python39\\lib\\site-packages\\tqdm\\auto.py:21: TqdmWarning: IProgress not found. Please update jupyter and ipywidgets. See https://ipywidgets.readthedocs.io/en/stable/user_install.html\n",
      "  from .autonotebook import tqdm as notebook_tqdm\n",
      "Some layers from the model checkpoint at vinai/phobert-base were not used when initializing TFRobertaModel: ['lm_head']\n",
      "- This IS expected if you are initializing TFRobertaModel from the checkpoint of a model trained on another task or with another architecture (e.g. initializing a BertForSequenceClassification model from a BertForPreTraining model).\n",
      "- This IS NOT expected if you are initializing TFRobertaModel from the checkpoint of a model that you expect to be exactly identical (initializing a BertForSequenceClassification model from a BertForSequenceClassification model).\n",
      "All the layers of TFRobertaModel were initialized from the model checkpoint at vinai/phobert-base.\n",
      "If your task is similar to the task the model of the checkpoint was trained on, you can already use TFRobertaModel for predictions without further training.\n"
     ]
    }
   ],
   "source": [
    "import pandas as pd\n",
    "import numpy as np\n",
    "from text_preprocessed import preprocessing_text\n",
    "from nltk.probability import FreqDist\n",
    "from predict_function import predict_label"
   ]
  },
  {
   "cell_type": "code",
   "execution_count": 2,
   "metadata": {},
   "outputs": [],
   "source": [
    "pd.options.mode.copy_on_write = True"
   ]
  },
  {
   "cell_type": "markdown",
   "metadata": {},
   "source": [
    "# Data"
   ]
  },
  {
   "cell_type": "code",
   "execution_count": 3,
   "metadata": {},
   "outputs": [],
   "source": [
    "ecom_reviews = pd.read_csv(r'..\\Data\\Preprocessed_data\\EcomReviews.csv')\n",
    "sm_reviews = pd.read_excel(r'..\\Data\\Preprocessed_data\\SocialMediaReviews.xlsx')"
   ]
  },
  {
   "cell_type": "code",
   "execution_count": 6,
   "metadata": {},
   "outputs": [],
   "source": [
    "ecom_reviews['Review_pre'] = ecom_reviews['Review'].map(preprocessing_text)"
   ]
  },
  {
   "cell_type": "code",
   "execution_count": 4,
   "metadata": {},
   "outputs": [],
   "source": [
    "sm_reviews['Review_pre'] = sm_reviews['Review'].map(preprocessing_text)"
   ]
  },
  {
   "cell_type": "markdown",
   "metadata": {},
   "source": [
    "# Model"
   ]
  },
  {
   "cell_type": "code",
   "execution_count": 18,
   "metadata": {},
   "outputs": [],
   "source": [
    "ecom_reviews_label = []\n",
    "\n",
    "for rv in ecom_reviews['Review_pre'].values:\n",
    "    if rv != '':\n",
    "        pred_label = predict_label(rv)\n",
    "        ecom_reviews_label.append(pred_label)\n",
    "    else:\n",
    "        ecom_reviews_label.append({'Review': '',\n",
    "                                    'BATTERY': 'None',\n",
    "                                    'CAMERA': 'None',\n",
    "                                    'GENERAL': 'None',\n",
    "                                    'SER&ACC': 'None',\n",
    "                                    'PERFORMANCE': 'None',\n",
    "                                    'DESIGN': 'None',\n",
    "                                    'FEATURES': 'None',\n",
    "                                    'PRICE': 'None',\n",
    "                                    'SCREEN': 'None',\n",
    "                                    'STORAGE': 'None'})"
   ]
  },
  {
   "cell_type": "code",
   "execution_count": 6,
   "metadata": {},
   "outputs": [],
   "source": [
    "sm_reviews_label = []\n",
    "\n",
    "for rv in sm_reviews['Review_pre'].values:\n",
    "    if rv != '':\n",
    "        pred_label = predict_label(rv)\n",
    "        sm_reviews_label.append(pred_label)\n",
    "    else:\n",
    "        sm_reviews_label.append({'Review': '',\n",
    "                                    'BATTERY': 'None',\n",
    "                                    'CAMERA': 'None',\n",
    "                                    'GENERAL': 'None',\n",
    "                                    'SER&ACC': 'None',\n",
    "                                    'PERFORMANCE': 'None',\n",
    "                                    'DESIGN': 'None',\n",
    "                                    'FEATURES': 'None',\n",
    "                                    'PRICE': 'None',\n",
    "                                    'SCREEN': 'None',\n",
    "                                    'STORAGE': 'None'})"
   ]
  },
  {
   "cell_type": "code",
   "execution_count": 9,
   "metadata": {},
   "outputs": [],
   "source": [
    "sm_reviews_label = pd.DataFrame(sm_reviews_label)"
   ]
  },
  {
   "cell_type": "code",
   "execution_count": 4,
   "metadata": {},
   "outputs": [],
   "source": [
    "sm_reviews_label = pd.read_excel('sm_reviews_label.xlsx')\n",
    "ecom_reviews_label = pd.read_excel('ecom_reviews_label.xlsx')"
   ]
  },
  {
   "cell_type": "code",
   "execution_count": 14,
   "metadata": {},
   "outputs": [],
   "source": [
    "ecom_reviews_label['ID'] = ecom_reviews['EcomReviewID']\n",
    "sm_reviews_label['ID'] = sm_reviews['SMReviewID']"
   ]
  },
  {
   "cell_type": "code",
   "execution_count": 22,
   "metadata": {},
   "outputs": [],
   "source": [
    "sm_reviews_label['Review_pre'] = sm_reviews['Review_pre']"
   ]
  },
  {
   "cell_type": "code",
   "execution_count": 24,
   "metadata": {},
   "outputs": [],
   "source": [
    "sm_reviews_label[['ID', 'Review', 'BATTERY', 'CAMERA', 'GENERAL', 'SER&ACC', 'PERFORMANCE',\n",
    "       'DESIGN', 'FEATURES', 'PRICE', 'SCREEN', 'STORAGE', 'Review_pre']].to_excel('new_data.xlsx', index=False)"
   ]
  },
  {
   "cell_type": "code",
   "execution_count": 17,
   "metadata": {},
   "outputs": [],
   "source": [
    "ecom_reviews_label = ecom_reviews_label[['ID', 'Review', 'BATTERY', 'CAMERA', 'GENERAL', 'SER&ACC', 'PERFORMANCE',\n",
    "                                            'DESIGN', 'FEATURES', 'PRICE', 'SCREEN', 'STORAGE']]\n",
    "sm_reviews_label = sm_reviews_label[['ID', 'Review', 'BATTERY', 'CAMERA', 'GENERAL', 'SER&ACC', 'PERFORMANCE',\n",
    "                                            'DESIGN', 'FEATURES', 'PRICE', 'SCREEN', 'STORAGE']]"
   ]
  },
  {
   "cell_type": "code",
   "execution_count": 22,
   "metadata": {},
   "outputs": [],
   "source": [
    "concat_df = pd.concat([ecom_reviews_label, sm_reviews_label], axis=0, ignore_index=True)"
   ]
  },
  {
   "cell_type": "code",
   "execution_count": 26,
   "metadata": {},
   "outputs": [],
   "source": [
    "concat_df.to_excel(r'..\\Data\\Review_labeled\\All_reviews_labeled.xlsx', index=False)"
   ]
  },
  {
   "cell_type": "code",
   "execution_count": null,
   "metadata": {},
   "outputs": [],
   "source": []
  }
 ],
 "metadata": {
  "kernelspec": {
   "display_name": "Python 3",
   "language": "python",
   "name": "python3"
  },
  "language_info": {
   "codemirror_mode": {
    "name": "ipython",
    "version": 3
   },
   "file_extension": ".py",
   "mimetype": "text/x-python",
   "name": "python",
   "nbconvert_exporter": "python",
   "pygments_lexer": "ipython3",
   "version": "3.9.0"
  }
 },
 "nbformat": 4,
 "nbformat_minor": 2
}
