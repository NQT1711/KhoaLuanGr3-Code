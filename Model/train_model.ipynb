{
  "cells": [
    {
      "cell_type": "code",
      "execution_count": 2,
      "metadata": {},
      "outputs": [],
      "source": [
        "# import jsonlines\n",
        "# from collections import Counter\n",
        "# import pandas as pd\n",
        "\n",
        "# data = []\n",
        "# with jsonlines.open('../Data/Pre_train_model/test.jsonl') as f:\n",
        "\n",
        "#     for line in f.iter():\n",
        "       \n",
        "#         data.append((line['text'], {'labels': line['labels']}))\n",
        "\n",
        "# extract_data = []\n",
        "# for dt in data:\n",
        "#     a_dict = {}\n",
        "#     text = dt[0]\n",
        "#     check_label = []\n",
        "#     for i in dt[1]['labels']:\n",
        "#         label = i[-1].split('#')[0]\n",
        "#         check_label.append(label)\n",
        "#     count_label = Counter(check_label)\n",
        "#     duplicate_label = []\n",
        "#     for k, v in count_label.items():\n",
        "#         if v > 1:\n",
        "#             duplicate_label.append(k)\n",
        "\n",
        "#     duplicate = []\n",
        "#     for i in dt[1]['labels']:\n",
        "#         label_split = i[-1].split('#')\n",
        "#         if label_split[0] not in duplicate_label:\n",
        "#             a_dict[label_split[0]] = label_split[1].lower()\n",
        "#         else:\n",
        "#             duplicate.append(i)\n",
        "\n",
        "#     if duplicate != []:\n",
        "#         list_pos_remove = []\n",
        "#         for pos in duplicate:\n",
        "#             list_pos_remove.append(pos[:2])\n",
        "\n",
        "#         for d in duplicate:\n",
        "#             label_split = d[-1].split('#')\n",
        "#             remove_pos = []\n",
        "#             for l in list_pos_remove:\n",
        "#                 if l != d[:2]:\n",
        "#                     remove_pos.append(l)\n",
        "#             list_text = list(text)\n",
        "#             for list_pos in remove_pos:\n",
        "#                 for num in range(list_pos[0], list_pos[1]):\n",
        "#                     list_text[num] = ''\n",
        "            \n",
        "#             copy_dict = a_dict.copy()\n",
        "#             copy_dict['review'] = ''.join(list_text)\n",
        "#             copy_dict[label_split[0]] = label_split[1].lower()\n",
        "#             extract_data.append(copy_dict)\n",
        "#     else:\n",
        "#         a_dict['review'] = text\n",
        "#         extract_data.append(a_dict)\n",
        "#     print('='*100)\n",
        "# df = pd.DataFrame(extract_data)\n",
        "# df = df[['review', 'BATTERY', 'CAMERA', 'GENERAL', 'SER&ACC', 'PERFORMANCE', 'DESIGN',\n",
        "#        'FEATURES', 'PRICE', 'SCREEN', 'STORAGE']]\n",
        "# df.to_csv(r'../Data/Pre_train_model/test.csv', index=False)"
      ]
    },
    {
      "cell_type": "markdown",
      "metadata": {
        "id": "tIKxI1r3v28c"
      },
      "source": [
        "# Install & import libraries"
      ]
    },
    {
      "cell_type": "code",
      "execution_count": 3,
      "metadata": {
        "colab": {
          "base_uri": "https://localhost:8080/"
        },
        "id": "nc2DONub6ZAX",
        "outputId": "c0e0934b-02c2-43e7-ead4-ede88ed5df21"
      },
      "outputs": [],
      "source": [
        "import numpy as np\n",
        "import tensorflow as tf\n",
        "import torch\n",
        "import math\n",
        "import pandas as pd\n",
        "import os\n",
        "from text_preprocessed import preprocessing_text"
      ]
    },
    {
      "cell_type": "markdown",
      "metadata": {
        "id": "KCbaaVXcLctm"
      },
      "source": [
        "# Import datasets"
      ]
    },
    {
      "cell_type": "code",
      "execution_count": 4,
      "metadata": {
        "id": "JAHVwFO2osjx"
      },
      "outputs": [],
      "source": [
        "TRAIN_PATH = '../Data/Pre_train_model/train.csv'\n",
        "VAL_PATH = '../Data/Pre_train_model/dev.csv'\n",
        "TEST_PATH = '../Data/Pre_train_model/test.csv'"
      ]
    },
    {
      "cell_type": "code",
      "execution_count": 5,
      "metadata": {
        "colab": {
          "base_uri": "https://localhost:8080/",
          "height": 326,
          "referenced_widgets": [
            "3f4c68ca4b3943f4b1eeb5caec894375",
            "7b87ab75375047cd9ea9d0c2dd0c5fb5",
            "19d8d1dac22948808a64257d058665f4",
            "67e4ccee8cfb4d2c9f0ef5c81f21e5ff",
            "83691b35d50f45e0a7277d4182cf061f",
            "ed248870ac004056942ba364adaaae06",
            "2c04fab8eaf84c58bef0f686646ea9f8",
            "912482f5fae44466bab566b85c0ecdc8",
            "b01ae8e22554467e80dbe23f1c3d8dfc",
            "d4a202f70847454bb22594804680205b",
            "82f6dc19fc18438faea41f5cc9489d16",
            "82e475aa42e54e54bfbbcd73b35c06be",
            "694acf3759864950aab302b108f5adcf",
            "bde460a8947d419b9b8b781f86789eaa",
            "844a05e940d04d03900bfd2aafeee62f",
            "4b0dfb78f60d4f7a90d077c68ef5cbaa",
            "9cb7c490d7cf40e2a6f42b7182c715c2",
            "c4d8601e8b6846178879d0df0ce00376",
            "06e999906efd4024b46a2f086ecb9cbd",
            "3657eb7202c844df8d84f75445b08ab8",
            "704b544875054a1a8357aa22c20c7634",
            "4e74307f1f174d84bead3086ea817ffb",
            "d337c81ebf19463d98d8197dce73b958",
            "84da33b66197445095f95a8619610c83"
          ]
        },
        "id": "_rU_Utn9X46O",
        "outputId": "9591c365-a55c-484e-a23e-1c48185df5ff"
      },
      "outputs": [
        {
          "name": "stderr",
          "output_type": "stream",
          "text": [
            "c:\\Users\\Nguyen Quang Tu\\AppData\\Local\\Programs\\Python\\Python39\\lib\\site-packages\\tqdm\\auto.py:21: TqdmWarning: IProgress not found. Please update jupyter and ipywidgets. See https://ipywidgets.readthedocs.io/en/stable/user_install.html\n",
            "  from .autonotebook import tqdm as notebook_tqdm\n",
            "2444 | INFO | PyTorch version 2.1.2 available.\n",
            "2444 | INFO | TensorFlow version 2.13.0 available.\n"
          ]
        },
        {
          "data": {
            "text/plain": [
              "DatasetDict({\n",
              "    train: Dataset({\n",
              "        features: ['review', 'BATTERY', 'CAMERA', 'GENERAL', 'SER&ACC', 'PERFORMANCE', 'DESIGN', 'FEATURES', 'PRICE', 'SCREEN', 'STORAGE'],\n",
              "        num_rows: 10832\n",
              "    })\n",
              "    val: Dataset({\n",
              "        features: ['review', 'BATTERY', 'CAMERA', 'GENERAL', 'SER&ACC', 'PERFORMANCE', 'DESIGN', 'FEATURES', 'PRICE', 'SCREEN', 'STORAGE'],\n",
              "        num_rows: 1591\n",
              "    })\n",
              "    test: Dataset({\n",
              "        features: ['review', 'BATTERY', 'CAMERA', 'GENERAL', 'SER&ACC', 'PERFORMANCE', 'DESIGN', 'FEATURES', 'PRICE', 'SCREEN', 'STORAGE'],\n",
              "        num_rows: 3120\n",
              "    })\n",
              "})"
            ]
          },
          "execution_count": 5,
          "metadata": {},
          "output_type": "execute_result"
        }
      ],
      "source": [
        "from datasets import load_dataset\n",
        "raw_datasets = load_dataset('csv', data_files={'train': TRAIN_PATH, 'val': VAL_PATH, 'test': TEST_PATH})\n",
        "raw_datasets"
      ]
    },
    {
      "cell_type": "code",
      "execution_count": 6,
      "metadata": {
        "colab": {
          "base_uri": "https://localhost:8080/",
          "height": 485
        },
        "id": "uOp8GVdH6v1A",
        "outputId": "80ca5f69-9aff-46c8-b442-5eda822850ed"
      },
      "outputs": [
        {
          "data": {
            "text/html": [
              "<div>\n",
              "<style scoped>\n",
              "    .dataframe tbody tr th:only-of-type {\n",
              "        vertical-align: middle;\n",
              "    }\n",
              "\n",
              "    .dataframe tbody tr th {\n",
              "        vertical-align: top;\n",
              "    }\n",
              "\n",
              "    .dataframe thead th {\n",
              "        text-align: right;\n",
              "    }\n",
              "</style>\n",
              "<table border=\"1\" class=\"dataframe\">\n",
              "  <thead>\n",
              "    <tr style=\"text-align: right;\">\n",
              "      <th></th>\n",
              "      <th>review</th>\n",
              "      <th>BATTERY</th>\n",
              "      <th>CAMERA</th>\n",
              "      <th>GENERAL</th>\n",
              "      <th>SER&amp;ACC</th>\n",
              "      <th>PERFORMANCE</th>\n",
              "      <th>DESIGN</th>\n",
              "      <th>FEATURES</th>\n",
              "      <th>PRICE</th>\n",
              "      <th>SCREEN</th>\n",
              "      <th>STORAGE</th>\n",
              "    </tr>\n",
              "  </thead>\n",
              "  <tbody>\n",
              "    <tr>\n",
              "      <th>0</th>\n",
              "      <td>Pin Sài tầm 50h cho pin 100/100. Camera ổn ......</td>\n",
              "      <td>positive</td>\n",
              "      <td>positive</td>\n",
              "      <td>positive</td>\n",
              "      <td>positive</td>\n",
              "      <td>None</td>\n",
              "      <td>None</td>\n",
              "      <td>None</td>\n",
              "      <td>None</td>\n",
              "      <td>None</td>\n",
              "      <td>None</td>\n",
              "    </tr>\n",
              "    <tr>\n",
              "      <th>1</th>\n",
              "      <td>Lag và hao pin là cái tóm tắt về máy. S...</td>\n",
              "      <td>negative</td>\n",
              "      <td>None</td>\n",
              "      <td>negative</td>\n",
              "      <td>None</td>\n",
              "      <td>negative</td>\n",
              "      <td>None</td>\n",
              "      <td>None</td>\n",
              "      <td>None</td>\n",
              "      <td>None</td>\n",
              "      <td>None</td>\n",
              "    </tr>\n",
              "    <tr>\n",
              "      <th>2</th>\n",
              "      <td>Tất cả đều ổn ngoại trừ lúc  haizz. Cam chụp c...</td>\n",
              "      <td>positive</td>\n",
              "      <td>neutral</td>\n",
              "      <td>None</td>\n",
              "      <td>None</td>\n",
              "      <td>None</td>\n",
              "      <td>None</td>\n",
              "      <td>None</td>\n",
              "      <td>None</td>\n",
              "      <td>None</td>\n",
              "      <td>None</td>\n",
              "    </tr>\n",
              "    <tr>\n",
              "      <th>3</th>\n",
              "      <td>Tất cả đều ổn ngoại trừ lúc máy nóng lên thì p...</td>\n",
              "      <td>negative</td>\n",
              "      <td>neutral</td>\n",
              "      <td>None</td>\n",
              "      <td>None</td>\n",
              "      <td>None</td>\n",
              "      <td>None</td>\n",
              "      <td>None</td>\n",
              "      <td>None</td>\n",
              "      <td>None</td>\n",
              "      <td>None</td>\n",
              "    </tr>\n",
              "    <tr>\n",
              "      <th>4</th>\n",
              "      <td>Ok mua máy ở TGDD chính sách đổi trả rất tốt,r...</td>\n",
              "      <td>None</td>\n",
              "      <td>None</td>\n",
              "      <td>None</td>\n",
              "      <td>positive</td>\n",
              "      <td>None</td>\n",
              "      <td>None</td>\n",
              "      <td>None</td>\n",
              "      <td>None</td>\n",
              "      <td>None</td>\n",
              "      <td>None</td>\n",
              "    </tr>\n",
              "  </tbody>\n",
              "</table>\n",
              "</div>"
            ],
            "text/plain": [
              "                                              review   BATTERY    CAMERA  \\\n",
              "0  Pin Sài tầm 50h cho pin 100/100. Camera ổn ......  positive  positive   \n",
              "1  Lag và hao pin là cái tóm tắt về máy. S...  negative      None   \n",
              "2  Tất cả đều ổn ngoại trừ lúc  haizz. Cam chụp c...  positive   neutral   \n",
              "3  Tất cả đều ổn ngoại trừ lúc máy nóng lên thì p...  negative   neutral   \n",
              "4  Ok mua máy ở TGDD chính sách đổi trả rất tốt,r...      None      None   \n",
              "\n",
              "    GENERAL   SER&ACC PERFORMANCE DESIGN FEATURES PRICE SCREEN STORAGE  \n",
              "0  positive  positive        None   None     None  None   None    None  \n",
              "1  negative      None    negative   None     None  None   None    None  \n",
              "2      None      None        None   None     None  None   None    None  \n",
              "3      None      None        None   None     None  None   None    None  \n",
              "4      None  positive        None   None     None  None   None    None  "
            ]
          },
          "execution_count": 6,
          "metadata": {},
          "output_type": "execute_result"
        }
      ],
      "source": [
        "df_train = pd.read_csv(TRAIN_PATH)\n",
        "df_train.fillna('None', inplace=True)\n",
        "\n",
        "df_val = pd.read_csv(VAL_PATH)\n",
        "df_val.fillna('None', inplace=True)\n",
        "\n",
        "df_test = pd.read_csv(TEST_PATH)\n",
        "df_test.fillna('None', inplace=True)\n",
        "\n",
        "df_train.head()"
      ]
    },
    {
      "cell_type": "markdown",
      "metadata": {
        "id": "gwtWjaov0nFc"
      },
      "source": [
        "## Standardlize outputs"
      ]
    },
    {
      "cell_type": "code",
      "execution_count": 7,
      "metadata": {
        "id": "hap7q6RrP0i3"
      },
      "outputs": [],
      "source": [
        "def make_outputs(df):\n",
        "    outputs = []\n",
        "    for row in range(len(df)):\n",
        "        row_one_hot = []\n",
        "        for col in range(1, len(df.columns)):\n",
        "            one_hot = []\n",
        "            sentiment = df.iloc[row, col]\n",
        "            if sentiment == 'None': \n",
        "                one_hot = [1, 0, 0, 0] # None\n",
        "            elif sentiment == 'positive': \n",
        "                one_hot = [0, 1, 0, 0] # Pos\n",
        "            elif sentiment == 'negative': \n",
        "                one_hot = [0, 0, 1, 0] # Neg\n",
        "            elif sentiment == 'neutral': \n",
        "                one_hot = [0, 0, 0, 1] # Neu\n",
        "            row_one_hot.append(one_hot)\n",
        "        outputs.append(row_one_hot)\n",
        "    result = np.array(outputs, dtype='uint8')\n",
        "    return result"
      ]
    },
    {
      "cell_type": "code",
      "execution_count": 8,
      "metadata": {
        "colab": {
          "base_uri": "https://localhost:8080/"
        },
        "id": "oeowFkyGP8-q",
        "outputId": "8a9bda77-3d0e-47ea-a0a5-5b22f7824da9"
      },
      "outputs": [
        {
          "name": "stdout",
          "output_type": "stream",
          "text": [
            "Train outputs: (10832, 10, 4)\n",
            "Validate outputs: (1591, 10, 4)\n",
            "Test outputs: (3120, 10, 4)\n"
          ]
        },
        {
          "data": {
            "text/plain": [
              "array([[0, 1, 0, 0],\n",
              "       [0, 1, 0, 0],\n",
              "       [0, 1, 0, 0],\n",
              "       [0, 1, 0, 0],\n",
              "       [1, 0, 0, 0],\n",
              "       [1, 0, 0, 0],\n",
              "       [1, 0, 0, 0],\n",
              "       [1, 0, 0, 0],\n",
              "       [1, 0, 0, 0],\n",
              "       [1, 0, 0, 0]], dtype=uint8)"
            ]
          },
          "execution_count": 8,
          "metadata": {},
          "output_type": "execute_result"
        }
      ],
      "source": [
        "y_train = make_outputs(df_train)\n",
        "y_val = make_outputs(df_val)\n",
        "y_test = make_outputs(df_test)"
      ]
    },
    {
      "cell_type": "markdown",
      "metadata": {
        "id": "cooeueiOz0wc"
      },
      "source": [
        "# Preprocessing"
      ]
    },
    {
      "cell_type": "markdown",
      "metadata": {
        "id": "e5Ztcbqp20-S"
      },
      "source": [
        "## Tokenizing"
      ]
    },
    {
      "cell_type": "code",
      "execution_count": 10,
      "metadata": {
        "colab": {
          "base_uri": "https://localhost:8080/",
          "height": 198,
          "referenced_widgets": [
            "83447ddfcf654d65b26ccea18d7307b0",
            "9c2d3880886e4bce8903efb0c78e2997",
            "51e2c8b9c91a4a638c4d1a05a477b0c4",
            "203a2fd3007e4e7fad518519ea738024",
            "66d8b822eb6a4cc4a6ccef1c538b7565",
            "112fdcdcd03c4038a21e2f8e7418310c",
            "7549ce998ade4702a2b9623f91feba15",
            "fa70916225ec43fd89ad25266b2fb285",
            "1575e2df15a0436a84e14bb3dd09e2b4",
            "2a044e5033584f978578b51c15df5a54",
            "7457ccedbcff4fe3985531a1160703ce",
            "15a521e2d83145d4b0b4b71673bc4785",
            "2db2161517a04be99f65d706291b54c3",
            "08c74d98829e44afbe869d105c6b04f7",
            "0325690e4ad248d6a933555566d42e86",
            "2d94e5d65d6c47429771fac87fd83e15",
            "515316fdcd424cb3a4fc17db8eb1c34e",
            "4e57c502297d4c6eabd3a7372c113ac6",
            "f534a07d6a7f412d9c8738c06d880104",
            "58a087322a36407db4a6774cfe5d9d47",
            "8792db2b73d5444d9551184561940b29",
            "db8d780d3d254754b528f18412684cf1",
            "3db064488c994e6da02ad5c3ec22b15a",
            "5f76e708755748bcbc00bde40b704a39"
          ]
        },
        "id": "zoiwPoghNTRJ",
        "outputId": "1d5b6cac-6008-472f-a4eb-04490f595998"
      },
      "outputs": [
        {
          "data": {
            "text/plain": [
              "{'vinai/phobert-base': 256, 'vinai/phobert-large': 256}"
            ]
          },
          "execution_count": 10,
          "metadata": {},
          "output_type": "execute_result"
        }
      ],
      "source": [
        "from transformers import AutoTokenizer\n",
        "tokenizer = AutoTokenizer.from_pretrained(PRETRAINED_MODEL)\n",
        "tokenizer.max_model_input_sizes"
      ]
    },
    {
      "cell_type": "code",
      "execution_count": 11,
      "metadata": {
        "id": "qRpe-cTT_1-A"
      },
      "outputs": [],
      "source": [
        "def tokenize_function(dataset):\n",
        "    clean_texts = list(map(preprocessing_text, dataset['review']))\n",
        "    token = tokenizer(clean_texts, max_length=tokenizer.model_max_length, padding='max_length', truncation=True)\n",
        "    return token"
      ]
    },
    {
      "cell_type": "code",
      "execution_count": null,
      "metadata": {
        "colab": {
          "base_uri": "https://localhost:8080/",
          "height": 201,
          "referenced_widgets": [
            "963f671e5c144874a8c55dd96d6ad121",
            "869ce0c922a342778ed468afeeb4748c",
            "d2bae35fefa14c3189efe7bd02fadcda",
            "1fd2e1f886ba4e8b87e7d019a0ed5a50",
            "fc16534850dc4ada8276eb371d608042",
            "aa61c85650cd4574a422c7b90b805d90",
            "5d1e40b5cd4141acb1c844bd05f9efda",
            "440646d8f8384136bb0af8b76091de9e",
            "e2ef06cf604c4dbf84cf495b47fce17d",
            "173f0d8577f74e3cbf3ce96db457f369",
            "6db6f027fa354bc99e16451fc3436358",
            "6a29fd6e5e2c43f59c51074e44b98000",
            "238d1713d33e43aca1970fb358d29067",
            "793c7a759cb64551b68e1ef2b3f54676",
            "138d5004a3c6419381f4b1a6d5ec3ccd",
            "4d04ce6a5e1641e0a486a960a8e1080a",
            "aa586a061b9d4aeb91b0259323b2b31a",
            "18c1def8c42747cfbf88d10210834e23",
            "e5ea0e8d2c1e4252b4cda878bf076b31",
            "d5cb27524bd649c587f6e66b0bb8f2ef",
            "a632c84d6953424fb8d4bd60f885d95d",
            "51b4ff020af648bab654c19466bcb62f",
            "d6283e4202f2450fae36c0735a7e79b3",
            "632f0f5dab6a42f799f590ce63a05b3a"
          ]
        },
        "id": "B7g612GCBhGn",
        "outputId": "b299a381-205d-456a-857a-af494ebfabd1"
      },
      "outputs": [],
      "source": [
        "tokenized_datasets = raw_datasets.map(tokenize_function, batched=True)"
      ]
    },
    {
      "cell_type": "markdown",
      "metadata": {
        "id": "fgfmRtHkFAGh"
      },
      "source": [
        "## Prepare for TensorFlow"
      ]
    },
    {
      "cell_type": "code",
      "execution_count": 13,
      "metadata": {
        "id": "f4cRYnctHQYQ"
      },
      "outputs": [],
      "source": [
        "MAX_SEQUENCE_LENGTH = tokenizer.model_max_length\n",
        "MODEL_PATH = 'model_weights'\n",
        "BATCH_SIZE = 20\n",
        "\n",
        "STEPS_PER_EPOCH = len(raw_datasets['train']) // BATCH_SIZE\n",
        "VALIDATION_STEPS = len(raw_datasets['val']) // BATCH_SIZE\n",
        "\n",
        "EPOCHS = 5"
      ]
    },
    {
      "cell_type": "code",
      "execution_count": 14,
      "metadata": {
        "id": "xoVZ6UlOh_ff"
      },
      "outputs": [],
      "source": [
        "def to_tensorflow_format(tokenized_dataset):\n",
        "    features = tokenized_dataset.features\n",
        "    return tokenized_dataset.remove_columns(list(features)[:-3]).with_format('tensorflow')"
      ]
    },
    {
      "cell_type": "code",
      "execution_count": 15,
      "metadata": {
        "id": "6Hlwu10tYAae"
      },
      "outputs": [],
      "source": [
        "from tensorflow.data import Dataset\n",
        "def preprocess_tokenized_dataset(tokenized_dataset, tokenizer, labels, batch_size, shuffle=False):\n",
        "    tf_dataset = to_tensorflow_format(tokenized_dataset)\n",
        "    features = {x: tf_dataset[x] for x in tokenizer.model_input_names}\n",
        "    labels = labels.reshape(len(labels), -1)\n",
        "\n",
        "    tf_dataset = Dataset.from_tensor_slices((features, labels))\n",
        "    if shuffle: tf_dataset = tf_dataset.shuffle(buffer_size=len(tf_dataset))\n",
        "    return tf_dataset.batch(batch_size).cache().prefetch(buffer_size=tf.data.AUTOTUNE)"
      ]
    },
    {
      "cell_type": "code",
      "execution_count": null,
      "metadata": {
        "colab": {
          "base_uri": "https://localhost:8080/"
        },
        "id": "JB3v12_BZlWH",
        "outputId": "a50eb7a4-395a-4be6-fe7d-a455184fd010"
      },
      "outputs": [],
      "source": [
        "train_tf_dataset = preprocess_tokenized_dataset(tokenized_datasets['train'], tokenizer, y_train, BATCH_SIZE, shuffle=True)\n",
        "val_tf_dataset = preprocess_tokenized_dataset(tokenized_datasets['val'], tokenizer, y_val, BATCH_SIZE)\n",
        "test_tf_dataset = preprocess_tokenized_dataset(tokenized_datasets['test'],  tokenizer, y_test, BATCH_SIZE)\n",
        "train_tf_dataset"
      ]
    },
    {
      "cell_type": "markdown",
      "metadata": {
        "id": "K-G7bA_3Cq7O"
      },
      "source": [
        "# Fine-tuning with TensorFlow"
      ]
    },
    {
      "cell_type": "markdown",
      "metadata": {
        "id": "EFFQzuaVL4aZ"
      },
      "source": [
        "## Define the model"
      ]
    },
    {
      "cell_type": "code",
      "execution_count": 17,
      "metadata": {
        "id": "P-miP38nv0LK"
      },
      "outputs": [],
      "source": [
        "from transformers import TFAutoModel\n",
        "from tensorflow.keras.models import Model\n",
        "from tensorflow.keras.layers import Input, Dense, Dropout, concatenate, LSTM\n",
        "\n",
        "def create_model(optimizer):\n",
        "    inputs = {\n",
        "        'input_ids'     : Input((MAX_SEQUENCE_LENGTH,), dtype='int32', name='input_ids'),\n",
        "        'token_type_ids': Input((MAX_SEQUENCE_LENGTH,), dtype='int32', name='token_type_ids'),\n",
        "        'attention_mask': Input((MAX_SEQUENCE_LENGTH,), dtype='int32', name='attention_mask'),\n",
        "    }\n",
        "    pretrained_bert = TFAutoModel.from_pretrained(PRETRAINED_MODEL, output_hidden_states=True)\n",
        "    hidden_states = pretrained_bert(inputs).hidden_states\n",
        "\n",
        "    pooled_output = concatenate(\n",
        "        tuple([hidden_states[i] for i in range(-4, 0)]),\n",
        "        name = 'last_4_hidden_states',\n",
        "        axis = -1\n",
        "    )[:, 0, :]\n",
        "    x = Dropout(0.2)(pooled_output)\n",
        "\n",
        "    outputs = concatenate([\n",
        "        Dense(\n",
        "            units = 4,\n",
        "            activation = 'softmax',\n",
        "            name = label.replace('#', '-').replace('&', '_'),\n",
        "        )(x) for label in df_train.columns[1:]\n",
        "    ], axis = -1)\n",
        "\n",
        "    model = Model(inputs=inputs, outputs=outputs)\n",
        "    model.compile(optimizer=optimizer, loss='binary_crossentropy')\n",
        "    return model"
      ]
    },
    {
      "cell_type": "markdown",
      "metadata": {
        "id": "jx-hWL8OVdfD"
      },
      "source": [
        "## Optimzers"
      ]
    },
    {
      "cell_type": "code",
      "execution_count": 18,
      "metadata": {
        "id": "jJfPdmusVg62"
      },
      "outputs": [
        {
          "data": {
            "text/plain": [
              "keras.src.optimizers.adam.Adam"
            ]
          },
          "execution_count": 18,
          "metadata": {},
          "output_type": "execute_result"
        }
      ],
      "source": [
        "from tensorflow.keras.optimizers import Adam\n",
        "optimizer = Adam(learning_rate=1e-6)\n",
        "type(optimizer)"
      ]
    },
    {
      "cell_type": "markdown",
      "metadata": {
        "id": "U8Z6RYUrca9i"
      },
      "source": [
        "## Callbacks"
      ]
    },
    {
      "cell_type": "code",
      "execution_count": 19,
      "metadata": {
        "id": "Llg8fPIyMqe9"
      },
      "outputs": [],
      "source": [
        "from tensorflow.keras.callbacks import EarlyStopping, ModelCheckpoint\n",
        "from tensorflow.train import CheckpointOptions\n",
        "\n",
        "# Stop if no improvement after 5 epochs\n",
        "early_stop_callback = EarlyStopping(monitor='val_loss', patience=2, verbose=1)\n",
        "\n",
        "checkpoint_path = MODEL_PATH + '/checkpoints/cp-{epoch:03d}.ckpt'\n",
        "checkpoint_dir = os.path.dirname(checkpoint_path)\n",
        "\n",
        "# Prevent from UnimplementedError when using TPU\n",
        "options = CheckpointOptions(experimental_io_device='/job:localhost')\n",
        "\n",
        "# Create a callback that saves the model's weights every 10 epochs\n",
        "checkpoint_callback = ModelCheckpoint(\n",
        "    filepath = checkpoint_path,\n",
        "    save_best_only = True,\n",
        "    save_weights_only = True,\n",
        "    save_freq = 10 * STEPS_PER_EPOCH,\n",
        "    options = options,\n",
        "    verbose = 1\n",
        ")"
      ]
    },
    {
      "cell_type": "markdown",
      "metadata": {
        "id": "zF3Un44v3cNy"
      },
      "source": [
        "## Training"
      ]
    },
    {
      "cell_type": "code",
      "execution_count": null,
      "metadata": {
        "colab": {
          "base_uri": "https://localhost:8080/"
        },
        "id": "Ots6QvfKNS9E",
        "outputId": "122069ec-c9ee-48f8-85d4-6743387537fe"
      },
      "outputs": [
        {
          "name": "stderr",
          "output_type": "stream",
          "text": [
            "Some layers from the model checkpoint at vinai/phobert-base were not used when initializing TFRobertaModel: ['lm_head']\n",
            "- This IS expected if you are initializing TFRobertaModel from the checkpoint of a model trained on another task or with another architecture (e.g. initializing a BertForSequenceClassification model from a BertForPreTraining model).\n",
            "- This IS NOT expected if you are initializing TFRobertaModel from the checkpoint of a model that you expect to be exactly identical (initializing a BertForSequenceClassification model from a BertForSequenceClassification model).\n",
            "All the layers of TFRobertaModel were initialized from the model checkpoint at vinai/phobert-base.\n",
            "If your task is similar to the task the model of the checkpoint was trained on, you can already use TFRobertaModel for predictions without further training.\n"
          ]
        },
        {
          "name": "stdout",
          "output_type": "stream",
          "text": [
            "Epoch 1/5\n",
            "WARNING:tensorflow:Gradients do not exist for variables ['tf_roberta_model/roberta/pooler/dense/kernel:0', 'tf_roberta_model/roberta/pooler/dense/bias:0'] when minimizing the loss. If you're using `model.compile()`, did you forget to provide a `loss` argument?\n"
          ]
        },
        {
          "name": "stderr",
          "output_type": "stream",
          "text": [
            "10148 | WARNING | Gradients do not exist for variables ['tf_roberta_model/roberta/pooler/dense/kernel:0', 'tf_roberta_model/roberta/pooler/dense/bias:0'] when minimizing the loss. If you're using `model.compile()`, did you forget to provide a `loss` argument?\n"
          ]
        },
        {
          "name": "stdout",
          "output_type": "stream",
          "text": [
            "WARNING:tensorflow:Gradients do not exist for variables ['tf_roberta_model/roberta/pooler/dense/kernel:0', 'tf_roberta_model/roberta/pooler/dense/bias:0'] when minimizing the loss. If you're using `model.compile()`, did you forget to provide a `loss` argument?\n"
          ]
        },
        {
          "name": "stderr",
          "output_type": "stream",
          "text": [
            "10148 | WARNING | Gradients do not exist for variables ['tf_roberta_model/roberta/pooler/dense/kernel:0', 'tf_roberta_model/roberta/pooler/dense/bias:0'] when minimizing the loss. If you're using `model.compile()`, did you forget to provide a `loss` argument?\n"
          ]
        },
        {
          "name": "stdout",
          "output_type": "stream",
          "text": [
            "WARNING:tensorflow:Gradients do not exist for variables ['tf_roberta_model/roberta/pooler/dense/kernel:0', 'tf_roberta_model/roberta/pooler/dense/bias:0'] when minimizing the loss. If you're using `model.compile()`, did you forget to provide a `loss` argument?\n"
          ]
        },
        {
          "name": "stderr",
          "output_type": "stream",
          "text": [
            "10148 | WARNING | Gradients do not exist for variables ['tf_roberta_model/roberta/pooler/dense/kernel:0', 'tf_roberta_model/roberta/pooler/dense/bias:0'] when minimizing the loss. If you're using `model.compile()`, did you forget to provide a `loss` argument?\n"
          ]
        },
        {
          "name": "stdout",
          "output_type": "stream",
          "text": [
            "WARNING:tensorflow:Gradients do not exist for variables ['tf_roberta_model/roberta/pooler/dense/kernel:0', 'tf_roberta_model/roberta/pooler/dense/bias:0'] when minimizing the loss. If you're using `model.compile()`, did you forget to provide a `loss` argument?\n"
          ]
        },
        {
          "name": "stderr",
          "output_type": "stream",
          "text": [
            "10148 | WARNING | Gradients do not exist for variables ['tf_roberta_model/roberta/pooler/dense/kernel:0', 'tf_roberta_model/roberta/pooler/dense/bias:0'] when minimizing the loss. If you're using `model.compile()`, did you forget to provide a `loss` argument?\n"
          ]
        },
        {
          "name": "stdout",
          "output_type": "stream",
          "text": [
            "542/542 [==============================] - 10459s 19s/step - loss: 0.3836 - val_loss: 0.3280\n",
            "Epoch 2/5\n",
            "542/542 [==============================] - 11641s 21s/step - loss: 0.3214 - val_loss: 0.3045\n",
            "Epoch 3/5\n",
            "542/542 [==============================] - 11433s 21s/step - loss: 0.2961 - val_loss: 0.2753\n",
            "Epoch 4/5\n",
            "542/542 [==============================] - 7774s 14s/step - loss: 0.2679 - val_loss: 0.2517\n",
            "Epoch 5/5\n",
            "542/542 [==============================] - 7637s 14s/step - loss: 0.2445 - val_loss: 0.2336\n"
          ]
        }
      ],
      "source": [
        "model = create_model(optimizer)\n",
        "history = model.fit(\n",
        "    train_tf_dataset,\n",
        "    validation_data = val_tf_dataset,\n",
        "    validation_steps = VALIDATION_STEPS,\n",
        "    epochs = EPOCHS,\n",
        "    callbacks = [early_stop_callback],\n",
        "    verbose = 1,\n",
        ")"
      ]
    },
    {
      "cell_type": "code",
      "execution_count": null,
      "metadata": {},
      "outputs": [],
      "source": [
        "model.save_weights(f'model_weights/weights_3.h5')"
      ]
    },
    {
      "cell_type": "markdown",
      "metadata": {
        "id": "Hp5ROQ7vyo1k"
      },
      "source": [
        "## Reload the model"
      ]
    },
    {
      "cell_type": "code",
      "execution_count": 20,
      "metadata": {
        "colab": {
          "base_uri": "https://localhost:8080/",
          "height": 1000,
          "referenced_widgets": [
            "af067f5b279944869f77e8aba8ab7afe",
            "c3403878945344ab83abc7fba72e8d82",
            "6e4d5a0d7008431abc9aabc8da89d239",
            "98bff2e820e34da19b26e633260f27de",
            "8cccc2fac2b549f487e0f5bfcf0c3a21",
            "87b74a8ad9794406bc5219f6424f81c5",
            "6632bcce85df4e39a4921a787b726c39",
            "2d55556df71b489fb6ba916a2b4daa2a"
          ]
        },
        "id": "jkqO1rs0Qrw0",
        "outputId": "d342ce75-08f3-454b-bb1c-d60eb6127d85"
      },
      "outputs": [
        {
          "name": "stderr",
          "output_type": "stream",
          "text": [
            "Some layers from the model checkpoint at vinai/phobert-base were not used when initializing TFRobertaModel: ['lm_head']\n",
            "- This IS expected if you are initializing TFRobertaModel from the checkpoint of a model trained on another task or with another architecture (e.g. initializing a BertForSequenceClassification model from a BertForPreTraining model).\n",
            "- This IS NOT expected if you are initializing TFRobertaModel from the checkpoint of a model that you expect to be exactly identical (initializing a BertForSequenceClassification model from a BertForSequenceClassification model).\n",
            "All the layers of TFRobertaModel were initialized from the model checkpoint at vinai/phobert-base.\n",
            "If your task is similar to the task the model of the checkpoint was trained on, you can already use TFRobertaModel for predictions without further training.\n"
          ]
        },
        {
          "name": "stdout",
          "output_type": "stream",
          "text": [
            "Model: \"model\"\n",
            "__________________________________________________________________________________________________\n",
            " Layer (type)                Output Shape                 Param #   Connected to                  \n",
            "==================================================================================================\n",
            " attention_mask (InputLayer  [(None, 256)]                0         []                            \n",
            " )                                                                                                \n",
            "                                                                                                  \n",
            " input_ids (InputLayer)      [(None, 256)]                0         []                            \n",
            "                                                                                                  \n",
            " token_type_ids (InputLayer  [(None, 256)]                0         []                            \n",
            " )                                                                                                \n",
            "                                                                                                  \n",
            " tf_roberta_model (TFRobert  TFBaseModelOutputWithPooli   1349982   ['attention_mask[0][0]',      \n",
            " aModel)                     ngAndCrossAttentions(last_   72         'input_ids[0][0]',           \n",
            "                             hidden_state=(None, 256, 7              'token_type_ids[0][0]']      \n",
            "                             68),                                                                 \n",
            "                              pooler_output=(None, 768)                                           \n",
            "                             , past_key_values=None, hi                                           \n",
            "                             dden_states=((None, 256, 7                                           \n",
            "                             68),                                                                 \n",
            "                              (None, 256, 768),                                                   \n",
            "                              (None, 256, 768),                                                   \n",
            "                              (None, 256, 768),                                                   \n",
            "                              (None, 256, 768),                                                   \n",
            "                              (None, 256, 768),                                                   \n",
            "                              (None, 256, 768),                                                   \n",
            "                              (None, 256, 768),                                                   \n",
            "                              (None, 256, 768),                                                   \n",
            "                              (None, 256, 768),                                                   \n",
            "                              (None, 256, 768),                                                   \n",
            "                              (None, 256, 768),                                                   \n",
            "                              (None, 256, 768)),                                                  \n",
            "                              attentions=None, cross_at                                           \n",
            "                             tentions=None)                                                       \n",
            "                                                                                                  \n",
            " last_4_hidden_states (Conc  (None, 256, 3072)            0         ['tf_roberta_model[0][9]',    \n",
            " atenate)                                                            'tf_roberta_model[0][10]',   \n",
            "                                                                     'tf_roberta_model[0][11]',   \n",
            "                                                                     'tf_roberta_model[0][12]']   \n",
            "                                                                                                  \n",
            " tf.__operators__.getitem (  (None, 3072)                 0         ['last_4_hidden_states[0][0]']\n",
            " SlicingOpLambda)                                                                                 \n",
            "                                                                                                  \n",
            " dropout_37 (Dropout)        (None, 3072)                 0         ['tf.__operators__.getitem[0][\n",
            "                                                                    0]']                          \n",
            "                                                                                                  \n",
            " BATTERY (Dense)             (None, 4)                    12292     ['dropout_37[0][0]']          \n",
            "                                                                                                  \n",
            " CAMERA (Dense)              (None, 4)                    12292     ['dropout_37[0][0]']          \n",
            "                                                                                                  \n",
            " GENERAL (Dense)             (None, 4)                    12292     ['dropout_37[0][0]']          \n",
            "                                                                                                  \n",
            " SER_ACC (Dense)             (None, 4)                    12292     ['dropout_37[0][0]']          \n",
            "                                                                                                  \n",
            " PERFORMANCE (Dense)         (None, 4)                    12292     ['dropout_37[0][0]']          \n",
            "                                                                                                  \n",
            " DESIGN (Dense)              (None, 4)                    12292     ['dropout_37[0][0]']          \n",
            "                                                                                                  \n",
            " FEATURES (Dense)            (None, 4)                    12292     ['dropout_37[0][0]']          \n",
            "                                                                                                  \n",
            " PRICE (Dense)               (None, 4)                    12292     ['dropout_37[0][0]']          \n",
            "                                                                                                  \n",
            " SCREEN (Dense)              (None, 4)                    12292     ['dropout_37[0][0]']          \n",
            "                                                                                                  \n",
            " STORAGE (Dense)             (None, 4)                    12292     ['dropout_37[0][0]']          \n",
            "                                                                                                  \n",
            " concatenate (Concatenate)   (None, 40)                   0         ['BATTERY[0][0]',             \n",
            "                                                                     'CAMERA[0][0]',              \n",
            "                                                                     'GENERAL[0][0]',             \n",
            "                                                                     'SER_ACC[0][0]',             \n",
            "                                                                     'PERFORMANCE[0][0]',         \n",
            "                                                                     'DESIGN[0][0]',              \n",
            "                                                                     'FEATURES[0][0]',            \n",
            "                                                                     'PRICE[0][0]',               \n",
            "                                                                     'SCREEN[0][0]',              \n",
            "                                                                     'STORAGE[0][0]']             \n",
            "                                                                                                  \n",
            "==================================================================================================\n",
            "Total params: 135121192 (515.45 MB)\n",
            "Trainable params: 135121192 (515.45 MB)\n",
            "Non-trainable params: 0 (0.00 Byte)\n",
            "__________________________________________________________________________________________________\n"
          ]
        }
      ],
      "source": [
        "reloaded_model = create_model(optimizer)\n",
        "reloaded_model.load_weights('model_weights/weights_3.h5')\n",
        "reloaded_model.summary()"
      ]
    },
    {
      "cell_type": "markdown",
      "metadata": {
        "id": "AoxIRhDl9BBH"
      },
      "source": [
        "# Report metrics"
      ]
    },
    {
      "cell_type": "markdown",
      "metadata": {
        "id": "Poq7wpXtcm0B"
      },
      "source": [
        "## Aspect Detection"
      ]
    },
    {
      "cell_type": "code",
      "execution_count": null,
      "metadata": {
        "id": "A0B4UB0_cww-"
      },
      "outputs": [],
      "source": [
        "aspect_test = []\n",
        "aspect_pred = []\n",
        "\n",
        "for row_test, row_pred in zip(y_test_argmax, y_pred):\n",
        "    for index, (col_test, col_pred) in enumerate(zip(row_test, row_pred)):\n",
        "        aspect_test.append(bool(col_test) * categories[index])\n",
        "        aspect_pred.append(bool(col_pred) * categories[index])"
      ]
    },
    {
      "cell_type": "code",
      "execution_count": null,
      "metadata": {
        "colab": {
          "base_uri": "https://localhost:8080/"
        },
        "id": "XdBxe-W8c3T0",
        "outputId": "bd657dd0-c891-4fb3-c8a1-9bcf84e1c993"
      },
      "outputs": [
        {
          "name": "stdout",
          "output_type": "stream",
          "text": [
            "              precision    recall  f1-score   support\n",
            "\n",
            "                 0.8516    0.9439    0.8954     22114\n",
            "     BATTERY     0.9505    0.9123    0.9310      1517\n",
            "      CAMERA     0.8647    0.8122    0.8376       921\n",
            "      DESIGN     0.8252    0.2092    0.3338       564\n",
            "    FEATURES     0.7403    0.2592    0.3840      1034\n",
            "     GENERAL     0.7152    0.7206    0.7179      1854\n",
            " PERFORMANCE     0.7766    0.7312    0.7532      1674\n",
            "       PRICE     1.0000    0.0000    0.0000       399\n",
            "      SCREEN     0.6667    0.0590    0.1084       407\n",
            "     SER&ACC     0.9060    0.5322    0.6705       652\n",
            "     STORAGE     1.0000    0.0000    0.0000        64\n",
            "\n",
            "    accuracy                         0.8437     31200\n",
            "   macro avg     0.8452    0.4709    0.5120     31200\n",
            "weighted avg     0.8414    0.8437    0.8219     31200\n",
            "\n"
          ]
        }
      ],
      "source": [
        "from sklearn.metrics import classification_report\n",
        "aspect_report = classification_report(aspect_test, aspect_pred, digits=4, zero_division=1, output_dict=True)\n",
        "print(classification_report(aspect_test, aspect_pred, digits=4, zero_division=1))"
      ]
    },
    {
      "cell_type": "markdown",
      "metadata": {
        "id": "9uSF1oXlb6yU"
      },
      "source": [
        "## Polarity Detection"
      ]
    },
    {
      "cell_type": "code",
      "execution_count": null,
      "metadata": {
        "id": "-DiqPD6oO_lX"
      },
      "outputs": [],
      "source": [
        "y_test_flat = y_test_argmax.flatten()\n",
        "y_pred_flat = y_pred.flatten()\n",
        "target_names = list(map(str, replacements.values()))"
      ]
    },
    {
      "cell_type": "code",
      "execution_count": null,
      "metadata": {
        "colab": {
          "base_uri": "https://localhost:8080/"
        },
        "id": "8x0GIos3Bqy_",
        "outputId": "bc9013ec-4d6b-4d4e-a738-b35f9ca5bfc6"
      },
      "outputs": [
        {
          "name": "stdout",
          "output_type": "stream",
          "text": [
            "              precision    recall  f1-score   support\n",
            "\n",
            "        None     0.8516    0.9439    0.8954     22114\n",
            "    positive     0.7008    0.6656    0.6827      5711\n",
            "    negative     0.7194    0.3310    0.4534      2749\n",
            "     neutral     0.0000    0.0000    0.0000       626\n",
            "\n",
            "    accuracy                         0.8200     31200\n",
            "   macro avg     0.5679    0.4851    0.5079     31200\n",
            "weighted avg     0.7953    0.8200    0.7996     31200\n",
            "\n"
          ]
        },
        {
          "name": "stderr",
          "output_type": "stream",
          "text": [
            "c:\\Users\\Nguyen Quang Tu\\AppData\\Local\\Programs\\Python\\Python39\\lib\\site-packages\\sklearn\\metrics\\_classification.py:1344: UndefinedMetricWarning: Precision and F-score are ill-defined and being set to 0.0 in labels with no predicted samples. Use `zero_division` parameter to control this behavior.\n",
            "  _warn_prf(average, modifier, msg_start, len(result))\n",
            "c:\\Users\\Nguyen Quang Tu\\AppData\\Local\\Programs\\Python\\Python39\\lib\\site-packages\\sklearn\\metrics\\_classification.py:1344: UndefinedMetricWarning: Precision and F-score are ill-defined and being set to 0.0 in labels with no predicted samples. Use `zero_division` parameter to control this behavior.\n",
            "  _warn_prf(average, modifier, msg_start, len(result))\n",
            "c:\\Users\\Nguyen Quang Tu\\AppData\\Local\\Programs\\Python\\Python39\\lib\\site-packages\\sklearn\\metrics\\_classification.py:1344: UndefinedMetricWarning: Precision and F-score are ill-defined and being set to 0.0 in labels with no predicted samples. Use `zero_division` parameter to control this behavior.\n",
            "  _warn_prf(average, modifier, msg_start, len(result))\n",
            "c:\\Users\\Nguyen Quang Tu\\AppData\\Local\\Programs\\Python\\Python39\\lib\\site-packages\\sklearn\\metrics\\_classification.py:1344: UndefinedMetricWarning: Precision and F-score are ill-defined and being set to 0.0 in labels with no predicted samples. Use `zero_division` parameter to control this behavior.\n",
            "  _warn_prf(average, modifier, msg_start, len(result))\n",
            "c:\\Users\\Nguyen Quang Tu\\AppData\\Local\\Programs\\Python\\Python39\\lib\\site-packages\\sklearn\\metrics\\_classification.py:1344: UndefinedMetricWarning: Precision and F-score are ill-defined and being set to 0.0 in labels with no predicted samples. Use `zero_division` parameter to control this behavior.\n",
            "  _warn_prf(average, modifier, msg_start, len(result))\n",
            "c:\\Users\\Nguyen Quang Tu\\AppData\\Local\\Programs\\Python\\Python39\\lib\\site-packages\\sklearn\\metrics\\_classification.py:1344: UndefinedMetricWarning: Precision and F-score are ill-defined and being set to 0.0 in labels with no predicted samples. Use `zero_division` parameter to control this behavior.\n",
            "  _warn_prf(average, modifier, msg_start, len(result))\n"
          ]
        }
      ],
      "source": [
        "polarity_report = classification_report(y_test_flat, y_pred_flat, digits=4, output_dict=True)\n",
        "print(classification_report(y_test_flat, y_pred_flat, target_names=target_names, digits=4))"
      ]
    },
    {
      "cell_type": "markdown",
      "metadata": {
        "id": "djrTuyKk9liV"
      },
      "source": [
        "## Aspect + Polarity"
      ]
    },
    {
      "cell_type": "code",
      "execution_count": null,
      "metadata": {
        "id": "JXkRyXr2D510"
      },
      "outputs": [],
      "source": [
        "aspect_polarity_test = []\n",
        "aspect_polarity_pred = []\n",
        "\n",
        "for row_test, row_pred in zip(y_test_argmax, y_pred):\n",
        "    for index, (col_test, col_pred) in enumerate(zip(row_test, row_pred)):\n",
        "        aspect_polarity_test.append(f'{categories[index]},{replacements[col_test]}')\n",
        "        aspect_polarity_pred.append(f'{categories[index]},{replacements[col_pred]}')"
      ]
    },
    {
      "cell_type": "code",
      "execution_count": null,
      "metadata": {
        "colab": {
          "base_uri": "https://localhost:8080/"
        },
        "id": "0QF3mP949qMS",
        "outputId": "2f18cc8d-4249-4161-b9fb-373abf97f18a"
      },
      "outputs": [
        {
          "name": "stdout",
          "output_type": "stream",
          "text": [
            "                      precision    recall  f1-score   support\n",
            "\n",
            "        BATTERY,None     0.9201    0.9551    0.9373      1603\n",
            "    BATTERY,negative     0.7315    0.6049    0.6622       491\n",
            "     BATTERY,neutral     1.0000    0.0000    0.0000        99\n",
            "    BATTERY,positive     0.7543    0.8544    0.8012       927\n",
            "         CAMERA,None     0.9233    0.9468    0.9349      2199\n",
            "     CAMERA,negative     0.7582    0.4735    0.5829       245\n",
            "      CAMERA,neutral     1.0000    0.0000    0.0000       134\n",
            "     CAMERA,positive     0.6390    0.8395    0.7257       542\n",
            "         DESIGN,None     0.8502    0.9902    0.9149      2556\n",
            "     DESIGN,negative     1.0000    0.0000    0.0000       131\n",
            "      DESIGN,neutral     1.0000    0.0000    0.0000        27\n",
            "     DESIGN,positive     0.7273    0.2562    0.3789       406\n",
            "       FEATURES,None     0.7223    0.9549    0.8225      2086\n",
            "   FEATURES,negative     0.7034    0.3611    0.4772       637\n",
            "    FEATURES,neutral     1.0000    0.0000    0.0000        46\n",
            "   FEATURES,positive     0.5429    0.0541    0.0984       351\n",
            "        GENERAL,None     0.5863    0.5798    0.5830      1266\n",
            "    GENERAL,negative     0.7308    0.0635    0.1169       299\n",
            "     GENERAL,neutral     1.0000    0.0000    0.0000        81\n",
            "    GENERAL,positive     0.6797    0.8494    0.7551      1474\n",
            "    PERFORMANCE,None     0.7085    0.7566    0.7318      1446\n",
            "PERFORMANCE,negative     0.7025    0.4239    0.5288       585\n",
            " PERFORMANCE,neutral     1.0000    0.0000    0.0000        96\n",
            "PERFORMANCE,positive     0.6664    0.8207    0.7356       993\n",
            "          PRICE,None     0.8721    1.0000    0.9317      2721\n",
            "      PRICE,negative     1.0000    0.0000    0.0000        89\n",
            "       PRICE,neutral     1.0000    0.0000    0.0000       112\n",
            "      PRICE,positive     1.0000    0.0000    0.0000       198\n",
            "         SCREEN,None     0.8758    0.9956    0.9319      2713\n",
            "     SCREEN,negative     1.0000    0.0000    0.0000       138\n",
            "      SCREEN,neutral     1.0000    0.0000    0.0000        17\n",
            "     SCREEN,positive     0.6667    0.0952    0.1667       252\n",
            "        SER&ACC,None     0.8886    0.9854    0.9345      2468\n",
            "    SER&ACC,negative     1.0000    0.0000    0.0000       117\n",
            "     SER&ACC,neutral     1.0000    0.0000    0.0000         3\n",
            "    SER&ACC,positive     0.8877    0.6391    0.7432       532\n",
            "        STORAGE,None     0.9795    1.0000    0.9896      3056\n",
            "    STORAGE,negative     1.0000    0.0000    0.0000        17\n",
            "     STORAGE,neutral     1.0000    0.0000    0.0000        11\n",
            "    STORAGE,positive     1.0000    0.0000    0.0000        36\n",
            "\n",
            "            accuracy                         0.8200     31200\n",
            "           macro avg     0.8629    0.3875    0.3871     31200\n",
            "        weighted avg     0.8236    0.8200    0.7860     31200\n",
            "\n"
          ]
        }
      ],
      "source": [
        "aspect_polarity_report = classification_report(aspect_polarity_test, aspect_polarity_pred, digits=4, zero_division=1, output_dict=True)\n",
        "print(classification_report(aspect_polarity_test, aspect_polarity_pred, digits=4, zero_division=1))"
      ]
    },
    {
      "cell_type": "markdown",
      "metadata": {
        "id": "C8Y4HrnJN9WB"
      },
      "source": [
        "## Summary"
      ]
    },
    {
      "cell_type": "code",
      "execution_count": null,
      "metadata": {
        "id": "KUuB32-jSXJB"
      },
      "outputs": [],
      "source": [
        "aspect_dict = aspect_report['macro avg']\n",
        "aspect_dict['accuracy'] = aspect_report['accuracy']\n",
        "\n",
        "polarity_dict  = polarity_report['macro avg']\n",
        "polarity_dict['accuracy'] = polarity_report['accuracy']\n",
        "\n",
        "aspect_polarity_dict = aspect_polarity_report['macro avg']\n",
        "aspect_polarity_dict['accuracy'] = aspect_polarity_report['accuracy']"
      ]
    },
    {
      "cell_type": "code",
      "execution_count": null,
      "metadata": {
        "colab": {
          "base_uri": "https://localhost:8080/",
          "height": 142
        },
        "id": "dszBlOdWPoaC",
        "outputId": "c4118445-8f82-4ac9-a2e5-ed7f0678d112"
      },
      "outputs": [
        {
          "data": {
            "text/html": [
              "<div>\n",
              "<style scoped>\n",
              "    .dataframe tbody tr th:only-of-type {\n",
              "        vertical-align: middle;\n",
              "    }\n",
              "\n",
              "    .dataframe tbody tr th {\n",
              "        vertical-align: top;\n",
              "    }\n",
              "\n",
              "    .dataframe thead th {\n",
              "        text-align: right;\n",
              "    }\n",
              "</style>\n",
              "<table border=\"1\" class=\"dataframe\">\n",
              "  <thead>\n",
              "    <tr style=\"text-align: right;\">\n",
              "      <th></th>\n",
              "      <th>precision</th>\n",
              "      <th>recall</th>\n",
              "      <th>f1-score</th>\n",
              "      <th>accuracy</th>\n",
              "    </tr>\n",
              "  </thead>\n",
              "  <tbody>\n",
              "    <tr>\n",
              "      <th>Aspect Detection</th>\n",
              "      <td>0.845176</td>\n",
              "      <td>0.470890</td>\n",
              "      <td>0.511985</td>\n",
              "      <td>0.843686</td>\n",
              "    </tr>\n",
              "    <tr>\n",
              "      <th>Polarity Detection</th>\n",
              "      <td>0.567940</td>\n",
              "      <td>0.485129</td>\n",
              "      <td>0.507881</td>\n",
              "      <td>0.820032</td>\n",
              "    </tr>\n",
              "    <tr>\n",
              "      <th>Aspect + Polarity</th>\n",
              "      <td>0.862923</td>\n",
              "      <td>0.387497</td>\n",
              "      <td>0.387117</td>\n",
              "      <td>0.820032</td>\n",
              "    </tr>\n",
              "  </tbody>\n",
              "</table>\n",
              "</div>"
            ],
            "text/plain": [
              "                    precision    recall  f1-score  accuracy\n",
              "Aspect Detection     0.845176  0.470890  0.511985  0.843686\n",
              "Polarity Detection   0.567940  0.485129  0.507881  0.820032\n",
              "Aspect + Polarity    0.862923  0.387497  0.387117  0.820032"
            ]
          },
          "execution_count": 197,
          "metadata": {},
          "output_type": "execute_result"
        }
      ],
      "source": [
        "df_report = pd.DataFrame.from_dict([aspect_dict, polarity_dict, aspect_polarity_dict])\n",
        "df_report.index = ['Aspect Detection', 'Polarity Detection', 'Aspect + Polarity']\n",
        "df_report.drop('support', axis=1)"
      ]
    }
  ],
  "metadata": {
    "accelerator": "TPU",
    "colab": {
      "collapsed_sections": [
        "zF3Un44v3cNy"
      ],
      "machine_shape": "hm",
      "name": "best-Hotel-v1.ipynb",
      "provenance": [],
      "toc_visible": true
    },
    "kernelspec": {
      "display_name": "Python 3.8.13",
      "language": "python",
      "name": "python3"
    },
    "language_info": {
      "codemirror_mode": {
        "name": "ipython",
        "version": 3
      },
      "file_extension": ".py",
      "mimetype": "text/x-python",
      "name": "python",
      "nbconvert_exporter": "python",
      "pygments_lexer": "ipython3",
      "version": "3.9.0"
    },
    "vscode": {
      "interpreter": {
        "hash": "71a7bf2136a97577d0a8690417094bf6019d7ad150fe8630a15825b0bcf133e3"
      }
    },
    "widgets": {
      "application/vnd.jupyter.widget-state+json": {
        "0325690e4ad248d6a933555566d42e86": {
          "model_module": "@jupyter-widgets/controls",
          "model_module_version": "1.5.0",
          "model_name": "DescriptionStyleModel",
          "state": {
            "_model_module": "@jupyter-widgets/controls",
            "_model_module_version": "1.5.0",
            "_model_name": "DescriptionStyleModel",
            "_view_count": null,
            "_view_module": "@jupyter-widgets/base",
            "_view_module_version": "1.2.0",
            "_view_name": "StyleView",
            "description_width": ""
          }
        },
        "06e999906efd4024b46a2f086ecb9cbd": {
          "model_module": "@jupyter-widgets/controls",
          "model_module_version": "1.5.0",
          "model_name": "FloatProgressModel",
          "state": {
            "_dom_classes": [],
            "_model_module": "@jupyter-widgets/controls",
            "_model_module_version": "1.5.0",
            "_model_name": "FloatProgressModel",
            "_view_count": null,
            "_view_module": "@jupyter-widgets/controls",
            "_view_module_version": "1.5.0",
            "_view_name": "ProgressView",
            "bar_style": "info",
            "description": "",
            "description_tooltip": null,
            "layout": "IPY_MODEL_4e74307f1f174d84bead3086ea817ffb",
            "max": 1,
            "min": 0,
            "orientation": "horizontal",
            "style": "IPY_MODEL_704b544875054a1a8357aa22c20c7634",
            "value": 1
          }
        },
        "08c74d98829e44afbe869d105c6b04f7": {
          "model_module": "@jupyter-widgets/base",
          "model_module_version": "1.2.0",
          "model_name": "LayoutModel",
          "state": {
            "_model_module": "@jupyter-widgets/base",
            "_model_module_version": "1.2.0",
            "_model_name": "LayoutModel",
            "_view_count": null,
            "_view_module": "@jupyter-widgets/base",
            "_view_module_version": "1.2.0",
            "_view_name": "LayoutView",
            "align_content": null,
            "align_items": null,
            "align_self": null,
            "border": null,
            "bottom": null,
            "display": null,
            "flex": null,
            "flex_flow": null,
            "grid_area": null,
            "grid_auto_columns": null,
            "grid_auto_flow": null,
            "grid_auto_rows": null,
            "grid_column": null,
            "grid_gap": null,
            "grid_row": null,
            "grid_template_areas": null,
            "grid_template_columns": null,
            "grid_template_rows": null,
            "height": null,
            "justify_content": null,
            "justify_items": null,
            "left": null,
            "margin": null,
            "max_height": null,
            "max_width": null,
            "min_height": null,
            "min_width": null,
            "object_fit": null,
            "object_position": null,
            "order": null,
            "overflow": null,
            "overflow_x": null,
            "overflow_y": null,
            "padding": null,
            "right": null,
            "top": null,
            "visibility": null,
            "width": null
          }
        },
        "112fdcdcd03c4038a21e2f8e7418310c": {
          "model_module": "@jupyter-widgets/base",
          "model_module_version": "1.2.0",
          "model_name": "LayoutModel",
          "state": {
            "_model_module": "@jupyter-widgets/base",
            "_model_module_version": "1.2.0",
            "_model_name": "LayoutModel",
            "_view_count": null,
            "_view_module": "@jupyter-widgets/base",
            "_view_module_version": "1.2.0",
            "_view_name": "LayoutView",
            "align_content": null,
            "align_items": null,
            "align_self": null,
            "border": null,
            "bottom": null,
            "display": null,
            "flex": null,
            "flex_flow": null,
            "grid_area": null,
            "grid_auto_columns": null,
            "grid_auto_flow": null,
            "grid_auto_rows": null,
            "grid_column": null,
            "grid_gap": null,
            "grid_row": null,
            "grid_template_areas": null,
            "grid_template_columns": null,
            "grid_template_rows": null,
            "height": null,
            "justify_content": null,
            "justify_items": null,
            "left": null,
            "margin": null,
            "max_height": null,
            "max_width": null,
            "min_height": null,
            "min_width": null,
            "object_fit": null,
            "object_position": null,
            "order": null,
            "overflow": null,
            "overflow_x": null,
            "overflow_y": null,
            "padding": null,
            "right": null,
            "top": null,
            "visibility": null,
            "width": null
          }
        },
        "138d5004a3c6419381f4b1a6d5ec3ccd": {
          "model_module": "@jupyter-widgets/controls",
          "model_module_version": "1.5.0",
          "model_name": "DescriptionStyleModel",
          "state": {
            "_model_module": "@jupyter-widgets/controls",
            "_model_module_version": "1.5.0",
            "_model_name": "DescriptionStyleModel",
            "_view_count": null,
            "_view_module": "@jupyter-widgets/base",
            "_view_module_version": "1.2.0",
            "_view_name": "StyleView",
            "description_width": ""
          }
        },
        "1575e2df15a0436a84e14bb3dd09e2b4": {
          "model_module": "@jupyter-widgets/controls",
          "model_module_version": "1.5.0",
          "model_name": "HBoxModel",
          "state": {
            "_dom_classes": [],
            "_model_module": "@jupyter-widgets/controls",
            "_model_module_version": "1.5.0",
            "_model_name": "HBoxModel",
            "_view_count": null,
            "_view_module": "@jupyter-widgets/controls",
            "_view_module_version": "1.5.0",
            "_view_name": "HBoxView",
            "box_style": "",
            "children": [
              "IPY_MODEL_7457ccedbcff4fe3985531a1160703ce",
              "IPY_MODEL_15a521e2d83145d4b0b4b71673bc4785"
            ],
            "layout": "IPY_MODEL_2a044e5033584f978578b51c15df5a54"
          }
        },
        "15a521e2d83145d4b0b4b71673bc4785": {
          "model_module": "@jupyter-widgets/controls",
          "model_module_version": "1.5.0",
          "model_name": "HTMLModel",
          "state": {
            "_dom_classes": [],
            "_model_module": "@jupyter-widgets/controls",
            "_model_module_version": "1.5.0",
            "_model_name": "HTMLModel",
            "_view_count": null,
            "_view_module": "@jupyter-widgets/controls",
            "_view_module_version": "1.5.0",
            "_view_name": "HTMLView",
            "description": "",
            "description_tooltip": null,
            "layout": "IPY_MODEL_2d94e5d65d6c47429771fac87fd83e15",
            "placeholder": "​",
            "style": "IPY_MODEL_0325690e4ad248d6a933555566d42e86",
            "value": " 895k/895k [00:00&lt;00:00, 2.42MB/s]"
          }
        },
        "173f0d8577f74e3cbf3ce96db457f369": {
          "model_module": "@jupyter-widgets/base",
          "model_module_version": "1.2.0",
          "model_name": "LayoutModel",
          "state": {
            "_model_module": "@jupyter-widgets/base",
            "_model_module_version": "1.2.0",
            "_model_name": "LayoutModel",
            "_view_count": null,
            "_view_module": "@jupyter-widgets/base",
            "_view_module_version": "1.2.0",
            "_view_name": "LayoutView",
            "align_content": null,
            "align_items": null,
            "align_self": null,
            "border": null,
            "bottom": null,
            "display": null,
            "flex": null,
            "flex_flow": null,
            "grid_area": null,
            "grid_auto_columns": null,
            "grid_auto_flow": null,
            "grid_auto_rows": null,
            "grid_column": null,
            "grid_gap": null,
            "grid_row": null,
            "grid_template_areas": null,
            "grid_template_columns": null,
            "grid_template_rows": null,
            "height": null,
            "justify_content": null,
            "justify_items": null,
            "left": null,
            "margin": null,
            "max_height": null,
            "max_width": null,
            "min_height": null,
            "min_width": null,
            "object_fit": null,
            "object_position": null,
            "order": null,
            "overflow": null,
            "overflow_x": null,
            "overflow_y": null,
            "padding": null,
            "right": null,
            "top": null,
            "visibility": null,
            "width": null
          }
        },
        "18c1def8c42747cfbf88d10210834e23": {
          "model_module": "@jupyter-widgets/base",
          "model_module_version": "1.2.0",
          "model_name": "LayoutModel",
          "state": {
            "_model_module": "@jupyter-widgets/base",
            "_model_module_version": "1.2.0",
            "_model_name": "LayoutModel",
            "_view_count": null,
            "_view_module": "@jupyter-widgets/base",
            "_view_module_version": "1.2.0",
            "_view_name": "LayoutView",
            "align_content": null,
            "align_items": null,
            "align_self": null,
            "border": null,
            "bottom": null,
            "display": null,
            "flex": null,
            "flex_flow": null,
            "grid_area": null,
            "grid_auto_columns": null,
            "grid_auto_flow": null,
            "grid_auto_rows": null,
            "grid_column": null,
            "grid_gap": null,
            "grid_row": null,
            "grid_template_areas": null,
            "grid_template_columns": null,
            "grid_template_rows": null,
            "height": null,
            "justify_content": null,
            "justify_items": null,
            "left": null,
            "margin": null,
            "max_height": null,
            "max_width": null,
            "min_height": null,
            "min_width": null,
            "object_fit": null,
            "object_position": null,
            "order": null,
            "overflow": null,
            "overflow_x": null,
            "overflow_y": null,
            "padding": null,
            "right": null,
            "top": null,
            "visibility": null,
            "width": null
          }
        },
        "19d8d1dac22948808a64257d058665f4": {
          "model_module": "@jupyter-widgets/controls",
          "model_module_version": "1.5.0",
          "model_name": "FloatProgressModel",
          "state": {
            "_dom_classes": [],
            "_model_module": "@jupyter-widgets/controls",
            "_model_module_version": "1.5.0",
            "_model_name": "FloatProgressModel",
            "_view_count": null,
            "_view_module": "@jupyter-widgets/controls",
            "_view_module_version": "1.5.0",
            "_view_name": "ProgressView",
            "bar_style": "info",
            "description": "",
            "description_tooltip": null,
            "layout": "IPY_MODEL_ed248870ac004056942ba364adaaae06",
            "max": 1,
            "min": 0,
            "orientation": "horizontal",
            "style": "IPY_MODEL_83691b35d50f45e0a7277d4182cf061f",
            "value": 1
          }
        },
        "1fd2e1f886ba4e8b87e7d019a0ed5a50": {
          "model_module": "@jupyter-widgets/controls",
          "model_module_version": "1.5.0",
          "model_name": "HTMLModel",
          "state": {
            "_dom_classes": [],
            "_model_module": "@jupyter-widgets/controls",
            "_model_module_version": "1.5.0",
            "_model_name": "HTMLModel",
            "_view_count": null,
            "_view_module": "@jupyter-widgets/controls",
            "_view_module_version": "1.5.0",
            "_view_name": "HTMLView",
            "description": "",
            "description_tooltip": null,
            "layout": "IPY_MODEL_440646d8f8384136bb0af8b76091de9e",
            "placeholder": "​",
            "style": "IPY_MODEL_5d1e40b5cd4141acb1c844bd05f9efda",
            "value": " 3/3 [01:43&lt;00:00, 34.45s/ba]"
          }
        },
        "203a2fd3007e4e7fad518519ea738024": {
          "model_module": "@jupyter-widgets/controls",
          "model_module_version": "1.5.0",
          "model_name": "HTMLModel",
          "state": {
            "_dom_classes": [],
            "_model_module": "@jupyter-widgets/controls",
            "_model_module_version": "1.5.0",
            "_model_name": "HTMLModel",
            "_view_count": null,
            "_view_module": "@jupyter-widgets/controls",
            "_view_module_version": "1.5.0",
            "_view_name": "HTMLView",
            "description": "",
            "description_tooltip": null,
            "layout": "IPY_MODEL_fa70916225ec43fd89ad25266b2fb285",
            "placeholder": "​",
            "style": "IPY_MODEL_7549ce998ade4702a2b9623f91feba15",
            "value": " 557/557 [00:01&lt;00:00, 399B/s]"
          }
        },
        "238d1713d33e43aca1970fb358d29067": {
          "model_module": "@jupyter-widgets/controls",
          "model_module_version": "1.5.0",
          "model_name": "ProgressStyleModel",
          "state": {
            "_model_module": "@jupyter-widgets/controls",
            "_model_module_version": "1.5.0",
            "_model_name": "ProgressStyleModel",
            "_view_count": null,
            "_view_module": "@jupyter-widgets/base",
            "_view_module_version": "1.2.0",
            "_view_name": "StyleView",
            "bar_color": null,
            "description_width": "initial"
          }
        },
        "2a044e5033584f978578b51c15df5a54": {
          "model_module": "@jupyter-widgets/base",
          "model_module_version": "1.2.0",
          "model_name": "LayoutModel",
          "state": {
            "_model_module": "@jupyter-widgets/base",
            "_model_module_version": "1.2.0",
            "_model_name": "LayoutModel",
            "_view_count": null,
            "_view_module": "@jupyter-widgets/base",
            "_view_module_version": "1.2.0",
            "_view_name": "LayoutView",
            "align_content": null,
            "align_items": null,
            "align_self": null,
            "border": null,
            "bottom": null,
            "display": null,
            "flex": null,
            "flex_flow": null,
            "grid_area": null,
            "grid_auto_columns": null,
            "grid_auto_flow": null,
            "grid_auto_rows": null,
            "grid_column": null,
            "grid_gap": null,
            "grid_row": null,
            "grid_template_areas": null,
            "grid_template_columns": null,
            "grid_template_rows": null,
            "height": null,
            "justify_content": null,
            "justify_items": null,
            "left": null,
            "margin": null,
            "max_height": null,
            "max_width": null,
            "min_height": null,
            "min_width": null,
            "object_fit": null,
            "object_position": null,
            "order": null,
            "overflow": null,
            "overflow_x": null,
            "overflow_y": null,
            "padding": null,
            "right": null,
            "top": null,
            "visibility": null,
            "width": null
          }
        },
        "2c04fab8eaf84c58bef0f686646ea9f8": {
          "model_module": "@jupyter-widgets/controls",
          "model_module_version": "1.5.0",
          "model_name": "DescriptionStyleModel",
          "state": {
            "_model_module": "@jupyter-widgets/controls",
            "_model_module_version": "1.5.0",
            "_model_name": "DescriptionStyleModel",
            "_view_count": null,
            "_view_module": "@jupyter-widgets/base",
            "_view_module_version": "1.2.0",
            "_view_name": "StyleView",
            "description_width": ""
          }
        },
        "2d55556df71b489fb6ba916a2b4daa2a": {
          "model_module": "@jupyter-widgets/base",
          "model_module_version": "1.2.0",
          "model_name": "LayoutModel",
          "state": {
            "_model_module": "@jupyter-widgets/base",
            "_model_module_version": "1.2.0",
            "_model_name": "LayoutModel",
            "_view_count": null,
            "_view_module": "@jupyter-widgets/base",
            "_view_module_version": "1.2.0",
            "_view_name": "LayoutView",
            "align_content": null,
            "align_items": null,
            "align_self": null,
            "border": null,
            "bottom": null,
            "display": null,
            "flex": null,
            "flex_flow": null,
            "grid_area": null,
            "grid_auto_columns": null,
            "grid_auto_flow": null,
            "grid_auto_rows": null,
            "grid_column": null,
            "grid_gap": null,
            "grid_row": null,
            "grid_template_areas": null,
            "grid_template_columns": null,
            "grid_template_rows": null,
            "height": null,
            "justify_content": null,
            "justify_items": null,
            "left": null,
            "margin": null,
            "max_height": null,
            "max_width": null,
            "min_height": null,
            "min_width": null,
            "object_fit": null,
            "object_position": null,
            "order": null,
            "overflow": null,
            "overflow_x": null,
            "overflow_y": null,
            "padding": null,
            "right": null,
            "top": null,
            "visibility": null,
            "width": null
          }
        },
        "2d94e5d65d6c47429771fac87fd83e15": {
          "model_module": "@jupyter-widgets/base",
          "model_module_version": "1.2.0",
          "model_name": "LayoutModel",
          "state": {
            "_model_module": "@jupyter-widgets/base",
            "_model_module_version": "1.2.0",
            "_model_name": "LayoutModel",
            "_view_count": null,
            "_view_module": "@jupyter-widgets/base",
            "_view_module_version": "1.2.0",
            "_view_name": "LayoutView",
            "align_content": null,
            "align_items": null,
            "align_self": null,
            "border": null,
            "bottom": null,
            "display": null,
            "flex": null,
            "flex_flow": null,
            "grid_area": null,
            "grid_auto_columns": null,
            "grid_auto_flow": null,
            "grid_auto_rows": null,
            "grid_column": null,
            "grid_gap": null,
            "grid_row": null,
            "grid_template_areas": null,
            "grid_template_columns": null,
            "grid_template_rows": null,
            "height": null,
            "justify_content": null,
            "justify_items": null,
            "left": null,
            "margin": null,
            "max_height": null,
            "max_width": null,
            "min_height": null,
            "min_width": null,
            "object_fit": null,
            "object_position": null,
            "order": null,
            "overflow": null,
            "overflow_x": null,
            "overflow_y": null,
            "padding": null,
            "right": null,
            "top": null,
            "visibility": null,
            "width": null
          }
        },
        "2db2161517a04be99f65d706291b54c3": {
          "model_module": "@jupyter-widgets/controls",
          "model_module_version": "1.5.0",
          "model_name": "ProgressStyleModel",
          "state": {
            "_model_module": "@jupyter-widgets/controls",
            "_model_module_version": "1.5.0",
            "_model_name": "ProgressStyleModel",
            "_view_count": null,
            "_view_module": "@jupyter-widgets/base",
            "_view_module_version": "1.2.0",
            "_view_name": "StyleView",
            "bar_color": null,
            "description_width": "initial"
          }
        },
        "3657eb7202c844df8d84f75445b08ab8": {
          "model_module": "@jupyter-widgets/controls",
          "model_module_version": "1.5.0",
          "model_name": "HTMLModel",
          "state": {
            "_dom_classes": [],
            "_model_module": "@jupyter-widgets/controls",
            "_model_module_version": "1.5.0",
            "_model_name": "HTMLModel",
            "_view_count": null,
            "_view_module": "@jupyter-widgets/controls",
            "_view_module_version": "1.5.0",
            "_view_name": "HTMLView",
            "description": "",
            "description_tooltip": null,
            "layout": "IPY_MODEL_84da33b66197445095f95a8619610c83",
            "placeholder": "​",
            "style": "IPY_MODEL_d337c81ebf19463d98d8197dce73b958",
            "value": " 1/? [00:00&lt;00:00, 29.30 tables/s]"
          }
        },
        "3db064488c994e6da02ad5c3ec22b15a": {
          "model_module": "@jupyter-widgets/controls",
          "model_module_version": "1.5.0",
          "model_name": "DescriptionStyleModel",
          "state": {
            "_model_module": "@jupyter-widgets/controls",
            "_model_module_version": "1.5.0",
            "_model_name": "DescriptionStyleModel",
            "_view_count": null,
            "_view_module": "@jupyter-widgets/base",
            "_view_module_version": "1.2.0",
            "_view_name": "StyleView",
            "description_width": ""
          }
        },
        "3f4c68ca4b3943f4b1eeb5caec894375": {
          "model_module": "@jupyter-widgets/controls",
          "model_module_version": "1.5.0",
          "model_name": "HBoxModel",
          "state": {
            "_dom_classes": [],
            "_model_module": "@jupyter-widgets/controls",
            "_model_module_version": "1.5.0",
            "_model_name": "HBoxModel",
            "_view_count": null,
            "_view_module": "@jupyter-widgets/controls",
            "_view_module_version": "1.5.0",
            "_view_name": "HBoxView",
            "box_style": "",
            "children": [
              "IPY_MODEL_19d8d1dac22948808a64257d058665f4",
              "IPY_MODEL_67e4ccee8cfb4d2c9f0ef5c81f21e5ff"
            ],
            "layout": "IPY_MODEL_7b87ab75375047cd9ea9d0c2dd0c5fb5"
          }
        },
        "440646d8f8384136bb0af8b76091de9e": {
          "model_module": "@jupyter-widgets/base",
          "model_module_version": "1.2.0",
          "model_name": "LayoutModel",
          "state": {
            "_model_module": "@jupyter-widgets/base",
            "_model_module_version": "1.2.0",
            "_model_name": "LayoutModel",
            "_view_count": null,
            "_view_module": "@jupyter-widgets/base",
            "_view_module_version": "1.2.0",
            "_view_name": "LayoutView",
            "align_content": null,
            "align_items": null,
            "align_self": null,
            "border": null,
            "bottom": null,
            "display": null,
            "flex": null,
            "flex_flow": null,
            "grid_area": null,
            "grid_auto_columns": null,
            "grid_auto_flow": null,
            "grid_auto_rows": null,
            "grid_column": null,
            "grid_gap": null,
            "grid_row": null,
            "grid_template_areas": null,
            "grid_template_columns": null,
            "grid_template_rows": null,
            "height": null,
            "justify_content": null,
            "justify_items": null,
            "left": null,
            "margin": null,
            "max_height": null,
            "max_width": null,
            "min_height": null,
            "min_width": null,
            "object_fit": null,
            "object_position": null,
            "order": null,
            "overflow": null,
            "overflow_x": null,
            "overflow_y": null,
            "padding": null,
            "right": null,
            "top": null,
            "visibility": null,
            "width": null
          }
        },
        "4b0dfb78f60d4f7a90d077c68ef5cbaa": {
          "model_module": "@jupyter-widgets/base",
          "model_module_version": "1.2.0",
          "model_name": "LayoutModel",
          "state": {
            "_model_module": "@jupyter-widgets/base",
            "_model_module_version": "1.2.0",
            "_model_name": "LayoutModel",
            "_view_count": null,
            "_view_module": "@jupyter-widgets/base",
            "_view_module_version": "1.2.0",
            "_view_name": "LayoutView",
            "align_content": null,
            "align_items": null,
            "align_self": null,
            "border": null,
            "bottom": null,
            "display": null,
            "flex": null,
            "flex_flow": null,
            "grid_area": null,
            "grid_auto_columns": null,
            "grid_auto_flow": null,
            "grid_auto_rows": null,
            "grid_column": null,
            "grid_gap": null,
            "grid_row": null,
            "grid_template_areas": null,
            "grid_template_columns": null,
            "grid_template_rows": null,
            "height": null,
            "justify_content": null,
            "justify_items": null,
            "left": null,
            "margin": null,
            "max_height": null,
            "max_width": null,
            "min_height": null,
            "min_width": null,
            "object_fit": null,
            "object_position": null,
            "order": null,
            "overflow": null,
            "overflow_x": null,
            "overflow_y": null,
            "padding": null,
            "right": null,
            "top": null,
            "visibility": null,
            "width": null
          }
        },
        "4d04ce6a5e1641e0a486a960a8e1080a": {
          "model_module": "@jupyter-widgets/base",
          "model_module_version": "1.2.0",
          "model_name": "LayoutModel",
          "state": {
            "_model_module": "@jupyter-widgets/base",
            "_model_module_version": "1.2.0",
            "_model_name": "LayoutModel",
            "_view_count": null,
            "_view_module": "@jupyter-widgets/base",
            "_view_module_version": "1.2.0",
            "_view_name": "LayoutView",
            "align_content": null,
            "align_items": null,
            "align_self": null,
            "border": null,
            "bottom": null,
            "display": null,
            "flex": null,
            "flex_flow": null,
            "grid_area": null,
            "grid_auto_columns": null,
            "grid_auto_flow": null,
            "grid_auto_rows": null,
            "grid_column": null,
            "grid_gap": null,
            "grid_row": null,
            "grid_template_areas": null,
            "grid_template_columns": null,
            "grid_template_rows": null,
            "height": null,
            "justify_content": null,
            "justify_items": null,
            "left": null,
            "margin": null,
            "max_height": null,
            "max_width": null,
            "min_height": null,
            "min_width": null,
            "object_fit": null,
            "object_position": null,
            "order": null,
            "overflow": null,
            "overflow_x": null,
            "overflow_y": null,
            "padding": null,
            "right": null,
            "top": null,
            "visibility": null,
            "width": null
          }
        },
        "4e57c502297d4c6eabd3a7372c113ac6": {
          "model_module": "@jupyter-widgets/base",
          "model_module_version": "1.2.0",
          "model_name": "LayoutModel",
          "state": {
            "_model_module": "@jupyter-widgets/base",
            "_model_module_version": "1.2.0",
            "_model_name": "LayoutModel",
            "_view_count": null,
            "_view_module": "@jupyter-widgets/base",
            "_view_module_version": "1.2.0",
            "_view_name": "LayoutView",
            "align_content": null,
            "align_items": null,
            "align_self": null,
            "border": null,
            "bottom": null,
            "display": null,
            "flex": null,
            "flex_flow": null,
            "grid_area": null,
            "grid_auto_columns": null,
            "grid_auto_flow": null,
            "grid_auto_rows": null,
            "grid_column": null,
            "grid_gap": null,
            "grid_row": null,
            "grid_template_areas": null,
            "grid_template_columns": null,
            "grid_template_rows": null,
            "height": null,
            "justify_content": null,
            "justify_items": null,
            "left": null,
            "margin": null,
            "max_height": null,
            "max_width": null,
            "min_height": null,
            "min_width": null,
            "object_fit": null,
            "object_position": null,
            "order": null,
            "overflow": null,
            "overflow_x": null,
            "overflow_y": null,
            "padding": null,
            "right": null,
            "top": null,
            "visibility": null,
            "width": null
          }
        },
        "4e74307f1f174d84bead3086ea817ffb": {
          "model_module": "@jupyter-widgets/base",
          "model_module_version": "1.2.0",
          "model_name": "LayoutModel",
          "state": {
            "_model_module": "@jupyter-widgets/base",
            "_model_module_version": "1.2.0",
            "_model_name": "LayoutModel",
            "_view_count": null,
            "_view_module": "@jupyter-widgets/base",
            "_view_module_version": "1.2.0",
            "_view_name": "LayoutView",
            "align_content": null,
            "align_items": null,
            "align_self": null,
            "border": null,
            "bottom": null,
            "display": null,
            "flex": null,
            "flex_flow": null,
            "grid_area": null,
            "grid_auto_columns": null,
            "grid_auto_flow": null,
            "grid_auto_rows": null,
            "grid_column": null,
            "grid_gap": null,
            "grid_row": null,
            "grid_template_areas": null,
            "grid_template_columns": null,
            "grid_template_rows": null,
            "height": null,
            "justify_content": null,
            "justify_items": null,
            "left": null,
            "margin": null,
            "max_height": null,
            "max_width": null,
            "min_height": null,
            "min_width": null,
            "object_fit": null,
            "object_position": null,
            "order": null,
            "overflow": null,
            "overflow_x": null,
            "overflow_y": null,
            "padding": null,
            "right": null,
            "top": null,
            "visibility": null,
            "width": null
          }
        },
        "515316fdcd424cb3a4fc17db8eb1c34e": {
          "model_module": "@jupyter-widgets/controls",
          "model_module_version": "1.5.0",
          "model_name": "HBoxModel",
          "state": {
            "_dom_classes": [],
            "_model_module": "@jupyter-widgets/controls",
            "_model_module_version": "1.5.0",
            "_model_name": "HBoxModel",
            "_view_count": null,
            "_view_module": "@jupyter-widgets/controls",
            "_view_module_version": "1.5.0",
            "_view_name": "HBoxView",
            "box_style": "",
            "children": [
              "IPY_MODEL_f534a07d6a7f412d9c8738c06d880104",
              "IPY_MODEL_58a087322a36407db4a6774cfe5d9d47"
            ],
            "layout": "IPY_MODEL_4e57c502297d4c6eabd3a7372c113ac6"
          }
        },
        "51b4ff020af648bab654c19466bcb62f": {
          "model_module": "@jupyter-widgets/base",
          "model_module_version": "1.2.0",
          "model_name": "LayoutModel",
          "state": {
            "_model_module": "@jupyter-widgets/base",
            "_model_module_version": "1.2.0",
            "_model_name": "LayoutModel",
            "_view_count": null,
            "_view_module": "@jupyter-widgets/base",
            "_view_module_version": "1.2.0",
            "_view_name": "LayoutView",
            "align_content": null,
            "align_items": null,
            "align_self": null,
            "border": null,
            "bottom": null,
            "display": null,
            "flex": null,
            "flex_flow": null,
            "grid_area": null,
            "grid_auto_columns": null,
            "grid_auto_flow": null,
            "grid_auto_rows": null,
            "grid_column": null,
            "grid_gap": null,
            "grid_row": null,
            "grid_template_areas": null,
            "grid_template_columns": null,
            "grid_template_rows": null,
            "height": null,
            "justify_content": null,
            "justify_items": null,
            "left": null,
            "margin": null,
            "max_height": null,
            "max_width": null,
            "min_height": null,
            "min_width": null,
            "object_fit": null,
            "object_position": null,
            "order": null,
            "overflow": null,
            "overflow_x": null,
            "overflow_y": null,
            "padding": null,
            "right": null,
            "top": null,
            "visibility": null,
            "width": null
          }
        },
        "51e2c8b9c91a4a638c4d1a05a477b0c4": {
          "model_module": "@jupyter-widgets/controls",
          "model_module_version": "1.5.0",
          "model_name": "FloatProgressModel",
          "state": {
            "_dom_classes": [],
            "_model_module": "@jupyter-widgets/controls",
            "_model_module_version": "1.5.0",
            "_model_name": "FloatProgressModel",
            "_view_count": null,
            "_view_module": "@jupyter-widgets/controls",
            "_view_module_version": "1.5.0",
            "_view_name": "ProgressView",
            "bar_style": "success",
            "description": "Downloading: 100%",
            "description_tooltip": null,
            "layout": "IPY_MODEL_112fdcdcd03c4038a21e2f8e7418310c",
            "max": 557,
            "min": 0,
            "orientation": "horizontal",
            "style": "IPY_MODEL_66d8b822eb6a4cc4a6ccef1c538b7565",
            "value": 557
          }
        },
        "58a087322a36407db4a6774cfe5d9d47": {
          "model_module": "@jupyter-widgets/controls",
          "model_module_version": "1.5.0",
          "model_name": "HTMLModel",
          "state": {
            "_dom_classes": [],
            "_model_module": "@jupyter-widgets/controls",
            "_model_module_version": "1.5.0",
            "_model_name": "HTMLModel",
            "_view_count": null,
            "_view_module": "@jupyter-widgets/controls",
            "_view_module_version": "1.5.0",
            "_view_name": "HTMLView",
            "description": "",
            "description_tooltip": null,
            "layout": "IPY_MODEL_5f76e708755748bcbc00bde40b704a39",
            "placeholder": "​",
            "style": "IPY_MODEL_3db064488c994e6da02ad5c3ec22b15a",
            "value": " 1.14M/1.14M [00:00&lt;00:00, 1.56MB/s]"
          }
        },
        "5d1e40b5cd4141acb1c844bd05f9efda": {
          "model_module": "@jupyter-widgets/controls",
          "model_module_version": "1.5.0",
          "model_name": "DescriptionStyleModel",
          "state": {
            "_model_module": "@jupyter-widgets/controls",
            "_model_module_version": "1.5.0",
            "_model_name": "DescriptionStyleModel",
            "_view_count": null,
            "_view_module": "@jupyter-widgets/base",
            "_view_module_version": "1.2.0",
            "_view_name": "StyleView",
            "description_width": ""
          }
        },
        "5f76e708755748bcbc00bde40b704a39": {
          "model_module": "@jupyter-widgets/base",
          "model_module_version": "1.2.0",
          "model_name": "LayoutModel",
          "state": {
            "_model_module": "@jupyter-widgets/base",
            "_model_module_version": "1.2.0",
            "_model_name": "LayoutModel",
            "_view_count": null,
            "_view_module": "@jupyter-widgets/base",
            "_view_module_version": "1.2.0",
            "_view_name": "LayoutView",
            "align_content": null,
            "align_items": null,
            "align_self": null,
            "border": null,
            "bottom": null,
            "display": null,
            "flex": null,
            "flex_flow": null,
            "grid_area": null,
            "grid_auto_columns": null,
            "grid_auto_flow": null,
            "grid_auto_rows": null,
            "grid_column": null,
            "grid_gap": null,
            "grid_row": null,
            "grid_template_areas": null,
            "grid_template_columns": null,
            "grid_template_rows": null,
            "height": null,
            "justify_content": null,
            "justify_items": null,
            "left": null,
            "margin": null,
            "max_height": null,
            "max_width": null,
            "min_height": null,
            "min_width": null,
            "object_fit": null,
            "object_position": null,
            "order": null,
            "overflow": null,
            "overflow_x": null,
            "overflow_y": null,
            "padding": null,
            "right": null,
            "top": null,
            "visibility": null,
            "width": null
          }
        },
        "632f0f5dab6a42f799f590ce63a05b3a": {
          "model_module": "@jupyter-widgets/base",
          "model_module_version": "1.2.0",
          "model_name": "LayoutModel",
          "state": {
            "_model_module": "@jupyter-widgets/base",
            "_model_module_version": "1.2.0",
            "_model_name": "LayoutModel",
            "_view_count": null,
            "_view_module": "@jupyter-widgets/base",
            "_view_module_version": "1.2.0",
            "_view_name": "LayoutView",
            "align_content": null,
            "align_items": null,
            "align_self": null,
            "border": null,
            "bottom": null,
            "display": null,
            "flex": null,
            "flex_flow": null,
            "grid_area": null,
            "grid_auto_columns": null,
            "grid_auto_flow": null,
            "grid_auto_rows": null,
            "grid_column": null,
            "grid_gap": null,
            "grid_row": null,
            "grid_template_areas": null,
            "grid_template_columns": null,
            "grid_template_rows": null,
            "height": null,
            "justify_content": null,
            "justify_items": null,
            "left": null,
            "margin": null,
            "max_height": null,
            "max_width": null,
            "min_height": null,
            "min_width": null,
            "object_fit": null,
            "object_position": null,
            "order": null,
            "overflow": null,
            "overflow_x": null,
            "overflow_y": null,
            "padding": null,
            "right": null,
            "top": null,
            "visibility": null,
            "width": null
          }
        },
        "6632bcce85df4e39a4921a787b726c39": {
          "model_module": "@jupyter-widgets/controls",
          "model_module_version": "1.5.0",
          "model_name": "DescriptionStyleModel",
          "state": {
            "_model_module": "@jupyter-widgets/controls",
            "_model_module_version": "1.5.0",
            "_model_name": "DescriptionStyleModel",
            "_view_count": null,
            "_view_module": "@jupyter-widgets/base",
            "_view_module_version": "1.2.0",
            "_view_name": "StyleView",
            "description_width": ""
          }
        },
        "66d8b822eb6a4cc4a6ccef1c538b7565": {
          "model_module": "@jupyter-widgets/controls",
          "model_module_version": "1.5.0",
          "model_name": "ProgressStyleModel",
          "state": {
            "_model_module": "@jupyter-widgets/controls",
            "_model_module_version": "1.5.0",
            "_model_name": "ProgressStyleModel",
            "_view_count": null,
            "_view_module": "@jupyter-widgets/base",
            "_view_module_version": "1.2.0",
            "_view_name": "StyleView",
            "bar_color": null,
            "description_width": "initial"
          }
        },
        "67e4ccee8cfb4d2c9f0ef5c81f21e5ff": {
          "model_module": "@jupyter-widgets/controls",
          "model_module_version": "1.5.0",
          "model_name": "HTMLModel",
          "state": {
            "_dom_classes": [],
            "_model_module": "@jupyter-widgets/controls",
            "_model_module_version": "1.5.0",
            "_model_name": "HTMLModel",
            "_view_count": null,
            "_view_module": "@jupyter-widgets/controls",
            "_view_module_version": "1.5.0",
            "_view_name": "HTMLView",
            "description": "",
            "description_tooltip": null,
            "layout": "IPY_MODEL_912482f5fae44466bab566b85c0ecdc8",
            "placeholder": "​",
            "style": "IPY_MODEL_2c04fab8eaf84c58bef0f686646ea9f8",
            "value": " 1/? [00:00&lt;00:00, 13.60 tables/s]"
          }
        },
        "694acf3759864950aab302b108f5adcf": {
          "model_module": "@jupyter-widgets/controls",
          "model_module_version": "1.5.0",
          "model_name": "ProgressStyleModel",
          "state": {
            "_model_module": "@jupyter-widgets/controls",
            "_model_module_version": "1.5.0",
            "_model_name": "ProgressStyleModel",
            "_view_count": null,
            "_view_module": "@jupyter-widgets/base",
            "_view_module_version": "1.2.0",
            "_view_name": "StyleView",
            "bar_color": null,
            "description_width": "initial"
          }
        },
        "6a29fd6e5e2c43f59c51074e44b98000": {
          "model_module": "@jupyter-widgets/controls",
          "model_module_version": "1.5.0",
          "model_name": "HTMLModel",
          "state": {
            "_dom_classes": [],
            "_model_module": "@jupyter-widgets/controls",
            "_model_module_version": "1.5.0",
            "_model_name": "HTMLModel",
            "_view_count": null,
            "_view_module": "@jupyter-widgets/controls",
            "_view_module_version": "1.5.0",
            "_view_name": "HTMLView",
            "description": "",
            "description_tooltip": null,
            "layout": "IPY_MODEL_4d04ce6a5e1641e0a486a960a8e1080a",
            "placeholder": "​",
            "style": "IPY_MODEL_138d5004a3c6419381f4b1a6d5ec3ccd",
            "value": " 2/2 [01:24&lt;00:00, 42.26s/ba]"
          }
        },
        "6db6f027fa354bc99e16451fc3436358": {
          "model_module": "@jupyter-widgets/controls",
          "model_module_version": "1.5.0",
          "model_name": "FloatProgressModel",
          "state": {
            "_dom_classes": [],
            "_model_module": "@jupyter-widgets/controls",
            "_model_module_version": "1.5.0",
            "_model_name": "FloatProgressModel",
            "_view_count": null,
            "_view_module": "@jupyter-widgets/controls",
            "_view_module_version": "1.5.0",
            "_view_name": "ProgressView",
            "bar_style": "success",
            "description": "100%",
            "description_tooltip": null,
            "layout": "IPY_MODEL_793c7a759cb64551b68e1ef2b3f54676",
            "max": 2,
            "min": 0,
            "orientation": "horizontal",
            "style": "IPY_MODEL_238d1713d33e43aca1970fb358d29067",
            "value": 2
          }
        },
        "6e4d5a0d7008431abc9aabc8da89d239": {
          "model_module": "@jupyter-widgets/controls",
          "model_module_version": "1.5.0",
          "model_name": "FloatProgressModel",
          "state": {
            "_dom_classes": [],
            "_model_module": "@jupyter-widgets/controls",
            "_model_module_version": "1.5.0",
            "_model_name": "FloatProgressModel",
            "_view_count": null,
            "_view_module": "@jupyter-widgets/controls",
            "_view_module_version": "1.5.0",
            "_view_name": "ProgressView",
            "bar_style": "success",
            "description": "Downloading: 100%",
            "description_tooltip": null,
            "layout": "IPY_MODEL_87b74a8ad9794406bc5219f6424f81c5",
            "max": 740310212,
            "min": 0,
            "orientation": "horizontal",
            "style": "IPY_MODEL_8cccc2fac2b549f487e0f5bfcf0c3a21",
            "value": 740310212
          }
        },
        "704b544875054a1a8357aa22c20c7634": {
          "model_module": "@jupyter-widgets/controls",
          "model_module_version": "1.5.0",
          "model_name": "ProgressStyleModel",
          "state": {
            "_model_module": "@jupyter-widgets/controls",
            "_model_module_version": "1.5.0",
            "_model_name": "ProgressStyleModel",
            "_view_count": null,
            "_view_module": "@jupyter-widgets/base",
            "_view_module_version": "1.2.0",
            "_view_name": "StyleView",
            "bar_color": null,
            "description_width": "initial"
          }
        },
        "7457ccedbcff4fe3985531a1160703ce": {
          "model_module": "@jupyter-widgets/controls",
          "model_module_version": "1.5.0",
          "model_name": "FloatProgressModel",
          "state": {
            "_dom_classes": [],
            "_model_module": "@jupyter-widgets/controls",
            "_model_module_version": "1.5.0",
            "_model_name": "FloatProgressModel",
            "_view_count": null,
            "_view_module": "@jupyter-widgets/controls",
            "_view_module_version": "1.5.0",
            "_view_name": "ProgressView",
            "bar_style": "success",
            "description": "Downloading: 100%",
            "description_tooltip": null,
            "layout": "IPY_MODEL_08c74d98829e44afbe869d105c6b04f7",
            "max": 895321,
            "min": 0,
            "orientation": "horizontal",
            "style": "IPY_MODEL_2db2161517a04be99f65d706291b54c3",
            "value": 895321
          }
        },
        "7549ce998ade4702a2b9623f91feba15": {
          "model_module": "@jupyter-widgets/controls",
          "model_module_version": "1.5.0",
          "model_name": "DescriptionStyleModel",
          "state": {
            "_model_module": "@jupyter-widgets/controls",
            "_model_module_version": "1.5.0",
            "_model_name": "DescriptionStyleModel",
            "_view_count": null,
            "_view_module": "@jupyter-widgets/base",
            "_view_module_version": "1.2.0",
            "_view_name": "StyleView",
            "description_width": ""
          }
        },
        "793c7a759cb64551b68e1ef2b3f54676": {
          "model_module": "@jupyter-widgets/base",
          "model_module_version": "1.2.0",
          "model_name": "LayoutModel",
          "state": {
            "_model_module": "@jupyter-widgets/base",
            "_model_module_version": "1.2.0",
            "_model_name": "LayoutModel",
            "_view_count": null,
            "_view_module": "@jupyter-widgets/base",
            "_view_module_version": "1.2.0",
            "_view_name": "LayoutView",
            "align_content": null,
            "align_items": null,
            "align_self": null,
            "border": null,
            "bottom": null,
            "display": null,
            "flex": null,
            "flex_flow": null,
            "grid_area": null,
            "grid_auto_columns": null,
            "grid_auto_flow": null,
            "grid_auto_rows": null,
            "grid_column": null,
            "grid_gap": null,
            "grid_row": null,
            "grid_template_areas": null,
            "grid_template_columns": null,
            "grid_template_rows": null,
            "height": null,
            "justify_content": null,
            "justify_items": null,
            "left": null,
            "margin": null,
            "max_height": null,
            "max_width": null,
            "min_height": null,
            "min_width": null,
            "object_fit": null,
            "object_position": null,
            "order": null,
            "overflow": null,
            "overflow_x": null,
            "overflow_y": null,
            "padding": null,
            "right": null,
            "top": null,
            "visibility": null,
            "width": null
          }
        },
        "7b87ab75375047cd9ea9d0c2dd0c5fb5": {
          "model_module": "@jupyter-widgets/base",
          "model_module_version": "1.2.0",
          "model_name": "LayoutModel",
          "state": {
            "_model_module": "@jupyter-widgets/base",
            "_model_module_version": "1.2.0",
            "_model_name": "LayoutModel",
            "_view_count": null,
            "_view_module": "@jupyter-widgets/base",
            "_view_module_version": "1.2.0",
            "_view_name": "LayoutView",
            "align_content": null,
            "align_items": null,
            "align_self": null,
            "border": null,
            "bottom": null,
            "display": null,
            "flex": null,
            "flex_flow": null,
            "grid_area": null,
            "grid_auto_columns": null,
            "grid_auto_flow": null,
            "grid_auto_rows": null,
            "grid_column": null,
            "grid_gap": null,
            "grid_row": null,
            "grid_template_areas": null,
            "grid_template_columns": null,
            "grid_template_rows": null,
            "height": null,
            "justify_content": null,
            "justify_items": null,
            "left": null,
            "margin": null,
            "max_height": null,
            "max_width": null,
            "min_height": null,
            "min_width": null,
            "object_fit": null,
            "object_position": null,
            "order": null,
            "overflow": null,
            "overflow_x": null,
            "overflow_y": null,
            "padding": null,
            "right": null,
            "top": null,
            "visibility": null,
            "width": null
          }
        },
        "82e475aa42e54e54bfbbcd73b35c06be": {
          "model_module": "@jupyter-widgets/controls",
          "model_module_version": "1.5.0",
          "model_name": "HTMLModel",
          "state": {
            "_dom_classes": [],
            "_model_module": "@jupyter-widgets/controls",
            "_model_module_version": "1.5.0",
            "_model_name": "HTMLModel",
            "_view_count": null,
            "_view_module": "@jupyter-widgets/controls",
            "_view_module_version": "1.5.0",
            "_view_name": "HTMLView",
            "description": "",
            "description_tooltip": null,
            "layout": "IPY_MODEL_4b0dfb78f60d4f7a90d077c68ef5cbaa",
            "placeholder": "​",
            "style": "IPY_MODEL_844a05e940d04d03900bfd2aafeee62f",
            "value": " 1/? [00:00&lt;00:00, 23.72 tables/s]"
          }
        },
        "82f6dc19fc18438faea41f5cc9489d16": {
          "model_module": "@jupyter-widgets/controls",
          "model_module_version": "1.5.0",
          "model_name": "FloatProgressModel",
          "state": {
            "_dom_classes": [],
            "_model_module": "@jupyter-widgets/controls",
            "_model_module_version": "1.5.0",
            "_model_name": "FloatProgressModel",
            "_view_count": null,
            "_view_module": "@jupyter-widgets/controls",
            "_view_module_version": "1.5.0",
            "_view_name": "ProgressView",
            "bar_style": "info",
            "description": "",
            "description_tooltip": null,
            "layout": "IPY_MODEL_bde460a8947d419b9b8b781f86789eaa",
            "max": 1,
            "min": 0,
            "orientation": "horizontal",
            "style": "IPY_MODEL_694acf3759864950aab302b108f5adcf",
            "value": 1
          }
        },
        "83447ddfcf654d65b26ccea18d7307b0": {
          "model_module": "@jupyter-widgets/controls",
          "model_module_version": "1.5.0",
          "model_name": "HBoxModel",
          "state": {
            "_dom_classes": [],
            "_model_module": "@jupyter-widgets/controls",
            "_model_module_version": "1.5.0",
            "_model_name": "HBoxModel",
            "_view_count": null,
            "_view_module": "@jupyter-widgets/controls",
            "_view_module_version": "1.5.0",
            "_view_name": "HBoxView",
            "box_style": "",
            "children": [
              "IPY_MODEL_51e2c8b9c91a4a638c4d1a05a477b0c4",
              "IPY_MODEL_203a2fd3007e4e7fad518519ea738024"
            ],
            "layout": "IPY_MODEL_9c2d3880886e4bce8903efb0c78e2997"
          }
        },
        "83691b35d50f45e0a7277d4182cf061f": {
          "model_module": "@jupyter-widgets/controls",
          "model_module_version": "1.5.0",
          "model_name": "ProgressStyleModel",
          "state": {
            "_model_module": "@jupyter-widgets/controls",
            "_model_module_version": "1.5.0",
            "_model_name": "ProgressStyleModel",
            "_view_count": null,
            "_view_module": "@jupyter-widgets/base",
            "_view_module_version": "1.2.0",
            "_view_name": "StyleView",
            "bar_color": null,
            "description_width": "initial"
          }
        },
        "844a05e940d04d03900bfd2aafeee62f": {
          "model_module": "@jupyter-widgets/controls",
          "model_module_version": "1.5.0",
          "model_name": "DescriptionStyleModel",
          "state": {
            "_model_module": "@jupyter-widgets/controls",
            "_model_module_version": "1.5.0",
            "_model_name": "DescriptionStyleModel",
            "_view_count": null,
            "_view_module": "@jupyter-widgets/base",
            "_view_module_version": "1.2.0",
            "_view_name": "StyleView",
            "description_width": ""
          }
        },
        "84da33b66197445095f95a8619610c83": {
          "model_module": "@jupyter-widgets/base",
          "model_module_version": "1.2.0",
          "model_name": "LayoutModel",
          "state": {
            "_model_module": "@jupyter-widgets/base",
            "_model_module_version": "1.2.0",
            "_model_name": "LayoutModel",
            "_view_count": null,
            "_view_module": "@jupyter-widgets/base",
            "_view_module_version": "1.2.0",
            "_view_name": "LayoutView",
            "align_content": null,
            "align_items": null,
            "align_self": null,
            "border": null,
            "bottom": null,
            "display": null,
            "flex": null,
            "flex_flow": null,
            "grid_area": null,
            "grid_auto_columns": null,
            "grid_auto_flow": null,
            "grid_auto_rows": null,
            "grid_column": null,
            "grid_gap": null,
            "grid_row": null,
            "grid_template_areas": null,
            "grid_template_columns": null,
            "grid_template_rows": null,
            "height": null,
            "justify_content": null,
            "justify_items": null,
            "left": null,
            "margin": null,
            "max_height": null,
            "max_width": null,
            "min_height": null,
            "min_width": null,
            "object_fit": null,
            "object_position": null,
            "order": null,
            "overflow": null,
            "overflow_x": null,
            "overflow_y": null,
            "padding": null,
            "right": null,
            "top": null,
            "visibility": null,
            "width": null
          }
        },
        "869ce0c922a342778ed468afeeb4748c": {
          "model_module": "@jupyter-widgets/base",
          "model_module_version": "1.2.0",
          "model_name": "LayoutModel",
          "state": {
            "_model_module": "@jupyter-widgets/base",
            "_model_module_version": "1.2.0",
            "_model_name": "LayoutModel",
            "_view_count": null,
            "_view_module": "@jupyter-widgets/base",
            "_view_module_version": "1.2.0",
            "_view_name": "LayoutView",
            "align_content": null,
            "align_items": null,
            "align_self": null,
            "border": null,
            "bottom": null,
            "display": null,
            "flex": null,
            "flex_flow": null,
            "grid_area": null,
            "grid_auto_columns": null,
            "grid_auto_flow": null,
            "grid_auto_rows": null,
            "grid_column": null,
            "grid_gap": null,
            "grid_row": null,
            "grid_template_areas": null,
            "grid_template_columns": null,
            "grid_template_rows": null,
            "height": null,
            "justify_content": null,
            "justify_items": null,
            "left": null,
            "margin": null,
            "max_height": null,
            "max_width": null,
            "min_height": null,
            "min_width": null,
            "object_fit": null,
            "object_position": null,
            "order": null,
            "overflow": null,
            "overflow_x": null,
            "overflow_y": null,
            "padding": null,
            "right": null,
            "top": null,
            "visibility": null,
            "width": null
          }
        },
        "8792db2b73d5444d9551184561940b29": {
          "model_module": "@jupyter-widgets/controls",
          "model_module_version": "1.5.0",
          "model_name": "ProgressStyleModel",
          "state": {
            "_model_module": "@jupyter-widgets/controls",
            "_model_module_version": "1.5.0",
            "_model_name": "ProgressStyleModel",
            "_view_count": null,
            "_view_module": "@jupyter-widgets/base",
            "_view_module_version": "1.2.0",
            "_view_name": "StyleView",
            "bar_color": null,
            "description_width": "initial"
          }
        },
        "87b74a8ad9794406bc5219f6424f81c5": {
          "model_module": "@jupyter-widgets/base",
          "model_module_version": "1.2.0",
          "model_name": "LayoutModel",
          "state": {
            "_model_module": "@jupyter-widgets/base",
            "_model_module_version": "1.2.0",
            "_model_name": "LayoutModel",
            "_view_count": null,
            "_view_module": "@jupyter-widgets/base",
            "_view_module_version": "1.2.0",
            "_view_name": "LayoutView",
            "align_content": null,
            "align_items": null,
            "align_self": null,
            "border": null,
            "bottom": null,
            "display": null,
            "flex": null,
            "flex_flow": null,
            "grid_area": null,
            "grid_auto_columns": null,
            "grid_auto_flow": null,
            "grid_auto_rows": null,
            "grid_column": null,
            "grid_gap": null,
            "grid_row": null,
            "grid_template_areas": null,
            "grid_template_columns": null,
            "grid_template_rows": null,
            "height": null,
            "justify_content": null,
            "justify_items": null,
            "left": null,
            "margin": null,
            "max_height": null,
            "max_width": null,
            "min_height": null,
            "min_width": null,
            "object_fit": null,
            "object_position": null,
            "order": null,
            "overflow": null,
            "overflow_x": null,
            "overflow_y": null,
            "padding": null,
            "right": null,
            "top": null,
            "visibility": null,
            "width": null
          }
        },
        "8cccc2fac2b549f487e0f5bfcf0c3a21": {
          "model_module": "@jupyter-widgets/controls",
          "model_module_version": "1.5.0",
          "model_name": "ProgressStyleModel",
          "state": {
            "_model_module": "@jupyter-widgets/controls",
            "_model_module_version": "1.5.0",
            "_model_name": "ProgressStyleModel",
            "_view_count": null,
            "_view_module": "@jupyter-widgets/base",
            "_view_module_version": "1.2.0",
            "_view_name": "StyleView",
            "bar_color": null,
            "description_width": "initial"
          }
        },
        "912482f5fae44466bab566b85c0ecdc8": {
          "model_module": "@jupyter-widgets/base",
          "model_module_version": "1.2.0",
          "model_name": "LayoutModel",
          "state": {
            "_model_module": "@jupyter-widgets/base",
            "_model_module_version": "1.2.0",
            "_model_name": "LayoutModel",
            "_view_count": null,
            "_view_module": "@jupyter-widgets/base",
            "_view_module_version": "1.2.0",
            "_view_name": "LayoutView",
            "align_content": null,
            "align_items": null,
            "align_self": null,
            "border": null,
            "bottom": null,
            "display": null,
            "flex": null,
            "flex_flow": null,
            "grid_area": null,
            "grid_auto_columns": null,
            "grid_auto_flow": null,
            "grid_auto_rows": null,
            "grid_column": null,
            "grid_gap": null,
            "grid_row": null,
            "grid_template_areas": null,
            "grid_template_columns": null,
            "grid_template_rows": null,
            "height": null,
            "justify_content": null,
            "justify_items": null,
            "left": null,
            "margin": null,
            "max_height": null,
            "max_width": null,
            "min_height": null,
            "min_width": null,
            "object_fit": null,
            "object_position": null,
            "order": null,
            "overflow": null,
            "overflow_x": null,
            "overflow_y": null,
            "padding": null,
            "right": null,
            "top": null,
            "visibility": null,
            "width": null
          }
        },
        "963f671e5c144874a8c55dd96d6ad121": {
          "model_module": "@jupyter-widgets/controls",
          "model_module_version": "1.5.0",
          "model_name": "HBoxModel",
          "state": {
            "_dom_classes": [],
            "_model_module": "@jupyter-widgets/controls",
            "_model_module_version": "1.5.0",
            "_model_name": "HBoxModel",
            "_view_count": null,
            "_view_module": "@jupyter-widgets/controls",
            "_view_module_version": "1.5.0",
            "_view_name": "HBoxView",
            "box_style": "",
            "children": [
              "IPY_MODEL_d2bae35fefa14c3189efe7bd02fadcda",
              "IPY_MODEL_1fd2e1f886ba4e8b87e7d019a0ed5a50"
            ],
            "layout": "IPY_MODEL_869ce0c922a342778ed468afeeb4748c"
          }
        },
        "98bff2e820e34da19b26e633260f27de": {
          "model_module": "@jupyter-widgets/controls",
          "model_module_version": "1.5.0",
          "model_name": "HTMLModel",
          "state": {
            "_dom_classes": [],
            "_model_module": "@jupyter-widgets/controls",
            "_model_module_version": "1.5.0",
            "_model_name": "HTMLModel",
            "_view_count": null,
            "_view_module": "@jupyter-widgets/controls",
            "_view_module_version": "1.5.0",
            "_view_name": "HTMLView",
            "description": "",
            "description_tooltip": null,
            "layout": "IPY_MODEL_2d55556df71b489fb6ba916a2b4daa2a",
            "placeholder": "​",
            "style": "IPY_MODEL_6632bcce85df4e39a4921a787b726c39",
            "value": " 740M/740M [00:13&lt;00:00, 53.9MB/s]"
          }
        },
        "9c2d3880886e4bce8903efb0c78e2997": {
          "model_module": "@jupyter-widgets/base",
          "model_module_version": "1.2.0",
          "model_name": "LayoutModel",
          "state": {
            "_model_module": "@jupyter-widgets/base",
            "_model_module_version": "1.2.0",
            "_model_name": "LayoutModel",
            "_view_count": null,
            "_view_module": "@jupyter-widgets/base",
            "_view_module_version": "1.2.0",
            "_view_name": "LayoutView",
            "align_content": null,
            "align_items": null,
            "align_self": null,
            "border": null,
            "bottom": null,
            "display": null,
            "flex": null,
            "flex_flow": null,
            "grid_area": null,
            "grid_auto_columns": null,
            "grid_auto_flow": null,
            "grid_auto_rows": null,
            "grid_column": null,
            "grid_gap": null,
            "grid_row": null,
            "grid_template_areas": null,
            "grid_template_columns": null,
            "grid_template_rows": null,
            "height": null,
            "justify_content": null,
            "justify_items": null,
            "left": null,
            "margin": null,
            "max_height": null,
            "max_width": null,
            "min_height": null,
            "min_width": null,
            "object_fit": null,
            "object_position": null,
            "order": null,
            "overflow": null,
            "overflow_x": null,
            "overflow_y": null,
            "padding": null,
            "right": null,
            "top": null,
            "visibility": null,
            "width": null
          }
        },
        "9cb7c490d7cf40e2a6f42b7182c715c2": {
          "model_module": "@jupyter-widgets/controls",
          "model_module_version": "1.5.0",
          "model_name": "HBoxModel",
          "state": {
            "_dom_classes": [],
            "_model_module": "@jupyter-widgets/controls",
            "_model_module_version": "1.5.0",
            "_model_name": "HBoxModel",
            "_view_count": null,
            "_view_module": "@jupyter-widgets/controls",
            "_view_module_version": "1.5.0",
            "_view_name": "HBoxView",
            "box_style": "",
            "children": [
              "IPY_MODEL_06e999906efd4024b46a2f086ecb9cbd",
              "IPY_MODEL_3657eb7202c844df8d84f75445b08ab8"
            ],
            "layout": "IPY_MODEL_c4d8601e8b6846178879d0df0ce00376"
          }
        },
        "a632c84d6953424fb8d4bd60f885d95d": {
          "model_module": "@jupyter-widgets/controls",
          "model_module_version": "1.5.0",
          "model_name": "ProgressStyleModel",
          "state": {
            "_model_module": "@jupyter-widgets/controls",
            "_model_module_version": "1.5.0",
            "_model_name": "ProgressStyleModel",
            "_view_count": null,
            "_view_module": "@jupyter-widgets/base",
            "_view_module_version": "1.2.0",
            "_view_name": "StyleView",
            "bar_color": null,
            "description_width": "initial"
          }
        },
        "aa586a061b9d4aeb91b0259323b2b31a": {
          "model_module": "@jupyter-widgets/controls",
          "model_module_version": "1.5.0",
          "model_name": "HBoxModel",
          "state": {
            "_dom_classes": [],
            "_model_module": "@jupyter-widgets/controls",
            "_model_module_version": "1.5.0",
            "_model_name": "HBoxModel",
            "_view_count": null,
            "_view_module": "@jupyter-widgets/controls",
            "_view_module_version": "1.5.0",
            "_view_name": "HBoxView",
            "box_style": "",
            "children": [
              "IPY_MODEL_e5ea0e8d2c1e4252b4cda878bf076b31",
              "IPY_MODEL_d5cb27524bd649c587f6e66b0bb8f2ef"
            ],
            "layout": "IPY_MODEL_18c1def8c42747cfbf88d10210834e23"
          }
        },
        "aa61c85650cd4574a422c7b90b805d90": {
          "model_module": "@jupyter-widgets/base",
          "model_module_version": "1.2.0",
          "model_name": "LayoutModel",
          "state": {
            "_model_module": "@jupyter-widgets/base",
            "_model_module_version": "1.2.0",
            "_model_name": "LayoutModel",
            "_view_count": null,
            "_view_module": "@jupyter-widgets/base",
            "_view_module_version": "1.2.0",
            "_view_name": "LayoutView",
            "align_content": null,
            "align_items": null,
            "align_self": null,
            "border": null,
            "bottom": null,
            "display": null,
            "flex": null,
            "flex_flow": null,
            "grid_area": null,
            "grid_auto_columns": null,
            "grid_auto_flow": null,
            "grid_auto_rows": null,
            "grid_column": null,
            "grid_gap": null,
            "grid_row": null,
            "grid_template_areas": null,
            "grid_template_columns": null,
            "grid_template_rows": null,
            "height": null,
            "justify_content": null,
            "justify_items": null,
            "left": null,
            "margin": null,
            "max_height": null,
            "max_width": null,
            "min_height": null,
            "min_width": null,
            "object_fit": null,
            "object_position": null,
            "order": null,
            "overflow": null,
            "overflow_x": null,
            "overflow_y": null,
            "padding": null,
            "right": null,
            "top": null,
            "visibility": null,
            "width": null
          }
        },
        "af067f5b279944869f77e8aba8ab7afe": {
          "model_module": "@jupyter-widgets/controls",
          "model_module_version": "1.5.0",
          "model_name": "HBoxModel",
          "state": {
            "_dom_classes": [],
            "_model_module": "@jupyter-widgets/controls",
            "_model_module_version": "1.5.0",
            "_model_name": "HBoxModel",
            "_view_count": null,
            "_view_module": "@jupyter-widgets/controls",
            "_view_module_version": "1.5.0",
            "_view_name": "HBoxView",
            "box_style": "",
            "children": [
              "IPY_MODEL_6e4d5a0d7008431abc9aabc8da89d239",
              "IPY_MODEL_98bff2e820e34da19b26e633260f27de"
            ],
            "layout": "IPY_MODEL_c3403878945344ab83abc7fba72e8d82"
          }
        },
        "b01ae8e22554467e80dbe23f1c3d8dfc": {
          "model_module": "@jupyter-widgets/controls",
          "model_module_version": "1.5.0",
          "model_name": "HBoxModel",
          "state": {
            "_dom_classes": [],
            "_model_module": "@jupyter-widgets/controls",
            "_model_module_version": "1.5.0",
            "_model_name": "HBoxModel",
            "_view_count": null,
            "_view_module": "@jupyter-widgets/controls",
            "_view_module_version": "1.5.0",
            "_view_name": "HBoxView",
            "box_style": "",
            "children": [
              "IPY_MODEL_82f6dc19fc18438faea41f5cc9489d16",
              "IPY_MODEL_82e475aa42e54e54bfbbcd73b35c06be"
            ],
            "layout": "IPY_MODEL_d4a202f70847454bb22594804680205b"
          }
        },
        "bde460a8947d419b9b8b781f86789eaa": {
          "model_module": "@jupyter-widgets/base",
          "model_module_version": "1.2.0",
          "model_name": "LayoutModel",
          "state": {
            "_model_module": "@jupyter-widgets/base",
            "_model_module_version": "1.2.0",
            "_model_name": "LayoutModel",
            "_view_count": null,
            "_view_module": "@jupyter-widgets/base",
            "_view_module_version": "1.2.0",
            "_view_name": "LayoutView",
            "align_content": null,
            "align_items": null,
            "align_self": null,
            "border": null,
            "bottom": null,
            "display": null,
            "flex": null,
            "flex_flow": null,
            "grid_area": null,
            "grid_auto_columns": null,
            "grid_auto_flow": null,
            "grid_auto_rows": null,
            "grid_column": null,
            "grid_gap": null,
            "grid_row": null,
            "grid_template_areas": null,
            "grid_template_columns": null,
            "grid_template_rows": null,
            "height": null,
            "justify_content": null,
            "justify_items": null,
            "left": null,
            "margin": null,
            "max_height": null,
            "max_width": null,
            "min_height": null,
            "min_width": null,
            "object_fit": null,
            "object_position": null,
            "order": null,
            "overflow": null,
            "overflow_x": null,
            "overflow_y": null,
            "padding": null,
            "right": null,
            "top": null,
            "visibility": null,
            "width": null
          }
        },
        "c3403878945344ab83abc7fba72e8d82": {
          "model_module": "@jupyter-widgets/base",
          "model_module_version": "1.2.0",
          "model_name": "LayoutModel",
          "state": {
            "_model_module": "@jupyter-widgets/base",
            "_model_module_version": "1.2.0",
            "_model_name": "LayoutModel",
            "_view_count": null,
            "_view_module": "@jupyter-widgets/base",
            "_view_module_version": "1.2.0",
            "_view_name": "LayoutView",
            "align_content": null,
            "align_items": null,
            "align_self": null,
            "border": null,
            "bottom": null,
            "display": null,
            "flex": null,
            "flex_flow": null,
            "grid_area": null,
            "grid_auto_columns": null,
            "grid_auto_flow": null,
            "grid_auto_rows": null,
            "grid_column": null,
            "grid_gap": null,
            "grid_row": null,
            "grid_template_areas": null,
            "grid_template_columns": null,
            "grid_template_rows": null,
            "height": null,
            "justify_content": null,
            "justify_items": null,
            "left": null,
            "margin": null,
            "max_height": null,
            "max_width": null,
            "min_height": null,
            "min_width": null,
            "object_fit": null,
            "object_position": null,
            "order": null,
            "overflow": null,
            "overflow_x": null,
            "overflow_y": null,
            "padding": null,
            "right": null,
            "top": null,
            "visibility": null,
            "width": null
          }
        },
        "c4d8601e8b6846178879d0df0ce00376": {
          "model_module": "@jupyter-widgets/base",
          "model_module_version": "1.2.0",
          "model_name": "LayoutModel",
          "state": {
            "_model_module": "@jupyter-widgets/base",
            "_model_module_version": "1.2.0",
            "_model_name": "LayoutModel",
            "_view_count": null,
            "_view_module": "@jupyter-widgets/base",
            "_view_module_version": "1.2.0",
            "_view_name": "LayoutView",
            "align_content": null,
            "align_items": null,
            "align_self": null,
            "border": null,
            "bottom": null,
            "display": null,
            "flex": null,
            "flex_flow": null,
            "grid_area": null,
            "grid_auto_columns": null,
            "grid_auto_flow": null,
            "grid_auto_rows": null,
            "grid_column": null,
            "grid_gap": null,
            "grid_row": null,
            "grid_template_areas": null,
            "grid_template_columns": null,
            "grid_template_rows": null,
            "height": null,
            "justify_content": null,
            "justify_items": null,
            "left": null,
            "margin": null,
            "max_height": null,
            "max_width": null,
            "min_height": null,
            "min_width": null,
            "object_fit": null,
            "object_position": null,
            "order": null,
            "overflow": null,
            "overflow_x": null,
            "overflow_y": null,
            "padding": null,
            "right": null,
            "top": null,
            "visibility": null,
            "width": null
          }
        },
        "d2bae35fefa14c3189efe7bd02fadcda": {
          "model_module": "@jupyter-widgets/controls",
          "model_module_version": "1.5.0",
          "model_name": "FloatProgressModel",
          "state": {
            "_dom_classes": [],
            "_model_module": "@jupyter-widgets/controls",
            "_model_module_version": "1.5.0",
            "_model_name": "FloatProgressModel",
            "_view_count": null,
            "_view_module": "@jupyter-widgets/controls",
            "_view_module_version": "1.5.0",
            "_view_name": "ProgressView",
            "bar_style": "success",
            "description": "100%",
            "description_tooltip": null,
            "layout": "IPY_MODEL_aa61c85650cd4574a422c7b90b805d90",
            "max": 3,
            "min": 0,
            "orientation": "horizontal",
            "style": "IPY_MODEL_fc16534850dc4ada8276eb371d608042",
            "value": 3
          }
        },
        "d337c81ebf19463d98d8197dce73b958": {
          "model_module": "@jupyter-widgets/controls",
          "model_module_version": "1.5.0",
          "model_name": "DescriptionStyleModel",
          "state": {
            "_model_module": "@jupyter-widgets/controls",
            "_model_module_version": "1.5.0",
            "_model_name": "DescriptionStyleModel",
            "_view_count": null,
            "_view_module": "@jupyter-widgets/base",
            "_view_module_version": "1.2.0",
            "_view_name": "StyleView",
            "description_width": ""
          }
        },
        "d4a202f70847454bb22594804680205b": {
          "model_module": "@jupyter-widgets/base",
          "model_module_version": "1.2.0",
          "model_name": "LayoutModel",
          "state": {
            "_model_module": "@jupyter-widgets/base",
            "_model_module_version": "1.2.0",
            "_model_name": "LayoutModel",
            "_view_count": null,
            "_view_module": "@jupyter-widgets/base",
            "_view_module_version": "1.2.0",
            "_view_name": "LayoutView",
            "align_content": null,
            "align_items": null,
            "align_self": null,
            "border": null,
            "bottom": null,
            "display": null,
            "flex": null,
            "flex_flow": null,
            "grid_area": null,
            "grid_auto_columns": null,
            "grid_auto_flow": null,
            "grid_auto_rows": null,
            "grid_column": null,
            "grid_gap": null,
            "grid_row": null,
            "grid_template_areas": null,
            "grid_template_columns": null,
            "grid_template_rows": null,
            "height": null,
            "justify_content": null,
            "justify_items": null,
            "left": null,
            "margin": null,
            "max_height": null,
            "max_width": null,
            "min_height": null,
            "min_width": null,
            "object_fit": null,
            "object_position": null,
            "order": null,
            "overflow": null,
            "overflow_x": null,
            "overflow_y": null,
            "padding": null,
            "right": null,
            "top": null,
            "visibility": null,
            "width": null
          }
        },
        "d5cb27524bd649c587f6e66b0bb8f2ef": {
          "model_module": "@jupyter-widgets/controls",
          "model_module_version": "1.5.0",
          "model_name": "HTMLModel",
          "state": {
            "_dom_classes": [],
            "_model_module": "@jupyter-widgets/controls",
            "_model_module_version": "1.5.0",
            "_model_name": "HTMLModel",
            "_view_count": null,
            "_view_module": "@jupyter-widgets/controls",
            "_view_module_version": "1.5.0",
            "_view_name": "HTMLView",
            "description": "",
            "description_tooltip": null,
            "layout": "IPY_MODEL_632f0f5dab6a42f799f590ce63a05b3a",
            "placeholder": "​",
            "style": "IPY_MODEL_d6283e4202f2450fae36c0735a7e79b3",
            "value": " 1/1 [00:10&lt;00:00, 10.43s/ba]"
          }
        },
        "d6283e4202f2450fae36c0735a7e79b3": {
          "model_module": "@jupyter-widgets/controls",
          "model_module_version": "1.5.0",
          "model_name": "DescriptionStyleModel",
          "state": {
            "_model_module": "@jupyter-widgets/controls",
            "_model_module_version": "1.5.0",
            "_model_name": "DescriptionStyleModel",
            "_view_count": null,
            "_view_module": "@jupyter-widgets/base",
            "_view_module_version": "1.2.0",
            "_view_name": "StyleView",
            "description_width": ""
          }
        },
        "db8d780d3d254754b528f18412684cf1": {
          "model_module": "@jupyter-widgets/base",
          "model_module_version": "1.2.0",
          "model_name": "LayoutModel",
          "state": {
            "_model_module": "@jupyter-widgets/base",
            "_model_module_version": "1.2.0",
            "_model_name": "LayoutModel",
            "_view_count": null,
            "_view_module": "@jupyter-widgets/base",
            "_view_module_version": "1.2.0",
            "_view_name": "LayoutView",
            "align_content": null,
            "align_items": null,
            "align_self": null,
            "border": null,
            "bottom": null,
            "display": null,
            "flex": null,
            "flex_flow": null,
            "grid_area": null,
            "grid_auto_columns": null,
            "grid_auto_flow": null,
            "grid_auto_rows": null,
            "grid_column": null,
            "grid_gap": null,
            "grid_row": null,
            "grid_template_areas": null,
            "grid_template_columns": null,
            "grid_template_rows": null,
            "height": null,
            "justify_content": null,
            "justify_items": null,
            "left": null,
            "margin": null,
            "max_height": null,
            "max_width": null,
            "min_height": null,
            "min_width": null,
            "object_fit": null,
            "object_position": null,
            "order": null,
            "overflow": null,
            "overflow_x": null,
            "overflow_y": null,
            "padding": null,
            "right": null,
            "top": null,
            "visibility": null,
            "width": null
          }
        },
        "e2ef06cf604c4dbf84cf495b47fce17d": {
          "model_module": "@jupyter-widgets/controls",
          "model_module_version": "1.5.0",
          "model_name": "HBoxModel",
          "state": {
            "_dom_classes": [],
            "_model_module": "@jupyter-widgets/controls",
            "_model_module_version": "1.5.0",
            "_model_name": "HBoxModel",
            "_view_count": null,
            "_view_module": "@jupyter-widgets/controls",
            "_view_module_version": "1.5.0",
            "_view_name": "HBoxView",
            "box_style": "",
            "children": [
              "IPY_MODEL_6db6f027fa354bc99e16451fc3436358",
              "IPY_MODEL_6a29fd6e5e2c43f59c51074e44b98000"
            ],
            "layout": "IPY_MODEL_173f0d8577f74e3cbf3ce96db457f369"
          }
        },
        "e5ea0e8d2c1e4252b4cda878bf076b31": {
          "model_module": "@jupyter-widgets/controls",
          "model_module_version": "1.5.0",
          "model_name": "FloatProgressModel",
          "state": {
            "_dom_classes": [],
            "_model_module": "@jupyter-widgets/controls",
            "_model_module_version": "1.5.0",
            "_model_name": "FloatProgressModel",
            "_view_count": null,
            "_view_module": "@jupyter-widgets/controls",
            "_view_module_version": "1.5.0",
            "_view_name": "ProgressView",
            "bar_style": "success",
            "description": "100%",
            "description_tooltip": null,
            "layout": "IPY_MODEL_51b4ff020af648bab654c19466bcb62f",
            "max": 1,
            "min": 0,
            "orientation": "horizontal",
            "style": "IPY_MODEL_a632c84d6953424fb8d4bd60f885d95d",
            "value": 1
          }
        },
        "ed248870ac004056942ba364adaaae06": {
          "model_module": "@jupyter-widgets/base",
          "model_module_version": "1.2.0",
          "model_name": "LayoutModel",
          "state": {
            "_model_module": "@jupyter-widgets/base",
            "_model_module_version": "1.2.0",
            "_model_name": "LayoutModel",
            "_view_count": null,
            "_view_module": "@jupyter-widgets/base",
            "_view_module_version": "1.2.0",
            "_view_name": "LayoutView",
            "align_content": null,
            "align_items": null,
            "align_self": null,
            "border": null,
            "bottom": null,
            "display": null,
            "flex": null,
            "flex_flow": null,
            "grid_area": null,
            "grid_auto_columns": null,
            "grid_auto_flow": null,
            "grid_auto_rows": null,
            "grid_column": null,
            "grid_gap": null,
            "grid_row": null,
            "grid_template_areas": null,
            "grid_template_columns": null,
            "grid_template_rows": null,
            "height": null,
            "justify_content": null,
            "justify_items": null,
            "left": null,
            "margin": null,
            "max_height": null,
            "max_width": null,
            "min_height": null,
            "min_width": null,
            "object_fit": null,
            "object_position": null,
            "order": null,
            "overflow": null,
            "overflow_x": null,
            "overflow_y": null,
            "padding": null,
            "right": null,
            "top": null,
            "visibility": null,
            "width": null
          }
        },
        "f534a07d6a7f412d9c8738c06d880104": {
          "model_module": "@jupyter-widgets/controls",
          "model_module_version": "1.5.0",
          "model_name": "FloatProgressModel",
          "state": {
            "_dom_classes": [],
            "_model_module": "@jupyter-widgets/controls",
            "_model_module_version": "1.5.0",
            "_model_name": "FloatProgressModel",
            "_view_count": null,
            "_view_module": "@jupyter-widgets/controls",
            "_view_module_version": "1.5.0",
            "_view_name": "ProgressView",
            "bar_style": "success",
            "description": "Downloading: 100%",
            "description_tooltip": null,
            "layout": "IPY_MODEL_db8d780d3d254754b528f18412684cf1",
            "max": 1135173,
            "min": 0,
            "orientation": "horizontal",
            "style": "IPY_MODEL_8792db2b73d5444d9551184561940b29",
            "value": 1135173
          }
        },
        "fa70916225ec43fd89ad25266b2fb285": {
          "model_module": "@jupyter-widgets/base",
          "model_module_version": "1.2.0",
          "model_name": "LayoutModel",
          "state": {
            "_model_module": "@jupyter-widgets/base",
            "_model_module_version": "1.2.0",
            "_model_name": "LayoutModel",
            "_view_count": null,
            "_view_module": "@jupyter-widgets/base",
            "_view_module_version": "1.2.0",
            "_view_name": "LayoutView",
            "align_content": null,
            "align_items": null,
            "align_self": null,
            "border": null,
            "bottom": null,
            "display": null,
            "flex": null,
            "flex_flow": null,
            "grid_area": null,
            "grid_auto_columns": null,
            "grid_auto_flow": null,
            "grid_auto_rows": null,
            "grid_column": null,
            "grid_gap": null,
            "grid_row": null,
            "grid_template_areas": null,
            "grid_template_columns": null,
            "grid_template_rows": null,
            "height": null,
            "justify_content": null,
            "justify_items": null,
            "left": null,
            "margin": null,
            "max_height": null,
            "max_width": null,
            "min_height": null,
            "min_width": null,
            "object_fit": null,
            "object_position": null,
            "order": null,
            "overflow": null,
            "overflow_x": null,
            "overflow_y": null,
            "padding": null,
            "right": null,
            "top": null,
            "visibility": null,
            "width": null
          }
        },
        "fc16534850dc4ada8276eb371d608042": {
          "model_module": "@jupyter-widgets/controls",
          "model_module_version": "1.5.0",
          "model_name": "ProgressStyleModel",
          "state": {
            "_model_module": "@jupyter-widgets/controls",
            "_model_module_version": "1.5.0",
            "_model_name": "ProgressStyleModel",
            "_view_count": null,
            "_view_module": "@jupyter-widgets/base",
            "_view_module_version": "1.2.0",
            "_view_name": "StyleView",
            "bar_color": null,
            "description_width": "initial"
          }
        }
      }
    }
  },
  "nbformat": 4,
  "nbformat_minor": 0
}
