{
 "cells": [
  {
   "cell_type": "code",
   "execution_count": 14,
   "metadata": {},
   "outputs": [],
   "source": [
    "from utils import * \n",
    "import yaml\n",
    "import torch\n",
    "pd.options.mode.copy_on_write = True\n",
    "import warnings\n",
    "warnings.filterwarnings('ignore')\n"
   ]
  },
  {
   "cell_type": "code",
   "execution_count": 2,
   "metadata": {},
   "outputs": [],
   "source": [
    "# Multioutput to multilabel function\n",
    "aspects =['SCREEN','CAMERA','FEATURES','BATTERY','PERFORMANCE',\n",
    "        'STORAGE','DESIGN','PRICE','GENERAL','SER&ACC']\n",
    "\n",
    "sentiments = ['NEG','NEU','POS']\n",
    "\n",
    "def motml(y):\n",
    "    name_cols = [f'{a}#{s}' for a in aspects for s in sentiments]\n",
    "    nrows, ncols = len(y),len(name_cols)\n",
    "    ml = pd.DataFrame(np.zeros((nrows,ncols)),columns=name_cols)\n",
    "\n",
    "    for i,a in enumerate(aspects):\n",
    "        for j in range(1,4):\n",
    "            indices = y[a] ==j #?\n",
    "            ml.iloc[indices,i*3+j-1] = 1\n",
    "    return ml\n",
    "\n",
    "from utils import * "
   ]
  },
  {
   "cell_type": "code",
   "execution_count": 15,
   "metadata": {},
   "outputs": [],
   "source": [
    "# Mutioutput to dataframe\n",
    "def motdf(y):\n",
    "    if isinstance(y, pd.DataFrame):\n",
    "        return y\n",
    "    return pd.DataFrame(y, columns=aspects)\n",
    "\n",
    "def init_data(df):\n",
    "    X = df.pop('comment')\n",
    "    y = df.replace({np.nan: 0,\n",
    "                    'Negative': 1,\n",
    "                    'Neutral': 2,\n",
    "                    'Positive': 3}).astype(np.uint8)\n",
    "\n",
    "    print('X.shape:', X.shape, 'y.shape:', y.shape)\n",
    "    return X, y"
   ]
  },
  {
   "cell_type": "code",
   "execution_count": 16,
   "metadata": {},
   "outputs": [
    {
     "name": "stdout",
     "output_type": "stream",
     "text": [
      "### Loading config {'aspect': ['SCREEN', 'CAMERA', 'FEATURES', 'BATTERY', 'PERFORMANCE', 'STORAGE', 'DESIGN', 'PRICE', 'GENERAL', 'SER&ACC'], 'labels': ['negative', 'neutral', 'positive'], 'train_file': '../Data/UIT-ViSFD/Train.csv', 'dev_file': '../Data/UIT-ViSFD/Dev.csv', 'test_file': '../Data/UIT-ViSFD/Test.csv', 'device': device(type='cpu')}\n"
     ]
    }
   ],
   "source": [
    "with open('ml_model.yaml') as f:\n",
    "  cfg = yaml.load(f, Loader=yaml.SafeLoader)\n",
    "  cfg['device']= torch.device(\"cuda:0\" if torch.cuda.is_available() else \"cpu\")\n",
    "  print(f\"### Loading config {cfg}\")"
   ]
  },
  {
   "cell_type": "code",
   "execution_count": 17,
   "metadata": {},
   "outputs": [],
   "source": [
    "def txt2df(filepath, aspect):\n",
    "    df = pd.read_csv(filepath)\n",
    "    df[aspect] = [label_encoder(label, aspect) for label in df['label']]\n",
    "    df_new=df.drop(columns=['index','n_star','date_time','label'])\n",
    "    return df_new"
   ]
  },
  {
   "cell_type": "code",
   "execution_count": 18,
   "metadata": {},
   "outputs": [
    {
     "name": "stdout",
     "output_type": "stream",
     "text": [
      "X.shape: (7786,) y.shape: (7786, 10)\n",
      "X.shape: (1112,) y.shape: (1112, 10)\n",
      "X.shape: (2224,) y.shape: (2224, 10)\n"
     ]
    }
   ],
   "source": [
    "train = txt2df(cfg['train_file'], cfg['aspect'])\n",
    "dev = txt2df(cfg['dev_file'], cfg['aspect'])\n",
    "test = txt2df(cfg['test_file'], cfg['aspect'])\n",
    "\n",
    "Xtrain, ytrain = init_data(train)\n",
    "Xdev,   ydev   = init_data(dev)\n",
    "Xtest,  ytest  = init_data(test)"
   ]
  },
  {
   "cell_type": "code",
   "execution_count": 19,
   "metadata": {},
   "outputs": [
    {
     "data": {
      "text/html": [
       "<div>\n",
       "<style scoped>\n",
       "    .dataframe tbody tr th:only-of-type {\n",
       "        vertical-align: middle;\n",
       "    }\n",
       "\n",
       "    .dataframe tbody tr th {\n",
       "        vertical-align: top;\n",
       "    }\n",
       "\n",
       "    .dataframe thead th {\n",
       "        text-align: right;\n",
       "    }\n",
       "</style>\n",
       "<table border=\"1\" class=\"dataframe\">\n",
       "  <thead>\n",
       "    <tr style=\"text-align: right;\">\n",
       "      <th></th>\n",
       "      <th>SCREEN</th>\n",
       "      <th>CAMERA</th>\n",
       "      <th>FEATURES</th>\n",
       "      <th>BATTERY</th>\n",
       "      <th>PERFORMANCE</th>\n",
       "      <th>STORAGE</th>\n",
       "      <th>DESIGN</th>\n",
       "      <th>PRICE</th>\n",
       "      <th>GENERAL</th>\n",
       "      <th>SER&amp;ACC</th>\n",
       "    </tr>\n",
       "  </thead>\n",
       "  <tbody>\n",
       "    <tr>\n",
       "      <th>0</th>\n",
       "      <td>0</td>\n",
       "      <td>3</td>\n",
       "      <td>3</td>\n",
       "      <td>3</td>\n",
       "      <td>0</td>\n",
       "      <td>0</td>\n",
       "      <td>0</td>\n",
       "      <td>3</td>\n",
       "      <td>3</td>\n",
       "      <td>3</td>\n",
       "    </tr>\n",
       "    <tr>\n",
       "      <th>1</th>\n",
       "      <td>0</td>\n",
       "      <td>0</td>\n",
       "      <td>0</td>\n",
       "      <td>1</td>\n",
       "      <td>0</td>\n",
       "      <td>0</td>\n",
       "      <td>0</td>\n",
       "      <td>0</td>\n",
       "      <td>3</td>\n",
       "      <td>0</td>\n",
       "    </tr>\n",
       "    <tr>\n",
       "      <th>2</th>\n",
       "      <td>0</td>\n",
       "      <td>0</td>\n",
       "      <td>1</td>\n",
       "      <td>0</td>\n",
       "      <td>0</td>\n",
       "      <td>0</td>\n",
       "      <td>0</td>\n",
       "      <td>0</td>\n",
       "      <td>0</td>\n",
       "      <td>0</td>\n",
       "    </tr>\n",
       "    <tr>\n",
       "      <th>3</th>\n",
       "      <td>0</td>\n",
       "      <td>0</td>\n",
       "      <td>1</td>\n",
       "      <td>2</td>\n",
       "      <td>0</td>\n",
       "      <td>0</td>\n",
       "      <td>0</td>\n",
       "      <td>0</td>\n",
       "      <td>2</td>\n",
       "      <td>0</td>\n",
       "    </tr>\n",
       "    <tr>\n",
       "      <th>4</th>\n",
       "      <td>0</td>\n",
       "      <td>0</td>\n",
       "      <td>0</td>\n",
       "      <td>3</td>\n",
       "      <td>3</td>\n",
       "      <td>0</td>\n",
       "      <td>0</td>\n",
       "      <td>0</td>\n",
       "      <td>0</td>\n",
       "      <td>1</td>\n",
       "    </tr>\n",
       "    <tr>\n",
       "      <th>...</th>\n",
       "      <td>...</td>\n",
       "      <td>...</td>\n",
       "      <td>...</td>\n",
       "      <td>...</td>\n",
       "      <td>...</td>\n",
       "      <td>...</td>\n",
       "      <td>...</td>\n",
       "      <td>...</td>\n",
       "      <td>...</td>\n",
       "      <td>...</td>\n",
       "    </tr>\n",
       "    <tr>\n",
       "      <th>7781</th>\n",
       "      <td>0</td>\n",
       "      <td>0</td>\n",
       "      <td>1</td>\n",
       "      <td>1</td>\n",
       "      <td>1</td>\n",
       "      <td>0</td>\n",
       "      <td>0</td>\n",
       "      <td>0</td>\n",
       "      <td>0</td>\n",
       "      <td>0</td>\n",
       "    </tr>\n",
       "    <tr>\n",
       "      <th>7782</th>\n",
       "      <td>0</td>\n",
       "      <td>0</td>\n",
       "      <td>1</td>\n",
       "      <td>0</td>\n",
       "      <td>1</td>\n",
       "      <td>0</td>\n",
       "      <td>0</td>\n",
       "      <td>3</td>\n",
       "      <td>0</td>\n",
       "      <td>0</td>\n",
       "    </tr>\n",
       "    <tr>\n",
       "      <th>7783</th>\n",
       "      <td>0</td>\n",
       "      <td>0</td>\n",
       "      <td>0</td>\n",
       "      <td>3</td>\n",
       "      <td>3</td>\n",
       "      <td>0</td>\n",
       "      <td>0</td>\n",
       "      <td>0</td>\n",
       "      <td>3</td>\n",
       "      <td>0</td>\n",
       "    </tr>\n",
       "    <tr>\n",
       "      <th>7784</th>\n",
       "      <td>0</td>\n",
       "      <td>0</td>\n",
       "      <td>0</td>\n",
       "      <td>0</td>\n",
       "      <td>0</td>\n",
       "      <td>0</td>\n",
       "      <td>0</td>\n",
       "      <td>1</td>\n",
       "      <td>3</td>\n",
       "      <td>1</td>\n",
       "    </tr>\n",
       "    <tr>\n",
       "      <th>7785</th>\n",
       "      <td>0</td>\n",
       "      <td>0</td>\n",
       "      <td>1</td>\n",
       "      <td>0</td>\n",
       "      <td>0</td>\n",
       "      <td>0</td>\n",
       "      <td>0</td>\n",
       "      <td>0</td>\n",
       "      <td>1</td>\n",
       "      <td>1</td>\n",
       "    </tr>\n",
       "  </tbody>\n",
       "</table>\n",
       "<p>7786 rows × 10 columns</p>\n",
       "</div>"
      ],
      "text/plain": [
       "      SCREEN  CAMERA  FEATURES  BATTERY  PERFORMANCE  STORAGE  DESIGN  PRICE  \\\n",
       "0          0       3         3        3            0        0       0      3   \n",
       "1          0       0         0        1            0        0       0      0   \n",
       "2          0       0         1        0            0        0       0      0   \n",
       "3          0       0         1        2            0        0       0      0   \n",
       "4          0       0         0        3            3        0       0      0   \n",
       "...      ...     ...       ...      ...          ...      ...     ...    ...   \n",
       "7781       0       0         1        1            1        0       0      0   \n",
       "7782       0       0         1        0            1        0       0      3   \n",
       "7783       0       0         0        3            3        0       0      0   \n",
       "7784       0       0         0        0            0        0       0      1   \n",
       "7785       0       0         1        0            0        0       0      0   \n",
       "\n",
       "      GENERAL  SER&ACC  \n",
       "0           3        3  \n",
       "1           3        0  \n",
       "2           0        0  \n",
       "3           2        0  \n",
       "4           0        1  \n",
       "...       ...      ...  \n",
       "7781        0        0  \n",
       "7782        0        0  \n",
       "7783        3        0  \n",
       "7784        3        1  \n",
       "7785        1        1  \n",
       "\n",
       "[7786 rows x 10 columns]"
      ]
     },
     "execution_count": 19,
     "metadata": {},
     "output_type": "execute_result"
    }
   ],
   "source": [
    "ytrain"
   ]
  },
  {
   "cell_type": "code",
   "execution_count": 20,
   "metadata": {},
   "outputs": [],
   "source": [
    "# y in real data for evaluation\n",
    "ytrain_ml = motml(ytrain)\n",
    "ydev_ml   = motml(ydev)\n",
    "ytest_ml  = motml(ytest)"
   ]
  },
  {
   "cell_type": "code",
   "execution_count": 12,
   "metadata": {},
   "outputs": [
    {
     "ename": "FileNotFoundError",
     "evalue": "[Errno 2] No such file or directory: 'teencode.txt'",
     "output_type": "error",
     "traceback": [
      "\u001b[1;31m---------------------------------------------------------------------------\u001b[0m",
      "\u001b[1;31mFileNotFoundError\u001b[0m                         Traceback (most recent call last)",
      "Cell \u001b[1;32mIn [12], line 1\u001b[0m\n\u001b[1;32m----> 1\u001b[0m \u001b[38;5;28;01mfrom\u001b[39;00m \u001b[38;5;21;01mtext_preprocessed_nvh\u001b[39;00m \u001b[38;5;28;01mimport\u001b[39;00m preprocess_fn\n\u001b[0;32m      2\u001b[0m xtrain \u001b[38;5;241m=\u001b[39m Xtrain\u001b[38;5;241m.\u001b[39mapply(preprocess_fn)\n\u001b[0;32m      3\u001b[0m xdev   \u001b[38;5;241m=\u001b[39m Xdev\u001b[38;5;241m.\u001b[39mapply(preprocess_fn)\n",
      "File \u001b[1;32md:\\OneDrive - mrsnguyen\\DUE\\KLTN\\KhoaLuanGr3-Code\\Model\\text_preprocessed_nvh.py:173\u001b[0m\n\u001b[0;32m    133\u001b[0m \u001b[38;5;66;03m# Normalize acronyms\u001b[39;00m\n\u001b[0;32m    134\u001b[0m \u001b[38;5;66;03m# !wget https://gist.githubusercontent.com/nguyenvanhieuvn/7d9441c10b3c2739499fc5a4d9ea06fb/raw/df939245b3e841b62af115be4dcb3516dadc9fc5/teencode.txt\u001b[39;00m\n\u001b[0;32m    135\u001b[0m replace_list \u001b[38;5;241m=\u001b[39m {\n\u001b[0;32m    136\u001b[0m     \u001b[38;5;124m'\u001b[39m\u001b[38;5;124mô kêi\u001b[39m\u001b[38;5;124m'\u001b[39m: \u001b[38;5;124m'\u001b[39m\u001b[38;5;124mok\u001b[39m\u001b[38;5;124m'\u001b[39m, \u001b[38;5;124m'\u001b[39m\u001b[38;5;124mokie\u001b[39m\u001b[38;5;124m'\u001b[39m: \u001b[38;5;124m'\u001b[39m\u001b[38;5;124mok\u001b[39m\u001b[38;5;124m'\u001b[39m, \u001b[38;5;124m'\u001b[39m\u001b[38;5;124mo kê\u001b[39m\u001b[38;5;124m'\u001b[39m: \u001b[38;5;124m'\u001b[39m\u001b[38;5;124mok\u001b[39m\u001b[38;5;124m'\u001b[39m, \u001b[38;5;124m'\u001b[39m\u001b[38;5;124mokey\u001b[39m\u001b[38;5;124m'\u001b[39m: \u001b[38;5;124m'\u001b[39m\u001b[38;5;124mok\u001b[39m\u001b[38;5;124m'\u001b[39m, \u001b[38;5;124m'\u001b[39m\u001b[38;5;124môkê\u001b[39m\u001b[38;5;124m'\u001b[39m: \u001b[38;5;124m'\u001b[39m\u001b[38;5;124mok\u001b[39m\u001b[38;5;124m'\u001b[39m, \u001b[38;5;124m'\u001b[39m\u001b[38;5;124moki\u001b[39m\u001b[38;5;124m'\u001b[39m: \u001b[38;5;124m'\u001b[39m\u001b[38;5;124mok\u001b[39m\u001b[38;5;124m'\u001b[39m, \u001b[38;5;124m'\u001b[39m\u001b[38;5;124moke\u001b[39m\u001b[38;5;124m'\u001b[39m: \u001b[38;5;124m'\u001b[39m\u001b[38;5;124mok\u001b[39m\u001b[38;5;124m'\u001b[39m, \u001b[38;5;124m'\u001b[39m\u001b[38;5;124mokay\u001b[39m\u001b[38;5;124m'\u001b[39m: \u001b[38;5;124m'\u001b[39m\u001b[38;5;124mok\u001b[39m\u001b[38;5;124m'\u001b[39m, \u001b[38;5;124m'\u001b[39m\u001b[38;5;124mokê\u001b[39m\u001b[38;5;124m'\u001b[39m: \u001b[38;5;124m'\u001b[39m\u001b[38;5;124mok\u001b[39m\u001b[38;5;124m'\u001b[39m,\n\u001b[0;32m    137\u001b[0m     \u001b[38;5;124m'\u001b[39m\u001b[38;5;124mtks\u001b[39m\u001b[38;5;124m'\u001b[39m: \u001b[38;5;124m'\u001b[39m\u001b[38;5;124mcảm ơn\u001b[39m\u001b[38;5;124m'\u001b[39m, \u001b[38;5;124m'\u001b[39m\u001b[38;5;124mthks\u001b[39m\u001b[38;5;124m'\u001b[39m: \u001b[38;5;124m'\u001b[39m\u001b[38;5;124mcảm ơn\u001b[39m\u001b[38;5;124m'\u001b[39m, \u001b[38;5;124m'\u001b[39m\u001b[38;5;124mthanks\u001b[39m\u001b[38;5;124m'\u001b[39m: \u001b[38;5;124m'\u001b[39m\u001b[38;5;124mcảm ơn\u001b[39m\u001b[38;5;124m'\u001b[39m, \u001b[38;5;124m'\u001b[39m\u001b[38;5;124mths\u001b[39m\u001b[38;5;124m'\u001b[39m: \u001b[38;5;124m'\u001b[39m\u001b[38;5;124mcảm ơn\u001b[39m\u001b[38;5;124m'\u001b[39m, \u001b[38;5;124m'\u001b[39m\u001b[38;5;124mthank\u001b[39m\u001b[38;5;124m'\u001b[39m: \u001b[38;5;124m'\u001b[39m\u001b[38;5;124mcảm ơn\u001b[39m\u001b[38;5;124m'\u001b[39m,\n\u001b[1;32m   (...)\u001b[0m\n\u001b[0;32m    170\u001b[0m     \u001b[38;5;124m'\u001b[39m\u001b[38;5;124m⭐\u001b[39m\u001b[38;5;124m'\u001b[39m: \u001b[38;5;124m'\u001b[39m\u001b[38;5;124mstar\u001b[39m\u001b[38;5;124m'\u001b[39m, \u001b[38;5;124m'\u001b[39m\u001b[38;5;124m*\u001b[39m\u001b[38;5;124m'\u001b[39m: \u001b[38;5;124m'\u001b[39m\u001b[38;5;124mstar\u001b[39m\u001b[38;5;124m'\u001b[39m, \u001b[38;5;124m'\u001b[39m\u001b[38;5;124m🌟\u001b[39m\u001b[38;5;124m'\u001b[39m: \u001b[38;5;124m'\u001b[39m\u001b[38;5;124mstar\u001b[39m\u001b[38;5;124m'\u001b[39m,\n\u001b[0;32m    171\u001b[0m }\n\u001b[1;32m--> 173\u001b[0m \u001b[38;5;28;01mwith\u001b[39;00m \u001b[38;5;28;43mopen\u001b[39;49m\u001b[43m(\u001b[49m\u001b[38;5;124;43m'\u001b[39;49m\u001b[38;5;124;43mteencode.txt\u001b[39;49m\u001b[38;5;124;43m'\u001b[39;49m\u001b[43m,\u001b[49m\u001b[43m \u001b[49m\u001b[43mencoding\u001b[49m\u001b[38;5;241;43m=\u001b[39;49m\u001b[38;5;124;43m'\u001b[39;49m\u001b[38;5;124;43mutf-8\u001b[39;49m\u001b[38;5;124;43m'\u001b[39;49m\u001b[43m)\u001b[49m \u001b[38;5;28;01mas\u001b[39;00m f:\n\u001b[0;32m    174\u001b[0m     \u001b[38;5;28;01mfor\u001b[39;00m pair \u001b[38;5;129;01min\u001b[39;00m f\u001b[38;5;241m.\u001b[39mreadlines():\n\u001b[0;32m    175\u001b[0m         key, value \u001b[38;5;241m=\u001b[39m pair\u001b[38;5;241m.\u001b[39msplit(\u001b[38;5;124m'\u001b[39m\u001b[38;5;130;01m\\t\u001b[39;00m\u001b[38;5;124m'\u001b[39m)\n",
      "\u001b[1;31mFileNotFoundError\u001b[0m: [Errno 2] No such file or directory: 'teencode.txt'"
     ]
    }
   ],
   "source": [
    "from text_preprocessed_nvh import preprocess_fn\n",
    "xtrain = Xtrain.apply(preprocess_fn)\n",
    "xdev   = Xdev.apply(preprocess_fn)\n",
    "xtest  = Xtest.apply(preprocess_fn)"
   ]
  },
  {
   "cell_type": "code",
   "execution_count": 14,
   "metadata": {},
   "outputs": [
    {
     "name": "stdout",
     "output_type": "stream",
     "text": [
      "Xtrain key metrics\n",
      "Number of samples: 7786\n",
      "Number of aspects: 10\n",
      "Number of classes: 30\n",
      "Number of words per sample: 26.0\n",
      "Number of samples/number of words per sample ratio 299.46153846153845\n"
     ]
    }
   ],
   "source": [
    "def get_num_words_per_sample(sample_texts):\n",
    "    num_words = [len(s.split()) for s in sample_texts]\n",
    "    return np.median(num_words)\n",
    "num_samples = len(xtrain)\n",
    "num_aspects = len(aspects)\n",
    "num_classes = num_aspects * 3\n",
    "num_words_per_sample = get_num_words_per_sample(xtrain)\n",
    "sw_ratio = num_samples / num_words_per_sample\n",
    "\n",
    "\n",
    "print(\"Xtrain key metrics\")\n",
    "print(\"Number of samples:\", num_samples)\n",
    "print(\"Number of aspects:\", num_aspects)\n",
    "print(\"Number of classes:\", num_classes)\n",
    "print(\"Number of words per sample:\", num_words_per_sample)\n",
    "print(\"Number of samples/number of words per sample ratio\", sw_ratio)"
   ]
  },
  {
   "cell_type": "code",
   "execution_count": 13,
   "metadata": {},
   "outputs": [
    {
     "ename": "NameError",
     "evalue": "name 'xtrain' is not defined",
     "output_type": "error",
     "traceback": [
      "\u001b[1;31m---------------------------------------------------------------------------\u001b[0m",
      "\u001b[1;31mNameError\u001b[0m                                 Traceback (most recent call last)",
      "Cell \u001b[1;32mIn [13], line 1\u001b[0m\n\u001b[1;32m----> 1\u001b[0m \u001b[43mxtrain\u001b[49m\n\u001b[0;32m      2\u001b[0m train_vocabulary \u001b[38;5;241m=\u001b[39m \u001b[38;5;28mset\u001b[39m()\n\u001b[0;32m      3\u001b[0m \u001b[38;5;28;01mfor\u001b[39;00m line \u001b[38;5;129;01min\u001b[39;00m xtrain:\n",
      "\u001b[1;31mNameError\u001b[0m: name 'xtrain' is not defined"
     ]
    }
   ],
   "source": [
    "xtrain\n",
    "train_vocabulary = set()\n",
    "for line in xtrain:\n",
    "    words = line.strip().split()\n",
    "    train_vocabulary.update(words)\n",
    "\n",
    "# Tạo từ vựng của tập test\n",
    "test_vocabulary = set()\n",
    "for line in xtest:\n",
    "    words = line.strip().split()\n",
    "    test_vocabulary.update(words)\n",
    "\n",
    "# Tạo từ vựng của tập val\n",
    "val_vocabulary = set()\n",
    "for line in xdev:\n",
    "    words = line.strip().split()\n",
    "    val_vocabulary.update(words)"
   ]
  },
  {
   "cell_type": "code",
   "execution_count": 16,
   "metadata": {},
   "outputs": [
    {
     "name": "stdout",
     "output_type": "stream",
     "text": [
      "Số lượng từ vựng tập train:  11298\n",
      "Số lượng từ vựng tập val:  3529\n",
      "Số lượng từ vựng tập test:  5302\n",
      "Số lượng từ vựng nằm ngoài tập train của tập val:  960\n",
      "Số lượng từ vựng nằm ngoài tập train của tập test:  1776\n"
     ]
    }
   ],
   "source": [
    "print(\"Số lượng từ vựng tập train: \", len(train_vocabulary))\n",
    "print(\"Số lượng từ vựng tập val: \", len(val_vocabulary))\n",
    "print(\"Số lượng từ vựng tập test: \", len(test_vocabulary))\n",
    "\n",
    "print(\"Số lượng từ vựng nằm ngoài tập train của tập val: \", len(val_vocabulary - train_vocabulary))\n",
    "print(\"Số lượng từ vựng nằm ngoài tập train của tập test: \", len(test_vocabulary - train_vocabulary))"
   ]
  },
  {
   "cell_type": "code",
   "execution_count": 14,
   "metadata": {},
   "outputs": [
    {
     "data": {
      "text/plain": [
       "0       mới mua máy này tại thegioididong thốt nốt cảm...\n",
       "1       pin kém còn lại miễn_chê mua 832019 tình_trạng...\n",
       "2       sao lúc gọi điện_thoại màn_hình bị chấm nhỏ nh...\n",
       "3       mọi người cập_nhật phần_mềm lại nó sẽ bớt tốn_...\n",
       "4       mới mua xài được 1 tháng thấy pin rất trâu xài...\n",
       "                              ...                        \n",
       "7781    8 g cái đi đánh là mạng giật_giật không chịu n...\n",
       "7782    mua được giảm 500 k mà lỗi lòi ra hết treo màn...\n",
       "7783    máy xài 3 tháng rồi rất ok pin trâu khỏi nói x...\n",
       "7784    rất tiếc hàng realme không có ốp lưng ngoài nê...\n",
       "7785    mình rất thất_vọng khi mua máy này bắt wifi cự...\n",
       "Name: comment, Length: 7786, dtype: object"
      ]
     },
     "execution_count": 14,
     "metadata": {},
     "output_type": "execute_result"
    }
   ],
   "source": [
    "xtrain"
   ]
  },
  {
   "cell_type": "code",
   "execution_count": 10,
   "metadata": {},
   "outputs": [
    {
     "ename": "NameError",
     "evalue": "name 'xtrain' is not defined",
     "output_type": "error",
     "traceback": [
      "\u001b[1;31m---------------------------------------------------------------------------\u001b[0m",
      "\u001b[1;31mNameError\u001b[0m                                 Traceback (most recent call last)",
      "Cell \u001b[1;32mIn [10], line 7\u001b[0m\n\u001b[0;32m      3\u001b[0m vectorizer \u001b[38;5;241m=\u001b[39m TfidfVectorizer(ngram_range\u001b[38;5;241m=\u001b[39m(\u001b[38;5;241m1\u001b[39m, \u001b[38;5;241m3\u001b[39m),\n\u001b[0;32m      4\u001b[0m                              min_df\u001b[38;5;241m=\u001b[39m\u001b[38;5;241m4\u001b[39m, max_df\u001b[38;5;241m=\u001b[39m\u001b[38;5;241m0.85\u001b[39m)\n\u001b[0;32m      6\u001b[0m \u001b[38;5;66;03m# x data using basic clean up class and basic features extrator\u001b[39;00m\n\u001b[1;32m----> 7\u001b[0m xtrain_tfidf \u001b[38;5;241m=\u001b[39m vectorizer\u001b[38;5;241m.\u001b[39mfit_transform(\u001b[43mxtrain\u001b[49m)\n\u001b[0;32m      8\u001b[0m xdev_tfidf   \u001b[38;5;241m=\u001b[39m vectorizer\u001b[38;5;241m.\u001b[39mtransform(xdev)\n\u001b[0;32m      9\u001b[0m xtest_tfidf  \u001b[38;5;241m=\u001b[39m vectorizer\u001b[38;5;241m.\u001b[39mtransform(xtest)\n",
      "\u001b[1;31mNameError\u001b[0m: name 'xtrain' is not defined"
     ]
    }
   ],
   "source": [
    "from sklearn.feature_extraction.text import TfidfVectorizer\n",
    "\n",
    "vectorizer = TfidfVectorizer(ngram_range=(1, 3),\n",
    "                             min_df=4, max_df=0.85)\n",
    "\n",
    "# x data using basic clean up class and basic features extrator\n",
    "xtrain_tfidf = vectorizer.fit_transform(xtrain)\n",
    "xdev_tfidf   = vectorizer.transform(xdev)\n",
    "xtest_tfidf  = vectorizer.transform(xtest)\n"
   ]
  },
  {
   "cell_type": "code",
   "execution_count": 33,
   "metadata": {},
   "outputs": [
    {
     "data": {
      "text/plain": [
       "(7786, 16307)"
      ]
     },
     "execution_count": 33,
     "metadata": {},
     "output_type": "execute_result"
    }
   ],
   "source": [
    "xtrain_tfidf.shape"
   ]
  },
  {
   "cell_type": "code",
   "execution_count": 34,
   "metadata": {},
   "outputs": [],
   "source": [
    "from sklearn.multioutput import MultiOutputClassifier as MOC\n",
    "from sklearn.metrics import f1_score, classification_report\n",
    "from eval import label_map, replacements, target_names, aspect_detection_eval, sentiment_classification_eval, combination_eval\n",
    "\n",
    "categories= list(ytest.columns)\n",
    "\n",
    "def quick_f1(y_true, y_pred):\n",
    "    y_pred = motml(motdf(y_pred))\n",
    "    return round(f1_score(y_true, y_pred, average='micro', zero_division=0), 4)\n",
    "\n",
    "def evaluate(model, X, y, average='micro'):\n",
    "    yb_true  = motml(y)\n",
    "\n",
    "    yb_pred  = motdf(model.predict(X))\n",
    "    yb_pred  = motml(yb_pred)\n",
    "\n",
    "    return classification_report(yb_true, yb_pred, zero_division=0)"
   ]
  },
  {
   "cell_type": "code",
   "execution_count": 35,
   "metadata": {},
   "outputs": [],
   "source": [
    "from sklearn.svm import LinearSVC\n",
    "from sklearn.linear_model import LogisticRegression\n",
    "clf0 = MOC(LinearSVC(random_state=5))\n",
    "clf0.fit(xtrain_tfidf, ytrain)\n",
    "ypred= clf0.predict(xtest_tfidf)"
   ]
  },
  {
   "cell_type": "code",
   "execution_count": 49,
   "metadata": {},
   "outputs": [
    {
     "data": {
      "text/plain": [
       "array([[0, 0, 0, 1, 0, 0, 0, 0, 0, 0]], dtype=uint8)"
      ]
     },
     "execution_count": 49,
     "metadata": {},
     "output_type": "execute_result"
    }
   ],
   "source": [
    "\n",
    "clf0.predict(vectorizer.transform(['Mình mới mua dc 4 ngày, sao để dt qua đêm , sáng dậy lúc nào cũng bị tụt 4 5 % pin']))"
   ]
  },
  {
   "cell_type": "code",
   "execution_count": 42,
   "metadata": {},
   "outputs": [
    {
     "data": {
      "text/plain": [
       "['SCREEN',\n",
       " 'CAMERA',\n",
       " 'FEATURES',\n",
       " 'BATTERY',\n",
       " 'PERFORMANCE',\n",
       " 'STORAGE',\n",
       " 'DESIGN',\n",
       " 'PRICE',\n",
       " 'GENERAL',\n",
       " 'SER&ACC']"
      ]
     },
     "execution_count": 42,
     "metadata": {},
     "output_type": "execute_result"
    }
   ],
   "source": [
    "categories"
   ]
  },
  {
   "cell_type": "code",
   "execution_count": 20,
   "metadata": {},
   "outputs": [],
   "source": [
    "import pandas as pd \n",
    "df_social = pd.read_csv('../Data/Preprocessed_data/EcomReviews.csv')\n",
    "df_social_test = df_social['Review']\n",
    "\n",
    "df_social_test.dropna(inplace=True)\n",
    "df_social2 = df_social_test.apply(preprocess_fn)\n",
    "\n",
    "df_social3  = vectorizer.transform(df_social2)\n",
    "\n"
   ]
  },
  {
   "cell_type": "code",
   "execution_count": 23,
   "metadata": {},
   "outputs": [],
   "source": [
    "df_social3  = vectorizer.transform(df_social2)"
   ]
  },
  {
   "cell_type": "code",
   "execution_count": 36,
   "metadata": {},
   "outputs": [
    {
     "name": "stdout",
     "output_type": "stream",
     "text": [
      "## Aspect Detection Evaluate ##\n",
      "              precision    recall  f1-score   support\n",
      "\n",
      "                 0.8961    0.9627    0.9282     15518\n",
      "     BATTERY     0.9562    0.8393    0.8939      1014\n",
      "      CAMERA     0.9528    0.7551    0.8425       588\n",
      "      DESIGN     0.9286    0.5553    0.6950       398\n",
      "    FEATURES     0.8905    0.7089    0.7894       711\n",
      "     GENERAL     0.8293    0.7951    0.8118      1381\n",
      " PERFORMANCE     0.8830    0.7918    0.8349      1172\n",
      "       PRICE     0.9156    0.7241    0.8086       569\n",
      "      SCREEN     0.8698    0.5465    0.6712       269\n",
      "     SER&ACC     0.9291    0.6408    0.7585       593\n",
      "     STORAGE     0.8333    0.1852    0.3030        27\n",
      "\n",
      "    accuracy                         0.8961     22240\n",
      "   macro avg     0.8986    0.6822    0.7579     22240\n",
      "weighted avg     0.8969    0.8961    0.8922     22240\n",
      "\n"
     ]
    }
   ],
   "source": [
    "ypred= pd.DataFrame(ypred, columns= categories)\n",
    "aspect_detection_eval(ytest, ypred)"
   ]
  },
  {
   "cell_type": "code",
   "execution_count": 37,
   "metadata": {},
   "outputs": [
    {
     "name": "stdout",
     "output_type": "stream",
     "text": [
      "## Sentiment Classification Evaluate ##\n",
      "              precision    recall  f1-score   support\n",
      "\n",
      "        None     0.8961    0.9627    0.9282     15518\n",
      "    negative     0.7514    0.5937    0.6633      2210\n",
      "     neutral     0.7153    0.3599    0.4788       817\n",
      "    positive     0.8077    0.7459    0.7756      3695\n",
      "\n",
      "    accuracy                         0.8679     22240\n",
      "   macro avg     0.7927    0.6655    0.7115     22240\n",
      "weighted avg     0.8604    0.8679    0.8600     22240\n",
      "\n"
     ]
    }
   ],
   "source": [
    "sentiment_classification_eval(ytest, ypred)"
   ]
  },
  {
   "cell_type": "code",
   "execution_count": 38,
   "metadata": {},
   "outputs": [
    {
     "name": "stdout",
     "output_type": "stream",
     "text": [
      "## Combination Evaluate (Aspect Detection + Sentiment Classification) ##\n",
      "                      precision    recall  f1-score   support\n",
      "\n",
      "        BATTERY,None     0.8778    0.9678    0.9206      1210\n",
      "    BATTERY,negative     0.7935    0.7310    0.7610       368\n",
      "     BATTERY,neutral     0.4839    0.1630    0.2439        92\n",
      "    BATTERY,positive     0.8423    0.7906    0.8156       554\n",
      "         CAMERA,None     0.9181    0.9866    0.9511      1636\n",
      "     CAMERA,negative     0.8455    0.5439    0.6619       171\n",
      "      CAMERA,neutral     0.5385    0.2958    0.3818        71\n",
      "     CAMERA,positive     0.7950    0.7283    0.7602       346\n",
      "         DESIGN,None     0.9109    0.9907    0.9491      1826\n",
      "     DESIGN,negative     0.7037    0.1979    0.3089        96\n",
      "      DESIGN,neutral     1.0000    0.0357    0.0690        28\n",
      "     DESIGN,positive     0.8524    0.6533    0.7397       274\n",
      "       FEATURES,None     0.8752    0.9590    0.9152      1513\n",
      "   FEATURES,negative     0.7658    0.7124    0.7381       459\n",
      "    FEATURES,neutral     0.2500    0.0385    0.0667        52\n",
      "   FEATURES,positive     0.7557    0.4950    0.5982       200\n",
      "        GENERAL,None     0.6856    0.7319    0.7080       843\n",
      "    GENERAL,negative     0.6844    0.5680    0.6208       294\n",
      "     GENERAL,neutral     0.7037    0.2289    0.3455        83\n",
      "    GENERAL,positive     0.8053    0.8446    0.8245      1004\n",
      "    PERFORMANCE,None     0.7920    0.8831    0.8351      1052\n",
      "PERFORMANCE,negative     0.7311    0.6828    0.7062       454\n",
      " PERFORMANCE,neutral     0.5294    0.0776    0.1353       116\n",
      "PERFORMANCE,positive     0.7705    0.7807    0.7756       602\n",
      "          PRICE,None     0.9115    0.9770    0.9431      1655\n",
      "      PRICE,negative     0.6170    0.3671    0.4603        79\n",
      "       PRICE,neutral     0.7937    0.6921    0.7394       328\n",
      "      PRICE,positive     0.7436    0.5370    0.6237       162\n",
      "         SCREEN,None     0.9406    0.9887    0.9641      1955\n",
      "     SCREEN,negative     0.8308    0.4655    0.5967       116\n",
      "      SCREEN,neutral     1.0000    0.0000    0.0000        17\n",
      "     SCREEN,positive     0.7692    0.5882    0.6667       136\n",
      "        SER&ACC,None     0.8826    0.9822    0.9298      1631\n",
      "    SER&ACC,negative     0.6935    0.2575    0.3755       167\n",
      "     SER&ACC,neutral     0.0000    0.0000    0.0000        27\n",
      "    SER&ACC,positive     0.8696    0.7519    0.8065       399\n",
      "        STORAGE,None     0.9901    0.9995    0.9948      2197\n",
      "    STORAGE,negative     1.0000    0.1667    0.2857         6\n",
      "     STORAGE,neutral     1.0000    0.0000    0.0000         3\n",
      "    STORAGE,positive     0.6000    0.1667    0.2609        18\n",
      "\n",
      "            accuracy                         0.8679     22240\n",
      "           macro avg     0.7638    0.5507    0.5870     22240\n",
      "        weighted avg     0.8582    0.8679    0.8560     22240\n",
      "\n"
     ]
    }
   ],
   "source": [
    "combination_eval(ytest, ypred)"
   ]
  },
  {
   "cell_type": "code",
   "execution_count": 171,
   "metadata": {},
   "outputs": [],
   "source": [
    "import optuna\n",
    "from optuna.samplers import TPESampler"
   ]
  },
  {
   "cell_type": "code",
   "execution_count": 172,
   "metadata": {},
   "outputs": [],
   "source": [
    "def callback(study, trial):\n",
    "    if study.best_trial.number == trial.number:\n",
    "        study.set_user_attr(key='best_model', value=trial.user_attrs['model'])"
   ]
  },
  {
   "cell_type": "code",
   "execution_count": 177,
   "metadata": {},
   "outputs": [
    {
     "name": "stderr",
     "output_type": "stream",
     "text": [
      "[I 2024-03-09 18:46:12,309] A new study created in memory with name: no-name-3fe0e134-ab1a-421a-a826-0c95a3f99d91\n"
     ]
    },
    {
     "name": "stderr",
     "output_type": "stream",
     "text": [
      "[I 2024-03-09 18:46:12,866] Trial 0 finished with value: 0.2385 and parameters: {'C': 1.9636582699290402e-07, 'class_weight': 'balanced', 'loss': 'hinge'}. Best is trial 0 with value: 0.2385.\n",
      "[I 2024-03-09 18:46:13,878] Trial 1 finished with value: 0.2385 and parameters: {'C': 5.339536586472381e-06, 'class_weight': None, 'loss': 'squared_hinge'}. Best is trial 0 with value: 0.2385.\n",
      "[I 2024-03-09 18:46:14,244] Trial 2 finished with value: 0.2385 and parameters: {'C': 1.3055563380836963e-09, 'class_weight': None, 'loss': 'hinge'}. Best is trial 0 with value: 0.2385.\n",
      "[I 2024-03-09 18:46:14,606] Trial 3 finished with value: 0.2385 and parameters: {'C': 1.1682869614143264e-09, 'class_weight': None, 'loss': 'hinge'}. Best is trial 0 with value: 0.2385.\n",
      "[I 2024-03-09 18:46:17,178] Trial 4 finished with value: 0.7001 and parameters: {'C': 0.2804917948703948, 'class_weight': 'balanced', 'loss': 'hinge'}. Best is trial 4 with value: 0.7001.\n",
      "[I 2024-03-09 18:46:18,328] Trial 5 finished with value: 0.3058 and parameters: {'C': 0.002674151911363306, 'class_weight': 'balanced', 'loss': 'squared_hinge'}. Best is trial 4 with value: 0.7001.\n",
      "[I 2024-03-09 18:46:20,291] Trial 6 finished with value: 0.6519 and parameters: {'C': 0.02828254640470946, 'class_weight': 'balanced', 'loss': 'squared_hinge'}. Best is trial 4 with value: 0.7001.\n",
      "[I 2024-03-09 18:46:22,901] Trial 7 finished with value: 0.7219 and parameters: {'C': 0.15640579894830894, 'class_weight': 'balanced', 'loss': 'squared_hinge'}. Best is trial 7 with value: 0.7219.\n",
      "[I 2024-03-09 18:46:23,531] Trial 8 finished with value: 0.2385 and parameters: {'C': 2.6540634283127564e-06, 'class_weight': None, 'loss': 'hinge'}. Best is trial 7 with value: 0.7219.\n",
      "[I 2024-03-09 18:46:25,474] Trial 9 finished with value: 0.6646 and parameters: {'C': 0.03412839819879307, 'class_weight': 'balanced', 'loss': 'squared_hinge'}. Best is trial 7 with value: 0.7219.\n",
      "[I 2024-03-09 18:47:26,891] Trial 10 finished with value: 0.7202 and parameters: {'C': 78.77092791878178, 'class_weight': 'balanced', 'loss': 'squared_hinge'}. Best is trial 7 with value: 0.7219.\n",
      "[I 2024-03-09 18:48:31,448] Trial 11 finished with value: 0.7203 and parameters: {'C': 95.87563556023869, 'class_weight': 'balanced', 'loss': 'squared_hinge'}. Best is trial 7 with value: 0.7219.\n",
      "[I 2024-03-09 18:49:37,562] Trial 12 finished with value: 0.7201 and parameters: {'C': 81.92088589339653, 'class_weight': 'balanced', 'loss': 'squared_hinge'}. Best is trial 7 with value: 0.7219.\n",
      "[I 2024-03-09 18:49:41,764] Trial 13 finished with value: 0.7361 and parameters: {'C': 1.3058223263486979, 'class_weight': 'balanced', 'loss': 'squared_hinge'}. Best is trial 13 with value: 0.7361.\n",
      "[I 2024-03-09 18:49:46,348] Trial 14 finished with value: 0.7367 and parameters: {'C': 1.460434057795346, 'class_weight': 'balanced', 'loss': 'squared_hinge'}. Best is trial 14 with value: 0.7367.\n",
      "[I 2024-03-09 18:49:52,111] Trial 15 finished with value: 0.7351 and parameters: {'C': 2.3149432535947265, 'class_weight': 'balanced', 'loss': 'squared_hinge'}. Best is trial 14 with value: 0.7367.\n",
      "[I 2024-03-09 18:49:53,327] Trial 16 finished with value: 0.2385 and parameters: {'C': 0.00027328161761020663, 'class_weight': 'balanced', 'loss': 'squared_hinge'}. Best is trial 14 with value: 0.7367.\n",
      "[I 2024-03-09 18:49:58,783] Trial 17 finished with value: 0.7324 and parameters: {'C': 2.6553608515212566, 'class_weight': 'balanced', 'loss': 'squared_hinge'}. Best is trial 14 with value: 0.7367.\n",
      "[I 2024-03-09 18:49:59,847] Trial 18 finished with value: 0.2385 and parameters: {'C': 0.0004748395299999722, 'class_weight': None, 'loss': 'squared_hinge'}. Best is trial 14 with value: 0.7367.\n",
      "[I 2024-03-09 18:50:05,115] Trial 19 finished with value: 0.7339 and parameters: {'C': 2.48696722105663, 'class_weight': 'balanced', 'loss': 'squared_hinge'}. Best is trial 14 with value: 0.7367.\n",
      "[I 2024-03-09 18:50:06,230] Trial 20 finished with value: 0.4954 and parameters: {'C': 0.006649394133283028, 'class_weight': 'balanced', 'loss': 'squared_hinge'}. Best is trial 14 with value: 0.7367.\n",
      "[I 2024-03-09 18:50:12,883] Trial 21 finished with value: 0.7321 and parameters: {'C': 3.7772470453505846, 'class_weight': 'balanced', 'loss': 'squared_hinge'}. Best is trial 14 with value: 0.7367.\n",
      "[I 2024-03-09 18:50:16,217] Trial 22 finished with value: 0.7359 and parameters: {'C': 0.8628177302111439, 'class_weight': 'balanced', 'loss': 'squared_hinge'}. Best is trial 14 with value: 0.7367.\n",
      "[I 2024-03-09 18:50:18,252] Trial 23 finished with value: 0.7248 and parameters: {'C': 0.20153159075346638, 'class_weight': 'balanced', 'loss': 'squared_hinge'}. Best is trial 14 with value: 0.7367.\n",
      "[I 2024-03-09 18:50:28,730] Trial 24 finished with value: 0.7263 and parameters: {'C': 7.095237252318943, 'class_weight': 'balanced', 'loss': 'squared_hinge'}. Best is trial 14 with value: 0.7367.\n",
      "[I 2024-03-09 18:50:31,592] Trial 25 finished with value: 0.7369 and parameters: {'C': 0.5478232622153013, 'class_weight': 'balanced', 'loss': 'squared_hinge'}. Best is trial 25 with value: 0.7369.\n",
      "[I 2024-03-09 18:50:41,834] Trial 26 finished with value: 0.7196 and parameters: {'C': 11.247458693361745, 'class_weight': None, 'loss': 'hinge'}. Best is trial 25 with value: 0.7369.\n",
      "[I 2024-03-09 18:50:43,435] Trial 27 finished with value: 0.6545 and parameters: {'C': 0.028971310776260323, 'class_weight': 'balanced', 'loss': 'squared_hinge'}. Best is trial 25 with value: 0.7369.\n",
      "[I 2024-03-09 18:50:44,816] Trial 28 finished with value: 0.2385 and parameters: {'C': 0.00016244454372135882, 'class_weight': 'balanced', 'loss': 'squared_hinge'}. Best is trial 25 with value: 0.7369.\n",
      "[I 2024-03-09 18:50:45,288] Trial 29 finished with value: 0.2385 and parameters: {'C': 3.7389857234416146e-05, 'class_weight': 'balanced', 'loss': 'hinge'}. Best is trial 25 with value: 0.7369.\n",
      "[I 2024-03-09 18:50:46,349] Trial 30 finished with value: 0.3617 and parameters: {'C': 0.0035868655157431087, 'class_weight': 'balanced', 'loss': 'squared_hinge'}. Best is trial 25 with value: 0.7369.\n",
      "[I 2024-03-09 18:50:49,180] Trial 31 finished with value: 0.7371 and parameters: {'C': 0.5507807649019077, 'class_weight': 'balanced', 'loss': 'squared_hinge'}. Best is trial 31 with value: 0.7371.\n",
      "[I 2024-03-09 18:51:04,452] Trial 32 finished with value: 0.7242 and parameters: {'C': 13.724833652598484, 'class_weight': 'balanced', 'loss': 'squared_hinge'}. Best is trial 31 with value: 0.7371.\n",
      "[I 2024-03-09 18:51:06,669] Trial 33 finished with value: 0.7262 and parameters: {'C': 0.24799746890952046, 'class_weight': 'balanced', 'loss': 'squared_hinge'}. Best is trial 31 with value: 0.7371.\n",
      "[I 2024-03-09 18:51:07,237] Trial 34 finished with value: 0.2385 and parameters: {'C': 1.3168537915082616e-07, 'class_weight': None, 'loss': 'squared_hinge'}. Best is trial 31 with value: 0.7371.\n",
      "[I 2024-03-09 18:51:10,880] Trial 35 finished with value: 0.7316 and parameters: {'C': 0.7456746283692585, 'class_weight': 'balanced', 'loss': 'hinge'}. Best is trial 31 with value: 0.7371.\n",
      "[I 2024-03-09 18:51:12,324] Trial 36 finished with value: 0.5896 and parameters: {'C': 0.05123485050468104, 'class_weight': None, 'loss': 'squared_hinge'}. Best is trial 31 with value: 0.7371.\n",
      "[I 2024-03-09 18:51:22,959] Trial 37 finished with value: 0.72 and parameters: {'C': 20.28336125052714, 'class_weight': 'balanced', 'loss': 'hinge'}. Best is trial 31 with value: 0.7371.\n",
      "[I 2024-03-09 18:51:25,768] Trial 38 finished with value: 0.7376 and parameters: {'C': 0.5940218221401105, 'class_weight': 'balanced', 'loss': 'squared_hinge'}. Best is trial 38 with value: 0.7376.\n",
      "[I 2024-03-09 18:51:26,848] Trial 39 finished with value: 0.3277 and parameters: {'C': 0.00911800472743919, 'class_weight': None, 'loss': 'squared_hinge'}. Best is trial 38 with value: 0.7376.\n",
      "[I 2024-03-09 18:51:27,268] Trial 40 finished with value: 0.2385 and parameters: {'C': 1.0204509843860447e-08, 'class_weight': 'balanced', 'loss': 'hinge'}. Best is trial 38 with value: 0.7376.\n",
      "[I 2024-03-09 18:51:30,579] Trial 41 finished with value: 0.7363 and parameters: {'C': 0.8216028011200639, 'class_weight': 'balanced', 'loss': 'squared_hinge'}. Best is trial 38 with value: 0.7376.\n",
      "[I 2024-03-09 18:51:32,463] Trial 42 finished with value: 0.7111 and parameters: {'C': 0.10741157893096767, 'class_weight': 'balanced', 'loss': 'squared_hinge'}. Best is trial 38 with value: 0.7376.\n",
      "[I 2024-03-09 18:51:35,247] Trial 43 finished with value: 0.7371 and parameters: {'C': 0.53336775371795, 'class_weight': 'balanced', 'loss': 'squared_hinge'}. Best is trial 38 with value: 0.7376.\n",
      "[I 2024-03-09 18:51:37,765] Trial 44 finished with value: 0.7352 and parameters: {'C': 0.40515658682100647, 'class_weight': 'balanced', 'loss': 'squared_hinge'}. Best is trial 38 with value: 0.7376.\n",
      "[I 2024-03-09 18:52:03,175] Trial 45 finished with value: 0.7223 and parameters: {'C': 26.121148886491845, 'class_weight': 'balanced', 'loss': 'squared_hinge'}. Best is trial 38 with value: 0.7376.\n",
      "[I 2024-03-09 18:52:04,243] Trial 46 finished with value: 0.2406 and parameters: {'C': 0.0010705021908212192, 'class_weight': 'balanced', 'loss': 'squared_hinge'}. Best is trial 38 with value: 0.7376.\n",
      "[I 2024-03-09 18:52:06,194] Trial 47 finished with value: 0.7078 and parameters: {'C': 0.0902271502784453, 'class_weight': 'balanced', 'loss': 'squared_hinge'}. Best is trial 38 with value: 0.7376.\n",
      "[I 2024-03-09 18:52:07,443] Trial 48 finished with value: 0.567 and parameters: {'C': 0.010445560512611057, 'class_weight': 'balanced', 'loss': 'squared_hinge'}. Best is trial 38 with value: 0.7376.\n",
      "[I 2024-03-09 18:52:08,993] Trial 49 finished with value: 0.6331 and parameters: {'C': 0.02159356857651529, 'class_weight': 'balanced', 'loss': 'squared_hinge'}. Best is trial 38 with value: 0.7376.\n"
     ]
    },
    {
     "name": "stdout",
     "output_type": "stream",
     "text": [
      "{'C': 0.5940218221401105, 'class_weight': 'balanced', 'dual': 'warn', 'fit_intercept': True, 'intercept_scaling': 1, 'loss': 'squared_hinge', 'max_iter': 2000, 'multi_class': 'ovr', 'penalty': 'l2', 'random_state': 5, 'tol': 0.0001, 'verbose': 0}\n",
      "{'C': 0.5940218221401105, 'class_weight': 'balanced', 'loss': 'squared_hinge'}\n"
     ]
    }
   ],
   "source": [
    "import warnings\n",
    "warnings.filterwarnings(\"ignore\")\n",
    "def linearsvc_objective(trial):\n",
    "    params = dict(\n",
    "        C=trial.suggest_float('C', 1e-9, 1e2, log=True),\n",
    "        class_weight=trial.suggest_categorical('class_weight', ['balanced', None]),\n",
    "        loss=trial.suggest_categorical('loss', ['hinge', 'squared_hinge']),\n",
    "        max_iter=2000,\n",
    "        random_state=5\n",
    "    )\n",
    "\n",
    "    clf = MOC(LinearSVC(**params))\n",
    "    clf.fit(xtrain_tfidf, ytrain)\n",
    "    trial.set_user_attr(key=\"model\", value=clf)\n",
    "\n",
    "    y_pred = clf.predict(xdev_tfidf)\n",
    "    return quick_f1(ydev_ml, y_pred)\n",
    "\n",
    "sampler = TPESampler(seed=22)\n",
    "linearsvc_study = optuna.create_study(sampler=sampler, direction='maximize')\n",
    "linearsvc_study.optimize(linearsvc_objective, n_trials=50, callbacks=[callback])\n",
    "\n",
    "\n",
    "clf2 = linearsvc_study.user_attrs['best_model']\n",
    "\n",
    "print(clf2.estimators_[0].get_params())\n",
    "print(linearsvc_study.best_params)"
   ]
  },
  {
   "cell_type": "code",
   "execution_count": 178,
   "metadata": {},
   "outputs": [
    {
     "name": "stdout",
     "output_type": "stream",
     "text": [
      "## Aspect Detection Evaluate ##\n",
      "              precision    recall  f1-score   support\n",
      "\n",
      "                 0.9100    0.9536    0.9313     15518\n",
      "     BATTERY     0.9535    0.8688    0.9092      1014\n",
      "      CAMERA     0.9412    0.8163    0.8743       588\n",
      "      DESIGN     0.9022    0.6256    0.7389       398\n",
      "    FEATURES     0.8709    0.7496    0.8057       711\n",
      "     GENERAL     0.8204    0.8269    0.8237      1381\n",
      " PERFORMANCE     0.8652    0.8157    0.8397      1172\n",
      "       PRICE     0.8986    0.7627    0.8251       569\n",
      "      SCREEN     0.8000    0.6245    0.7015       269\n",
      "     SER&ACC     0.8908    0.6880    0.7764       593\n",
      "     STORAGE     0.8750    0.2593    0.4000        27\n",
      "\n",
      "    accuracy                         0.9018     22240\n",
      "   macro avg     0.8843    0.7265    0.7842     22240\n",
      "weighted avg     0.9013    0.9018    0.8995     22240\n",
      "\n"
     ]
    }
   ],
   "source": [
    "ypred2=clf2.predict(xtest_tfidf)\n",
    "ypred2= pd.DataFrame(ypred2, columns= categories)\n",
    "aspect_detection_eval(ytest, ypred2)"
   ]
  },
  {
   "cell_type": "code",
   "execution_count": 179,
   "metadata": {},
   "outputs": [
    {
     "name": "stdout",
     "output_type": "stream",
     "text": [
      "## Sentiment Classification Evaluate ##\n",
      "              precision    recall  f1-score   support\n",
      "\n",
      "        None     0.9100    0.9536    0.9313     15518\n",
      "    negative     0.7200    0.6480    0.6821      2210\n",
      "     neutral     0.6298    0.3831    0.4764       817\n",
      "    positive     0.8073    0.7629    0.7845      3695\n",
      "\n",
      "    accuracy                         0.8706     22240\n",
      "   macro avg     0.7667    0.6869    0.7186     22240\n",
      "weighted avg     0.8637    0.8706    0.8654     22240\n",
      "\n"
     ]
    }
   ],
   "source": [
    "sentiment_classification_eval(ytest, ypred2)"
   ]
  },
  {
   "cell_type": "code",
   "execution_count": 180,
   "metadata": {},
   "outputs": [
    {
     "name": "stdout",
     "output_type": "stream",
     "text": [
      "## Combination Evaluate (Aspect Detection + Sentiment Classification) ##\n",
      "                      precision    recall  f1-score   support\n",
      "\n",
      "        BATTERY,None     0.8977    0.9645    0.9299      1210\n",
      "    BATTERY,negative     0.7886    0.7500    0.7688       368\n",
      "     BATTERY,neutral     0.4348    0.2174    0.2899        92\n",
      "    BATTERY,positive     0.8447    0.8051    0.8244       554\n",
      "         CAMERA,None     0.9370    0.9817    0.9588      1636\n",
      "     CAMERA,negative     0.7744    0.6023    0.6776       171\n",
      "      CAMERA,neutral     0.5000    0.3521    0.4132        71\n",
      "     CAMERA,positive     0.8043    0.7601    0.7816       346\n",
      "         DESIGN,None     0.9235    0.9852    0.9534      1826\n",
      "     DESIGN,negative     0.6571    0.2396    0.3511        96\n",
      "      DESIGN,neutral     1.0000    0.0357    0.0690        28\n",
      "     DESIGN,positive     0.8250    0.7226    0.7704       274\n",
      "       FEATURES,None     0.8896    0.9478    0.9178      1513\n",
      "   FEATURES,negative     0.7634    0.7451    0.7541       459\n",
      "    FEATURES,neutral     0.2353    0.0769    0.1159        52\n",
      "   FEATURES,positive     0.7143    0.5250    0.6052       200\n",
      "        GENERAL,None     0.7127    0.7034    0.7081       843\n",
      "    GENERAL,negative     0.6270    0.6633    0.6446       294\n",
      "     GENERAL,neutral     0.4727    0.3133    0.3768        83\n",
      "    GENERAL,positive     0.8226    0.8406    0.8315      1004\n",
      "    PERFORMANCE,None     0.8070    0.8584    0.8319      1052\n",
      "PERFORMANCE,negative     0.7103    0.7291    0.7196       454\n",
      " PERFORMANCE,neutral     0.3750    0.1034    0.1622       116\n",
      "PERFORMANCE,positive     0.7743    0.7807    0.7775       602\n",
      "          PRICE,None     0.9225    0.9704    0.9458      1655\n",
      "      PRICE,negative     0.6271    0.4684    0.5362        79\n",
      "       PRICE,neutral     0.7679    0.6860    0.7246       328\n",
      "      PRICE,positive     0.7023    0.5679    0.6280       162\n",
      "         SCREEN,None     0.9499    0.9785    0.9640      1955\n",
      "     SCREEN,negative     0.7191    0.5517    0.6244       116\n",
      "      SCREEN,neutral     1.0000    0.0000    0.0000        17\n",
      "     SCREEN,positive     0.7273    0.6471    0.6848       136\n",
      "        SER&ACC,None     0.8952    0.9693    0.9308      1631\n",
      "    SER&ACC,negative     0.6146    0.3533    0.4487       167\n",
      "     SER&ACC,neutral     0.0000    0.0000    0.0000        27\n",
      "    SER&ACC,positive     0.8607    0.7744    0.8153       399\n",
      "        STORAGE,None     0.9910    0.9995    0.9952      2197\n",
      "    STORAGE,negative     1.0000    0.3333    0.5000         6\n",
      "     STORAGE,neutral     1.0000    0.0000    0.0000         3\n",
      "    STORAGE,positive     0.6667    0.2222    0.3333        18\n",
      "\n",
      "            accuracy                         0.8706     22240\n",
      "           macro avg     0.7434    0.5806    0.6091     22240\n",
      "        weighted avg     0.8612    0.8706    0.8623     22240\n",
      "\n"
     ]
    }
   ],
   "source": [
    "combination_eval(ytest, ypred2)"
   ]
  },
  {
   "cell_type": "markdown",
   "metadata": {},
   "source": [
    "Non linear svm"
   ]
  },
  {
   "cell_type": "code",
   "execution_count": 181,
   "metadata": {},
   "outputs": [
    {
     "name": "stderr",
     "output_type": "stream",
     "text": [
      "[I 2024-03-09 18:52:11,297] A new study created in memory with name: no-name-4b37b6fb-e9a8-416c-8684-b4cbf4af658d\n",
      "[I 2024-03-09 18:55:23,799] Trial 0 finished with value: 0.2385 and parameters: {'class_weight': None, 'kernel': 'poly', 'gamma': 'auto'}. Best is trial 0 with value: 0.2385.\n",
      "[I 2024-03-09 19:01:55,227] Trial 1 finished with value: 0.2736 and parameters: {'class_weight': 'balanced', 'kernel': 'poly', 'gamma': 'scale'}. Best is trial 1 with value: 0.2736.\n",
      "[I 2024-03-09 19:08:07,066] Trial 2 finished with value: 0.2505 and parameters: {'class_weight': None, 'kernel': 'poly', 'gamma': 'scale'}. Best is trial 1 with value: 0.2736.\n",
      "[I 2024-03-09 19:14:14,684] Trial 3 finished with value: 0.2505 and parameters: {'class_weight': None, 'kernel': 'poly', 'gamma': 'scale'}. Best is trial 1 with value: 0.2736.\n",
      "[I 2024-03-09 19:20:21,809] Trial 4 finished with value: 0.6958 and parameters: {'class_weight': 'balanced', 'kernel': 'rbf', 'gamma': 'scale'}. Best is trial 4 with value: 0.6958.\n",
      "[I 2024-03-09 19:26:24,124] Trial 5 finished with value: 0.1665 and parameters: {'class_weight': 'balanced', 'kernel': 'sigmoid', 'gamma': 'auto'}. Best is trial 4 with value: 0.6958.\n",
      "[I 2024-03-09 19:32:38,114] Trial 6 finished with value: 0.1524 and parameters: {'class_weight': 'balanced', 'kernel': 'poly', 'gamma': 'auto'}. Best is trial 4 with value: 0.6958.\n",
      "[I 2024-03-09 19:38:31,361] Trial 7 finished with value: 0.6599 and parameters: {'class_weight': None, 'kernel': 'rbf', 'gamma': 'scale'}. Best is trial 4 with value: 0.6958.\n",
      "[I 2024-03-09 19:41:45,067] Trial 8 finished with value: 0.7193 and parameters: {'class_weight': None, 'kernel': 'sigmoid', 'gamma': 'scale'}. Best is trial 8 with value: 0.7193.\n",
      "[I 2024-03-09 19:47:56,605] Trial 9 finished with value: 0.2505 and parameters: {'class_weight': None, 'kernel': 'poly', 'gamma': 'scale'}. Best is trial 8 with value: 0.7193.\n"
     ]
    },
    {
     "name": "stdout",
     "output_type": "stream",
     "text": [
      "{'C': 1.0, 'break_ties': False, 'cache_size': 200, 'class_weight': None, 'coef0': 0.0, 'decision_function_shape': 'ovr', 'degree': 3, 'gamma': 'scale', 'kernel': 'sigmoid', 'max_iter': 3000, 'probability': False, 'random_state': 5, 'shrinking': True, 'tol': 0.001, 'verbose': False}\n",
      "{'class_weight': None, 'kernel': 'sigmoid', 'gamma': 'scale'}\n"
     ]
    }
   ],
   "source": [
    "from sklearn.svm import SVC\n",
    "\n",
    "def svc_objective(trial):\n",
    "    params = dict(\n",
    "        class_weight=trial.suggest_categorical('class_weight', ['balanced', None]),\n",
    "        kernel=trial.suggest_categorical('kernel', ['poly', 'rbf', 'sigmoid']),\n",
    "        gamma=trial.suggest_categorical('gamma', ['auto', 'scale']),\n",
    "        max_iter=3000,\n",
    "        random_state=5\n",
    "    )\n",
    "\n",
    "    clf = MOC(SVC(**params))\n",
    "    clf.fit(xtrain_tfidf, ytrain)\n",
    "    trial.set_user_attr(key=\"model\", value=clf)\n",
    "\n",
    "    y_pred = clf.predict(xdev_tfidf)\n",
    "    return quick_f1(ydev_ml, y_pred)\n",
    "\n",
    "sampler = TPESampler(seed=22)\n",
    "svc_study = optuna.create_study(direction='maximize')\n",
    "svc_study.optimize(svc_objective, n_trials=10, callbacks=[callback])\n",
    "\n",
    "\n",
    "clf3 = svc_study.user_attrs['best_model']\n",
    "\n",
    "print(clf3.estimators_[0].get_params())\n",
    "print(svc_study.best_params)"
   ]
  },
  {
   "cell_type": "code",
   "execution_count": 182,
   "metadata": {},
   "outputs": [],
   "source": [
    "ypred3=clf3.predict(xtest_tfidf)\n",
    "ypred3= pd.DataFrame(ypred3, columns= categories)"
   ]
  },
  {
   "cell_type": "code",
   "execution_count": 183,
   "metadata": {},
   "outputs": [
    {
     "name": "stdout",
     "output_type": "stream",
     "text": [
      "## Aspect Detection Evaluate ##\n",
      "              precision    recall  f1-score   support\n",
      "\n",
      "                 0.8884    0.9686    0.9267     15518\n",
      "     BATTERY     0.9593    0.8609    0.9075      1014\n",
      "      CAMERA     0.9607    0.7483    0.8413       588\n",
      "      DESIGN     0.9324    0.5201    0.6677       398\n",
      "    FEATURES     0.9216    0.6610    0.7699       711\n",
      "     GENERAL     0.8328    0.7828    0.8070      1381\n",
      " PERFORMANCE     0.9031    0.7790    0.8365      1172\n",
      "       PRICE     0.9169    0.6977    0.7924       569\n",
      "      SCREEN     0.8974    0.3903    0.5440       269\n",
      "     SER&ACC     0.9611    0.5835    0.7261       593\n",
      "     STORAGE     0.6667    0.0741    0.1333        27\n",
      "\n",
      "    accuracy                         0.8932     22240\n",
      "   macro avg     0.8946    0.6424    0.7230     22240\n",
      "weighted avg     0.8952    0.8932    0.8874     22240\n",
      "\n"
     ]
    }
   ],
   "source": [
    "aspect_detection_eval(ytest, ypred3)"
   ]
  },
  {
   "cell_type": "code",
   "execution_count": 184,
   "metadata": {},
   "outputs": [
    {
     "name": "stdout",
     "output_type": "stream",
     "text": [
      "## Sentiment Classification Evaluate ##\n",
      "              precision    recall  f1-score   support\n",
      "\n",
      "        None     0.8884    0.9686    0.9267     15518\n",
      "    negative     0.7712    0.5552    0.6456      2210\n",
      "     neutral     0.7615    0.3244    0.4549       817\n",
      "    positive     0.8173    0.7483    0.7813      3695\n",
      "\n",
      "    accuracy                         0.8672     22240\n",
      "   macro avg     0.8096    0.6491    0.7021     22240\n",
      "weighted avg     0.8603    0.8672    0.8573     22240\n",
      "\n"
     ]
    }
   ],
   "source": [
    "sentiment_classification_eval(ytest, ypred3)"
   ]
  },
  {
   "cell_type": "code",
   "execution_count": 185,
   "metadata": {},
   "outputs": [
    {
     "name": "stdout",
     "output_type": "stream",
     "text": [
      "## Combination Evaluate (Aspect Detection + Sentiment Classification) ##\n",
      "                      precision    recall  f1-score   support\n",
      "\n",
      "        BATTERY,None     0.8927    0.9694    0.9295      1210\n",
      "    BATTERY,negative     0.8097    0.7283    0.7668       368\n",
      "     BATTERY,neutral     0.7000    0.0761    0.1373        92\n",
      "    BATTERY,positive     0.8155    0.8375    0.8264       554\n",
      "         CAMERA,None     0.9162    0.9890    0.9512      1636\n",
      "     CAMERA,negative     0.7826    0.5263    0.6294       171\n",
      "      CAMERA,neutral     0.5833    0.1972    0.2947        71\n",
      "     CAMERA,positive     0.8119    0.7486    0.7789       346\n",
      "         DESIGN,None     0.9046    0.9918    0.9462      1826\n",
      "     DESIGN,negative     0.7647    0.1354    0.2301        96\n",
      "      DESIGN,neutral     1.0000    0.0000    0.0000        28\n",
      "     DESIGN,positive     0.8585    0.6423    0.7349       274\n",
      "       FEATURES,None     0.8594    0.9736    0.9129      1513\n",
      "   FEATURES,negative     0.7990    0.6928    0.7421       459\n",
      "    FEATURES,neutral     1.0000    0.0000    0.0000        52\n",
      "   FEATURES,positive     0.7857    0.4400    0.5641       200\n",
      "        GENERAL,None     0.6760    0.7426    0.7077       843\n",
      "    GENERAL,negative     0.7067    0.5408    0.6127       294\n",
      "     GENERAL,neutral     0.6842    0.1566    0.2549        83\n",
      "    GENERAL,positive     0.8121    0.8526    0.8319      1004\n",
      "    PERFORMANCE,None     0.7865    0.9068    0.8424      1052\n",
      "PERFORMANCE,negative     0.7457    0.6652    0.7031       454\n",
      " PERFORMANCE,neutral     1.0000    0.0172    0.0339       116\n",
      "PERFORMANCE,positive     0.7781    0.7807    0.7794       602\n",
      "          PRICE,None     0.9040    0.9782    0.9396      1655\n",
      "      PRICE,negative     0.6970    0.2911    0.4107        79\n",
      "       PRICE,neutral     0.7816    0.6982    0.7375       328\n",
      "      PRICE,positive     0.7570    0.5000    0.6022       162\n",
      "         SCREEN,None     0.9222    0.9939    0.9567      1955\n",
      "     SCREEN,negative     0.8333    0.2155    0.3425       116\n",
      "      SCREEN,neutral     1.0000    0.0000    0.0000        17\n",
      "     SCREEN,positive     0.8276    0.5294    0.6457       136\n",
      "        SER&ACC,None     0.8675    0.9914    0.9253      1631\n",
      "    SER&ACC,negative     0.7838    0.1737    0.2843       167\n",
      "     SER&ACC,neutral     1.0000    0.0000    0.0000        27\n",
      "    SER&ACC,positive     0.9226    0.7469    0.8255       399\n",
      "        STORAGE,None     0.9887    0.9995    0.9941      2197\n",
      "    STORAGE,negative     1.0000    0.0000    0.0000         6\n",
      "     STORAGE,neutral     1.0000    0.0000    0.0000         3\n",
      "    STORAGE,positive     0.3333    0.0556    0.0952        18\n",
      "\n",
      "            accuracy                         0.8672     22240\n",
      "           macro avg     0.8273    0.5196    0.5493     22240\n",
      "        weighted avg     0.8634    0.8672    0.8510     22240\n",
      "\n"
     ]
    }
   ],
   "source": [
    "combination_eval(ytest, ypred3)"
   ]
  },
  {
   "cell_type": "code",
   "execution_count": 187,
   "metadata": {},
   "outputs": [
    {
     "data": {
      "text/html": [
       "<div>\n",
       "<style scoped>\n",
       "    .dataframe tbody tr th:only-of-type {\n",
       "        vertical-align: middle;\n",
       "    }\n",
       "\n",
       "    .dataframe tbody tr th {\n",
       "        vertical-align: top;\n",
       "    }\n",
       "\n",
       "    .dataframe thead th {\n",
       "        text-align: right;\n",
       "    }\n",
       "</style>\n",
       "<table border=\"1\" class=\"dataframe\">\n",
       "  <thead>\n",
       "    <tr style=\"text-align: right;\">\n",
       "      <th></th>\n",
       "      <th>SCREEN</th>\n",
       "      <th>CAMERA</th>\n",
       "      <th>FEATURES</th>\n",
       "      <th>BATTERY</th>\n",
       "      <th>PERFORMANCE</th>\n",
       "      <th>STORAGE</th>\n",
       "      <th>DESIGN</th>\n",
       "      <th>PRICE</th>\n",
       "      <th>GENERAL</th>\n",
       "      <th>SER&amp;ACC</th>\n",
       "    </tr>\n",
       "  </thead>\n",
       "  <tbody>\n",
       "    <tr>\n",
       "      <th>0</th>\n",
       "      <td>3</td>\n",
       "      <td>0</td>\n",
       "      <td>3</td>\n",
       "      <td>3</td>\n",
       "      <td>3</td>\n",
       "      <td>0</td>\n",
       "      <td>0</td>\n",
       "      <td>0</td>\n",
       "      <td>3</td>\n",
       "      <td>0</td>\n",
       "    </tr>\n",
       "    <tr>\n",
       "      <th>1</th>\n",
       "      <td>0</td>\n",
       "      <td>0</td>\n",
       "      <td>0</td>\n",
       "      <td>0</td>\n",
       "      <td>0</td>\n",
       "      <td>0</td>\n",
       "      <td>0</td>\n",
       "      <td>0</td>\n",
       "      <td>0</td>\n",
       "      <td>0</td>\n",
       "    </tr>\n",
       "    <tr>\n",
       "      <th>2</th>\n",
       "      <td>0</td>\n",
       "      <td>0</td>\n",
       "      <td>0</td>\n",
       "      <td>0</td>\n",
       "      <td>0</td>\n",
       "      <td>0</td>\n",
       "      <td>0</td>\n",
       "      <td>0</td>\n",
       "      <td>3</td>\n",
       "      <td>3</td>\n",
       "    </tr>\n",
       "    <tr>\n",
       "      <th>3</th>\n",
       "      <td>0</td>\n",
       "      <td>0</td>\n",
       "      <td>1</td>\n",
       "      <td>0</td>\n",
       "      <td>0</td>\n",
       "      <td>0</td>\n",
       "      <td>0</td>\n",
       "      <td>0</td>\n",
       "      <td>0</td>\n",
       "      <td>0</td>\n",
       "    </tr>\n",
       "    <tr>\n",
       "      <th>4</th>\n",
       "      <td>0</td>\n",
       "      <td>0</td>\n",
       "      <td>0</td>\n",
       "      <td>3</td>\n",
       "      <td>0</td>\n",
       "      <td>0</td>\n",
       "      <td>3</td>\n",
       "      <td>2</td>\n",
       "      <td>3</td>\n",
       "      <td>0</td>\n",
       "    </tr>\n",
       "    <tr>\n",
       "      <th>...</th>\n",
       "      <td>...</td>\n",
       "      <td>...</td>\n",
       "      <td>...</td>\n",
       "      <td>...</td>\n",
       "      <td>...</td>\n",
       "      <td>...</td>\n",
       "      <td>...</td>\n",
       "      <td>...</td>\n",
       "      <td>...</td>\n",
       "      <td>...</td>\n",
       "    </tr>\n",
       "    <tr>\n",
       "      <th>2219</th>\n",
       "      <td>0</td>\n",
       "      <td>0</td>\n",
       "      <td>1</td>\n",
       "      <td>0</td>\n",
       "      <td>3</td>\n",
       "      <td>0</td>\n",
       "      <td>3</td>\n",
       "      <td>0</td>\n",
       "      <td>0</td>\n",
       "      <td>0</td>\n",
       "    </tr>\n",
       "    <tr>\n",
       "      <th>2220</th>\n",
       "      <td>0</td>\n",
       "      <td>0</td>\n",
       "      <td>0</td>\n",
       "      <td>0</td>\n",
       "      <td>0</td>\n",
       "      <td>0</td>\n",
       "      <td>0</td>\n",
       "      <td>0</td>\n",
       "      <td>0</td>\n",
       "      <td>0</td>\n",
       "    </tr>\n",
       "    <tr>\n",
       "      <th>2221</th>\n",
       "      <td>0</td>\n",
       "      <td>0</td>\n",
       "      <td>0</td>\n",
       "      <td>0</td>\n",
       "      <td>3</td>\n",
       "      <td>0</td>\n",
       "      <td>0</td>\n",
       "      <td>0</td>\n",
       "      <td>3</td>\n",
       "      <td>0</td>\n",
       "    </tr>\n",
       "    <tr>\n",
       "      <th>2222</th>\n",
       "      <td>0</td>\n",
       "      <td>3</td>\n",
       "      <td>0</td>\n",
       "      <td>0</td>\n",
       "      <td>3</td>\n",
       "      <td>0</td>\n",
       "      <td>0</td>\n",
       "      <td>0</td>\n",
       "      <td>0</td>\n",
       "      <td>3</td>\n",
       "    </tr>\n",
       "    <tr>\n",
       "      <th>2223</th>\n",
       "      <td>0</td>\n",
       "      <td>0</td>\n",
       "      <td>0</td>\n",
       "      <td>3</td>\n",
       "      <td>0</td>\n",
       "      <td>0</td>\n",
       "      <td>0</td>\n",
       "      <td>0</td>\n",
       "      <td>3</td>\n",
       "      <td>0</td>\n",
       "    </tr>\n",
       "  </tbody>\n",
       "</table>\n",
       "<p>2224 rows × 10 columns</p>\n",
       "</div>"
      ],
      "text/plain": [
       "      SCREEN  CAMERA  FEATURES  BATTERY  PERFORMANCE  STORAGE  DESIGN  PRICE  \\\n",
       "0          3       0         3        3            3        0       0      0   \n",
       "1          0       0         0        0            0        0       0      0   \n",
       "2          0       0         0        0            0        0       0      0   \n",
       "3          0       0         1        0            0        0       0      0   \n",
       "4          0       0         0        3            0        0       3      2   \n",
       "...      ...     ...       ...      ...          ...      ...     ...    ...   \n",
       "2219       0       0         1        0            3        0       3      0   \n",
       "2220       0       0         0        0            0        0       0      0   \n",
       "2221       0       0         0        0            3        0       0      0   \n",
       "2222       0       3         0        0            3        0       0      0   \n",
       "2223       0       0         0        3            0        0       0      0   \n",
       "\n",
       "      GENERAL  SER&ACC  \n",
       "0           3        0  \n",
       "1           0        0  \n",
       "2           3        3  \n",
       "3           0        0  \n",
       "4           3        0  \n",
       "...       ...      ...  \n",
       "2219        0        0  \n",
       "2220        0        0  \n",
       "2221        3        0  \n",
       "2222        0        3  \n",
       "2223        3        0  \n",
       "\n",
       "[2224 rows x 10 columns]"
      ]
     },
     "execution_count": 187,
     "metadata": {},
     "output_type": "execute_result"
    }
   ],
   "source": [
    "ypred3"
   ]
  },
  {
   "cell_type": "code",
   "execution_count": 190,
   "metadata": {},
   "outputs": [
    {
     "data": {
      "text/html": [
       "<div>\n",
       "<style scoped>\n",
       "    .dataframe tbody tr th:only-of-type {\n",
       "        vertical-align: middle;\n",
       "    }\n",
       "\n",
       "    .dataframe tbody tr th {\n",
       "        vertical-align: top;\n",
       "    }\n",
       "\n",
       "    .dataframe thead th {\n",
       "        text-align: right;\n",
       "    }\n",
       "</style>\n",
       "<table border=\"1\" class=\"dataframe\">\n",
       "  <thead>\n",
       "    <tr style=\"text-align: right;\">\n",
       "      <th></th>\n",
       "      <th>SCREEN</th>\n",
       "      <th>CAMERA</th>\n",
       "      <th>FEATURES</th>\n",
       "      <th>BATTERY</th>\n",
       "      <th>PERFORMANCE</th>\n",
       "      <th>STORAGE</th>\n",
       "      <th>DESIGN</th>\n",
       "      <th>PRICE</th>\n",
       "      <th>GENERAL</th>\n",
       "      <th>SER&amp;ACC</th>\n",
       "    </tr>\n",
       "  </thead>\n",
       "  <tbody>\n",
       "    <tr>\n",
       "      <th>0</th>\n",
       "      <td>3</td>\n",
       "      <td>0</td>\n",
       "      <td>3</td>\n",
       "      <td>0</td>\n",
       "      <td>3</td>\n",
       "      <td>0</td>\n",
       "      <td>0</td>\n",
       "      <td>0</td>\n",
       "      <td>3</td>\n",
       "      <td>0</td>\n",
       "    </tr>\n",
       "    <tr>\n",
       "      <th>1</th>\n",
       "      <td>0</td>\n",
       "      <td>0</td>\n",
       "      <td>1</td>\n",
       "      <td>0</td>\n",
       "      <td>3</td>\n",
       "      <td>0</td>\n",
       "      <td>0</td>\n",
       "      <td>0</td>\n",
       "      <td>0</td>\n",
       "      <td>3</td>\n",
       "    </tr>\n",
       "    <tr>\n",
       "      <th>2</th>\n",
       "      <td>0</td>\n",
       "      <td>0</td>\n",
       "      <td>0</td>\n",
       "      <td>0</td>\n",
       "      <td>0</td>\n",
       "      <td>0</td>\n",
       "      <td>2</td>\n",
       "      <td>0</td>\n",
       "      <td>0</td>\n",
       "      <td>3</td>\n",
       "    </tr>\n",
       "    <tr>\n",
       "      <th>3</th>\n",
       "      <td>0</td>\n",
       "      <td>0</td>\n",
       "      <td>0</td>\n",
       "      <td>0</td>\n",
       "      <td>1</td>\n",
       "      <td>0</td>\n",
       "      <td>1</td>\n",
       "      <td>0</td>\n",
       "      <td>0</td>\n",
       "      <td>0</td>\n",
       "    </tr>\n",
       "    <tr>\n",
       "      <th>4</th>\n",
       "      <td>3</td>\n",
       "      <td>0</td>\n",
       "      <td>0</td>\n",
       "      <td>1</td>\n",
       "      <td>0</td>\n",
       "      <td>0</td>\n",
       "      <td>3</td>\n",
       "      <td>0</td>\n",
       "      <td>0</td>\n",
       "      <td>0</td>\n",
       "    </tr>\n",
       "    <tr>\n",
       "      <th>...</th>\n",
       "      <td>...</td>\n",
       "      <td>...</td>\n",
       "      <td>...</td>\n",
       "      <td>...</td>\n",
       "      <td>...</td>\n",
       "      <td>...</td>\n",
       "      <td>...</td>\n",
       "      <td>...</td>\n",
       "      <td>...</td>\n",
       "      <td>...</td>\n",
       "    </tr>\n",
       "    <tr>\n",
       "      <th>2219</th>\n",
       "      <td>0</td>\n",
       "      <td>0</td>\n",
       "      <td>3</td>\n",
       "      <td>0</td>\n",
       "      <td>3</td>\n",
       "      <td>0</td>\n",
       "      <td>3</td>\n",
       "      <td>0</td>\n",
       "      <td>0</td>\n",
       "      <td>0</td>\n",
       "    </tr>\n",
       "    <tr>\n",
       "      <th>2220</th>\n",
       "      <td>0</td>\n",
       "      <td>0</td>\n",
       "      <td>0</td>\n",
       "      <td>0</td>\n",
       "      <td>1</td>\n",
       "      <td>0</td>\n",
       "      <td>0</td>\n",
       "      <td>0</td>\n",
       "      <td>0</td>\n",
       "      <td>0</td>\n",
       "    </tr>\n",
       "    <tr>\n",
       "      <th>2221</th>\n",
       "      <td>0</td>\n",
       "      <td>0</td>\n",
       "      <td>0</td>\n",
       "      <td>0</td>\n",
       "      <td>3</td>\n",
       "      <td>0</td>\n",
       "      <td>0</td>\n",
       "      <td>0</td>\n",
       "      <td>3</td>\n",
       "      <td>0</td>\n",
       "    </tr>\n",
       "    <tr>\n",
       "      <th>2222</th>\n",
       "      <td>0</td>\n",
       "      <td>3</td>\n",
       "      <td>0</td>\n",
       "      <td>3</td>\n",
       "      <td>3</td>\n",
       "      <td>0</td>\n",
       "      <td>3</td>\n",
       "      <td>0</td>\n",
       "      <td>0</td>\n",
       "      <td>3</td>\n",
       "    </tr>\n",
       "    <tr>\n",
       "      <th>2223</th>\n",
       "      <td>0</td>\n",
       "      <td>0</td>\n",
       "      <td>0</td>\n",
       "      <td>3</td>\n",
       "      <td>0</td>\n",
       "      <td>0</td>\n",
       "      <td>0</td>\n",
       "      <td>0</td>\n",
       "      <td>3</td>\n",
       "      <td>3</td>\n",
       "    </tr>\n",
       "  </tbody>\n",
       "</table>\n",
       "<p>2224 rows × 10 columns</p>\n",
       "</div>"
      ],
      "text/plain": [
       "      SCREEN  CAMERA  FEATURES  BATTERY  PERFORMANCE  STORAGE  DESIGN  PRICE  \\\n",
       "0          3       0         3        0            3        0       0      0   \n",
       "1          0       0         1        0            3        0       0      0   \n",
       "2          0       0         0        0            0        0       2      0   \n",
       "3          0       0         0        0            1        0       1      0   \n",
       "4          3       0         0        1            0        0       3      0   \n",
       "...      ...     ...       ...      ...          ...      ...     ...    ...   \n",
       "2219       0       0         3        0            3        0       3      0   \n",
       "2220       0       0         0        0            1        0       0      0   \n",
       "2221       0       0         0        0            3        0       0      0   \n",
       "2222       0       3         0        3            3        0       3      0   \n",
       "2223       0       0         0        3            0        0       0      0   \n",
       "\n",
       "      GENERAL  SER&ACC  \n",
       "0           3        0  \n",
       "1           0        3  \n",
       "2           0        3  \n",
       "3           0        0  \n",
       "4           0        0  \n",
       "...       ...      ...  \n",
       "2219        0        0  \n",
       "2220        0        0  \n",
       "2221        3        0  \n",
       "2222        0        3  \n",
       "2223        3        3  \n",
       "\n",
       "[2224 rows x 10 columns]"
      ]
     },
     "execution_count": 190,
     "metadata": {},
     "output_type": "execute_result"
    }
   ],
   "source": [
    "ytest"
   ]
  },
  {
   "cell_type": "code",
   "execution_count": 191,
   "metadata": {},
   "outputs": [],
   "source": [
    "import pandas as pd \n",
    "df_social = pd.read_csv('../Data/Preprocessed_data/SocialMediaReviews.csv')\n",
    "df_social_test = df_social['Review']"
   ]
  }
 ],
 "metadata": {
  "kernelspec": {
   "display_name": "Python 3",
   "language": "python",
   "name": "python3"
  },
  "language_info": {
   "codemirror_mode": {
    "name": "ipython",
    "version": 3
   },
   "file_extension": ".py",
   "mimetype": "text/x-python",
   "name": "python",
   "nbconvert_exporter": "python",
   "pygments_lexer": "ipython3",
   "version": "3.10.8"
  }
 },
 "nbformat": 4,
 "nbformat_minor": 2
}
