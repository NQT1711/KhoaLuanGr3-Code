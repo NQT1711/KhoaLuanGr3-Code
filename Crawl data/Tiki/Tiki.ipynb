{
 "cells": [
  {
   "cell_type": "code",
   "execution_count": 1,
   "metadata": {},
   "outputs": [],
   "source": [
    "import requests\n",
    "from selenium import webdriver\n",
    "from selenium.webdriver.support.ui import WebDriverWait\n",
    "from selenium.webdriver.support import expected_conditions as EC\n",
    "from selenium.webdriver.common.by import By\n",
    "from bs4 import BeautifulSoup\n",
    "from time import sleep"
   ]
  },
  {
   "cell_type": "code",
   "execution_count": 2,
   "metadata": {},
   "outputs": [
    {
     "name": "stderr",
     "output_type": "stream",
     "text": [
      "C:\\Users\\Nguyen Quang Tu\\AppData\\Local\\Temp\\ipykernel_7836\\1376250944.py:7: DeprecationWarning: executable_path has been deprecated, please pass in a Service object\n",
      "  driver = webdriver.Chrome(executable_path='../chromedriver.exe', options=options)\n"
     ]
    }
   ],
   "source": [
    "# Mở trình duyệt Google Chrome\n",
    "options = webdriver.ChromeOptions()\n",
    "options.add_argument('--ignore-certificate-errors')\n",
    "options.add_argument('--incognito') # Tab ẩn danh\n",
    "options.add_argument(\"--start-maximized\") # Full window\n",
    "# options.add_argument('headless') # Không hiển thị chrome\n",
    "driver = webdriver.Chrome(executable_path='../chromedriver.exe', options=options)"
   ]
  },
  {
   "cell_type": "code",
   "execution_count": 3,
   "metadata": {},
   "outputs": [],
   "source": [
    "# Tìm url sp theo keyword\n",
    "keyword = 'Tai nghe Bluetooh'\n",
    "\n",
    "url = 'https://tiki.vn/search?q=%s'%('%20'.join(keyword.split(' ')))\n",
    "driver.get(url)\n",
    "sleep(1)\n",
    "\n",
    "element= WebDriverWait(driver, 30).until(EC.presence_of_element_located((By.CSS_SELECTOR, 'div[class=\"CatalogProducts__Wrapper-sc-1r8ct7c-0 fKlIZg\"]')))\n",
    "html_of_interest=driver.execute_script('return arguments[0].innerHTML',element)\n",
    "soup = BeautifulSoup(html_of_interest, 'lxml')\n",
    "\n",
    "raw_links = soup.select('a[data-view-id=\"product_list_item\"]')\n",
    "list_link = []\n",
    "\n",
    "for num_link in range(len(raw_links)):\n",
    "    link = raw_links[num_link].attrs['href']\n",
    "\n",
    "    if 'tka.tiki.vn' in link:\n",
    "        list_link.append('https:' + link)\n",
    "    else:\n",
    "        list_link.append('https://tiki.vn' + link)"
   ]
  },
  {
   "cell_type": "code",
   "execution_count": 105,
   "metadata": {},
   "outputs": [],
   "source": [
    "# Kéo từ từ xuống dưới cùng trang mới hiện thông tin, mô tả và đánh giá\n",
    "total_height = int(driver.execute_script(\"return document.body.scrollHeight\"))\n",
    "\n",
    "for i in range(1, total_height, 5):\n",
    "    driver.execute_script(\"window.scrollTo(0, {});\".format(i))\n",
    "\n",
    "check_total_height = int(driver.execute_script(\"return document.body.scrollHeight\"))\n",
    "if check_total_height > total_height:\n",
    "    for i in range(total_height, check_total_height, 5):\n",
    "        driver.execute_script(\"window.scrollTo(0, {});\".format(i))"
   ]
  },
  {
   "cell_type": "code",
   "execution_count": 124,
   "metadata": {},
   "outputs": [],
   "source": [
    "# Test\n",
    "link_product = 'https://tiki.vn/apple-iphone-15-p271966786.html?spid=271966788'\n",
    "\n",
    "# Crawl thông tin sp theo url\n",
    "driver.get(link_product)\n",
    "sleep(1)\n",
    "\n",
    "WebDriverWait(driver, 30).until(EC.presence_of_element_located((By.CSS_SELECTOR, 'main > div[class=\"ContainerRevamp-sc-1hvvgwz-0 dOGdaN\"]')))\n",
    "\n",
    "total_height = int(driver.execute_script(\"return document.body.scrollHeight\"))\n",
    "\n",
    "for i in range(1, total_height, 5):\n",
    "    driver.execute_script(\"window.scrollTo(0, {});\".format(i))\n",
    "\n",
    "check_total_height = int(driver.execute_script(\"return document.body.scrollHeight\"))\n",
    "if check_total_height > total_height:\n",
    "    for i in range(total_height, check_total_height, 5):\n",
    "        driver.execute_script(\"window.scrollTo(0, {});\".format(i))\n",
    "\n",
    "element= WebDriverWait(driver, 30).until(EC.presence_of_element_located((By.CSS_SELECTOR, 'main > div[class=\"ContainerRevamp-sc-1hvvgwz-0 dOGdaN\"]')))\n",
    "html_of_interest=driver.execute_script('return arguments[0].innerHTML',element)\n",
    "soup = BeautifulSoup(html_of_interest, 'lxml')"
   ]
  },
  {
   "cell_type": "code",
   "execution_count": 125,
   "metadata": {},
   "outputs": [
    {
     "data": {
      "text/plain": [
       "'Apple iPhone 15'"
      ]
     },
     "execution_count": 125,
     "metadata": {},
     "output_type": "execute_result"
    }
   ],
   "source": [
    "# Tên sản phẩm\n",
    "soup.select('h1[class=\"Title__TitledStyled-sc-1kxsq5b-0 cvyKhs\"]')[0].text"
   ]
  },
  {
   "cell_type": "code",
   "execution_count": 126,
   "metadata": {},
   "outputs": [
    {
     "data": {
      "text/plain": [
       "'Apple'"
      ]
     },
     "execution_count": 126,
     "metadata": {},
     "output_type": "execute_result"
    }
   ],
   "source": [
    "# Thương hiệu\n",
    "soup.select('a[data-view-id=\"pdp_details_view_brand\"]')[0].text"
   ]
  },
  {
   "cell_type": "code",
   "execution_count": 127,
   "metadata": {},
   "outputs": [
    {
     "data": {
      "text/plain": [
       "'302'"
      ]
     },
     "execution_count": 127,
     "metadata": {},
     "output_type": "execute_result"
    }
   ],
   "source": [
    "# Số lượng bán\n",
    "soup.select('div[data-view-id=\"pdp_quantity_sold\"]')[0].text.split()[-1]"
   ]
  },
  {
   "cell_type": "code",
   "execution_count": 128,
   "metadata": {},
   "outputs": [
    {
     "data": {
      "text/plain": [
       "'42'"
      ]
     },
     "execution_count": 128,
     "metadata": {},
     "output_type": "execute_result"
    }
   ],
   "source": [
    "# Số lượt đánh giá\n",
    "soup.select('a[data-view-id=\"pdp_main_view_review\"]')[0].text.strip('()')"
   ]
  },
  {
   "cell_type": "code",
   "execution_count": 129,
   "metadata": {},
   "outputs": [
    {
     "data": {
      "text/plain": [
       "'4.8'"
      ]
     },
     "execution_count": 129,
     "metadata": {},
     "output_type": "execute_result"
    }
   ],
   "source": [
    "# Đánh giá sao\n",
    "soup.select('div[class=\"styles__StyledReview-sc-1swui9f-1 dXPbue\"] > div')[0].text"
   ]
  },
  {
   "cell_type": "code",
   "execution_count": 130,
   "metadata": {},
   "outputs": [
    {
     "data": {
      "text/plain": [
       "'21.490.000'"
      ]
     },
     "execution_count": 130,
     "metadata": {},
     "output_type": "execute_result"
    }
   ],
   "source": [
    "# Giá bán\n",
    "soup.select('div[class=\"product-price__current-price\"]')[0].text.replace('₫', '')"
   ]
  },
  {
   "cell_type": "code",
   "execution_count": 131,
   "metadata": {},
   "outputs": [
    {
     "name": "stdout",
     "output_type": "stream",
     "text": [
      "\n",
      "\n"
     ]
    }
   ],
   "source": [
    "# Thông số lựa chọn (Màu sắc, dung lượng,...)\n",
    "list_option = soup.select('div[class=\"styles__ProductOptionsWrapper-sc-18rzur4-0 jZCObm\"] > div')\n",
    "for option in list_option:\n",
    "    print()"
   ]
  },
  {
   "cell_type": "code",
   "execution_count": 132,
   "metadata": {},
   "outputs": [],
   "source": [
    "# Loại option\n",
    "option_label = soup.select('div[class=\"styles__ProductOptionsWrapper-sc-18rzur4-0 jZCObm\"] > div')[0].attrs['data-view-label']\n"
   ]
  },
  {
   "cell_type": "code",
   "execution_count": 133,
   "metadata": {},
   "outputs": [
    {
     "data": {
      "text/plain": [
       "'Xanh Lá'"
      ]
     },
     "execution_count": 133,
     "metadata": {},
     "output_type": "execute_result"
    }
   ],
   "source": [
    "# Tên option\n",
    "soup.select('div[class=\"styles__ProductOptionsWrapper-sc-18rzur4-0 jZCObm\"] > div')[0].select('div[class=\"styles__OptionListWrapper-sc-1pikfxx-2 jgDdBJ\"] > div')[3].text"
   ]
  },
  {
   "cell_type": "code",
   "execution_count": 134,
   "metadata": {},
   "outputs": [
    {
     "data": {
      "text/plain": [
       "'Tiki TradingTheo DõiChat'"
      ]
     },
     "execution_count": 134,
     "metadata": {},
     "output_type": "execute_result"
    }
   ],
   "source": [
    "# Tên shop\n",
    "soup.select('span[class=\"seller-name\"]')[0].text"
   ]
  },
  {
   "cell_type": "code",
   "execution_count": 135,
   "metadata": {},
   "outputs": [
    {
     "data": {
      "text/plain": [
       "'4.7'"
      ]
     },
     "execution_count": 135,
     "metadata": {},
     "output_type": "execute_result"
    }
   ],
   "source": [
    "# Đánh giá sao shop\n",
    "soup.select('div[class=\"item review\"] > div')[0].text"
   ]
  },
  {
   "cell_type": "code",
   "execution_count": 136,
   "metadata": {},
   "outputs": [
    {
     "data": {
      "text/plain": [
       "'5.4tr+'"
      ]
     },
     "execution_count": 136,
     "metadata": {},
     "output_type": "execute_result"
    }
   ],
   "source": [
    "# Số lượt đánh giá shop\n",
    "soup.select('div[class=\"item review\"] > div')[1].text.strip('()đánh giá')"
   ]
  },
  {
   "cell_type": "code",
   "execution_count": 137,
   "metadata": {},
   "outputs": [
    {
     "name": "stdout",
     "output_type": "stream",
     "text": [
      "Dung lượng pin: 3349 mAh\n",
      "Bluetooth: v5.3\n",
      "Thương hiệu: Apple\n",
      "Xuất xứ thương hiệu: Mỹ\n",
      "Hỗ trợ thẻ nhớ ngoài: Không\n",
      "Chip đồ họa (GPU): Apple GPU 5 nhân\n",
      "Chip set: Apple A16 Bionic 6 nhân\n",
      "Chức năng khác: Bảo mật nâng cao: Mở khoá khuôn mặt Face IDTính năng đặc biệt: Phát hiện va chạm (Crash Detection)Âm thanh Dolby AtmosKháng nước, bụi: IP68SOS Khẩn Cấp\n",
      "Kết nối khác: NFC\n",
      "Tốc độ CPU: 3.46 GHz\n",
      "Đèn Flash: Có\n",
      "Kích thước: Dài 147.6 mm - Ngang 71.6 mm - Dày 7.8 mm\n",
      "Loại/ Công nghệ màn hình: OLED\n",
      "Ghi âm: Ghi âm mặc định\n",
      "GPS: BEIDOU, QZSS, GPS, GLONASS, GALILEO\n",
      "Hỗ trợ 5G: Có\n",
      "Phụ kiện đi kèm: Cáp, Sách hướng dẫn, Cây lấy sim\n",
      "Model: iPhone 15\n",
      "Jack tai nghe: Type-C\n",
      "Số sim: 1 khe sim vật lý\n",
      "Loại pin: Li-Ion\n",
      "Loại Sim: 1 SIM vật lý và 1 E-SIM\n",
      "Chất liệu: Khung nhôm & Mặt lưng kính cường lực\n",
      "Nghe nhạc: AAC, MP3, Apple Lossless, FLAC, Dolby Digital, Dolby Digital Plus và Dolby Atmos\n",
      "Xuất xứ (Made in): China\n",
      "Cổng sạc: Type-C\n",
      "Trọng lượng sản phẩm: 171 g\n",
      "Quay phim: HD 720p@30fps, FullHD 1080p@60fps, FullHD 1080p@30fps, 4K 2160p@24fps, 4K 2160p@30fps, 4K 2160p@60fps, FullHD 1080p@120fps, FullHD 1080p@240fps\n",
      "RAM: 6 GB\n",
      "Độ phân giải: Super Retina XDR (1179 x 2556 Pixels)\n",
      "ROM: 128 GB\n",
      "Kích thước màn hình: 6.1 inch\n",
      "Wifi: Wi-Fi MIMO, Wi-Fi 6, Wi-Fi 802.11 a/b/g/n/ac/ax\n",
      "Xem phim: H.264(MPEG4-AVC)\n",
      "Sản phẩm có được bảo hành không?: Có\n",
      "Có thuế VAT: Có\n",
      "Hình thức bảo hành: Điện tử\n",
      "Thời gian bảo hành: 12\n"
     ]
    }
   ],
   "source": [
    "# Thông tin sản phẩm\n",
    "sleep(1)\n",
    "product_info_html = driver.find_elements(By.CSS_SELECTOR, 'div[class=\"WidgetTitle__WidgetContainerStyled-sc-1ikmn8z-0 iHMNqO\"]')[-5].get_attribute('innerHTML')\n",
    "product_info_soup = BeautifulSoup(product_info_html, 'lxml')\n",
    "product_info = product_info_soup.select('div > div > div > span')\n",
    "\n",
    "for i in range(0, len(product_info), 2):\n",
    "    info_label = product_info[i].text\n",
    "    info_value = product_info[i+1].text\n",
    "    print(info_label + ': ' + info_value)"
   ]
  },
  {
   "cell_type": "code",
   "execution_count": 138,
   "metadata": {},
   "outputs": [
    {
     "data": {
      "text/plain": [
       "'Mô tả sản phẩmNội dung quảng cáo\\niPhone 15 sở hữu Dynamic Island, camera Chính 48MP và USB-C trong thiết kế bằng kính pha màu và nhôm bền bỉ.\\n\\xa0\\nTính năng nổi bật\\n\\nDYNAMIC ISLAND RA MẮT TRÊN IPHONE 15 — Dynamic Island hiển thị linh động các cảnh báo và Hoạt Động Trực Tiếp, nhờ đó bạn sẽ không bỏ lỡ thông tin khi đang làm việc khác. Bạn có thể xem ai đang gọi đến, kiểm tra tình hình chuyến bay của bạn và hơn thế nữa.\\nTHIẾT KẾ SÁNG TẠO — iPhone 15 sở hữu thiết kế bằng kính pha màu và nhôm bền bỉ. Và có khả năng chống tia nước, chống nước và chống bụi.1 Mặt trước Ceramic Shield bền chắc hơn mọi mặt kính điện thoại thông minh. Và màn hình Super Retina XDR 6,1\"2 sáng gấp đôi dưới ánh mặt trời so với iPhone 14.\\nCAMERA CHÍNH 48MP VỚI TELEPHOTO 2X — Camera Chính 48MP chụp ảnh với độ phân giải siêu cao. Vậy nên bạn có thể chụp được những bức ảnh nổi bật có độ chi tiết ấn tượng dễ dàng hơn bao giờ hết. Camera Telephoto với độ thu phóng quang học 2x giúp bạn bố cục ảnh chụp cận cảnh hoàn hảo.\\nẢNH CHÂN DUNG THẾ HỆ MỚI — Chụp ảnh chân dung với nhiều chi tiết và màu sắc hơn đáng kể. Chỉ cần chạm để chuyển tiêu điểm giữa các chủ thể, ngay cả sau khi chụp.\\nCHIP A16 BIONIC MẠNH MẼ — Chip siêu nhanh hỗ trợ các tính năng tiên tiến như chụp ảnh điện toán, hiệu ứng chuyển tiếp mượt mà cho Dynamic Island và chế độ Tách Giọng Nói trong cuộc gọi thoại. Và A16 Bionic cực kỳ tiết kiệm pin để mang đến thời lượng pin dùng cả ngày tuyệt vời.3\\nKẾT NỐI USB-C — Cổng kết nối USB-C cho phép bạn sạc máy Mac hoặc iPad bằng cùng cáp sạc với iPhone 15. Bạn còn có thể dùng iPhone 15 để sạc Apple\\xa0Watch hoặc AirPods.\\n\\nCÁC TÍNH NĂNG AN TOÀN QUAN TRỌNG — Với tính năng Phát Hiện Va Chạm, iPhone có thể phát hiện va chạm ô tô nghiêm trọng và gọi trợ giúp khi cần kíp.4\\n\\nĐƯỢC THIẾT KẾ ĐỂ TẠO NÊN KHÁC BIỆT — iPhone trang bị các biện pháp bảo vệ quyền riêng tư, cho bạn quyền kiểm soát dữ liệu của mình. iPhone được làm từ nhiều vật liệu tái chế hơn để giảm thiểu tác động tới môi trường. Và được tích hợp những tính năng giúp iPhone dễ sử dụng hơn cho tất cả mọi người.\\nĐI KÈM VỚI BẢO HÀNH APPLECARE — Mỗi iPhone đều được bảo hành giới hạn trong một năm và hỗ trợ kỹ thuật miễn phí trong tối đa 90 ngày. Mua AppleCare+ để kéo dài thời hạn bảo hành.\\n\\n\\xa0\\nPháp lý\\n1iPhone 15, iPhone 15 Plus, iPhone 15 Pro và iPhone 15 Pro Max có khả năng chống tia nước, chống nước và chống bụi. Sản phẩm đã qua kiểm nghiệm trong điều kiện phòng thí nghiệm có kiểm soát đạt mức IP68 theo tiêu chuẩn IEC 60529 (chống nước ở độ sâu tối đa 6 mét trong vòng tối đa 30 phút). Khả năng chống tia nước, chống nước và chống bụi không phải là các điều kiện vĩnh viễn. Khả năng này có thể giảm do hao mòn thông thường. Không sạc pin khi iPhone đang bị ướt. Vui lòng tham khảo hướng dẫn sử dụng để biết cách lau sạch và làm khô máy. Không bảo hành sản phẩm bị hỏng do thấm chất lỏng.\\xa0\\n2Màn hình có các góc bo tròn. Khi tính theo hình chữ nhật chuẩn, kích thước màn hình theo đường chéo là 6,12 inch (iPhone\\xa015\\xa0Pro, iPhone\\xa015) hoặc 6,69 inch (iPhone\\xa015\\xa0Pro\\xa0Max, iPhone\\xa015\\xa0Plus). Diện tích hiển thị thực tế nhỏ hơn.\\n3Thời lượng pin khác nhau tùy theo cách sử dụng và cấu hình; truy cập  để biết thêm thông tin.\\n4iPhone\\xa015 và iPhone\\xa015\\xa0Pro có thể phát hiện va chạm ô tô nghiêm trọng và gọi trợ giúp. Yêu cầu kết nối mạng di động hoặc Cuộc Gọi Wi-Fi.\\n\\xa0\\nThông số kỹ thuật\\nTruy cập  để xem cấu hình đầy đủ.Giá sản phẩm trên Tiki đã bao gồm thuế theo luật hiện hành. Bên cạnh đó, tuỳ vào loại sản phẩm, hình thức và địa chỉ giao hàng mà có thể phát sinh thêm chi phí khác như phí vận chuyển, phụ phí hàng cồng kềnh, thuế nhập khẩu (đối với đơn hàng giao từ nước ngoài có giá trị trên 1 triệu đồng).....Xem thêm'"
      ]
     },
     "execution_count": 138,
     "metadata": {},
     "output_type": "execute_result"
    }
   ],
   "source": [
    "# Mô tả sản phẩm\n",
    "product_describe_html = driver.find_elements(By.CSS_SELECTOR, 'div[class=\"WidgetTitle__WidgetContainerStyled-sc-1ikmn8z-0 iHMNqO\"]')[-4].get_attribute('innerHTML')\n",
    "product_describe = BeautifulSoup(product_describe_html, 'lxml').text\n",
    "product_describe"
   ]
  },
  {
   "cell_type": "code",
   "execution_count": 139,
   "metadata": {},
   "outputs": [
    {
     "data": {
      "text/plain": [
       "{'x': 270, 'y': 0}"
      ]
     },
     "execution_count": 139,
     "metadata": {},
     "output_type": "execute_result"
    }
   ],
   "source": [
    "# Đánh giá\n",
    "driver.find_element(By.CSS_SELECTOR, 'div[class=\"customer-reviews__inner\"]').location_once_scrolled_into_view"
   ]
  },
  {
   "cell_type": "code",
   "execution_count": null,
   "metadata": {},
   "outputs": [],
   "source": []
  }
 ],
 "metadata": {
  "kernelspec": {
   "display_name": "Python 3",
   "language": "python",
   "name": "python3"
  },
  "language_info": {
   "codemirror_mode": {
    "name": "ipython",
    "version": 3
   },
   "file_extension": ".py",
   "mimetype": "text/x-python",
   "name": "python",
   "nbconvert_exporter": "python",
   "pygments_lexer": "ipython3",
   "version": "3.9.0"
  }
 },
 "nbformat": 4,
 "nbformat_minor": 2
}
