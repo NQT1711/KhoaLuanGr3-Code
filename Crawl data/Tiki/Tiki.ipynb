{
 "cells": [
  {
   "cell_type": "code",
   "execution_count": 17,
   "metadata": {},
   "outputs": [],
   "source": [
    "import requests\n",
    "from selenium import webdriver\n",
    "from selenium.webdriver.support.ui import WebDriverWait\n",
    "from selenium.webdriver.support import expected_conditions as EC\n",
    "from selenium.webdriver.common.by import By\n",
    "from bs4 import BeautifulSoup\n",
    "from time import sleep"
   ]
  },
  {
   "cell_type": "code",
   "execution_count": 59,
   "metadata": {},
   "outputs": [
    {
     "name": "stderr",
     "output_type": "stream",
     "text": [
      "C:\\Users\\Nguyen Quang Tu\\AppData\\Local\\Temp\\ipykernel_11324\\1376250944.py:7: DeprecationWarning: executable_path has been deprecated, please pass in a Service object\n",
      "  driver = webdriver.Chrome(executable_path='../chromedriver.exe', options=options)\n"
     ]
    }
   ],
   "source": [
    "# Mở trình duyệt Google Chrome\n",
    "options = webdriver.ChromeOptions()\n",
    "options.add_argument('--ignore-certificate-errors')\n",
    "options.add_argument('--incognito') # Tab ẩn danh\n",
    "options.add_argument(\"--start-maximized\") # Full window\n",
    "# options.add_argument('headless') # Không hiển thị chrome\n",
    "driver = webdriver.Chrome(executable_path='../chromedriver.exe', options=options)"
   ]
  },
  {
   "cell_type": "code",
   "execution_count": 19,
   "metadata": {},
   "outputs": [],
   "source": [
    "# Tìm url sp theo keyword\n",
    "keyword = 'Tai nghe Bluetooh'\n",
    "\n",
    "url = 'https://tiki.vn/search?q=%s'%('%20'.join(keyword.split(' ')))\n",
    "driver.get(url)\n",
    "sleep(1)\n",
    "\n",
    "element= WebDriverWait(driver, 30).until(EC.presence_of_element_located((By.CSS_SELECTOR, 'div[class=\"CatalogProducts__Wrapper-sc-1r8ct7c-0 fKlIZg\"]')))\n",
    "html_of_interest=driver.execute_script('return arguments[0].innerHTML',element)\n",
    "soup = BeautifulSoup(html_of_interest, 'lxml')\n",
    "\n",
    "raw_links = soup.select('a[data-view-id=\"product_list_item\"]')\n",
    "list_link = []\n",
    "\n",
    "for num_link in range(len(raw_links)):\n",
    "    link = raw_links[num_link].attrs['href']\n",
    "\n",
    "    if 'tka.tiki.vn' in link:\n",
    "        list_link.append('https:' + link)\n",
    "    else:\n",
    "        list_link.append('https://tiki.vn' + link)"
   ]
  },
  {
   "cell_type": "code",
   "execution_count": 31,
   "metadata": {},
   "outputs": [],
   "source": [
    "# Test\n",
    "link_product = 'https://tiki.vn/tai-nghe-bluetooth-samsung-galaxy-buds-2-r177n-hang-chinh-hang-p122490033.html?spid=122490034'\n",
    "\n",
    "# Crawl thông tin sp theo url\n",
    "driver.get(link_product)\n",
    "sleep(1)\n",
    "\n",
    "element= WebDriverWait(driver, 30).until(EC.presence_of_element_located((By.CSS_SELECTOR, 'div[class=\"sc-iuImSO kjhMak\"]')))\n",
    "html_of_interest=driver.execute_script('return arguments[0].innerHTML',element)\n",
    "soup = BeautifulSoup(html_of_interest, 'lxml')"
   ]
  },
  {
   "cell_type": "code",
   "execution_count": 34,
   "metadata": {},
   "outputs": [
    {
     "data": {
      "text/plain": [
       "'Tai nghe Bluetooth Samsung Galaxy Buds 2 - R177N - Hàng chính hãng'"
      ]
     },
     "execution_count": 34,
     "metadata": {},
     "output_type": "execute_result"
    }
   ],
   "source": [
    "# Tên sản phẩm\n",
    "soup.select('h1[class=\"Title__TitledStyled-sc-1kxsq5b-0 cvyKhs\"]')[0].text"
   ]
  },
  {
   "cell_type": "code",
   "execution_count": 35,
   "metadata": {},
   "outputs": [
    {
     "data": {
      "text/plain": [
       "'Samsung'"
      ]
     },
     "execution_count": 35,
     "metadata": {},
     "output_type": "execute_result"
    }
   ],
   "source": [
    "# Thương hiệu\n",
    "soup.select('a[data-view-id=\"pdp_details_view_brand\"]')[0].text"
   ]
  },
  {
   "cell_type": "code",
   "execution_count": 38,
   "metadata": {},
   "outputs": [
    {
     "data": {
      "text/plain": [
       "'184'"
      ]
     },
     "execution_count": 38,
     "metadata": {},
     "output_type": "execute_result"
    }
   ],
   "source": [
    "# Số lượng bán\n",
    "soup.select('div[data-view-id=\"pdp_quantity_sold\"]')[0].text.split()[-1]"
   ]
  },
  {
   "cell_type": "code",
   "execution_count": 44,
   "metadata": {},
   "outputs": [
    {
     "data": {
      "text/plain": [
       "'60'"
      ]
     },
     "execution_count": 44,
     "metadata": {},
     "output_type": "execute_result"
    }
   ],
   "source": [
    "# Số lượt đánh giá\n",
    "soup.select('a[data-view-id=\"pdp_main_view_review\"]')[0].text.strip('()')"
   ]
  },
  {
   "cell_type": "code",
   "execution_count": 46,
   "metadata": {},
   "outputs": [
    {
     "data": {
      "text/plain": [
       "'5.0'"
      ]
     },
     "execution_count": 46,
     "metadata": {},
     "output_type": "execute_result"
    }
   ],
   "source": [
    "# Đánh giá sao\n",
    "soup.select('div[class=\"styles__StyledReview-sc-1swui9f-1 dXPbue\"] > div')[0].text"
   ]
  },
  {
   "cell_type": "code",
   "execution_count": 50,
   "metadata": {},
   "outputs": [
    {
     "data": {
      "text/plain": [
       "'1.379.000'"
      ]
     },
     "execution_count": 50,
     "metadata": {},
     "output_type": "execute_result"
    }
   ],
   "source": [
    "# Giá bán\n",
    "soup.select('div[class=\"product-price__current-price\"]')[0].text.replace('₫', '')"
   ]
  },
  {
   "cell_type": "code",
   "execution_count": null,
   "metadata": {},
   "outputs": [],
   "source": []
  }
 ],
 "metadata": {
  "kernelspec": {
   "display_name": "Python 3",
   "language": "python",
   "name": "python3"
  },
  "language_info": {
   "codemirror_mode": {
    "name": "ipython",
    "version": 3
   },
   "file_extension": ".py",
   "mimetype": "text/x-python",
   "name": "python",
   "nbconvert_exporter": "python",
   "pygments_lexer": "ipython3",
   "version": "3.9.0"
  }
 },
 "nbformat": 4,
 "nbformat_minor": 2
}
