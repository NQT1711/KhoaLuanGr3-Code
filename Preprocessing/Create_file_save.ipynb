{
 "cells": [
  {
   "cell_type": "code",
   "execution_count": 5,
   "metadata": {},
   "outputs": [],
   "source": [
    "import pandas as pd"
   ]
  },
  {
   "cell_type": "markdown",
   "metadata": {},
   "source": [
    "# Database Schema"
   ]
  },
  {
   "cell_type": "markdown",
   "metadata": {},
   "source": [
    "![image info](../Database_schema.png)"
   ]
  },
  {
   "cell_type": "markdown",
   "metadata": {},
   "source": [
    "#### Platform table\n",
    "- PlatformID (string)\n",
    "- PlatformName (string)"
   ]
  },
  {
   "cell_type": "code",
   "execution_count": 7,
   "metadata": {},
   "outputs": [],
   "source": [
    "# Tạo bảng \"Platform\"\n",
    "platform_table = pd.DataFrame([{'PlatformID': 'PL01', 'PlatformName': 'Tiki'},\n",
    "                               {'PlatformID': 'PL02', 'PlatformName': 'Lazada'},\n",
    "                               {'PlatformID': 'PL03', 'PlatformName': 'Shopee'},\n",
    "                               {'PlatformID': 'PL04', 'PlatformName': 'Youtube'},\n",
    "                               {'PlatformID': 'PL05', 'PlatformName': 'Tinhte'},\n",
    "                               ])\n",
    "\n",
    "platform_table.to_csv(r'..\\Data\\Preprocessed_data\\Platform.csv', index=False)"
   ]
  },
  {
   "cell_type": "markdown",
   "metadata": {},
   "source": [
    "#### Product table\n",
    "- ProductID (string)\n",
    "- ProductName (string)\n",
    "- Brand (string)"
   ]
  },
  {
   "cell_type": "code",
   "execution_count": 15,
   "metadata": {},
   "outputs": [],
   "source": [
    "# Tạo bảng \"Product\"\n",
    "product_table = pd.DataFrame([{'ProductID': 'P001', 'ProductName': 'iPhone 15 Pro Max', 'Brand': 'iPhone'},\n",
    "                              {'ProductID': 'P002', 'ProductName': 'Galaxy S23 Ultra', 'Brand': 'Samsung'},\n",
    "                              ])\n",
    "\n",
    "product_table.to_csv(r'..\\Data\\Preprocessed_data\\Product.csv', index=False)"
   ]
  },
  {
   "cell_type": "markdown",
   "metadata": {},
   "source": [
    "#### EcomReviews\n",
    "- EcomReviewID (string)\n",
    "- Review (string)\n",
    "- ProductID (string)\n",
    "- PlatformID (string)\n",
    "- DateReview (string)\n",
    "- ShopID (string)\n",
    "- StarRating (int)"
   ]
  },
  {
   "cell_type": "code",
   "execution_count": 12,
   "metadata": {},
   "outputs": [],
   "source": [
    "# Tạo bảng \"EcomReviews\"\n",
    "# EcomReviewID: ER00000001, ER00000002,...\n",
    "ecom_reviews_table = pd.DataFrame(columns=['EcomReviewID', 'Review', 'ProductID', 'PlatformID', 'DateReview', 'ShopID', 'StarRating'])\n",
    "\n",
    "ecom_reviews_table.to_csv(r'..\\Data\\Preprocessed_data\\EcomReviews.csv', index=False)"
   ]
  },
  {
   "cell_type": "markdown",
   "metadata": {},
   "source": [
    "#### Market\n",
    "- MarketID (string)\n",
    "- ProductID (string)\n",
    "- PlatformID (string)\n",
    "- ShopID (string)\n",
    "- Price (int)\n",
    "- Quantity (int)\n",
    "- ReviewCount (int)\n",
    "- StarRating (float)\n",
    "- CrawlDate (string)"
   ]
  },
  {
   "cell_type": "code",
   "execution_count": 13,
   "metadata": {},
   "outputs": [],
   "source": [
    "# Tạo bảng \"Market\"\n",
    "# MarketID: MK001, MK002,...\n",
    "market_table = pd.DataFrame(columns=['MarketID', 'ProductID', 'PlatformID', 'ShopID', 'Price',\n",
    "                                     'Quantity', 'ReviewCount', 'StarRating', 'CrawlDate'])\n",
    "\n",
    "market_table.to_csv(r'..\\Data\\Preprocessed_data\\Market.csv', index=False)"
   ]
  },
  {
   "cell_type": "markdown",
   "metadata": {},
   "source": [
    "#### Shop\n",
    "- ShopID (string)\n",
    "- ShopName (string)\n",
    "- ShopRating (float)"
   ]
  },
  {
   "cell_type": "code",
   "execution_count": 14,
   "metadata": {},
   "outputs": [],
   "source": [
    "# Tạo bảng \"Shop\"\n",
    "# ShopID: S001, S002,...\n",
    "shop_table = pd.DataFrame(columns=['ShopID', 'ShopName', 'ShopRating'])\n",
    "\n",
    "shop_table.to_csv(r'..\\Data\\Preprocessed_data\\Shop.csv', index=False)"
   ]
  },
  {
   "cell_type": "markdown",
   "metadata": {},
   "source": [
    "#### SocialMediaReviews\n",
    "- SMReviewID (String)\n",
    "- ProductID (string)\n",
    "- PlatformID (string)\n",
    "- TypeReview (string)\n",
    "- DateReview (string)\n",
    "- Title (string)\n",
    "- ReviewerName (string)\n",
    "- ViewCount (int)\n",
    "- CommentCount (int)"
   ]
  },
  {
   "cell_type": "code",
   "execution_count": 16,
   "metadata": {},
   "outputs": [],
   "source": [
    "# Tạo bảng \"SocialMediaReviews\"\n",
    "# SMReviewID: SM00000001, SM00000002,...\n",
    "social_media_reviews_table = pd.DataFrame(columns=['SMReviewID', 'ProductID', 'PlatformID', 'TypeReview',\n",
    "                                                   'DateReview', 'Title', 'ReviewerName', 'ViewCount', 'CommentCount'\n",
    "                                                   ])\n",
    "\n",
    "social_media_reviews_table.to_csv(r'..\\Data\\Preprocessed_data\\SocialMediaReviews.csv', index=False)"
   ]
  }
 ],
 "metadata": {
  "kernelspec": {
   "display_name": "Python 3",
   "language": "python",
   "name": "python3"
  },
  "language_info": {
   "codemirror_mode": {
    "name": "ipython",
    "version": 3
   },
   "file_extension": ".py",
   "mimetype": "text/x-python",
   "name": "python",
   "nbconvert_exporter": "python",
   "pygments_lexer": "ipython3",
   "version": "3.9.0"
  }
 },
 "nbformat": 4,
 "nbformat_minor": 2
}
