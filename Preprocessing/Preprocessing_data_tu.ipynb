{
 "cells": [
  {
   "cell_type": "code",
   "execution_count": 1,
   "metadata": {},
   "outputs": [],
   "source": [
    "import pandas as pd\n",
    "from datetime import datetime\n",
    "import dateutil.relativedelta\n",
    "# import pypyodbc as odbc"
   ]
  },
  {
   "cell_type": "code",
   "execution_count": 127,
   "metadata": {},
   "outputs": [],
   "source": [
    "pd.options.mode.copy_on_write = True"
   ]
  },
  {
   "cell_type": "markdown",
   "metadata": {},
   "source": [
    "# Test database"
   ]
  },
  {
   "cell_type": "code",
   "execution_count": 2,
   "metadata": {},
   "outputs": [],
   "source": [
    "# drive_name = 'SQL SERVER'\n",
    "# server_name = 'DESKTOP-29355SM\\SQLEXPRESS'\n",
    "# database_name = 'Bank'\n",
    "\n",
    "# connection_string = f\"\"\"\n",
    "#     DRIVER={{{drive_name}}};\n",
    "#     SERVER={server_name};\n",
    "#     DATABASE={database_name};\n",
    "#     Trust_Connection=yes;\n",
    "# \"\"\"\n",
    "\n",
    "# conn = odbc.connect(connection_string)"
   ]
  },
  {
   "cell_type": "code",
   "execution_count": 3,
   "metadata": {},
   "outputs": [],
   "source": [
    "# cursor = conn.cursor()"
   ]
  },
  {
   "cell_type": "code",
   "execution_count": 4,
   "metadata": {},
   "outputs": [],
   "source": [
    "# cursor.execute(\"\"\"\n",
    "# Create table Persons (\n",
    "#     PersonID int,\n",
    "#     LastName varchar(255),\n",
    "#     FirstName varchar(255),\n",
    "#     Address varchar(255),\n",
    "#     City varchar(255)\n",
    "# )\n",
    "# \"\"\")"
   ]
  },
  {
   "cell_type": "code",
   "execution_count": 5,
   "metadata": {},
   "outputs": [],
   "source": [
    "# df = pd.read_sql('Select * from account', conn)"
   ]
  },
  {
   "cell_type": "code",
   "execution_count": 6,
   "metadata": {},
   "outputs": [],
   "source": [
    "# conn.commit()"
   ]
  },
  {
   "cell_type": "markdown",
   "metadata": {},
   "source": [
    "# Function"
   ]
  },
  {
   "cell_type": "code",
   "execution_count": 7,
   "metadata": {},
   "outputs": [],
   "source": [
    "def extract_date_review(text_date, crawl_date): # Biến đổi khoảng thời gian (1 tháng trước, 2 ngày trước) thằnh ngày cụ thể và trả về datetime\n",
    "    sub_text = text_date.split(' ')\n",
    "    date_cmt = ''\n",
    "\n",
    "    if 'năm' in text_date:\n",
    "        for t in sub_text:\n",
    "            if t.isnumeric():\n",
    "                date_cmt = datetime.strptime(crawl_date, '%Y-%m-%d').date() - dateutil.relativedelta.relativedelta(years=int(t))\n",
    "    elif 'tháng' in text_date:\n",
    "        for t in sub_text:\n",
    "            if t.isnumeric():\n",
    "                date_cmt = datetime.strptime(crawl_date, '%Y-%m-%d').date() - dateutil.relativedelta.relativedelta(months=int(t))\n",
    "    elif 'tuần' in text_date:\n",
    "        for t in sub_text:\n",
    "            if t.isnumeric():\n",
    "                date_cmt = datetime.strptime(crawl_date, '%Y-%m-%d').date() - dateutil.relativedelta.relativedelta(weeks==int(t))\n",
    "    elif 'ngày' in text_date:\n",
    "        for t in sub_text:\n",
    "            if t.isnumeric():\n",
    "                date_cmt = datetime.strptime(crawl_date, '%Y-%m-%d').date() - dateutil.relativedelta.relativedelta(days=int(t))\n",
    "    else:\n",
    "        date_cmt = datetime.strptime(crawl_date, '%Y-%m-%d').date()\n",
    "\n",
    "    return date_cmt"
   ]
  },
  {
   "cell_type": "code",
   "execution_count": 8,
   "metadata": {},
   "outputs": [],
   "source": [
    "def create_id(last_id): # Tạo ID mới và trả về string\n",
    "    last_id_list = []\n",
    "    newest_id = ''\n",
    "\n",
    "    for s in list(last_id):\n",
    "        if s.isnumeric():\n",
    "            last_id_list.append(s)\n",
    "        else:\n",
    "            newest_id += s\n",
    "    \n",
    "    last_id = str(int(''.join(last_id_list)) + 1)\n",
    "    if len(last_id_list) != len(last_id):\n",
    "        num_0 = len(last_id_list) - len(last_id)\n",
    "        newest_id += '0'*num_0 + last_id\n",
    "    else:\n",
    "        newest_id += last_id\n",
    "    \n",
    "    return newest_id"
   ]
  },
  {
   "cell_type": "code",
   "execution_count": 84,
   "metadata": {},
   "outputs": [],
   "source": [
    "def add_data(file_table_name, df, id_format=None): # Thêm df vào file save(df không chứa cột ID, thứ tự cột giống với file save và nếu file save trống thì cần đưa ID format (S000, PL00,...))\n",
    "    table = pd.read_csv(r'..\\Data\\Preprocessed_data\\%s'%(file_table_name))\n",
    "\n",
    "    newest_id = ''\n",
    "    if id_format != None:\n",
    "        newest_id = create_id(id_format)\n",
    "    else:\n",
    "        newest_id = create_id(table.iloc[-1][0])\n",
    "\n",
    "    list_id = []\n",
    "    for i in range(len(df)):\n",
    "        list_id.append(newest_id)\n",
    "        newest_id = create_id(newest_id)\n",
    "    df.insert(loc=0, column='ID', value=list_id)\n",
    "\n",
    "    df.columns = table.columns\n",
    "    table = pd.concat([table, df], ignore_index=True)\n",
    "    table.drop_duplicates(keep='first', inplace=True, ignore_index=True)\n",
    "    table.to_csv(r'..\\Data\\Preprocessed_data\\%s'%(file_table_name), index=False)"
   ]
  },
  {
   "cell_type": "code",
   "execution_count": 120,
   "metadata": {},
   "outputs": [],
   "source": [
    "def add_shop(new_shop_df): # Thêm shop mới vào file Shop.csv (new_shop_df chỉ bao gồm 'Shop name', 'Shop rating' và đặt đúng thứ tự)\n",
    "    shop_df = pd.read_csv(r'..\\Data\\Preprocessed_data\\Shop.csv')\n",
    "    check_shop_list = new_shop_df.drop_duplicates(subset=new_shop_df.columns[0], keep='last', ignore_index=True)\n",
    "    drop_index = []\n",
    "\n",
    "    for index_shop in range(len(check_shop_list)):\n",
    "        if check_shop_list.iloc[index_shop][0] in shop_df['ShopName'].values:\n",
    "            drop_index.append(index_shop)\n",
    "\n",
    "    check_shop_list.drop(drop_index, inplace=True)\n",
    "\n",
    "    if len(shop_df) == 0:\n",
    "        add_data('Shop.csv', check_shop_list, id_format='S000')\n",
    "    else:\n",
    "        add_data('Shop.csv', check_shop_list)"
   ]
  },
  {
   "cell_type": "markdown",
   "metadata": {},
   "source": [
    "# Main"
   ]
  },
  {
   "cell_type": "code",
   "execution_count": 105,
   "metadata": {},
   "outputs": [
    {
     "data": {
      "text/html": [
       "<div>\n",
       "<style scoped>\n",
       "    .dataframe tbody tr th:only-of-type {\n",
       "        vertical-align: middle;\n",
       "    }\n",
       "\n",
       "    .dataframe tbody tr th {\n",
       "        vertical-align: top;\n",
       "    }\n",
       "\n",
       "    .dataframe thead th {\n",
       "        text-align: right;\n",
       "    }\n",
       "</style>\n",
       "<table border=\"1\" class=\"dataframe\">\n",
       "  <thead>\n",
       "    <tr style=\"text-align: right;\">\n",
       "      <th></th>\n",
       "      <th>PlatformID</th>\n",
       "      <th>PlatformName</th>\n",
       "    </tr>\n",
       "  </thead>\n",
       "  <tbody>\n",
       "    <tr>\n",
       "      <th>0</th>\n",
       "      <td>PL01</td>\n",
       "      <td>Tiki</td>\n",
       "    </tr>\n",
       "    <tr>\n",
       "      <th>1</th>\n",
       "      <td>PL02</td>\n",
       "      <td>Lazada</td>\n",
       "    </tr>\n",
       "    <tr>\n",
       "      <th>2</th>\n",
       "      <td>PL03</td>\n",
       "      <td>Shopee</td>\n",
       "    </tr>\n",
       "    <tr>\n",
       "      <th>3</th>\n",
       "      <td>PL04</td>\n",
       "      <td>Youtube</td>\n",
       "    </tr>\n",
       "    <tr>\n",
       "      <th>4</th>\n",
       "      <td>PL05</td>\n",
       "      <td>Tinhte</td>\n",
       "    </tr>\n",
       "  </tbody>\n",
       "</table>\n",
       "</div>"
      ],
      "text/plain": [
       "  PlatformID PlatformName\n",
       "0       PL01         Tiki\n",
       "1       PL02       Lazada\n",
       "2       PL03       Shopee\n",
       "3       PL04      Youtube\n",
       "4       PL05       Tinhte"
      ]
     },
     "execution_count": 105,
     "metadata": {},
     "output_type": "execute_result"
    }
   ],
   "source": [
    "platform_df = pd.read_csv(r'..\\Data\\Preprocessed_data\\Platform.csv')\n",
    "platform_df"
   ]
  },
  {
   "cell_type": "code",
   "execution_count": 106,
   "metadata": {},
   "outputs": [
    {
     "data": {
      "text/html": [
       "<div>\n",
       "<style scoped>\n",
       "    .dataframe tbody tr th:only-of-type {\n",
       "        vertical-align: middle;\n",
       "    }\n",
       "\n",
       "    .dataframe tbody tr th {\n",
       "        vertical-align: top;\n",
       "    }\n",
       "\n",
       "    .dataframe thead th {\n",
       "        text-align: right;\n",
       "    }\n",
       "</style>\n",
       "<table border=\"1\" class=\"dataframe\">\n",
       "  <thead>\n",
       "    <tr style=\"text-align: right;\">\n",
       "      <th></th>\n",
       "      <th>ProductID</th>\n",
       "      <th>ProductName</th>\n",
       "      <th>Brand</th>\n",
       "    </tr>\n",
       "  </thead>\n",
       "  <tbody>\n",
       "    <tr>\n",
       "      <th>0</th>\n",
       "      <td>P001</td>\n",
       "      <td>iPhone 15 Pro Max</td>\n",
       "      <td>iPhone</td>\n",
       "    </tr>\n",
       "    <tr>\n",
       "      <th>1</th>\n",
       "      <td>P002</td>\n",
       "      <td>Galaxy S23 Ultra</td>\n",
       "      <td>Samsung</td>\n",
       "    </tr>\n",
       "  </tbody>\n",
       "</table>\n",
       "</div>"
      ],
      "text/plain": [
       "  ProductID        ProductName    Brand\n",
       "0      P001  iPhone 15 Pro Max   iPhone\n",
       "1      P002   Galaxy S23 Ultra  Samsung"
      ]
     },
     "execution_count": 106,
     "metadata": {},
     "output_type": "execute_result"
    }
   ],
   "source": [
    "product_df = pd.read_csv(r'..\\Data\\Preprocessed_data\\Product.csv')\n",
    "product_df"
   ]
  },
  {
   "cell_type": "markdown",
   "metadata": {},
   "source": [
    "# Tiki"
   ]
  },
  {
   "cell_type": "markdown",
   "metadata": {},
   "source": [
    "#### Product info"
   ]
  },
  {
   "cell_type": "code",
   "execution_count": 170,
   "metadata": {},
   "outputs": [],
   "source": [
    "for p in product_df.to_dict(orient='records'):\n",
    "    product_name = p['ProductName'].lower()\n",
    "\n",
    "    tiki_product_info = pd.read_csv(r'..\\Data\\Tiki\\%s_info.csv'%('_'.join(product_name.split(' '))))\n",
    "\n",
    "    # Thêm cột ID của sp\n",
    "    tiki_product_info['ProductID'] = p['ProductID']\n",
    "\n",
    "    # Thêm cột ID của platform\n",
    "    tiki_product_info['PlatformID'] = 'PL01'\n",
    "\n",
    "    # Lấy những cột cần thiết\n",
    "    tiki_product_info = tiki_product_info[['ProductID', 'PlatformID', 'Name', 'Quantity', 'Reviews count', 'Star rating', \n",
    "                                        'Price', 'Crawl date', 'Shop name', 'Shop rating']]\n",
    "\n",
    "    # Loại bỏ dấu \".\" trong cột \"Price\" và đổi định dạng thành int\n",
    "    tiki_product_info['Price'] = tiki_product_info['Price'].str.replace('.', '', regex=True).astype(int)\n",
    "\n",
    "    # Lọc lấy data của ngày crawl mới nhất nếu sp không có sự thay đổi giá\n",
    "    tiki_product_info.drop_duplicates(subset=['Name', 'Price'], keep='last', inplace=True, ignore_index=True)\n",
    "\n",
    "    # Thêm shop mới vào file Shop.csv nếu có\n",
    "    shop_list = tiki_product_info[['Shop name', 'Shop rating']].copy()\n",
    "    add_shop(shop_list)\n",
    "\n",
    "    # Thêm ID của shop\n",
    "    shop_df = pd.read_csv(r'..\\Data\\Preprocessed_data\\Shop.csv')\n",
    "    for shop_name in shop_df['ShopName']:\n",
    "        tiki_product_info.loc[tiki_product_info['Shop name'] == shop_name, 'ShopID'] = shop_df[shop_df['ShopName']==shop_name]['ShopID'].values[0]\n",
    "\n",
    "    add_df = tiki_product_info[['ProductID', 'PlatformID', 'ShopID', 'Price', 'Quantity', 'Reviews count', 'Star rating', 'Crawl date']]\n",
    "\n",
    "    # Lưu vào file save Market.csv\n",
    "    market_df = pd.read_csv(r'..\\Data\\Preprocessed_data\\Market.csv')\n",
    "    if len(market_df) == 0:\n",
    "        add_data('Market.csv', add_df, 'MK000')\n",
    "    else:\n",
    "        add_data('Market.csv', add_df)"
   ]
  },
  {
   "cell_type": "markdown",
   "metadata": {},
   "source": [
    "#### Reviews"
   ]
  },
  {
   "cell_type": "code",
   "execution_count": 21,
   "metadata": {},
   "outputs": [],
   "source": [
    "tiki_reviews = pd.read_csv(r'..\\Data\\Tiki\\%s_reviews.csv'%('_'.join(product_name.split(' '))))"
   ]
  },
  {
   "cell_type": "code",
   "execution_count": 22,
   "metadata": {},
   "outputs": [
    {
     "data": {
      "text/html": [
       "<div>\n",
       "<style scoped>\n",
       "    .dataframe tbody tr th:only-of-type {\n",
       "        vertical-align: middle;\n",
       "    }\n",
       "\n",
       "    .dataframe tbody tr th {\n",
       "        vertical-align: top;\n",
       "    }\n",
       "\n",
       "    .dataframe thead th {\n",
       "        text-align: right;\n",
       "    }\n",
       "</style>\n",
       "<table border=\"1\" class=\"dataframe\">\n",
       "  <thead>\n",
       "    <tr style=\"text-align: right;\">\n",
       "      <th></th>\n",
       "      <th>Reviewer name</th>\n",
       "      <th>Content</th>\n",
       "      <th>Rating</th>\n",
       "      <th>Rating date</th>\n",
       "      <th>Crawl date</th>\n",
       "      <th>Shop name</th>\n",
       "    </tr>\n",
       "  </thead>\n",
       "  <tbody>\n",
       "    <tr>\n",
       "      <th>0</th>\n",
       "      <td>muasach</td>\n",
       "      <td>22/9 đúng 00h lên topzone, TGDĐ, FPT Shop, đặt...</td>\n",
       "      <td>Cực kì hài lòng</td>\n",
       "      <td>Đánh giá vào 3 tháng trước</td>\n",
       "      <td>2024-01-11</td>\n",
       "      <td>Tiki Trading</td>\n",
       "    </tr>\n",
       "    <tr>\n",
       "      <th>1</th>\n",
       "      <td>Vũ thị hường</td>\n",
       "      <td>Đam mê táo k thể bỏ qua Iphone 15promax vì: \\r...</td>\n",
       "      <td>Cực kì hài lòng</td>\n",
       "      <td>Đánh giá vào 3 tháng trước</td>\n",
       "      <td>2024-01-11</td>\n",
       "      <td>Tiki Trading</td>\n",
       "    </tr>\n",
       "    <tr>\n",
       "      <th>2</th>\n",
       "      <td>BẢO NGÔ</td>\n",
       "      <td>[Cuộc gọi lúc giữa đêm]…\\r\\n\\r\\nKhông phải bon...</td>\n",
       "      <td>Cực kì hài lòng</td>\n",
       "      <td>Đánh giá vào 3 tháng trước</td>\n",
       "      <td>2024-01-11</td>\n",
       "      <td>Tiki Trading</td>\n",
       "    </tr>\n",
       "    <tr>\n",
       "      <th>3</th>\n",
       "      <td>NGÔ QUỐC KHÁNH</td>\n",
       "      <td>Tiki giao lúc 1h sáng. Áp mã 500K và giảm 2tr ...</td>\n",
       "      <td>Cực kì hài lòng</td>\n",
       "      <td>Đánh giá vào 3 tháng trước</td>\n",
       "      <td>2024-01-11</td>\n",
       "      <td>Tiki Trading</td>\n",
       "    </tr>\n",
       "    <tr>\n",
       "      <th>4</th>\n",
       "      <td>Hung Trieu</td>\n",
       "      <td>Rất tin tưởng Tiki khi đặt mua điện thoại tại ...</td>\n",
       "      <td>Cực kì hài lòng</td>\n",
       "      <td>Đánh giá vào 2 tháng trước</td>\n",
       "      <td>2024-01-11</td>\n",
       "      <td>Tiki Trading</td>\n",
       "    </tr>\n",
       "    <tr>\n",
       "      <th>...</th>\n",
       "      <td>...</td>\n",
       "      <td>...</td>\n",
       "      <td>...</td>\n",
       "      <td>...</td>\n",
       "      <td>...</td>\n",
       "      <td>...</td>\n",
       "    </tr>\n",
       "    <tr>\n",
       "      <th>294</th>\n",
       "      <td>vu thang</td>\n",
       "      <td>Thấy bảo nhận hàng phải có mã otp mới nhận đc ...</td>\n",
       "      <td>Rất không hài lòng</td>\n",
       "      <td>Đánh giá vào 2 tháng trước</td>\n",
       "      <td>2024-01-27</td>\n",
       "      <td>Tiki Trading</td>\n",
       "    </tr>\n",
       "    <tr>\n",
       "      <th>295</th>\n",
       "      <td>Việt Dũng Đoàn</td>\n",
       "      <td>Hàng ko cho đổi trả khi đổi ý</td>\n",
       "      <td>Rất không hài lòng</td>\n",
       "      <td>Đánh giá vào 3 tháng trước</td>\n",
       "      <td>2024-01-27</td>\n",
       "      <td>Tiki Trading</td>\n",
       "    </tr>\n",
       "    <tr>\n",
       "      <th>296</th>\n",
       "      <td>Thu Nga</td>\n",
       "      <td>Chưa thấy hoàn astra cho mình</td>\n",
       "      <td>Không hài lòng</td>\n",
       "      <td>Đánh giá vào 3 tháng trước</td>\n",
       "      <td>2024-01-27</td>\n",
       "      <td>Tiki Trading</td>\n",
       "    </tr>\n",
       "    <tr>\n",
       "      <th>297</th>\n",
       "      <td>Nguyễn Quang</td>\n",
       "      <td>NaN</td>\n",
       "      <td>Hài lòng</td>\n",
       "      <td>Đánh giá vào 2 tháng trước</td>\n",
       "      <td>2024-01-27</td>\n",
       "      <td>Tiki Trading</td>\n",
       "    </tr>\n",
       "    <tr>\n",
       "      <th>298</th>\n",
       "      <td>Trần Hùng Đạt</td>\n",
       "      <td>NaN</td>\n",
       "      <td>Hài lòng</td>\n",
       "      <td>Đánh giá vào 3 tháng trước</td>\n",
       "      <td>2024-01-27</td>\n",
       "      <td>Tiki Trading</td>\n",
       "    </tr>\n",
       "  </tbody>\n",
       "</table>\n",
       "<p>299 rows × 6 columns</p>\n",
       "</div>"
      ],
      "text/plain": [
       "      Reviewer name                                            Content  \\\n",
       "0           muasach  22/9 đúng 00h lên topzone, TGDĐ, FPT Shop, đặt...   \n",
       "1      Vũ thị hường  Đam mê táo k thể bỏ qua Iphone 15promax vì: \\r...   \n",
       "2           BẢO NGÔ  [Cuộc gọi lúc giữa đêm]…\\r\\n\\r\\nKhông phải bon...   \n",
       "3    NGÔ QUỐC KHÁNH  Tiki giao lúc 1h sáng. Áp mã 500K và giảm 2tr ...   \n",
       "4        Hung Trieu  Rất tin tưởng Tiki khi đặt mua điện thoại tại ...   \n",
       "..              ...                                                ...   \n",
       "294        vu thang  Thấy bảo nhận hàng phải có mã otp mới nhận đc ...   \n",
       "295  Việt Dũng Đoàn                      Hàng ko cho đổi trả khi đổi ý   \n",
       "296         Thu Nga                      Chưa thấy hoàn astra cho mình   \n",
       "297    Nguyễn Quang                                                NaN   \n",
       "298   Trần Hùng Đạt                                                NaN   \n",
       "\n",
       "                 Rating                 Rating date  Crawl date     Shop name  \n",
       "0       Cực kì hài lòng  Đánh giá vào 3 tháng trước  2024-01-11  Tiki Trading  \n",
       "1       Cực kì hài lòng  Đánh giá vào 3 tháng trước  2024-01-11  Tiki Trading  \n",
       "2       Cực kì hài lòng  Đánh giá vào 3 tháng trước  2024-01-11  Tiki Trading  \n",
       "3       Cực kì hài lòng  Đánh giá vào 3 tháng trước  2024-01-11  Tiki Trading  \n",
       "4       Cực kì hài lòng  Đánh giá vào 2 tháng trước  2024-01-11  Tiki Trading  \n",
       "..                  ...                         ...         ...           ...  \n",
       "294  Rất không hài lòng  Đánh giá vào 2 tháng trước  2024-01-27  Tiki Trading  \n",
       "295  Rất không hài lòng  Đánh giá vào 3 tháng trước  2024-01-27  Tiki Trading  \n",
       "296      Không hài lòng  Đánh giá vào 3 tháng trước  2024-01-27  Tiki Trading  \n",
       "297            Hài lòng  Đánh giá vào 2 tháng trước  2024-01-27  Tiki Trading  \n",
       "298            Hài lòng  Đánh giá vào 3 tháng trước  2024-01-27  Tiki Trading  \n",
       "\n",
       "[299 rows x 6 columns]"
      ]
     },
     "execution_count": 22,
     "metadata": {},
     "output_type": "execute_result"
    }
   ],
   "source": [
    "tiki_reviews"
   ]
  },
  {
   "cell_type": "code",
   "execution_count": null,
   "metadata": {},
   "outputs": [],
   "source": [
    "# Biến đổi cột 'Rating date' thành ngày cụ thể thông qua 'Crawl date'\n",
    "actual_date_list = []\n",
    "\n",
    "for num in range(len(tiki_reviews)):\n",
    "    text_date = tiki_reviews.loc[num, ['Rating date', 'Crawl date']][0]\n",
    "    crawl_date = tiki_reviews.loc[num, ['Rating date', 'Crawl date']][1]\n",
    "\n",
    "    actual_date = extract_date_review(text_date, crawl_date)\n",
    "    actual_date_list.append(actual_date)\n",
    "\n",
    "tiki_reviews['Rating date'] = actual_date_list\n",
    "tiki_reviews.drop(columns=['Crawl date'], inplace=True)"
   ]
  },
  {
   "cell_type": "code",
   "execution_count": null,
   "metadata": {},
   "outputs": [],
   "source": [
    "# Biến đổi cột \"Rating\" thành thang đo likert\n",
    "rating_likert = {'Rất không hài lòng': 1, 'Không hài lòng': 2, 'Bình thường': 3, 'Hài lòng': 4, 'Cực kì hài lòng': 5}\n",
    "\n",
    "for num in range(len(tiki_reviews)):\n",
    "    rating = tiki_reviews.loc[num, 'Rating']\n",
    "    for k, v in rating_likert.items():\n",
    "        if rating == k:\n",
    "            tiki_reviews.loc[num, 'Rating'] = v"
   ]
  },
  {
   "cell_type": "code",
   "execution_count": null,
   "metadata": {},
   "outputs": [],
   "source": [
    "# Loại bỏ những dòng trùng \"Reviewer name\" và \"Content\"\n",
    "tiki_reviews.drop_duplicates(subset=['Reviewer name', 'Content'], keep='last', inplace=True, ignore_index=True)"
   ]
  },
  {
   "cell_type": "code",
   "execution_count": null,
   "metadata": {},
   "outputs": [
    {
     "data": {
      "text/html": [
       "<div>\n",
       "<style scoped>\n",
       "    .dataframe tbody tr th:only-of-type {\n",
       "        vertical-align: middle;\n",
       "    }\n",
       "\n",
       "    .dataframe tbody tr th {\n",
       "        vertical-align: top;\n",
       "    }\n",
       "\n",
       "    .dataframe thead th {\n",
       "        text-align: right;\n",
       "    }\n",
       "</style>\n",
       "<table border=\"1\" class=\"dataframe\">\n",
       "  <thead>\n",
       "    <tr style=\"text-align: right;\">\n",
       "      <th></th>\n",
       "      <th>Reviewer name</th>\n",
       "      <th>Content</th>\n",
       "      <th>Rating</th>\n",
       "      <th>Rating date</th>\n",
       "      <th>Shop name</th>\n",
       "    </tr>\n",
       "  </thead>\n",
       "  <tbody>\n",
       "    <tr>\n",
       "      <th>0</th>\n",
       "      <td>Lý Nguyen</td>\n",
       "      <td>😂. Haha</td>\n",
       "      <td>5</td>\n",
       "      <td>2023-12-23</td>\n",
       "      <td>Tiki Trading</td>\n",
       "    </tr>\n",
       "    <tr>\n",
       "      <th>1</th>\n",
       "      <td>vu thang</td>\n",
       "      <td>Thấy bảo nhận hàng phải có mã otp mới nhận đc ...</td>\n",
       "      <td>1</td>\n",
       "      <td>2023-12-11</td>\n",
       "      <td>Tiki Trading</td>\n",
       "    </tr>\n",
       "    <tr>\n",
       "      <th>2</th>\n",
       "      <td>muasach</td>\n",
       "      <td>22/9 đúng 00h lên topzone, TGDĐ, FPT Shop, đặt...</td>\n",
       "      <td>5</td>\n",
       "      <td>2023-09-27</td>\n",
       "      <td>Tiki Trading</td>\n",
       "    </tr>\n",
       "    <tr>\n",
       "      <th>3</th>\n",
       "      <td>Vũ thị hường</td>\n",
       "      <td>Đam mê táo k thể bỏ qua Iphone 15promax vì: \\r...</td>\n",
       "      <td>5</td>\n",
       "      <td>2023-09-27</td>\n",
       "      <td>Tiki Trading</td>\n",
       "    </tr>\n",
       "    <tr>\n",
       "      <th>4</th>\n",
       "      <td>BẢO NGÔ</td>\n",
       "      <td>[Cuộc gọi lúc giữa đêm]…\\r\\n\\r\\nKhông phải bon...</td>\n",
       "      <td>5</td>\n",
       "      <td>2023-09-27</td>\n",
       "      <td>Tiki Trading</td>\n",
       "    </tr>\n",
       "    <tr>\n",
       "      <th>...</th>\n",
       "      <td>...</td>\n",
       "      <td>...</td>\n",
       "      <td>...</td>\n",
       "      <td>...</td>\n",
       "      <td>...</td>\n",
       "    </tr>\n",
       "    <tr>\n",
       "      <th>96</th>\n",
       "      <td>vu thang</td>\n",
       "      <td>Thấy bảo nhận hàng phải có mã otp mới nhận đc ...</td>\n",
       "      <td>1</td>\n",
       "      <td>2023-11-27</td>\n",
       "      <td>Tiki Trading</td>\n",
       "    </tr>\n",
       "    <tr>\n",
       "      <th>97</th>\n",
       "      <td>Việt Dũng Đoàn</td>\n",
       "      <td>Hàng ko cho đổi trả khi đổi ý</td>\n",
       "      <td>1</td>\n",
       "      <td>2023-10-27</td>\n",
       "      <td>Tiki Trading</td>\n",
       "    </tr>\n",
       "    <tr>\n",
       "      <th>98</th>\n",
       "      <td>Thu Nga</td>\n",
       "      <td>Chưa thấy hoàn astra cho mình</td>\n",
       "      <td>2</td>\n",
       "      <td>2023-10-27</td>\n",
       "      <td>Tiki Trading</td>\n",
       "    </tr>\n",
       "    <tr>\n",
       "      <th>99</th>\n",
       "      <td>Nguyễn Quang</td>\n",
       "      <td>NaN</td>\n",
       "      <td>4</td>\n",
       "      <td>2023-11-27</td>\n",
       "      <td>Tiki Trading</td>\n",
       "    </tr>\n",
       "    <tr>\n",
       "      <th>100</th>\n",
       "      <td>Trần Hùng Đạt</td>\n",
       "      <td>NaN</td>\n",
       "      <td>4</td>\n",
       "      <td>2023-10-27</td>\n",
       "      <td>Tiki Trading</td>\n",
       "    </tr>\n",
       "  </tbody>\n",
       "</table>\n",
       "<p>101 rows × 5 columns</p>\n",
       "</div>"
      ],
      "text/plain": [
       "      Reviewer name                                            Content Rating  \\\n",
       "0        Lý Nguyen                                             😂. Haha      5   \n",
       "1          vu thang  Thấy bảo nhận hàng phải có mã otp mới nhận đc ...      1   \n",
       "2           muasach  22/9 đúng 00h lên topzone, TGDĐ, FPT Shop, đặt...      5   \n",
       "3      Vũ thị hường  Đam mê táo k thể bỏ qua Iphone 15promax vì: \\r...      5   \n",
       "4           BẢO NGÔ  [Cuộc gọi lúc giữa đêm]…\\r\\n\\r\\nKhông phải bon...      5   \n",
       "..              ...                                                ...    ...   \n",
       "96         vu thang  Thấy bảo nhận hàng phải có mã otp mới nhận đc ...      1   \n",
       "97   Việt Dũng Đoàn                      Hàng ko cho đổi trả khi đổi ý      1   \n",
       "98          Thu Nga                      Chưa thấy hoàn astra cho mình      2   \n",
       "99     Nguyễn Quang                                                NaN      4   \n",
       "100   Trần Hùng Đạt                                                NaN      4   \n",
       "\n",
       "    Rating date     Shop name  \n",
       "0    2023-12-23  Tiki Trading  \n",
       "1    2023-12-11  Tiki Trading  \n",
       "2    2023-09-27  Tiki Trading  \n",
       "3    2023-09-27  Tiki Trading  \n",
       "4    2023-09-27  Tiki Trading  \n",
       "..          ...           ...  \n",
       "96   2023-11-27  Tiki Trading  \n",
       "97   2023-10-27  Tiki Trading  \n",
       "98   2023-10-27  Tiki Trading  \n",
       "99   2023-11-27  Tiki Trading  \n",
       "100  2023-10-27  Tiki Trading  \n",
       "\n",
       "[101 rows x 5 columns]"
      ]
     },
     "execution_count": 76,
     "metadata": {},
     "output_type": "execute_result"
    }
   ],
   "source": [
    "tiki_reviews"
   ]
  },
  {
   "cell_type": "markdown",
   "metadata": {},
   "source": [
    "# Lazada"
   ]
  },
  {
   "cell_type": "code",
   "execution_count": null,
   "metadata": {},
   "outputs": [],
   "source": []
  },
  {
   "cell_type": "markdown",
   "metadata": {},
   "source": [
    "# Websites"
   ]
  },
  {
   "cell_type": "markdown",
   "metadata": {},
   "source": [
    "#### Tinhte"
   ]
  },
  {
   "cell_type": "code",
   "execution_count": null,
   "metadata": {},
   "outputs": [],
   "source": [
    "tinhte_content = pd.read_csv(r'..\\Data\\TinhTe\\TinhTe_Iphone15pm_InfoPosts2.csv')"
   ]
  },
  {
   "cell_type": "markdown",
   "metadata": {},
   "source": [
    "# Youtube"
   ]
  },
  {
   "cell_type": "code",
   "execution_count": null,
   "metadata": {},
   "outputs": [],
   "source": []
  }
 ],
 "metadata": {
  "kernelspec": {
   "display_name": "Python 3",
   "language": "python",
   "name": "python3"
  },
  "language_info": {
   "codemirror_mode": {
    "name": "ipython",
    "version": 3
   },
   "file_extension": ".py",
   "mimetype": "text/x-python",
   "name": "python",
   "nbconvert_exporter": "python",
   "pygments_lexer": "ipython3",
   "version": "3.9.0"
  }
 },
 "nbformat": 4,
 "nbformat_minor": 2
}
