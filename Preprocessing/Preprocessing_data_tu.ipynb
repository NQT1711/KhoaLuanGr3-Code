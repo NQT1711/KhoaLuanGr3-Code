{
 "cells": [
  {
   "cell_type": "code",
   "execution_count": 2,
   "metadata": {},
   "outputs": [],
   "source": [
    "import pandas as pd\n",
    "from datetime import datetime\n",
    "import dateutil.relativedelta\n",
    "# import pypyodbc as odbc"
   ]
  },
  {
   "cell_type": "markdown",
   "metadata": {},
   "source": [
    "# Test database"
   ]
  },
  {
   "cell_type": "code",
   "execution_count": 3,
   "metadata": {},
   "outputs": [],
   "source": [
    "# drive_name = 'SQL SERVER'\n",
    "# server_name = 'DESKTOP-29355SM\\SQLEXPRESS'\n",
    "# database_name = 'Bank'\n",
    "\n",
    "# connection_string = f\"\"\"\n",
    "#     DRIVER={{{drive_name}}};\n",
    "#     SERVER={server_name};\n",
    "#     DATABASE={database_name};\n",
    "#     Trust_Connection=yes;\n",
    "# \"\"\"\n",
    "\n",
    "# conn = odbc.connect(connection_string)"
   ]
  },
  {
   "cell_type": "code",
   "execution_count": 4,
   "metadata": {},
   "outputs": [],
   "source": [
    "# cursor = conn.cursor()"
   ]
  },
  {
   "cell_type": "code",
   "execution_count": 5,
   "metadata": {},
   "outputs": [],
   "source": [
    "# cursor.execute(\"\"\"\n",
    "# Create table Persons (\n",
    "#     PersonID int,\n",
    "#     LastName varchar(255),\n",
    "#     FirstName varchar(255),\n",
    "#     Address varchar(255),\n",
    "#     City varchar(255)\n",
    "# )\n",
    "# \"\"\")"
   ]
  },
  {
   "cell_type": "code",
   "execution_count": 6,
   "metadata": {},
   "outputs": [],
   "source": [
    "# df = pd.read_sql('Select * from account', conn)"
   ]
  },
  {
   "cell_type": "code",
   "execution_count": 7,
   "metadata": {},
   "outputs": [],
   "source": [
    "# conn.commit()"
   ]
  },
  {
   "cell_type": "markdown",
   "metadata": {},
   "source": [
    "# Function"
   ]
  },
  {
   "cell_type": "code",
   "execution_count": 2,
   "metadata": {},
   "outputs": [],
   "source": [
    "def extract_date_review(text_date, crawl_date): # Biến đổi khoảng thời gian (1 tháng trước, 2 ngày trước) thằnh ngày cụ thể và trả về datetime\n",
    "    sub_text = text_date.split(' ')\n",
    "    date_cmt = ''\n",
    "\n",
    "    if 'năm' in text_date:\n",
    "        for t in sub_text:\n",
    "            if t.isnumeric():\n",
    "                date_cmt = datetime.strptime(crawl_date, '%Y-%m-%d').date() - dateutil.relativedelta.relativedelta(years=int(t))\n",
    "    elif 'tháng' in text_date:\n",
    "        for t in sub_text:\n",
    "            if t.isnumeric():\n",
    "                date_cmt = datetime.strptime(crawl_date, '%Y-%m-%d').date() - dateutil.relativedelta.relativedelta(months=int(t))\n",
    "    elif 'tuần' in text_date:\n",
    "        for t in sub_text:\n",
    "            if t.isnumeric():\n",
    "                date_cmt = datetime.strptime(crawl_date, '%Y-%m-%d').date() - dateutil.relativedelta.relativedelta(weeks==int(t))\n",
    "    elif 'ngày' in text_date:\n",
    "        for t in sub_text:\n",
    "            if t.isnumeric():\n",
    "                date_cmt = datetime.strptime(crawl_date, '%Y-%m-%d').date() - dateutil.relativedelta.relativedelta(days=int(t))\n",
    "    else:\n",
    "        date_cmt = datetime.strptime(crawl_date, '%Y-%m-%d').date()\n",
    "\n",
    "    return date_cmt"
   ]
  },
  {
   "cell_type": "code",
   "execution_count": 65,
   "metadata": {},
   "outputs": [],
   "source": [
    "def create_id(last_id): # Tạo ID mới và trả về string\n",
    "    last_id_list = []\n",
    "    newest_id = ''\n",
    "\n",
    "    for s in list(last_id):\n",
    "        if s.isnumeric():\n",
    "            last_id_list.append(s)\n",
    "        else:\n",
    "            newest_id += s\n",
    "    \n",
    "    last_id = str(int(''.join(last_id_list)) + 1)\n",
    "    if len(last_id_list) != len(last_id):\n",
    "        num_0 = len(last_id_list) - len(last_id)\n",
    "        newest_id += '0'*num_0 + last_id\n",
    "    else:\n",
    "        newest_id += last_id\n",
    "    \n",
    "    return newest_id"
   ]
  },
  {
   "cell_type": "code",
   "execution_count": 142,
   "metadata": {},
   "outputs": [],
   "source": [
    "def add_data(file_table_name, df, id_format=None): # Thêm df vào file save (df không chứa cột ID và nếu file trống thì cần đưa ID format vào để tạo)\n",
    "    table = pd.read_csv(r'..\\Data\\Preprocessed_data\\%s'%(file_table_name))\n",
    "    newest_id = ''\n",
    "    if id_format != None:\n",
    "        newest_id = create_id(id_format)\n",
    "    else:\n",
    "        newest_id = create_id(table.iloc[-1][0])\n",
    "\n",
    "    list_id = []\n",
    "    for i in range(len(df)):\n",
    "        list_id.append(newest_id)\n",
    "        newest_id = create_id(newest_id)\n",
    "    df.insert(loc=0, column='ID', value=list_id)\n",
    "\n",
    "    df.columns = table.columns\n",
    "    table = pd.concat([table, df], ignore_index = True)\n",
    "    table.to_csv(r'..\\Data\\Preprocessed_data\\%s'%(file_table_name))"
   ]
  },
  {
   "cell_type": "code",
   "execution_count": 143,
   "metadata": {},
   "outputs": [
    {
     "name": "stdout",
     "output_type": "stream",
     "text": [
      "  EcomReviewID Review ProductID PlatformID DateReview ShopID StarRating\n",
      "0   ER00000001      1         2          3          4      5          6\n",
      "1   ER00000002      7         8          9         10     11         12\n",
      "2   ER00000003     13        14         15         16     17         18\n"
     ]
    }
   ],
   "source": [
    "df = pd.DataFrame([[1, 2, 3, 4, 5, 6], [7, 8, 9, 10, 11, 12], [13, 14, 15, 16, 17, 18]])\n",
    "\n",
    "add_data('EcomReviews.csv', df, id_format='ER00000000')"
   ]
  },
  {
   "cell_type": "code",
   "execution_count": 90,
   "metadata": {},
   "outputs": [
    {
     "name": "stdout",
     "output_type": "stream",
     "text": [
      "[1, 2, 3, 4, 5, 6]\n",
      "[7, 8, 9, 10, 11, 12]\n",
      "[13, 14, 15, 16, 17, 18]\n"
     ]
    }
   ],
   "source": [
    "df = pd.DataFrame([[1, 2, 3, 4, 5, 6], [7, 8, 9, 10, 11, 12], [13, 14, 15, 16, 17, 18]])\n",
    "\n",
    "for row in df.values:\n",
    "    print(list(row))"
   ]
  },
  {
   "cell_type": "code",
   "execution_count": 101,
   "metadata": {},
   "outputs": [
    {
     "data": {
      "text/html": [
       "<div>\n",
       "<style scoped>\n",
       "    .dataframe tbody tr th:only-of-type {\n",
       "        vertical-align: middle;\n",
       "    }\n",
       "\n",
       "    .dataframe tbody tr th {\n",
       "        vertical-align: top;\n",
       "    }\n",
       "\n",
       "    .dataframe thead th {\n",
       "        text-align: right;\n",
       "    }\n",
       "</style>\n",
       "<table border=\"1\" class=\"dataframe\">\n",
       "  <thead>\n",
       "    <tr style=\"text-align: right;\">\n",
       "      <th></th>\n",
       "      <th>EcomReviewID</th>\n",
       "      <th>Review</th>\n",
       "      <th>ProductID</th>\n",
       "      <th>PlatformID</th>\n",
       "      <th>DateReview</th>\n",
       "      <th>ShopID</th>\n",
       "      <th>StarRating</th>\n",
       "    </tr>\n",
       "  </thead>\n",
       "  <tbody>\n",
       "  </tbody>\n",
       "</table>\n",
       "</div>"
      ],
      "text/plain": [
       "Empty DataFrame\n",
       "Columns: [EcomReviewID, Review, ProductID, PlatformID, DateReview, ShopID, StarRating]\n",
       "Index: []"
      ]
     },
     "execution_count": 101,
     "metadata": {},
     "output_type": "execute_result"
    }
   ],
   "source": [
    "test = pd.read_csv(r'..\\Data\\Preprocessed_data\\EcomReviews.csv')\n",
    "test"
   ]
  },
  {
   "cell_type": "code",
   "execution_count": 102,
   "metadata": {},
   "outputs": [
    {
     "data": {
      "text/plain": [
       "'EcomReviewID'"
      ]
     },
     "execution_count": 102,
     "metadata": {},
     "output_type": "execute_result"
    }
   ],
   "source": [
    "test.columns[0]"
   ]
  },
  {
   "cell_type": "code",
   "execution_count": 76,
   "metadata": {},
   "outputs": [
    {
     "data": {
      "text/html": [
       "<div>\n",
       "<style scoped>\n",
       "    .dataframe tbody tr th:only-of-type {\n",
       "        vertical-align: middle;\n",
       "    }\n",
       "\n",
       "    .dataframe tbody tr th {\n",
       "        vertical-align: top;\n",
       "    }\n",
       "\n",
       "    .dataframe thead th {\n",
       "        text-align: right;\n",
       "    }\n",
       "</style>\n",
       "<table border=\"1\" class=\"dataframe\">\n",
       "  <thead>\n",
       "    <tr style=\"text-align: right;\">\n",
       "      <th></th>\n",
       "      <th>EcomReviewID</th>\n",
       "      <th>Review</th>\n",
       "      <th>ProductID</th>\n",
       "      <th>PlatformID</th>\n",
       "      <th>DateReview</th>\n",
       "      <th>ShopID</th>\n",
       "      <th>StarRating</th>\n",
       "    </tr>\n",
       "  </thead>\n",
       "  <tbody>\n",
       "    <tr>\n",
       "      <th>0</th>\n",
       "      <td>PL01</td>\n",
       "      <td>Tiki</td>\n",
       "      <td>2</td>\n",
       "      <td>1</td>\n",
       "      <td>3</td>\n",
       "      <td>4</td>\n",
       "      <td>5</td>\n",
       "    </tr>\n",
       "    <tr>\n",
       "      <th>1</th>\n",
       "      <td>PL01</td>\n",
       "      <td>Tiki</td>\n",
       "      <td>2</td>\n",
       "      <td>1</td>\n",
       "      <td>3</td>\n",
       "      <td>4</td>\n",
       "      <td>5</td>\n",
       "    </tr>\n",
       "    <tr>\n",
       "      <th>2</th>\n",
       "      <td>PL01</td>\n",
       "      <td>Tiki</td>\n",
       "      <td>2</td>\n",
       "      <td>1</td>\n",
       "      <td>3</td>\n",
       "      <td>4</td>\n",
       "      <td>5</td>\n",
       "    </tr>\n",
       "    <tr>\n",
       "      <th>3</th>\n",
       "      <td>PL02</td>\n",
       "      <td>Lazada</td>\n",
       "      <td>2</td>\n",
       "      <td>1</td>\n",
       "      <td>3</td>\n",
       "      <td>4</td>\n",
       "      <td>5</td>\n",
       "    </tr>\n",
       "  </tbody>\n",
       "</table>\n",
       "</div>"
      ],
      "text/plain": [
       "  EcomReviewID  Review  ProductID  PlatformID  DateReview  ShopID  StarRating\n",
       "0         PL01    Tiki          2           1           3       4           5\n",
       "1         PL01    Tiki          2           1           3       4           5\n",
       "2         PL01    Tiki          2           1           3       4           5\n",
       "3         PL02  Lazada          2           1           3       4           5"
      ]
     },
     "execution_count": 76,
     "metadata": {},
     "output_type": "execute_result"
    }
   ],
   "source": [
    "df = [2, 1, 3, 4, 5]\n",
    "test.loc[len(test)] = list(platform.values[1]) + df\n",
    "test"
   ]
  },
  {
   "cell_type": "code",
   "execution_count": 78,
   "metadata": {},
   "outputs": [
    {
     "data": {
      "text/plain": [
       "'PL02'"
      ]
     },
     "execution_count": 78,
     "metadata": {},
     "output_type": "execute_result"
    }
   ],
   "source": [
    "test.iloc[-1][0]"
   ]
  },
  {
   "cell_type": "markdown",
   "metadata": {},
   "source": [
    "# Main"
   ]
  },
  {
   "cell_type": "code",
   "execution_count": 21,
   "metadata": {},
   "outputs": [
    {
     "data": {
      "text/html": [
       "<div>\n",
       "<style scoped>\n",
       "    .dataframe tbody tr th:only-of-type {\n",
       "        vertical-align: middle;\n",
       "    }\n",
       "\n",
       "    .dataframe tbody tr th {\n",
       "        vertical-align: top;\n",
       "    }\n",
       "\n",
       "    .dataframe thead th {\n",
       "        text-align: right;\n",
       "    }\n",
       "</style>\n",
       "<table border=\"1\" class=\"dataframe\">\n",
       "  <thead>\n",
       "    <tr style=\"text-align: right;\">\n",
       "      <th></th>\n",
       "      <th>PlatformID</th>\n",
       "      <th>PlatformName</th>\n",
       "    </tr>\n",
       "  </thead>\n",
       "  <tbody>\n",
       "    <tr>\n",
       "      <th>0</th>\n",
       "      <td>PL01</td>\n",
       "      <td>Tiki</td>\n",
       "    </tr>\n",
       "    <tr>\n",
       "      <th>1</th>\n",
       "      <td>PL02</td>\n",
       "      <td>Lazada</td>\n",
       "    </tr>\n",
       "    <tr>\n",
       "      <th>2</th>\n",
       "      <td>PL03</td>\n",
       "      <td>Shopee</td>\n",
       "    </tr>\n",
       "    <tr>\n",
       "      <th>3</th>\n",
       "      <td>PL04</td>\n",
       "      <td>Youtube</td>\n",
       "    </tr>\n",
       "    <tr>\n",
       "      <th>4</th>\n",
       "      <td>PL05</td>\n",
       "      <td>Tinhte</td>\n",
       "    </tr>\n",
       "  </tbody>\n",
       "</table>\n",
       "</div>"
      ],
      "text/plain": [
       "  PlatformID PlatformName\n",
       "0       PL01         Tiki\n",
       "1       PL02       Lazada\n",
       "2       PL03       Shopee\n",
       "3       PL04      Youtube\n",
       "4       PL05       Tinhte"
      ]
     },
     "execution_count": 21,
     "metadata": {},
     "output_type": "execute_result"
    }
   ],
   "source": [
    "platform = pd.read_csv(r'..\\Data\\Preprocessed_data\\Platform.csv')\n",
    "platform"
   ]
  },
  {
   "cell_type": "code",
   "execution_count": 27,
   "metadata": {},
   "outputs": [
    {
     "data": {
      "text/plain": [
       "array(['PL01', 'Tiki'], dtype=object)"
      ]
     },
     "execution_count": 27,
     "metadata": {},
     "output_type": "execute_result"
    }
   ],
   "source": [
    "platform.values[0]"
   ]
  },
  {
   "cell_type": "code",
   "execution_count": 74,
   "metadata": {},
   "outputs": [
    {
     "data": {
      "text/plain": [
       "array(['PL01', 'Tiki'], dtype=object)"
      ]
     },
     "execution_count": 74,
     "metadata": {},
     "output_type": "execute_result"
    }
   ],
   "source": [
    "platform.values[0]"
   ]
  },
  {
   "cell_type": "code",
   "execution_count": 31,
   "metadata": {},
   "outputs": [
    {
     "data": {
      "text/html": [
       "<div>\n",
       "<style scoped>\n",
       "    .dataframe tbody tr th:only-of-type {\n",
       "        vertical-align: middle;\n",
       "    }\n",
       "\n",
       "    .dataframe tbody tr th {\n",
       "        vertical-align: top;\n",
       "    }\n",
       "\n",
       "    .dataframe thead th {\n",
       "        text-align: right;\n",
       "    }\n",
       "</style>\n",
       "<table border=\"1\" class=\"dataframe\">\n",
       "  <thead>\n",
       "    <tr style=\"text-align: right;\">\n",
       "      <th></th>\n",
       "      <th>ProductID</th>\n",
       "      <th>ProductName</th>\n",
       "      <th>Brand</th>\n",
       "    </tr>\n",
       "  </thead>\n",
       "  <tbody>\n",
       "    <tr>\n",
       "      <th>0</th>\n",
       "      <td>P001</td>\n",
       "      <td>iPhone 15 Pro Max</td>\n",
       "      <td>iPhone</td>\n",
       "    </tr>\n",
       "    <tr>\n",
       "      <th>1</th>\n",
       "      <td>P002</td>\n",
       "      <td>Galaxy S23 Ultra</td>\n",
       "      <td>Samsung</td>\n",
       "    </tr>\n",
       "  </tbody>\n",
       "</table>\n",
       "</div>"
      ],
      "text/plain": [
       "  ProductID        ProductName    Brand\n",
       "0      P001  iPhone 15 Pro Max   iPhone\n",
       "1      P002   Galaxy S23 Ultra  Samsung"
      ]
     },
     "execution_count": 31,
     "metadata": {},
     "output_type": "execute_result"
    }
   ],
   "source": [
    "product = pd.read_csv(r'..\\Data\\Preprocessed_data\\Product.csv')\n",
    "product"
   ]
  },
  {
   "cell_type": "markdown",
   "metadata": {},
   "source": [
    "# Tiki"
   ]
  },
  {
   "cell_type": "markdown",
   "metadata": {},
   "source": [
    "#### Product info"
   ]
  },
  {
   "cell_type": "code",
   "execution_count": 4,
   "metadata": {},
   "outputs": [],
   "source": [
    "product_name = 'iPhone 15 Pro Max'.lower()"
   ]
  },
  {
   "cell_type": "code",
   "execution_count": 45,
   "metadata": {},
   "outputs": [],
   "source": [
    "tiki_product_info = pd.read_csv(r'..\\Data\\Tiki\\%s_info.csv'%('_'.join(product_name.split(' '))))\n",
    "\n",
    "# Lấy những cột cần thiết\n",
    "tiki_product_info = tiki_product_info[['Name', 'Brand', 'Quantity', 'Reviews count', 'Star rating', \n",
    "                                       'Price', 'Crawl date', 'Shop name', 'Shop rating']]\n",
    "\n",
    "# Loại bỏ dấu \".\" trong cột \"Price\" và đổi định dạng thành int\n",
    "tiki_product_info['Price'] = tiki_product_info['Price'].str.replace('.', '', regex=True).astype(int)"
   ]
  },
  {
   "cell_type": "code",
   "execution_count": 46,
   "metadata": {},
   "outputs": [
    {
     "data": {
      "text/html": [
       "<div>\n",
       "<style scoped>\n",
       "    .dataframe tbody tr th:only-of-type {\n",
       "        vertical-align: middle;\n",
       "    }\n",
       "\n",
       "    .dataframe tbody tr th {\n",
       "        vertical-align: top;\n",
       "    }\n",
       "\n",
       "    .dataframe thead th {\n",
       "        text-align: right;\n",
       "    }\n",
       "</style>\n",
       "<table border=\"1\" class=\"dataframe\">\n",
       "  <thead>\n",
       "    <tr style=\"text-align: right;\">\n",
       "      <th></th>\n",
       "      <th>Name</th>\n",
       "      <th>Brand</th>\n",
       "      <th>Quantity</th>\n",
       "      <th>Reviews count</th>\n",
       "      <th>Star rating</th>\n",
       "      <th>Price</th>\n",
       "      <th>Crawl date</th>\n",
       "      <th>Shop name</th>\n",
       "      <th>Shop rating</th>\n",
       "    </tr>\n",
       "  </thead>\n",
       "  <tbody>\n",
       "    <tr>\n",
       "      <th>0</th>\n",
       "      <td>Apple iPhone 15 Pro Max</td>\n",
       "      <td>Apple</td>\n",
       "      <td>691</td>\n",
       "      <td>96</td>\n",
       "      <td>5.0</td>\n",
       "      <td>31990000</td>\n",
       "      <td>2024-01-11</td>\n",
       "      <td>Tiki Trading</td>\n",
       "      <td>4.7</td>\n",
       "    </tr>\n",
       "    <tr>\n",
       "      <th>1</th>\n",
       "      <td>Apple iPhone 15 Pro Max</td>\n",
       "      <td>Apple</td>\n",
       "      <td>726</td>\n",
       "      <td>100</td>\n",
       "      <td>5.0</td>\n",
       "      <td>31990000</td>\n",
       "      <td>2024-01-18</td>\n",
       "      <td>Tiki Trading</td>\n",
       "      <td>4.7</td>\n",
       "    </tr>\n",
       "    <tr>\n",
       "      <th>2</th>\n",
       "      <td>Apple iPhone 15 Pro Max</td>\n",
       "      <td>Apple</td>\n",
       "      <td>740</td>\n",
       "      <td>103</td>\n",
       "      <td>5.0</td>\n",
       "      <td>31990000</td>\n",
       "      <td>2024-01-27</td>\n",
       "      <td>Tiki Trading</td>\n",
       "      <td>4.7</td>\n",
       "    </tr>\n",
       "  </tbody>\n",
       "</table>\n",
       "</div>"
      ],
      "text/plain": [
       "                      Name  Brand  Quantity  Reviews count  Star rating  \\\n",
       "0  Apple iPhone 15 Pro Max  Apple       691             96          5.0   \n",
       "1  Apple iPhone 15 Pro Max  Apple       726            100          5.0   \n",
       "2  Apple iPhone 15 Pro Max  Apple       740            103          5.0   \n",
       "\n",
       "      Price  Crawl date     Shop name  Shop rating  \n",
       "0  31990000  2024-01-11  Tiki Trading          4.7  \n",
       "1  31990000  2024-01-18  Tiki Trading          4.7  \n",
       "2  31990000  2024-01-27  Tiki Trading          4.7  "
      ]
     },
     "execution_count": 46,
     "metadata": {},
     "output_type": "execute_result"
    }
   ],
   "source": [
    "tiki_product_info"
   ]
  },
  {
   "cell_type": "code",
   "execution_count": null,
   "metadata": {},
   "outputs": [],
   "source": [
    "ecom_reviews = pd.read_csv"
   ]
  },
  {
   "cell_type": "markdown",
   "metadata": {},
   "source": [
    "#### Reviews"
   ]
  },
  {
   "cell_type": "code",
   "execution_count": 6,
   "metadata": {},
   "outputs": [],
   "source": [
    "tiki_reviews = pd.read_csv(r'..\\Data\\Tiki\\%s_reviews.csv'%('_'.join(product_name.split(' '))))"
   ]
  },
  {
   "cell_type": "code",
   "execution_count": 7,
   "metadata": {},
   "outputs": [],
   "source": [
    "from underthesea import classify"
   ]
  },
  {
   "cell_type": "code",
   "execution_count": 14,
   "metadata": {},
   "outputs": [
    {
     "data": {
      "text/plain": [
       "'Đam mê táo k thể bỏ qua Iphone 15promax vì: \\r\\n- Chất liệu khung viền: Khung titan bền bỉ  và sang trọng.\\r\\n- Thiết kế viền: Mỏng nhẹ - Tựa tràn viền . iPhone 15 Pro Max với thiết kế viền màn hình mỏng nhất trong các sản phẩm iPhone đã ra mắt. Kết hợp với kích thước màn hình lớn tới 6,7 inch, cải tiến này mang tới cảm giác màn hình tựa tràn viền, nâng cấp trải nghiệm xem phim, chơi game của người dùng, đồng thời giúp diện mạo iPhone 15 Pro Max thêm sang trọng và đẳng cấp.\\r\\n- iPhone 15 Pro Max năm nay cái tiến nhất chính là thiết kế camera. Apple đã mạnh tay trang bị ống kính tiềm vọng zoom quang học 5x, khả năng quay video 4K, và cảm biến hình ảnh sống động.\\r\\n-  Màn hinh iPhone 15 Pro Max có kích thước lớn, sử dụng công nghệ  Super Retina XDR cùng độ phân giải cao, mang tới chất lượng hình ảnh hiển thị sắc nét, chân thực và sống động.\\r\\n- Cổng sạc Lightning vốn là đặc trưng của Apple đã được thay thế bằng cổng sạc  USB-C trên iPhone 15 Series\\r\\nNói chung mình rất ưng luôn, máy cầm đầm tay và màu siêu xinh\\r\\nVà mình chọn TiKi để mua chiếc dế yêu này, mua lúc hơn 2h trước 10h sáng nay đã nhận được hàng. \\r\\n- Tiki giao nhanh 2h \\r\\n- Nhân viên thân thiện\\r\\n- Có Otp báo về khi đơn hàng chuẩn bị được giao, khi nhận hàng phải có OTP mới nhận đc nên rất yên tâm\\r\\n- Hàng nguyên seal chưa kích hoạt\\r\\n- Giá cũng khá tốt: áp mã giảm giá của ngân hàng kèm với voucher 500k đăng ký sớm \\r\\n\\r\\n#Nửa_đêm_TikiGiaoiPhone15 Thu gọn'"
      ]
     },
     "execution_count": 14,
     "metadata": {},
     "output_type": "execute_result"
    }
   ],
   "source": [
    "t = tiki_reviews.loc[1, 'Content']\n",
    "t"
   ]
  },
  {
   "cell_type": "code",
   "execution_count": null,
   "metadata": {},
   "outputs": [
    {
     "data": {
      "text/html": [
       "<div>\n",
       "<style scoped>\n",
       "    .dataframe tbody tr th:only-of-type {\n",
       "        vertical-align: middle;\n",
       "    }\n",
       "\n",
       "    .dataframe tbody tr th {\n",
       "        vertical-align: top;\n",
       "    }\n",
       "\n",
       "    .dataframe thead th {\n",
       "        text-align: right;\n",
       "    }\n",
       "</style>\n",
       "<table border=\"1\" class=\"dataframe\">\n",
       "  <thead>\n",
       "    <tr style=\"text-align: right;\">\n",
       "      <th></th>\n",
       "      <th>Reviewer name</th>\n",
       "      <th>Content</th>\n",
       "      <th>Rating</th>\n",
       "      <th>Rating date</th>\n",
       "      <th>Crawl date</th>\n",
       "      <th>Shop name</th>\n",
       "    </tr>\n",
       "  </thead>\n",
       "  <tbody>\n",
       "    <tr>\n",
       "      <th>0</th>\n",
       "      <td>muasach</td>\n",
       "      <td>22/9 đúng 00h lên topzone, TGDĐ, FPT Shop, đặt...</td>\n",
       "      <td>Cực kì hài lòng</td>\n",
       "      <td>Đánh giá vào 3 tháng trước</td>\n",
       "      <td>2024-01-11</td>\n",
       "      <td>Tiki Trading</td>\n",
       "    </tr>\n",
       "    <tr>\n",
       "      <th>1</th>\n",
       "      <td>Vũ thị hường</td>\n",
       "      <td>Đam mê táo k thể bỏ qua Iphone 15promax vì: \\r...</td>\n",
       "      <td>Cực kì hài lòng</td>\n",
       "      <td>Đánh giá vào 3 tháng trước</td>\n",
       "      <td>2024-01-11</td>\n",
       "      <td>Tiki Trading</td>\n",
       "    </tr>\n",
       "    <tr>\n",
       "      <th>2</th>\n",
       "      <td>BẢO NGÔ</td>\n",
       "      <td>[Cuộc gọi lúc giữa đêm]…\\r\\n\\r\\nKhông phải bon...</td>\n",
       "      <td>Cực kì hài lòng</td>\n",
       "      <td>Đánh giá vào 3 tháng trước</td>\n",
       "      <td>2024-01-11</td>\n",
       "      <td>Tiki Trading</td>\n",
       "    </tr>\n",
       "    <tr>\n",
       "      <th>3</th>\n",
       "      <td>NGÔ QUỐC KHÁNH</td>\n",
       "      <td>Tiki giao lúc 1h sáng. Áp mã 500K và giảm 2tr ...</td>\n",
       "      <td>Cực kì hài lòng</td>\n",
       "      <td>Đánh giá vào 3 tháng trước</td>\n",
       "      <td>2024-01-11</td>\n",
       "      <td>Tiki Trading</td>\n",
       "    </tr>\n",
       "    <tr>\n",
       "      <th>4</th>\n",
       "      <td>Hung Trieu</td>\n",
       "      <td>Rất tin tưởng Tiki khi đặt mua điện thoại tại ...</td>\n",
       "      <td>Cực kì hài lòng</td>\n",
       "      <td>Đánh giá vào 2 tháng trước</td>\n",
       "      <td>2024-01-11</td>\n",
       "      <td>Tiki Trading</td>\n",
       "    </tr>\n",
       "    <tr>\n",
       "      <th>...</th>\n",
       "      <td>...</td>\n",
       "      <td>...</td>\n",
       "      <td>...</td>\n",
       "      <td>...</td>\n",
       "      <td>...</td>\n",
       "      <td>...</td>\n",
       "    </tr>\n",
       "    <tr>\n",
       "      <th>294</th>\n",
       "      <td>vu thang</td>\n",
       "      <td>Thấy bảo nhận hàng phải có mã otp mới nhận đc ...</td>\n",
       "      <td>Rất không hài lòng</td>\n",
       "      <td>Đánh giá vào 2 tháng trước</td>\n",
       "      <td>2024-01-27</td>\n",
       "      <td>Tiki Trading</td>\n",
       "    </tr>\n",
       "    <tr>\n",
       "      <th>295</th>\n",
       "      <td>Việt Dũng Đoàn</td>\n",
       "      <td>Hàng ko cho đổi trả khi đổi ý</td>\n",
       "      <td>Rất không hài lòng</td>\n",
       "      <td>Đánh giá vào 3 tháng trước</td>\n",
       "      <td>2024-01-27</td>\n",
       "      <td>Tiki Trading</td>\n",
       "    </tr>\n",
       "    <tr>\n",
       "      <th>296</th>\n",
       "      <td>Thu Nga</td>\n",
       "      <td>Chưa thấy hoàn astra cho mình</td>\n",
       "      <td>Không hài lòng</td>\n",
       "      <td>Đánh giá vào 3 tháng trước</td>\n",
       "      <td>2024-01-27</td>\n",
       "      <td>Tiki Trading</td>\n",
       "    </tr>\n",
       "    <tr>\n",
       "      <th>297</th>\n",
       "      <td>Nguyễn Quang</td>\n",
       "      <td>NaN</td>\n",
       "      <td>Hài lòng</td>\n",
       "      <td>Đánh giá vào 2 tháng trước</td>\n",
       "      <td>2024-01-27</td>\n",
       "      <td>Tiki Trading</td>\n",
       "    </tr>\n",
       "    <tr>\n",
       "      <th>298</th>\n",
       "      <td>Trần Hùng Đạt</td>\n",
       "      <td>NaN</td>\n",
       "      <td>Hài lòng</td>\n",
       "      <td>Đánh giá vào 3 tháng trước</td>\n",
       "      <td>2024-01-27</td>\n",
       "      <td>Tiki Trading</td>\n",
       "    </tr>\n",
       "  </tbody>\n",
       "</table>\n",
       "<p>299 rows × 6 columns</p>\n",
       "</div>"
      ],
      "text/plain": [
       "      Reviewer name                                            Content  \\\n",
       "0           muasach  22/9 đúng 00h lên topzone, TGDĐ, FPT Shop, đặt...   \n",
       "1      Vũ thị hường  Đam mê táo k thể bỏ qua Iphone 15promax vì: \\r...   \n",
       "2           BẢO NGÔ  [Cuộc gọi lúc giữa đêm]…\\r\\n\\r\\nKhông phải bon...   \n",
       "3    NGÔ QUỐC KHÁNH  Tiki giao lúc 1h sáng. Áp mã 500K và giảm 2tr ...   \n",
       "4        Hung Trieu  Rất tin tưởng Tiki khi đặt mua điện thoại tại ...   \n",
       "..              ...                                                ...   \n",
       "294        vu thang  Thấy bảo nhận hàng phải có mã otp mới nhận đc ...   \n",
       "295  Việt Dũng Đoàn                      Hàng ko cho đổi trả khi đổi ý   \n",
       "296         Thu Nga                      Chưa thấy hoàn astra cho mình   \n",
       "297    Nguyễn Quang                                                NaN   \n",
       "298   Trần Hùng Đạt                                                NaN   \n",
       "\n",
       "                 Rating                 Rating date  Crawl date     Shop name  \n",
       "0       Cực kì hài lòng  Đánh giá vào 3 tháng trước  2024-01-11  Tiki Trading  \n",
       "1       Cực kì hài lòng  Đánh giá vào 3 tháng trước  2024-01-11  Tiki Trading  \n",
       "2       Cực kì hài lòng  Đánh giá vào 3 tháng trước  2024-01-11  Tiki Trading  \n",
       "3       Cực kì hài lòng  Đánh giá vào 3 tháng trước  2024-01-11  Tiki Trading  \n",
       "4       Cực kì hài lòng  Đánh giá vào 2 tháng trước  2024-01-11  Tiki Trading  \n",
       "..                  ...                         ...         ...           ...  \n",
       "294  Rất không hài lòng  Đánh giá vào 2 tháng trước  2024-01-27  Tiki Trading  \n",
       "295  Rất không hài lòng  Đánh giá vào 3 tháng trước  2024-01-27  Tiki Trading  \n",
       "296      Không hài lòng  Đánh giá vào 3 tháng trước  2024-01-27  Tiki Trading  \n",
       "297            Hài lòng  Đánh giá vào 2 tháng trước  2024-01-27  Tiki Trading  \n",
       "298            Hài lòng  Đánh giá vào 3 tháng trước  2024-01-27  Tiki Trading  \n",
       "\n",
       "[299 rows x 6 columns]"
      ]
     },
     "execution_count": 51,
     "metadata": {},
     "output_type": "execute_result"
    }
   ],
   "source": [
    "tiki_reviews"
   ]
  },
  {
   "cell_type": "code",
   "execution_count": null,
   "metadata": {},
   "outputs": [],
   "source": [
    "# Biến đổi cột 'Rating date' thành ngày cụ thể thông qua 'Crawl date'\n",
    "actual_date_list = []\n",
    "\n",
    "for num in range(len(tiki_reviews)):\n",
    "    text_date = tiki_reviews.loc[num, ['Rating date', 'Crawl date']][0]\n",
    "    crawl_date = tiki_reviews.loc[num, ['Rating date', 'Crawl date']][1]\n",
    "\n",
    "    actual_date = extract_date_review(text_date, crawl_date)\n",
    "    actual_date_list.append(actual_date)\n",
    "\n",
    "tiki_reviews['Rating date'] = actual_date_list\n",
    "tiki_reviews.drop(columns=['Crawl date'], inplace=True)"
   ]
  },
  {
   "cell_type": "code",
   "execution_count": null,
   "metadata": {},
   "outputs": [],
   "source": [
    "# Biến đổi cột \"Rating\" thành thang đo likert\n",
    "rating_likert = {'Rất không hài lòng': 1, 'Không hài lòng': 2, 'Bình thường': 3, 'Hài lòng': 4, 'Cực kì hài lòng': 5}\n",
    "\n",
    "for num in range(len(tiki_reviews)):\n",
    "    rating = tiki_reviews.loc[num, 'Rating']\n",
    "    for k, v in rating_likert.items():\n",
    "        if rating == k:\n",
    "            tiki_reviews.loc[num, 'Rating'] = v"
   ]
  },
  {
   "cell_type": "code",
   "execution_count": null,
   "metadata": {},
   "outputs": [],
   "source": [
    "# Loại bỏ những dòng trùng \"Reviewer name\" và \"Content\"\n",
    "tiki_reviews.drop_duplicates(subset=['Reviewer name', 'Content'], keep='last', inplace=True, ignore_index=True)"
   ]
  },
  {
   "cell_type": "code",
   "execution_count": null,
   "metadata": {},
   "outputs": [
    {
     "data": {
      "text/html": [
       "<div>\n",
       "<style scoped>\n",
       "    .dataframe tbody tr th:only-of-type {\n",
       "        vertical-align: middle;\n",
       "    }\n",
       "\n",
       "    .dataframe tbody tr th {\n",
       "        vertical-align: top;\n",
       "    }\n",
       "\n",
       "    .dataframe thead th {\n",
       "        text-align: right;\n",
       "    }\n",
       "</style>\n",
       "<table border=\"1\" class=\"dataframe\">\n",
       "  <thead>\n",
       "    <tr style=\"text-align: right;\">\n",
       "      <th></th>\n",
       "      <th>Reviewer name</th>\n",
       "      <th>Content</th>\n",
       "      <th>Rating</th>\n",
       "      <th>Rating date</th>\n",
       "      <th>Shop name</th>\n",
       "    </tr>\n",
       "  </thead>\n",
       "  <tbody>\n",
       "    <tr>\n",
       "      <th>0</th>\n",
       "      <td>Lý Nguyen</td>\n",
       "      <td>😂. Haha</td>\n",
       "      <td>5</td>\n",
       "      <td>2023-12-23</td>\n",
       "      <td>Tiki Trading</td>\n",
       "    </tr>\n",
       "    <tr>\n",
       "      <th>1</th>\n",
       "      <td>vu thang</td>\n",
       "      <td>Thấy bảo nhận hàng phải có mã otp mới nhận đc ...</td>\n",
       "      <td>1</td>\n",
       "      <td>2023-12-11</td>\n",
       "      <td>Tiki Trading</td>\n",
       "    </tr>\n",
       "    <tr>\n",
       "      <th>2</th>\n",
       "      <td>muasach</td>\n",
       "      <td>22/9 đúng 00h lên topzone, TGDĐ, FPT Shop, đặt...</td>\n",
       "      <td>5</td>\n",
       "      <td>2023-09-27</td>\n",
       "      <td>Tiki Trading</td>\n",
       "    </tr>\n",
       "    <tr>\n",
       "      <th>3</th>\n",
       "      <td>Vũ thị hường</td>\n",
       "      <td>Đam mê táo k thể bỏ qua Iphone 15promax vì: \\r...</td>\n",
       "      <td>5</td>\n",
       "      <td>2023-09-27</td>\n",
       "      <td>Tiki Trading</td>\n",
       "    </tr>\n",
       "    <tr>\n",
       "      <th>4</th>\n",
       "      <td>BẢO NGÔ</td>\n",
       "      <td>[Cuộc gọi lúc giữa đêm]…\\r\\n\\r\\nKhông phải bon...</td>\n",
       "      <td>5</td>\n",
       "      <td>2023-09-27</td>\n",
       "      <td>Tiki Trading</td>\n",
       "    </tr>\n",
       "    <tr>\n",
       "      <th>...</th>\n",
       "      <td>...</td>\n",
       "      <td>...</td>\n",
       "      <td>...</td>\n",
       "      <td>...</td>\n",
       "      <td>...</td>\n",
       "    </tr>\n",
       "    <tr>\n",
       "      <th>96</th>\n",
       "      <td>vu thang</td>\n",
       "      <td>Thấy bảo nhận hàng phải có mã otp mới nhận đc ...</td>\n",
       "      <td>1</td>\n",
       "      <td>2023-11-27</td>\n",
       "      <td>Tiki Trading</td>\n",
       "    </tr>\n",
       "    <tr>\n",
       "      <th>97</th>\n",
       "      <td>Việt Dũng Đoàn</td>\n",
       "      <td>Hàng ko cho đổi trả khi đổi ý</td>\n",
       "      <td>1</td>\n",
       "      <td>2023-10-27</td>\n",
       "      <td>Tiki Trading</td>\n",
       "    </tr>\n",
       "    <tr>\n",
       "      <th>98</th>\n",
       "      <td>Thu Nga</td>\n",
       "      <td>Chưa thấy hoàn astra cho mình</td>\n",
       "      <td>2</td>\n",
       "      <td>2023-10-27</td>\n",
       "      <td>Tiki Trading</td>\n",
       "    </tr>\n",
       "    <tr>\n",
       "      <th>99</th>\n",
       "      <td>Nguyễn Quang</td>\n",
       "      <td>NaN</td>\n",
       "      <td>4</td>\n",
       "      <td>2023-11-27</td>\n",
       "      <td>Tiki Trading</td>\n",
       "    </tr>\n",
       "    <tr>\n",
       "      <th>100</th>\n",
       "      <td>Trần Hùng Đạt</td>\n",
       "      <td>NaN</td>\n",
       "      <td>4</td>\n",
       "      <td>2023-10-27</td>\n",
       "      <td>Tiki Trading</td>\n",
       "    </tr>\n",
       "  </tbody>\n",
       "</table>\n",
       "<p>101 rows × 5 columns</p>\n",
       "</div>"
      ],
      "text/plain": [
       "      Reviewer name                                            Content Rating  \\\n",
       "0        Lý Nguyen                                             😂. Haha      5   \n",
       "1          vu thang  Thấy bảo nhận hàng phải có mã otp mới nhận đc ...      1   \n",
       "2           muasach  22/9 đúng 00h lên topzone, TGDĐ, FPT Shop, đặt...      5   \n",
       "3      Vũ thị hường  Đam mê táo k thể bỏ qua Iphone 15promax vì: \\r...      5   \n",
       "4           BẢO NGÔ  [Cuộc gọi lúc giữa đêm]…\\r\\n\\r\\nKhông phải bon...      5   \n",
       "..              ...                                                ...    ...   \n",
       "96         vu thang  Thấy bảo nhận hàng phải có mã otp mới nhận đc ...      1   \n",
       "97   Việt Dũng Đoàn                      Hàng ko cho đổi trả khi đổi ý      1   \n",
       "98          Thu Nga                      Chưa thấy hoàn astra cho mình      2   \n",
       "99     Nguyễn Quang                                                NaN      4   \n",
       "100   Trần Hùng Đạt                                                NaN      4   \n",
       "\n",
       "    Rating date     Shop name  \n",
       "0    2023-12-23  Tiki Trading  \n",
       "1    2023-12-11  Tiki Trading  \n",
       "2    2023-09-27  Tiki Trading  \n",
       "3    2023-09-27  Tiki Trading  \n",
       "4    2023-09-27  Tiki Trading  \n",
       "..          ...           ...  \n",
       "96   2023-11-27  Tiki Trading  \n",
       "97   2023-10-27  Tiki Trading  \n",
       "98   2023-10-27  Tiki Trading  \n",
       "99   2023-11-27  Tiki Trading  \n",
       "100  2023-10-27  Tiki Trading  \n",
       "\n",
       "[101 rows x 5 columns]"
      ]
     },
     "execution_count": 76,
     "metadata": {},
     "output_type": "execute_result"
    }
   ],
   "source": [
    "tiki_reviews"
   ]
  },
  {
   "cell_type": "markdown",
   "metadata": {},
   "source": [
    "# Lazada"
   ]
  },
  {
   "cell_type": "code",
   "execution_count": null,
   "metadata": {},
   "outputs": [],
   "source": []
  },
  {
   "cell_type": "markdown",
   "metadata": {},
   "source": [
    "# Websites"
   ]
  },
  {
   "cell_type": "markdown",
   "metadata": {},
   "source": [
    "#### Tinhte"
   ]
  },
  {
   "cell_type": "code",
   "execution_count": null,
   "metadata": {},
   "outputs": [],
   "source": [
    "tinhte_content = pd.read_csv(r'..\\Data\\TinhTe\\TinhTe_Iphone15pm_InfoPosts2.csv')"
   ]
  },
  {
   "cell_type": "markdown",
   "metadata": {},
   "source": [
    "# Youtube"
   ]
  },
  {
   "cell_type": "code",
   "execution_count": null,
   "metadata": {},
   "outputs": [],
   "source": []
  }
 ],
 "metadata": {
  "kernelspec": {
   "display_name": "Python 3",
   "language": "python",
   "name": "python3"
  },
  "language_info": {
   "codemirror_mode": {
    "name": "ipython",
    "version": 3
   },
   "file_extension": ".py",
   "mimetype": "text/x-python",
   "name": "python",
   "nbconvert_exporter": "python",
   "pygments_lexer": "ipython3",
   "version": "3.9.0"
  }
 },
 "nbformat": 4,
 "nbformat_minor": 2
}
