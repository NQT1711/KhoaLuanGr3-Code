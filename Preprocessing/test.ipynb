{
 "cells": [
  {
   "cell_type": "code",
   "execution_count": 1,
   "metadata": {},
   "outputs": [],
   "source": [
    "import pandas as pd\n",
    "import pypyodbc as odbc"
   ]
  },
  {
   "cell_type": "code",
   "execution_count": 2,
   "metadata": {},
   "outputs": [],
   "source": [
    "# product = input()\n",
    "product = 'iphone 15 pro max'"
   ]
  },
  {
   "cell_type": "code",
   "execution_count": 7,
   "metadata": {},
   "outputs": [],
   "source": [
    "drive_name = 'SQL SERVER'\n",
    "server_name = 'DESKTOP-29355SM\\SQLEXPRESS'\n",
    "database_name = 'Bank'\n",
    "\n",
    "connection_string = f\"\"\"\n",
    "    DRIVER={{{drive_name}}};\n",
    "    SERVER={server_name};\n",
    "    DATABASE={database_name};\n",
    "    Trust_Connection=yes;\n",
    "\"\"\"\n",
    "\n",
    "conn = odbc.connect(connection_string)"
   ]
  },
  {
   "cell_type": "code",
   "execution_count": 9,
   "metadata": {},
   "outputs": [],
   "source": [
    "cursor = conn.cursor()"
   ]
  },
  {
   "cell_type": "code",
   "execution_count": 13,
   "metadata": {},
   "outputs": [
    {
     "data": {
      "text/plain": [
       "<pypyodbc.Cursor at 0x240e5326490>"
      ]
     },
     "execution_count": 13,
     "metadata": {},
     "output_type": "execute_result"
    }
   ],
   "source": [
    "cursor.execute(\"\"\"\n",
    "Create table Persons (\n",
    "    PersonID int,\n",
    "    LastName varchar(255),\n",
    "    FirstName varchar(255),\n",
    "    Address varchar(255),\n",
    "    City varchar(255)\n",
    ")\n",
    "\"\"\")"
   ]
  },
  {
   "cell_type": "code",
   "execution_count": 14,
   "metadata": {},
   "outputs": [],
   "source": [
    "conn.commit()"
   ]
  },
  {
   "cell_type": "code",
   "execution_count": null,
   "metadata": {},
   "outputs": [],
   "source": [
    "# df = pd.read_sql('Select * from account', conn)"
   ]
  },
  {
   "cell_type": "markdown",
   "metadata": {},
   "source": [
    "# Tiki"
   ]
  },
  {
   "cell_type": "markdown",
   "metadata": {},
   "source": [
    "#### Product info"
   ]
  },
  {
   "cell_type": "code",
   "execution_count": 15,
   "metadata": {},
   "outputs": [],
   "source": [
    "tiki_product_info = pd.read_csv(r'..\\Data\\Tiki\\%s_info.csv'%('_'.join(product.split(' '))))"
   ]
  },
  {
   "cell_type": "code",
   "execution_count": 16,
   "metadata": {},
   "outputs": [],
   "source": [
    "tiki_product_info = tiki_product_info[['Name', 'Brand', 'Quantity', 'Reviews count', 'Star rating', \n",
    "                                       'Price', 'Crawl date', 'Shop name', 'Shop rating']]"
   ]
  },
  {
   "cell_type": "code",
   "execution_count": null,
   "metadata": {},
   "outputs": [],
   "source": [
    "tiki_product_info['Platform ']"
   ]
  },
  {
   "cell_type": "code",
   "execution_count": 17,
   "metadata": {},
   "outputs": [
    {
     "data": {
      "text/html": [
       "<div>\n",
       "<style scoped>\n",
       "    .dataframe tbody tr th:only-of-type {\n",
       "        vertical-align: middle;\n",
       "    }\n",
       "\n",
       "    .dataframe tbody tr th {\n",
       "        vertical-align: top;\n",
       "    }\n",
       "\n",
       "    .dataframe thead th {\n",
       "        text-align: right;\n",
       "    }\n",
       "</style>\n",
       "<table border=\"1\" class=\"dataframe\">\n",
       "  <thead>\n",
       "    <tr style=\"text-align: right;\">\n",
       "      <th></th>\n",
       "      <th>Name</th>\n",
       "      <th>Brand</th>\n",
       "      <th>Quantity</th>\n",
       "      <th>Reviews count</th>\n",
       "      <th>Star rating</th>\n",
       "      <th>Price</th>\n",
       "      <th>Crawl date</th>\n",
       "      <th>Shop name</th>\n",
       "      <th>Shop rating</th>\n",
       "    </tr>\n",
       "  </thead>\n",
       "  <tbody>\n",
       "    <tr>\n",
       "      <th>0</th>\n",
       "      <td>Apple iPhone 15 Pro Max</td>\n",
       "      <td>Apple</td>\n",
       "      <td>691</td>\n",
       "      <td>96</td>\n",
       "      <td>5.0</td>\n",
       "      <td>31.990.000</td>\n",
       "      <td>2024-01-11</td>\n",
       "      <td>Tiki Trading</td>\n",
       "      <td>4.7</td>\n",
       "    </tr>\n",
       "    <tr>\n",
       "      <th>1</th>\n",
       "      <td>Apple iPhone 15 Pro Max</td>\n",
       "      <td>Apple</td>\n",
       "      <td>726</td>\n",
       "      <td>100</td>\n",
       "      <td>5.0</td>\n",
       "      <td>31.990.000</td>\n",
       "      <td>2024-01-18</td>\n",
       "      <td>Tiki Trading</td>\n",
       "      <td>4.7</td>\n",
       "    </tr>\n",
       "    <tr>\n",
       "      <th>2</th>\n",
       "      <td>Apple iPhone 15 Pro Max</td>\n",
       "      <td>Apple</td>\n",
       "      <td>740</td>\n",
       "      <td>103</td>\n",
       "      <td>5.0</td>\n",
       "      <td>31.990.000</td>\n",
       "      <td>2024-01-27</td>\n",
       "      <td>Tiki Trading</td>\n",
       "      <td>4.7</td>\n",
       "    </tr>\n",
       "  </tbody>\n",
       "</table>\n",
       "</div>"
      ],
      "text/plain": [
       "                      Name  Brand  Quantity  Reviews count  Star rating  \\\n",
       "0  Apple iPhone 15 Pro Max  Apple       691             96          5.0   \n",
       "1  Apple iPhone 15 Pro Max  Apple       726            100          5.0   \n",
       "2  Apple iPhone 15 Pro Max  Apple       740            103          5.0   \n",
       "\n",
       "        Price  Crawl date     Shop name  Shop rating  \n",
       "0  31.990.000  2024-01-11  Tiki Trading          4.7  \n",
       "1  31.990.000  2024-01-18  Tiki Trading          4.7  \n",
       "2  31.990.000  2024-01-27  Tiki Trading          4.7  "
      ]
     },
     "execution_count": 17,
     "metadata": {},
     "output_type": "execute_result"
    }
   ],
   "source": [
    "tiki_product_info"
   ]
  },
  {
   "cell_type": "markdown",
   "metadata": {},
   "source": [
    "#### Reviews"
   ]
  },
  {
   "cell_type": "code",
   "execution_count": 20,
   "metadata": {},
   "outputs": [],
   "source": [
    "tiki_reviews = pd.read_csv(r'..\\Data\\Tiki\\%s_reviews.csv'%('_'.join(product.split(' '))))"
   ]
  },
  {
   "cell_type": "code",
   "execution_count": 21,
   "metadata": {},
   "outputs": [
    {
     "data": {
      "text/html": [
       "<div>\n",
       "<style scoped>\n",
       "    .dataframe tbody tr th:only-of-type {\n",
       "        vertical-align: middle;\n",
       "    }\n",
       "\n",
       "    .dataframe tbody tr th {\n",
       "        vertical-align: top;\n",
       "    }\n",
       "\n",
       "    .dataframe thead th {\n",
       "        text-align: right;\n",
       "    }\n",
       "</style>\n",
       "<table border=\"1\" class=\"dataframe\">\n",
       "  <thead>\n",
       "    <tr style=\"text-align: right;\">\n",
       "      <th></th>\n",
       "      <th>Reviewer name</th>\n",
       "      <th>Content</th>\n",
       "      <th>Rating</th>\n",
       "      <th>Rating date</th>\n",
       "      <th>Crawl date</th>\n",
       "      <th>Shop name</th>\n",
       "    </tr>\n",
       "  </thead>\n",
       "  <tbody>\n",
       "    <tr>\n",
       "      <th>0</th>\n",
       "      <td>muasach</td>\n",
       "      <td>22/9 đúng 00h lên topzone, TGDĐ, FPT Shop, đặt...</td>\n",
       "      <td>Cực kì hài lòng</td>\n",
       "      <td>Đánh giá vào 3 tháng trước</td>\n",
       "      <td>2024-01-11</td>\n",
       "      <td>Tiki Trading</td>\n",
       "    </tr>\n",
       "    <tr>\n",
       "      <th>1</th>\n",
       "      <td>Vũ thị hường</td>\n",
       "      <td>Đam mê táo k thể bỏ qua Iphone 15promax vì: \\r...</td>\n",
       "      <td>Cực kì hài lòng</td>\n",
       "      <td>Đánh giá vào 3 tháng trước</td>\n",
       "      <td>2024-01-11</td>\n",
       "      <td>Tiki Trading</td>\n",
       "    </tr>\n",
       "    <tr>\n",
       "      <th>2</th>\n",
       "      <td>BẢO NGÔ</td>\n",
       "      <td>[Cuộc gọi lúc giữa đêm]…\\r\\n\\r\\nKhông phải bon...</td>\n",
       "      <td>Cực kì hài lòng</td>\n",
       "      <td>Đánh giá vào 3 tháng trước</td>\n",
       "      <td>2024-01-11</td>\n",
       "      <td>Tiki Trading</td>\n",
       "    </tr>\n",
       "    <tr>\n",
       "      <th>3</th>\n",
       "      <td>NGÔ QUỐC KHÁNH</td>\n",
       "      <td>Tiki giao lúc 1h sáng. Áp mã 500K và giảm 2tr ...</td>\n",
       "      <td>Cực kì hài lòng</td>\n",
       "      <td>Đánh giá vào 3 tháng trước</td>\n",
       "      <td>2024-01-11</td>\n",
       "      <td>Tiki Trading</td>\n",
       "    </tr>\n",
       "    <tr>\n",
       "      <th>4</th>\n",
       "      <td>Hung Trieu</td>\n",
       "      <td>Rất tin tưởng Tiki khi đặt mua điện thoại tại ...</td>\n",
       "      <td>Cực kì hài lòng</td>\n",
       "      <td>Đánh giá vào 2 tháng trước</td>\n",
       "      <td>2024-01-11</td>\n",
       "      <td>Tiki Trading</td>\n",
       "    </tr>\n",
       "    <tr>\n",
       "      <th>...</th>\n",
       "      <td>...</td>\n",
       "      <td>...</td>\n",
       "      <td>...</td>\n",
       "      <td>...</td>\n",
       "      <td>...</td>\n",
       "      <td>...</td>\n",
       "    </tr>\n",
       "    <tr>\n",
       "      <th>191</th>\n",
       "      <td>vu thang</td>\n",
       "      <td>Thấy bảo nhận hàng phải có mã otp mới nhận đc ...</td>\n",
       "      <td>Rất không hài lòng</td>\n",
       "      <td>Đánh giá vào 2 tháng trước</td>\n",
       "      <td>2024-01-18</td>\n",
       "      <td>Tiki Trading</td>\n",
       "    </tr>\n",
       "    <tr>\n",
       "      <th>192</th>\n",
       "      <td>Việt Dũng Đoàn</td>\n",
       "      <td>Hàng ko cho đổi trả khi đổi ý</td>\n",
       "      <td>Rất không hài lòng</td>\n",
       "      <td>Đánh giá vào 3 tháng trước</td>\n",
       "      <td>2024-01-18</td>\n",
       "      <td>Tiki Trading</td>\n",
       "    </tr>\n",
       "    <tr>\n",
       "      <th>193</th>\n",
       "      <td>Thu Nga</td>\n",
       "      <td>Chưa thấy hoàn astra cho mình</td>\n",
       "      <td>Không hài lòng</td>\n",
       "      <td>Đánh giá vào 3 tháng trước</td>\n",
       "      <td>2024-01-18</td>\n",
       "      <td>Tiki Trading</td>\n",
       "    </tr>\n",
       "    <tr>\n",
       "      <th>194</th>\n",
       "      <td>Nguyễn Quang</td>\n",
       "      <td>NaN</td>\n",
       "      <td>Hài lòng</td>\n",
       "      <td>Đánh giá vào 2 tháng trước</td>\n",
       "      <td>2024-01-18</td>\n",
       "      <td>Tiki Trading</td>\n",
       "    </tr>\n",
       "    <tr>\n",
       "      <th>195</th>\n",
       "      <td>Trần Hùng Đạt</td>\n",
       "      <td>NaN</td>\n",
       "      <td>Hài lòng</td>\n",
       "      <td>Đánh giá vào 3 tháng trước</td>\n",
       "      <td>2024-01-18</td>\n",
       "      <td>Tiki Trading</td>\n",
       "    </tr>\n",
       "  </tbody>\n",
       "</table>\n",
       "<p>196 rows × 6 columns</p>\n",
       "</div>"
      ],
      "text/plain": [
       "      Reviewer name                                            Content  \\\n",
       "0           muasach  22/9 đúng 00h lên topzone, TGDĐ, FPT Shop, đặt...   \n",
       "1      Vũ thị hường  Đam mê táo k thể bỏ qua Iphone 15promax vì: \\r...   \n",
       "2           BẢO NGÔ  [Cuộc gọi lúc giữa đêm]…\\r\\n\\r\\nKhông phải bon...   \n",
       "3    NGÔ QUỐC KHÁNH  Tiki giao lúc 1h sáng. Áp mã 500K và giảm 2tr ...   \n",
       "4        Hung Trieu  Rất tin tưởng Tiki khi đặt mua điện thoại tại ...   \n",
       "..              ...                                                ...   \n",
       "191        vu thang  Thấy bảo nhận hàng phải có mã otp mới nhận đc ...   \n",
       "192  Việt Dũng Đoàn                      Hàng ko cho đổi trả khi đổi ý   \n",
       "193         Thu Nga                      Chưa thấy hoàn astra cho mình   \n",
       "194    Nguyễn Quang                                                NaN   \n",
       "195   Trần Hùng Đạt                                                NaN   \n",
       "\n",
       "                 Rating                 Rating date  Crawl date     Shop name  \n",
       "0       Cực kì hài lòng  Đánh giá vào 3 tháng trước  2024-01-11  Tiki Trading  \n",
       "1       Cực kì hài lòng  Đánh giá vào 3 tháng trước  2024-01-11  Tiki Trading  \n",
       "2       Cực kì hài lòng  Đánh giá vào 3 tháng trước  2024-01-11  Tiki Trading  \n",
       "3       Cực kì hài lòng  Đánh giá vào 3 tháng trước  2024-01-11  Tiki Trading  \n",
       "4       Cực kì hài lòng  Đánh giá vào 2 tháng trước  2024-01-11  Tiki Trading  \n",
       "..                  ...                         ...         ...           ...  \n",
       "191  Rất không hài lòng  Đánh giá vào 2 tháng trước  2024-01-18  Tiki Trading  \n",
       "192  Rất không hài lòng  Đánh giá vào 3 tháng trước  2024-01-18  Tiki Trading  \n",
       "193      Không hài lòng  Đánh giá vào 3 tháng trước  2024-01-18  Tiki Trading  \n",
       "194            Hài lòng  Đánh giá vào 2 tháng trước  2024-01-18  Tiki Trading  \n",
       "195            Hài lòng  Đánh giá vào 3 tháng trước  2024-01-18  Tiki Trading  \n",
       "\n",
       "[196 rows x 6 columns]"
      ]
     },
     "execution_count": 21,
     "metadata": {},
     "output_type": "execute_result"
    }
   ],
   "source": [
    "tiki_reviews"
   ]
  },
  {
   "cell_type": "markdown",
   "metadata": {},
   "source": [
    "- Loại bỏ 'Reviewer name'\n",
    "- 'Rating' chuyển thành thang đo từ 1 đến 5 hay 3 mức độ (tích cực, trung tính và tiêu cực)\n",
    "- Biến đổi cột 'Rating date' thành ngày cụ thể thông qua 'Crawl date'\n",
    "- Xử lí duplicate"
   ]
  },
  {
   "cell_type": "code",
   "execution_count": 24,
   "metadata": {},
   "outputs": [],
   "source": [
    "from underthesea import sentiment"
   ]
  },
  {
   "cell_type": "code",
   "execution_count": 30,
   "metadata": {},
   "outputs": [
    {
     "data": {
      "text/html": [
       "<div>\n",
       "<style scoped>\n",
       "    .dataframe tbody tr th:only-of-type {\n",
       "        vertical-align: middle;\n",
       "    }\n",
       "\n",
       "    .dataframe tbody tr th {\n",
       "        vertical-align: top;\n",
       "    }\n",
       "\n",
       "    .dataframe thead th {\n",
       "        text-align: right;\n",
       "    }\n",
       "</style>\n",
       "<table border=\"1\" class=\"dataframe\">\n",
       "  <thead>\n",
       "    <tr style=\"text-align: right;\">\n",
       "      <th></th>\n",
       "      <th>Content</th>\n",
       "      <th>Rating</th>\n",
       "    </tr>\n",
       "  </thead>\n",
       "  <tbody>\n",
       "    <tr>\n",
       "      <th>0</th>\n",
       "      <td>22/9 đúng 00h lên topzone, TGDĐ, FPT Shop, đặt...</td>\n",
       "      <td>Cực kì hài lòng</td>\n",
       "    </tr>\n",
       "    <tr>\n",
       "      <th>1</th>\n",
       "      <td>Đam mê táo k thể bỏ qua Iphone 15promax vì: \\r...</td>\n",
       "      <td>Cực kì hài lòng</td>\n",
       "    </tr>\n",
       "    <tr>\n",
       "      <th>2</th>\n",
       "      <td>[Cuộc gọi lúc giữa đêm]…\\r\\n\\r\\nKhông phải bon...</td>\n",
       "      <td>Cực kì hài lòng</td>\n",
       "    </tr>\n",
       "    <tr>\n",
       "      <th>3</th>\n",
       "      <td>Tiki giao lúc 1h sáng. Áp mã 500K và giảm 2tr ...</td>\n",
       "      <td>Cực kì hài lòng</td>\n",
       "    </tr>\n",
       "    <tr>\n",
       "      <th>4</th>\n",
       "      <td>Rất tin tưởng Tiki khi đặt mua điện thoại tại ...</td>\n",
       "      <td>Cực kì hài lòng</td>\n",
       "    </tr>\n",
       "    <tr>\n",
       "      <th>...</th>\n",
       "      <td>...</td>\n",
       "      <td>...</td>\n",
       "    </tr>\n",
       "    <tr>\n",
       "      <th>191</th>\n",
       "      <td>Thấy bảo nhận hàng phải có mã otp mới nhận đc ...</td>\n",
       "      <td>Rất không hài lòng</td>\n",
       "    </tr>\n",
       "    <tr>\n",
       "      <th>192</th>\n",
       "      <td>Hàng ko cho đổi trả khi đổi ý</td>\n",
       "      <td>Rất không hài lòng</td>\n",
       "    </tr>\n",
       "    <tr>\n",
       "      <th>193</th>\n",
       "      <td>Chưa thấy hoàn astra cho mình</td>\n",
       "      <td>Không hài lòng</td>\n",
       "    </tr>\n",
       "    <tr>\n",
       "      <th>194</th>\n",
       "      <td>NaN</td>\n",
       "      <td>Hài lòng</td>\n",
       "    </tr>\n",
       "    <tr>\n",
       "      <th>195</th>\n",
       "      <td>NaN</td>\n",
       "      <td>Hài lòng</td>\n",
       "    </tr>\n",
       "  </tbody>\n",
       "</table>\n",
       "<p>196 rows × 2 columns</p>\n",
       "</div>"
      ],
      "text/plain": [
       "                                               Content              Rating\n",
       "0    22/9 đúng 00h lên topzone, TGDĐ, FPT Shop, đặt...     Cực kì hài lòng\n",
       "1    Đam mê táo k thể bỏ qua Iphone 15promax vì: \\r...     Cực kì hài lòng\n",
       "2    [Cuộc gọi lúc giữa đêm]…\\r\\n\\r\\nKhông phải bon...     Cực kì hài lòng\n",
       "3    Tiki giao lúc 1h sáng. Áp mã 500K và giảm 2tr ...     Cực kì hài lòng\n",
       "4    Rất tin tưởng Tiki khi đặt mua điện thoại tại ...     Cực kì hài lòng\n",
       "..                                                 ...                 ...\n",
       "191  Thấy bảo nhận hàng phải có mã otp mới nhận đc ...  Rất không hài lòng\n",
       "192                      Hàng ko cho đổi trả khi đổi ý  Rất không hài lòng\n",
       "193                      Chưa thấy hoàn astra cho mình      Không hài lòng\n",
       "194                                                NaN            Hài lòng\n",
       "195                                                NaN            Hài lòng\n",
       "\n",
       "[196 rows x 2 columns]"
      ]
     },
     "execution_count": 30,
     "metadata": {},
     "output_type": "execute_result"
    }
   ],
   "source": [
    "tiki_reviews[['Content', 'Rating']]"
   ]
  },
  {
   "cell_type": "code",
   "execution_count": 27,
   "metadata": {},
   "outputs": [
    {
     "data": {
      "text/plain": [
       "'22/9 đúng 00h lên topzone, TGDĐ, FPT Shop, đặt mà không được, load trang liên tục 30 phút toàn báo lỗi, đến khi load được thì báo hết suất đặt cọc. Đợi tới 29/9 cũng đúng 00h lên tiki đặt, cũng vô đặt hoài tầm 30 phút mà không được, lúc đặt được thì nó báo địa chỉ không hỗ trợ, mặc dù địa chỉ này mình đặt mỗi ngày có bị gì đâu, khúc này là quạo rồi nha, bực quá tắt máy đi ngủ tiếp, mà tức quá thì làm sao ngủ được, mở điện thoại lên đặt tiếp, ơn trời lần này đặt được, mừng quá cũng hết ngủ luôn, nói chung là một đêm mất ngủ, cuối cùng được tiki giao trưa 29/9 luôn, quá ổn áp. Thích màu titan tự nhiên hơn, mà không đặt được, đặt được màu xanh là mừng húm rồi, thôi dù sao cũng đeo ốp lưng, nên màu nào cũng được, à quên mình thanh toán thẻ + voucher tiki nên được giảm 2tr5, còn 32tr490 cho bản 256GB (15 promax) quá êm. Thu gọn'"
      ]
     },
     "execution_count": 27,
     "metadata": {},
     "output_type": "execute_result"
    }
   ],
   "source": [
    "tiki_reviews['Content'][0]"
   ]
  },
  {
   "cell_type": "code",
   "execution_count": 26,
   "metadata": {},
   "outputs": [
    {
     "data": {
      "text/plain": [
       "'positive'"
      ]
     },
     "execution_count": 26,
     "metadata": {},
     "output_type": "execute_result"
    }
   ],
   "source": [
    "sentiment(tiki_reviews['Content'][0])"
   ]
  },
  {
   "cell_type": "markdown",
   "metadata": {},
   "source": [
    "# Lazada"
   ]
  },
  {
   "cell_type": "code",
   "execution_count": null,
   "metadata": {},
   "outputs": [],
   "source": []
  },
  {
   "cell_type": "markdown",
   "metadata": {},
   "source": [
    "# Websites"
   ]
  },
  {
   "cell_type": "markdown",
   "metadata": {},
   "source": [
    "#### Tinhte"
   ]
  },
  {
   "cell_type": "code",
   "execution_count": 8,
   "metadata": {},
   "outputs": [],
   "source": [
    "tinhte_content = pd.read_csv(r'..\\Data\\TinhTe\\TinhTe_Iphone15pm_InfoPosts2.csv')"
   ]
  },
  {
   "cell_type": "markdown",
   "metadata": {},
   "source": [
    "# Youtube"
   ]
  },
  {
   "cell_type": "code",
   "execution_count": null,
   "metadata": {},
   "outputs": [],
   "source": []
  }
 ],
 "metadata": {
  "kernelspec": {
   "display_name": "Python 3",
   "language": "python",
   "name": "python3"
  },
  "language_info": {
   "codemirror_mode": {
    "name": "ipython",
    "version": 3
   },
   "file_extension": ".py",
   "mimetype": "text/x-python",
   "name": "python",
   "nbconvert_exporter": "python",
   "pygments_lexer": "ipython3",
   "version": "3.9.0"
  }
 },
 "nbformat": 4,
 "nbformat_minor": 2
}
