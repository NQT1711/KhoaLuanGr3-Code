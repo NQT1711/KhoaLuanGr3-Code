{
 "cells": [
  {
   "cell_type": "code",
   "execution_count": 1,
   "metadata": {},
   "outputs": [],
   "source": [
    "import pandas as pd"
   ]
  },
  {
   "cell_type": "code",
   "execution_count": 3,
   "metadata": {},
   "outputs": [],
   "source": [
    "dt = pd.read_csv('Market.csv')\n",
    "dt.to_excel('Market.xlsx', index=False)"
   ]
  },
  {
   "cell_type": "code",
   "execution_count": 4,
   "metadata": {},
   "outputs": [],
   "source": [
    "dt = pd.read_csv('Shop.csv')\n",
    "dt.to_excel('Shop.xlsx', index=False)"
   ]
  },
  {
   "cell_type": "code",
   "execution_count": 12,
   "metadata": {},
   "outputs": [
    {
     "data": {
      "text/plain": [
       "Index(['Name', 'Brand', 'Reviews count', 'Star rating', 'Quantity', 'Price',\n",
       "       'Crawl date', 'Nhóm Màu', 'Dung Lượng Lưu Trữ', 'Shop name',\n",
       "       'Shop rating', 'Thương hiệu', 'SKU', 'Kích thước màn hình (inch)',\n",
       "       'Tình trạng', 'Hệ điều hành', 'Loại Bảo Hành', 'Bảo hành',\n",
       "       'Delivery_Option_Instant', 'Describe', 'Số Lõi',\n",
       "       'Độ Phân Giải Màn Hình', 'Số Lượng Camera', 'Loại màn hình',\n",
       "       'Tên tổ chức chịu trách nhiệm hàng hóa',\n",
       "       'Địa chỉ tổ chức chịu trách nhiệm hàng hóa', 'Hệ Thống Bộ Nhớ',\n",
       "       'Tính năng điện thoại', 'Dòng sản phẩm', 'Camera chính phía trước (MP)',\n",
       "       'Độ phân giải video', 'Kết nối mạng', 'power_consumption', 'Plug Type',\n",
       "       'input_voltage', 'Màu sắc'],\n",
       "      dtype='object')"
      ]
     },
     "execution_count": 12,
     "metadata": {},
     "output_type": "execute_result"
    }
   ],
   "source": [
    "dt.columns"
   ]
  },
  {
   "cell_type": "code",
   "execution_count": 18,
   "metadata": {},
   "outputs": [],
   "source": [
    "dt = pd.read_csv(r'E:\\Học phần\\Năm 4\\Kì 2\\Khóa luận tốt nghiệp\\KhoaLuanGr3-Code\\Data\\Tiki\\galaxy_s23_ultra_info.csv')"
   ]
  },
  {
   "cell_type": "code",
   "execution_count": 20,
   "metadata": {},
   "outputs": [],
   "source": [
    "x = dt[['Name', 'Quantity', 'Crawl date', 'Shop name', 'Price']]"
   ]
  },
  {
   "cell_type": "code",
   "execution_count": null,
   "metadata": {},
   "outputs": [],
   "source": [
    "x"
   ]
  }
 ],
 "metadata": {
  "kernelspec": {
   "display_name": "Python 3",
   "language": "python",
   "name": "python3"
  },
  "language_info": {
   "codemirror_mode": {
    "name": "ipython",
    "version": 3
   },
   "file_extension": ".py",
   "mimetype": "text/x-python",
   "name": "python",
   "nbconvert_exporter": "python",
   "pygments_lexer": "ipython3",
   "version": "3.9.0"
  }
 },
 "nbformat": 4,
 "nbformat_minor": 2
}
