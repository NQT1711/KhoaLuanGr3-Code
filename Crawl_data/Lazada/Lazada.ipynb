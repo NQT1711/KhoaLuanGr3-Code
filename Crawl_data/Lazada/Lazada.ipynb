{
 "cells": [
  {
   "cell_type": "code",
   "execution_count": 1,
   "metadata": {},
   "outputs": [],
   "source": [
    "from selenium import webdriver\n",
    "from selenium.webdriver.chrome.service import Service\n",
    "from selenium.webdriver.support.ui import WebDriverWait\n",
    "from selenium.webdriver.support import expected_conditions as EC\n",
    "from selenium.webdriver.common.by import By\n",
    "from bs4 import BeautifulSoup\n",
    "from time import sleep\n",
    "from datetime import datetime\n",
    "import pandas as pd\n",
    "from string import punctuation\n",
    "from nltk.tokenize import MWETokenizer\n",
    "from nltk import ngrams\n",
    "import itertools\n",
    "import os"
   ]
  },
  {
   "cell_type": "markdown",
   "metadata": {},
   "source": [
    "# Function"
   ]
  },
  {
   "cell_type": "markdown",
   "metadata": {},
   "source": [
    "# Lấy thông tin và reviews sản phẩm"
   ]
  },
  {
   "cell_type": "code",
   "execution_count": 12,
   "metadata": {},
   "outputs": [],
   "source": [
    "def get_url(driver, url): # Hàm mở url \n",
    "    driver.get(url)\n",
    "\n",
    "    WebDriverWait(driver, 60).until(EC.presence_of_element_located((By.CSS_SELECTOR, 'div[id=\"root\"]')))\n",
    "\n",
    "    total_height = int(driver.execute_script(\"return document.body.scrollHeight\"))\n",
    "\n",
    "    for i in range(1, total_height, 5):\n",
    "        driver.execute_script(\"window.scrollTo(0, {});\".format(i))\n",
    "\n",
    "    check_total_height = int(driver.execute_script(\"return document.body.scrollHeight\"))\n",
    "    if check_total_height > total_height:\n",
    "        for i in range(total_height, check_total_height, 5):\n",
    "            driver.execute_script(\"window.scrollTo(0, {});\".format(i))"
   ]
  },
  {
   "cell_type": "code",
   "execution_count": 14,
   "metadata": {},
   "outputs": [],
   "source": [
    "def get_soup(driver, url=None): # Hàm lấy code html của url và trả về soup\n",
    "    if url != None:\n",
    "        get_url(driver, url)\n",
    "\n",
    "    element= WebDriverWait(driver, 60).until(EC.presence_of_element_located((By.CSS_SELECTOR, 'div[id=\"root\"]')))\n",
    "    html_of_interest=driver.execute_script('return arguments[0].innerHTML',element)\n",
    "    soup = BeautifulSoup(html_of_interest, 'lxml')\n",
    "\n",
    "    return soup"
   ]
  },
  {
   "cell_type": "markdown",
   "metadata": {},
   "source": [
    "# Main"
   ]
  },
  {
   "cell_type": "code",
   "execution_count": 10,
   "metadata": {},
   "outputs": [],
   "source": [
    "# Mở trình duyệt Google Chrome\n",
    "options = webdriver.ChromeOptions()\n",
    "options.add_argument('--ignore-certificate-errors')\n",
    "options.add_argument('--incognito') # Tab ẩn danh\n",
    "options.add_argument(\"--start-maximized\") # Full window\n",
    "# options.add_argument('headless') # Không hiển thị chrome\n",
    "s = Service('../chromedriver.exe')\n",
    "driver = webdriver.Chrome(service=s, options=options)"
   ]
  },
  {
   "cell_type": "code",
   "execution_count": 3,
   "metadata": {},
   "outputs": [],
   "source": [
    "product_url = 'https://www.lazada.vn/products/iphone-15-pro-max-hang-chinh-hang-vna-i2417233670-s11887332528.html?c=&channelLpJumpArgs=&clickTrackInfo=query%253Aiphone%252B15%252Bpro%252Bmax%253Bnid%253A2417233670%253Bsrc%253ALazadaMainSrp%253Brn%253A09306d68486bd7dd0d9bfd6bc177d5aa%253Bregion%253Avn%253Bsku%253A2417233670_VNAMZ%253Bprice%253A32490000%253Bclient%253Adesktop%253Bsupplier_id%253A1000001033%253Bbiz_source%253Ah5_internal%253Bslot%253A0%253Butlog_bucket_id%253A470687%253Basc_category_id%253A4518%253Bitem_id%253A2417233670%253Bsku_id%253A11887332528%253Bshop_id%253A7272&fastshipping=0&freeshipping=0&fs_ab=2&fuse_fs=&lang=en&location=B%E1%BA%AFc%20Ninh&price=3.249E%207&priceCompare=skuId%3A11887332528%3Bsource%3Alazada-search-voucher%3Bsn%3A09306d68486bd7dd0d9bfd6bc177d5aa%3BunionTrace%3A2102fcc017049906845011984ea33d%3BoriginPrice%3A32490000%3BvoucherPrice%3A32490000%3BdisplayPrice%3A32490000%3BsinglePromotionId%3A900000020209933%3BsingleToolCode%3ApromPrice%3BvoucherPricePlugin%3A1%3BbuyerId%3A0%3Btimestamp%3A1704990684839&ratingscore=4.92930086410055&request_id=09306d68486bd7dd0d9bfd6bc177d5aa&review=1273&sale=6118&search=1&source=search&spm=a2o4n.searchlist.list.5&stock=1'"
   ]
  },
  {
   "cell_type": "code",
   "execution_count": 15,
   "metadata": {},
   "outputs": [],
   "source": [
    "soup = get_soup(driver, product_url)"
   ]
  },
  {
   "cell_type": "code",
   "execution_count": 18,
   "metadata": {},
   "outputs": [
    {
     "data": {
      "text/plain": [
       "'iPhone 15 Pro Max - Hàng Chính Hãng VN/A'"
      ]
     },
     "execution_count": 18,
     "metadata": {},
     "output_type": "execute_result"
    }
   ],
   "source": [
    "# Tên sản phẩm\n",
    "soup.select('h1[class=\"pdp-mod-product-badge-title\"]')[0].text"
   ]
  },
  {
   "cell_type": "code",
   "execution_count": 23,
   "metadata": {},
   "outputs": [
    {
     "data": {
      "text/plain": [
       "'1273 đánh giá'"
      ]
     },
     "execution_count": 23,
     "metadata": {},
     "output_type": "execute_result"
    }
   ],
   "source": [
    "# Số lượt đánh giá - Nếu không có đánh giá thì ko crawl reviews\n",
    "soup.select('div[class=\"pdp-review-summary\"] > a')[0].text\n",
    "\n",
    "# if == 'No Ratings':"
   ]
  },
  {
   "cell_type": "code",
   "execution_count": 28,
   "metadata": {},
   "outputs": [
    {
     "data": {
      "text/plain": [
       "'Apple'"
      ]
     },
     "execution_count": 28,
     "metadata": {},
     "output_type": "execute_result"
    }
   ],
   "source": [
    "# Tên thương hiệu\n",
    "soup.select('div[class=\"pdp-product-brand\"] > a')[0].text"
   ]
  },
  {
   "cell_type": "code",
   "execution_count": 69,
   "metadata": {},
   "outputs": [
    {
     "data": {
      "text/plain": [
       "'32.490.000 ₫'"
      ]
     },
     "execution_count": 69,
     "metadata": {},
     "output_type": "execute_result"
    }
   ],
   "source": [
    "# Giá bán\n",
    "soup.select('div[class=\"pdp-product-price\"] > span')[0].text"
   ]
  },
  {
   "cell_type": "code",
   "execution_count": 67,
   "metadata": {},
   "outputs": [
    {
     "name": "stdout",
     "output_type": "stream",
     "text": [
      "Nhóm Màu\n",
      "\n",
      "\n",
      "\n",
      "\n",
      "Dung Lượng Lưu Trữ\n",
      "256GB\n",
      "512GB\n",
      "1TB\n"
     ]
    }
   ],
   "source": [
    "# Thông số lựa chọn - Check nếu không có\n",
    "options_label_list = soup.select('div[class=\"sku-selector\"] > div')\n",
    "for option_label in options_label_list:\n",
    "    print(option_label.select('div > h6')[0].text)\n",
    "    list_option = option_label.select('div > div > div[class=\"sku-prop-content\"] > span')\n",
    "\n",
    "    for option in list_option:\n",
    "        print(option.text)\n"
   ]
  },
  {
   "cell_type": "code",
   "execution_count": 72,
   "metadata": {},
   "outputs": [
    {
     "data": {
      "text/plain": [
       "'Apple Flagship Store'"
      ]
     },
     "execution_count": 72,
     "metadata": {},
     "output_type": "execute_result"
    }
   ],
   "source": [
    "# Tên shop\n",
    "soup.select('div[class=\"seller-name__detail\"] > a')[0].text"
   ]
  },
  {
   "cell_type": "code",
   "execution_count": 76,
   "metadata": {},
   "outputs": [
    {
     "data": {
      "text/plain": [
       "'94%'"
      ]
     },
     "execution_count": 76,
     "metadata": {},
     "output_type": "execute_result"
    }
   ],
   "source": [
    "# Shop rating\n",
    "soup.select('div[class=\"seller-info-value rating-positive\"]')[0].text"
   ]
  },
  {
   "cell_type": "code",
   "execution_count": null,
   "metadata": {},
   "outputs": [],
   "source": [
    "# Thông tin sản phẩm\n",
    "view_more_btn = driver.find_elements(By.CSS_SELECTOR, 'div[class=\"expand-button expand-cursor\"]')\n",
    "if view_more_btn != []:\n",
    "    view_more_btn[0].click()\n",
    "\n"
   ]
  },
  {
   "cell_type": "code",
   "execution_count": 92,
   "metadata": {},
   "outputs": [
    {
     "data": {
      "text/plain": [
       "[<selenium.webdriver.remote.webelement.WebElement (session=\"520b7f6707ac5641734860c8129ee651\", element=\"96FC3E8D0D191550382D8A4F25CB40F2_element_867\")>]"
      ]
     },
     "execution_count": 92,
     "metadata": {},
     "output_type": "execute_result"
    }
   ],
   "source": []
  },
  {
   "cell_type": "code",
   "execution_count": null,
   "metadata": {},
   "outputs": [],
   "source": []
  }
 ],
 "metadata": {
  "kernelspec": {
   "display_name": "Python 3",
   "language": "python",
   "name": "python3"
  },
  "language_info": {
   "codemirror_mode": {
    "name": "ipython",
    "version": 3
   },
   "file_extension": ".py",
   "mimetype": "text/x-python",
   "name": "python",
   "nbconvert_exporter": "python",
   "pygments_lexer": "ipython3",
   "version": "3.9.0"
  }
 },
 "nbformat": 4,
 "nbformat_minor": 2
}
