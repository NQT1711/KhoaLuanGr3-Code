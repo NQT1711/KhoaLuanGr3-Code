{
 "cells": [
  {
   "cell_type": "markdown",
   "metadata": {},
   "source": [
    "#### Import Libraries & Set Options for Chrome"
   ]
  },
  {
   "cell_type": "code",
   "execution_count": 1,
   "metadata": {},
   "outputs": [],
   "source": [
    "import pandas as pd \n",
    "from bs4 import BeautifulSoup\n",
    "import requests\n",
    "from selenium import webdriver\n",
    "\n",
    "from selenium.webdriver.common.by import By\n",
    "import time\n",
    "import random\n",
    "from selenium.webdriver.chrome.service import Service\n",
    "from selenium.webdriver.support.ui import WebDriverWait\n",
    "from selenium.webdriver.support import expected_conditions as EC\n",
    "from selenium.webdriver.common.keys import Keys\n",
    "\n",
    "import sys\n",
    "sys.path.insert(0,\"..\")\n",
    "from fake_useragent import UserAgent\n",
    "ua = UserAgent()\n",
    "user_agent = ua.random\n"
   ]
  },
  {
   "cell_type": "code",
   "execution_count": 2,
   "metadata": {},
   "outputs": [],
   "source": [
    "import winsound\n",
    "duration = 1000  # milliseconds\n",
    "freq = 440  # Hz"
   ]
  },
  {
   "cell_type": "code",
   "execution_count": 3,
   "metadata": {},
   "outputs": [],
   "source": [
    "# Mở trình duyệt Google Chrome\n",
    "options = webdriver.ChromeOptions()\n",
    "options.add_argument('--ignore-certificate-errors')\n",
    "options.add_argument('--incognito') # Tab ẩn danh\n",
    "options.add_argument(\"--start-maximized\") # Full window\n",
    "options.add_argument('headless') # Không hiển thị chrome\n",
    "options.add_argument(f'user-agent={user_agent}')\n",
    "s = Service('../chromedriver.exe')"
   ]
  },
  {
   "cell_type": "code",
   "execution_count": 66,
   "metadata": {},
   "outputs": [],
   "source": [
    "# user_agents = [\n",
    "#     \"Mozilla/5.0 (Windows NT 10.0; Win64; x64) AppleWebKit/537.36 (KHTML, like Gecko) Chrome/96.0.4664.110 Safari/537.36\",\n",
    "#     \"Mozilla/5.0 (Windows NT 10.0; Win64; x64) AppleWebKit/537.36 (KHTML, like Gecko) Edge/96.0.1054.62\",\n",
    "#     \"Mozilla/5.0 (Windows NT 10.0; Win64; x64) AppleWebKit/537.36 (KHTML, like Gecko) Firefox/95.0\",\n",
    "#     \"Mozilla/5.0 (Windows NT 10.0; Win64; x64) AppleWebKit/537.36 (KHTML, like Gecko) Safari/537.36\",\n",
    "#     \"Mozilla/5.0 (Macintosh; Intel Mac OS X 10_15_7) AppleWebKit/605.1.15 (KHTML, like Gecko) Version/15.1 Safari/605.1.15\",\n",
    "#     \"Mozilla/5.0 (Macintosh; Intel Mac OS X 11_5_1) AppleWebKit/537.36 (KHTML, like Gecko) Chrome/92.0.4515.159 Safari/537.36\",\n",
    "#     \"Mozilla/5.0 (Macintosh; Intel Mac OS X 11_5_1) AppleWebKit/537.36 (KHTML, like Gecko) Edge/96.0.1054.62\",\n",
    "#     \"Mozilla/5.0 (Macintosh; Intel Mac OS X 11_5_1) AppleWebKit/537.36 (KHTML, like Gecko) Firefox/95.0\",\n",
    "#     \"Mozilla/5.0 (iPhone; CPU iPhone OS 15_1 like Mac OS X) AppleWebKit/605.1.15 (KHTML, like Gecko) Version/15.1 Mobile/15E148 Safari/604.1\",\n",
    "#     \"Mozilla/5.0 (Linux; Android 11; SM-G988U) AppleWebKit/537.36 (KHTML, like Gecko) Chrome/96.0.4664.110 Mobile Safari/537.36\",\n",
    "#     \"Mozilla/5.0 (Linux; Android 11; Pixel 4 XL) AppleWebKit/537.36 (KHTML, like Gecko) Chrome/96.0.4664.110 Mobile Safari/537.36\",\n",
    "#     \"Mozilla/5.0 (X11; Linux x86_64) AppleWebKit/537.36 (KHTML, like Gecko) Chrome/96.0.4664.110 Safari/537.36\",\n",
    "#     \"Mozilla/5.0 (X11; Linux x86_64) AppleWebKit/537.36 (KHTML, like Gecko) Firefox/95.0\",\n",
    "#     \"Mozilla/5.0 (X11; Ubuntu; Linux x86_64; rv:95.0) Gecko/20100101 Firefox/95.0\",\n",
    "#     \"Mozilla/5.0 (Windows NT 10.0; Win64; x64; rv:95.0) Gecko/20100101 Firefox/95.0\",\n",
    "#     \"Mozilla/5.0 (Windows NT 10.0; Win64; x64; Trident/7.0; rv:11.0) like Gecko\",\n",
    "#     \"Mozilla/5.0 (Windows NT 6.1; WOW64; Trident/7.0; AS; rv:11.0) like Gecko\",\n",
    "#     \"Mozilla/5.0 (Windows NT 6.3; Win64; x64) AppleWebKit/537.36 (KHTML, like Gecko) Chrome/96.0.4664.110 Safari/537.36 Edg/96.0.1054.62\",\n",
    "#     \"Mozilla/5.0 (Windows NT 6.1; WOW64; rv:95.0) Gecko/20100101 Firefox/95.0\",\n",
    "#     \"Mozilla/5.0 (Windows NT 10.0; Win64; x64) AppleWebKit/537.36 (KHTML, like Gecko) Chrome/96.0.4664.110 Safari/537.36 OPR/83.0.4787.63\"\n",
    "# ]\n",
    "\n",
    "\n",
    "# def get_random_proxy():\n",
    "#     proxies = [\n",
    "#         {\"http\": \"http://123.30.154.171:7777\", \"https\": \"http://123.30.154.171:7777\"},\n",
    "#         {\"http\": \"http://165.154.186.232:80\", \"https\": \"http://165.154.186.232:80\"},\n",
    "#         {\"http\": \"http://113.161.131.43:80\", \"https\": \"http://113.161.131.43:80\"},\n",
    "#         {\"http\": \"http://117.4.50.142:32650\", \"https\": \"http://117.4.50.142:32650\"},\n",
    "#     ]\n",
    "#     return random.choice(proxies)\n",
    "# # options.add_argument(f'--proxy-server={get_random_proxy()[\"http\"]}')\n",
    "# options.add_argument(f'user-agent={random.choice(user_agents)}')"
   ]
  },
  {
   "cell_type": "markdown",
   "metadata": {},
   "source": [
    "#### Get Url PosT"
   ]
  },
  {
   "cell_type": "code",
   "execution_count": 74,
   "metadata": {},
   "outputs": [],
   "source": [
    "def get_url_post(keyword):\n",
    "    url_page = 'https://tinhte.vn/'\n",
    "    driver = webdriver.Chrome(service=s, options=options)\n",
    "    driver.get(url_page)\n",
    "    WebDriverWait(driver, 30).until(EC.presence_of_element_located((By.XPATH, '//*[@id=\"gsc-i-id1\"]')))\n",
    "    time.sleep(random.randint(3,7))\n",
    "\n",
    "    # Send searchword into Input Box/ Inputing search word into box\n",
    "    box = driver.find_element(By.XPATH,'//*[@id=\"gsc-i-id1\"]')\n",
    "    box.send_keys(keyword)\n",
    "    time.sleep(random.randint(3,9))\n",
    "    box.send_keys(Keys.ENTER)\n",
    "    print(f'Crawling posts related to {keyword}')\n",
    "    \n",
    "    # Get urls of all pages\n",
    "    df_link=[]\n",
    "    for i in range(1,11):\n",
    "        print(f'Crawling Page {i} of {keyword}')\n",
    "        time.sleep(random.randint(5, 7))\n",
    "        driver.find_element(By.XPATH,'//*[@id=\"___gcse_0\"]/div/div/div[1]/div[6]')\n",
    "        soup=BeautifulSoup(driver.page_source,'html.parser')\n",
    "        soup2 = soup.select('div[class=\"gs-title\"]')\n",
    "\n",
    "        # Get all urls in a page (10)\n",
    "        for item in range(len(soup2)-1):\n",
    "            i2 = soup2[item].find('a').get('href')\n",
    "            df_link.append(i2)\n",
    "\n",
    "        # Don't click into page 1.\n",
    "        if i <10:\n",
    "            xpath = f'//*[@id=\"___gcse_0\"]/div/div/div[1]/div[6]/div[2]/div/div/div[2]/div/div[{i+1}]'\n",
    "            WebDriverWait(driver, 11) \n",
    "            driver.find_element(By.XPATH,xpath).click()\n",
    "\n",
    "    driver.close()\n",
    "    return df_link"
   ]
  },
  {
   "cell_type": "code",
   "execution_count": 68,
   "metadata": {},
   "outputs": [],
   "source": [
    "keyword=['Iphone 15 pro max','Samsung S23 Ultra']"
   ]
  },
  {
   "cell_type": "markdown",
   "metadata": {},
   "source": [
    "##### Crawl Iphone 15 Pro Max Link"
   ]
  },
  {
   "cell_type": "code",
   "execution_count": 72,
   "metadata": {},
   "outputs": [
    {
     "name": "stdout",
     "output_type": "stream",
     "text": [
      "Crawling posts related to Iphone 15 pro max\n",
      "Crawling Page 1 of Iphone 15 pro max\n",
      "Crawling Page 2 of Iphone 15 pro max\n",
      "Crawling Page 3 of Iphone 15 pro max\n",
      "Crawling Page 4 of Iphone 15 pro max\n",
      "Crawling Page 5 of Iphone 15 pro max\n",
      "Crawling Page 6 of Iphone 15 pro max\n",
      "Crawling Page 7 of Iphone 15 pro max\n",
      "Crawling Page 8 of Iphone 15 pro max\n",
      "Crawling Page 9 of Iphone 15 pro max\n",
      "Crawling Page 10 of Iphone 15 pro max\n"
     ]
    }
   ],
   "source": [
    "df_link1 = get_url_post(keyword[0])\n",
    "df=pd.DataFrame({'Link':df_link1})\n",
    "save_path = \"../../Data/TinhTe/TinhTe_Iphone15pm_Link.csv\"\n",
    "df.to_csv(save_path,index=False)"
   ]
  },
  {
   "cell_type": "markdown",
   "metadata": {},
   "source": [
    "##### Crawl Samsung S23 Ultra Link"
   ]
  },
  {
   "cell_type": "code",
   "execution_count": 75,
   "metadata": {},
   "outputs": [
    {
     "name": "stdout",
     "output_type": "stream",
     "text": [
      "Crawling posts related to Samsung S23 Ultra\n",
      "Crawling Page 1 of Samsung S23 Ultra\n",
      "Crawling Page 2 of Samsung S23 Ultra\n",
      "Crawling Page 3 of Samsung S23 Ultra\n",
      "Crawling Page 4 of Samsung S23 Ultra\n",
      "Crawling Page 5 of Samsung S23 Ultra\n",
      "Crawling Page 6 of Samsung S23 Ultra\n",
      "Crawling Page 7 of Samsung S23 Ultra\n",
      "Crawling Page 8 of Samsung S23 Ultra\n",
      "Crawling Page 9 of Samsung S23 Ultra\n",
      "Crawling Page 10 of Samsung S23 Ultra\n"
     ]
    }
   ],
   "source": [
    "df_link2 = get_url_post(keyword[1])\n",
    "df=pd.DataFrame({'Link':df_link2})\n",
    "save_path = '../../Data/TinhTe/TinhTe_SamsungS23u_Link.csv'\n",
    "df.to_csv(save_path,index=False)"
   ]
  },
  {
   "cell_type": "markdown",
   "metadata": {},
   "source": [
    "#### Crawl Post Information"
   ]
  },
  {
   "cell_type": "code",
   "execution_count": 76,
   "metadata": {},
   "outputs": [],
   "source": [
    "def get_content_post(soup):\n",
    "    soup_ct = soup.select_one('article')\n",
    "    soup_ct1 = soup_ct.select('span[class=\"xf-body-paragraph\"]')\n",
    "    content=[]\n",
    "    for child in soup_ct1:\n",
    "        info_div = child.find(\"div\",class_=\"info\")\n",
    "        if info_div:\n",
    "            info_div.extract()\n",
    "        content.append(child.getText(separator='\\n' ,strip=True))\n",
    "    return content\n",
    "\n",
    "def get_info_post(url):\n",
    "    respone = requests.get(url)\n",
    "    list_info =[]\n",
    "    if respone.status_code ==200:\n",
    "        soup = BeautifulSoup(respone.text,'lxml')\n",
    "        tt = soup.select_one('div[class=\"jsx-89440 thread-title\"] > h1')\n",
    "        if tt != None:\n",
    "            title=tt.text\n",
    "            author = soup.select_one('div[class=\"jsx-89440 author-name\"]>a').text\n",
    "            post_date = soup.select_one('div[class=\"jsx-89440 date-comment-view\"]>span[class=\"jsx-89440 date\"]').text\n",
    "            comments_count = soup.select_one('div[class=\"jsx-89440 date-comment-view\"]>span[class=\"jsx-89440 comment\"]>span').text\n",
    "            if 'page' not in url:\n",
    "                content_list =  get_content_post(soup)\n",
    "                content = '\\n'.join(content_list)\n",
    "            else:\n",
    "                content = ''\n",
    "            list_info.append([url,title,author,post_date,comments_count,content])\n",
    "\n",
    "    else:\n",
    "        print(\"Error\")\n",
    "\n",
    "    return list_info\n",
    "\n"
   ]
  },
  {
   "cell_type": "code",
   "execution_count": 77,
   "metadata": {},
   "outputs": [],
   "source": [
    "def number_post(start,end,df_save,df_source,columns):\n",
    "    for url in df_source['Link'][start-1:end]:\n",
    "        data = get_info_post(url)\n",
    "        df_save = pd.concat([df_save, pd.DataFrame(data,columns=columns)], ignore_index=True)\n",
    "        time.sleep(random.randint(3,5))\n",
    "    return df_save"
   ]
  },
  {
   "cell_type": "markdown",
   "metadata": {},
   "source": [
    "##### Get Post Information for Iphone 15 Promax"
   ]
  },
  {
   "cell_type": "code",
   "execution_count": 79,
   "metadata": {},
   "outputs": [],
   "source": [
    "df_link_ip15pm = pd.read_csv('../../Data/TinhTe/TinhTe_Iphone15pm_Link.csv')\n",
    "columns = ['Link','Title', 'Author', 'Post Date', 'Comments Count', 'Content']\n",
    "df_info_ip15pm = pd.DataFrame(columns=columns)\n",
    "start =1\n",
    "end=100\n",
    "df = number_post(start,end,df_info_ip15pm,df_link_ip15pm,columns)\n",
    "save_path = \"../../Data/TinhTe/TinhTe_Iphone15pm_InfoPosts2.csv\"\n",
    "df.to_csv(save_path,index=False)"
   ]
  },
  {
   "cell_type": "markdown",
   "metadata": {},
   "source": [
    "##### Get Post Information for Samsung S23 Ultra"
   ]
  },
  {
   "cell_type": "code",
   "execution_count": null,
   "metadata": {},
   "outputs": [],
   "source": [
    "df_link_sss23u = pd.read_csv('../../Data/TinhTe/TinhTe_SamsungS23u_Link.csv')\n",
    "columns = ['Link','Title', 'Author', 'Post Date', 'Comments Count', 'Content']\n",
    "df_info_sss23u = pd.DataFrame(columns=columns)\n",
    "start =1\n",
    "end=100\n",
    "df = number_post(start,end,df_info_sss23u,df_link_sss23u,columns)\n",
    "save_path = \"../../Data/TinhTe/TinhTe_SamsungS23u_InfoPosts.csv\"\n",
    "\n",
    "df.to_csv(save_path,index=False)\n",
    "winsound.Beep(freq, duration)"
   ]
  },
  {
   "cell_type": "markdown",
   "metadata": {},
   "source": [
    "### Crawl Comments for Posts"
   ]
  },
  {
   "cell_type": "code",
   "execution_count": 4,
   "metadata": {},
   "outputs": [],
   "source": [
    "def handle_older_replies(driver):\n",
    "    while True:\n",
    "        soup_handle_rl = BeautifulSoup(driver.page_source,'html.parser')\n",
    "        click_elms = soup_handle_rl.select('button[class=\"jsx-691990575 thread-comments__load-more\"]')\n",
    "        if len(click_elms)==0:\n",
    "            break\n",
    "        else:\n",
    "            for i in range(35):\n",
    "                try:\n",
    "                    driver.find_element(By.XPATH,f'//*[@id=\"__next\"]/div[1]/div/div[2]/div[2]/div[1]/div/div/div[1]/div[3]/div[2]/div/div[{i}]/div/div[2]/div[3]/button').click()\n",
    "                    time.sleep(random.randint(2,4))\n",
    "                except:              \n",
    "                    pass"
   ]
  },
  {
   "cell_type": "code",
   "execution_count": 7,
   "metadata": {},
   "outputs": [],
   "source": [
    "\n",
    "def get_comments(url,driver):\n",
    "    list_cmt = [] # create a list to save all comments\n",
    "    # time.sleep(random.randint(3,7))\n",
    "    soup = BeautifulSoup(driver.page_source,'html.parser')\n",
    "    main_cmt = soup.select('div[class=\"jsx-691990575 thread-comment__wrapper\"]')\n",
    "    for item in main_cmt:\n",
    "        first_child = item.find_all()[0]\n",
    "        date = first_child.find('a',class_='jsx-691990575 thread-comment__date').text\n",
    "\n",
    "        second_child = item.find_all('div',class_='jsx-4267282249 xfBodyContainer')\n",
    "        for i in second_child:\n",
    "            for tag in i.find_all(['div', 'a'], {'class': ['attribution', 'bbCodeQuote', 'NoOverlay']}):\n",
    "                tag.decompose()\n",
    "            cmt = i.find('div', class_='jsx-4267282249 xfBody').text.strip()\n",
    "            list_cmt.append([url,date,cmt])\n",
    "\n",
    "    return list_cmt"
   ]
  },
  {
   "cell_type": "code",
   "execution_count": 12,
   "metadata": {},
   "outputs": [],
   "source": [
    "\n",
    "def main_func(df_source,start,end):\n",
    "\n",
    "    summary = pd.DataFrame({'Link':[],'Date':[],'Comment':[]}) # create a df to save all comments\n",
    "    driver = webdriver.Chrome(service=s, options=options)\n",
    "    for url in df_source['Link'][start-1:end]:\n",
    "        print(f'Crawling url: {url}')\n",
    "        driver.get(url)\n",
    "        WebDriverWait(driver,60).until(EC.presence_of_element_located(\n",
    "                (By.XPATH,'//*[@id=\"__next\"]/div[1]/div/div[2]/div[2]/div[1]/div/div/div[1]/div[3]/div[1]/a/div')))\n",
    "        \n",
    "        soup_temp = BeautifulSoup(driver.page_source,'html.parser')\n",
    "\n",
    "        try:\n",
    "            num_page = soup_temp.select('div[class=\"jsx-2305813501 pagination--pages\"]>a[class=\"jsx-2305813501 page\"]')[0].text                \n",
    "        except:\n",
    "            num_page =0\n",
    "        \n",
    "        # click_elms = soup_temp.select('button[class=\"jsx-691990575 thread-comments__load-more\"]')\n",
    "\n",
    "        if num_page!=0:\n",
    "            for i_page in range(1,int(num_page)+1):\n",
    "                if i_page !=1:\n",
    "                    new_url = f'{url}/page-{i_page}'\n",
    "                else:\n",
    "                    new_url = url\n",
    "                # print(f'Crawling page: {new_url}')\n",
    "                driver.get(new_url)\n",
    "                WebDriverWait(driver,60).until(EC.presence_of_element_located((By.XPATH,'//*[@id=\"__next\"]/div[1]/div/div[2]/div[2]/div[1]/div/div/div[1]/div[3]/div[1]/a/div')))\n",
    "\n",
    "                click_elms = soup_temp.select('button[class=\"jsx-691990575 thread-comments__load-more\"]')\n",
    "                if len(click_elms) !=0:\n",
    "                    handle_older_replies(driver)\n",
    "                \n",
    "                list_cmt = get_comments(url,driver)\n",
    "                df_sub_cmt = pd.DataFrame(list_cmt,columns=['Link','Date','Comment'])\n",
    "                summary = pd.concat([summary,df_sub_cmt])\n",
    "                # summary.append([url,date2,cmt2])\n",
    "                time.sleep(random.randint(2,3))\n",
    "    return summary\n"
   ]
  },
  {
   "cell_type": "markdown",
   "metadata": {},
   "source": [
    "##### Get comments for posts on the Iphone 15 Pro Max."
   ]
  },
  {
   "cell_type": "code",
   "execution_count": 26,
   "metadata": {},
   "outputs": [
    {
     "name": "stdout",
     "output_type": "stream",
     "text": [
      "Crawling url: https://tinhte.vn/thread/nang-cap-len-iphone-15-pro-max-ban-facelift-gia-tri-nhung-khong-hoan-chinh.3730221/\n",
      "Crawling url: https://tinhte.vn/thread/so-sanh-camera-iphone-15-pro-max-va-google-pixel-8-pro.3729498/\n",
      "Crawling url: https://tinhte.vn/thread/cach-minh-thiet-lap-de-chup-hinh-va-quay-phim-tren-camera-iphone-15-pro-pro-max.3731101/\n",
      "Crawling url: https://tinhte.vn/thread/mo-hop-iphone-15-pro-max-natural-titan-mem-mai-hon-vien-man-hinh-mong-hon-va-nhe-hon.3718938/\n",
      "Crawling url: https://tinhte.vn/thread/lai-phai-quay-ve-iphone-15-pro-sau-2-tuan-dung-15-pro-max.3729651/\n",
      "Crawling url: https://tinhte.vn/thread/iphone-15-pro-pro-max-chup-anh-bat-ky-van-ra-duoc-anh-chan-dung.3721878/\n",
      "Crawling url: https://tinhte.vn/thread/quay-video-prores-log-tren-iphone-15-promax.3721963/\n",
      "Crawling url: https://tinhte.vn/thread/tren-tay-apple-iphone-15-pro-nhe-dep-cam-nam-thoai-mai.3718805/\n",
      "Crawling url: https://tinhte.vn/thread/chi-tiet-camera-iphone-15-pro-pro-max-co-den-7-tieu-cu-khac-nhau-zoom-quang-120mm.3715687/\n"
     ]
    },
    {
     "ename": "KeyboardInterrupt",
     "evalue": "",
     "output_type": "error",
     "traceback": [
      "\u001b[1;31m---------------------------------------------------------------------------\u001b[0m",
      "\u001b[1;31mKeyboardInterrupt\u001b[0m                         Traceback (most recent call last)",
      "Cell \u001b[1;32mIn [26], line 2\u001b[0m\n\u001b[0;32m      1\u001b[0m df_link_ip15pm \u001b[38;5;241m=\u001b[39m pd\u001b[38;5;241m.\u001b[39mread_csv(\u001b[38;5;124m'\u001b[39m\u001b[38;5;124m../../Data/TinhTe/TinhTe_Iphone15pm_InfoPosts2.csv\u001b[39m\u001b[38;5;124m'\u001b[39m)\n\u001b[1;32m----> 2\u001b[0m df_ip15 \u001b[38;5;241m=\u001b[39m \u001b[43mmain_func\u001b[49m\u001b[43m(\u001b[49m\u001b[43mdf_link_ip15pm\u001b[49m\u001b[43m,\u001b[49m\u001b[38;5;241;43m1\u001b[39;49m\u001b[43m,\u001b[49m\u001b[38;5;241;43m20\u001b[39;49m\u001b[43m)\u001b[49m\n\u001b[0;32m      3\u001b[0m save_path \u001b[38;5;241m=\u001b[39m \u001b[38;5;124m\"\u001b[39m\u001b[38;5;124m../../Data/TinhTe/TinhTe_Iphone15pm_Comments.csv\u001b[39m\u001b[38;5;124m\"\u001b[39m\n\u001b[0;32m      4\u001b[0m df_ip15\u001b[38;5;241m.\u001b[39mto_csv(save_path,index\u001b[38;5;241m=\u001b[39m\u001b[38;5;28;01mFalse\u001b[39;00m)\n",
      "Cell \u001b[1;32mIn [12], line 27\u001b[0m, in \u001b[0;36mmain_func\u001b[1;34m(df_source, start, end)\u001b[0m\n\u001b[0;32m     25\u001b[0m     new_url \u001b[38;5;241m=\u001b[39m url\n\u001b[0;32m     26\u001b[0m \u001b[38;5;66;03m# print(f'Crawling page: {new_url}')\u001b[39;00m\n\u001b[1;32m---> 27\u001b[0m \u001b[43mdriver\u001b[49m\u001b[38;5;241;43m.\u001b[39;49m\u001b[43mget\u001b[49m\u001b[43m(\u001b[49m\u001b[43mnew_url\u001b[49m\u001b[43m)\u001b[49m\n\u001b[0;32m     28\u001b[0m WebDriverWait(driver,\u001b[38;5;241m60\u001b[39m)\u001b[38;5;241m.\u001b[39muntil(EC\u001b[38;5;241m.\u001b[39mpresence_of_element_located((By\u001b[38;5;241m.\u001b[39mXPATH,\u001b[38;5;124m'\u001b[39m\u001b[38;5;124m//*[@id=\u001b[39m\u001b[38;5;124m\"\u001b[39m\u001b[38;5;124m__next\u001b[39m\u001b[38;5;124m\"\u001b[39m\u001b[38;5;124m]/div[1]/div/div[2]/div[2]/div[1]/div/div/div[1]/div[3]/div[1]/a/div\u001b[39m\u001b[38;5;124m'\u001b[39m)))\n\u001b[0;32m     30\u001b[0m click_elms \u001b[38;5;241m=\u001b[39m soup_temp\u001b[38;5;241m.\u001b[39mselect(\u001b[38;5;124m'\u001b[39m\u001b[38;5;124mbutton[class=\u001b[39m\u001b[38;5;124m\"\u001b[39m\u001b[38;5;124mjsx-691990575 thread-comments__load-more\u001b[39m\u001b[38;5;124m\"\u001b[39m\u001b[38;5;124m]\u001b[39m\u001b[38;5;124m'\u001b[39m)\n",
      "File \u001b[1;32mc:\\Users\\nguye\\AppData\\Local\\Programs\\Python\\Python310\\lib\\site-packages\\selenium\\webdriver\\remote\\webdriver.py:449\u001b[0m, in \u001b[0;36mWebDriver.get\u001b[1;34m(self, url)\u001b[0m\n\u001b[0;32m    447\u001b[0m \u001b[38;5;28;01mdef\u001b[39;00m \u001b[38;5;21mget\u001b[39m(\u001b[38;5;28mself\u001b[39m, url: \u001b[38;5;28mstr\u001b[39m) \u001b[38;5;241m-\u001b[39m\u001b[38;5;241m>\u001b[39m \u001b[38;5;28;01mNone\u001b[39;00m:\n\u001b[0;32m    448\u001b[0m     \u001b[38;5;124;03m\"\"\"Loads a web page in the current browser session.\"\"\"\u001b[39;00m\n\u001b[1;32m--> 449\u001b[0m     \u001b[38;5;28;43mself\u001b[39;49m\u001b[38;5;241;43m.\u001b[39;49m\u001b[43mexecute\u001b[49m\u001b[43m(\u001b[49m\u001b[43mCommand\u001b[49m\u001b[38;5;241;43m.\u001b[39;49m\u001b[43mGET\u001b[49m\u001b[43m,\u001b[49m\u001b[43m \u001b[49m\u001b[43m{\u001b[49m\u001b[38;5;124;43m\"\u001b[39;49m\u001b[38;5;124;43murl\u001b[39;49m\u001b[38;5;124;43m\"\u001b[39;49m\u001b[43m:\u001b[49m\u001b[43m \u001b[49m\u001b[43murl\u001b[49m\u001b[43m}\u001b[49m\u001b[43m)\u001b[49m\n",
      "File \u001b[1;32mc:\\Users\\nguye\\AppData\\Local\\Programs\\Python\\Python310\\lib\\site-packages\\selenium\\webdriver\\remote\\webdriver.py:438\u001b[0m, in \u001b[0;36mWebDriver.execute\u001b[1;34m(self, driver_command, params)\u001b[0m\n\u001b[0;32m    435\u001b[0m     \u001b[38;5;28;01melif\u001b[39;00m \u001b[38;5;124m\"\u001b[39m\u001b[38;5;124msessionId\u001b[39m\u001b[38;5;124m\"\u001b[39m \u001b[38;5;129;01mnot\u001b[39;00m \u001b[38;5;129;01min\u001b[39;00m params:\n\u001b[0;32m    436\u001b[0m         params[\u001b[38;5;124m\"\u001b[39m\u001b[38;5;124msessionId\u001b[39m\u001b[38;5;124m\"\u001b[39m] \u001b[38;5;241m=\u001b[39m \u001b[38;5;28mself\u001b[39m\u001b[38;5;241m.\u001b[39msession_id\n\u001b[1;32m--> 438\u001b[0m response \u001b[38;5;241m=\u001b[39m \u001b[38;5;28;43mself\u001b[39;49m\u001b[38;5;241;43m.\u001b[39;49m\u001b[43mcommand_executor\u001b[49m\u001b[38;5;241;43m.\u001b[39;49m\u001b[43mexecute\u001b[49m\u001b[43m(\u001b[49m\u001b[43mdriver_command\u001b[49m\u001b[43m,\u001b[49m\u001b[43m \u001b[49m\u001b[43mparams\u001b[49m\u001b[43m)\u001b[49m\n\u001b[0;32m    439\u001b[0m \u001b[38;5;28;01mif\u001b[39;00m response:\n\u001b[0;32m    440\u001b[0m     \u001b[38;5;28mself\u001b[39m\u001b[38;5;241m.\u001b[39merror_handler\u001b[38;5;241m.\u001b[39mcheck_response(response)\n",
      "File \u001b[1;32mc:\\Users\\nguye\\AppData\\Local\\Programs\\Python\\Python310\\lib\\site-packages\\selenium\\webdriver\\remote\\remote_connection.py:290\u001b[0m, in \u001b[0;36mRemoteConnection.execute\u001b[1;34m(self, command, params)\u001b[0m\n\u001b[0;32m    288\u001b[0m data \u001b[38;5;241m=\u001b[39m utils\u001b[38;5;241m.\u001b[39mdump_json(params)\n\u001b[0;32m    289\u001b[0m url \u001b[38;5;241m=\u001b[39m \u001b[38;5;124mf\u001b[39m\u001b[38;5;124m\"\u001b[39m\u001b[38;5;132;01m{\u001b[39;00m\u001b[38;5;28mself\u001b[39m\u001b[38;5;241m.\u001b[39m_url\u001b[38;5;132;01m}\u001b[39;00m\u001b[38;5;132;01m{\u001b[39;00mpath\u001b[38;5;132;01m}\u001b[39;00m\u001b[38;5;124m\"\u001b[39m\n\u001b[1;32m--> 290\u001b[0m \u001b[38;5;28;01mreturn\u001b[39;00m \u001b[38;5;28;43mself\u001b[39;49m\u001b[38;5;241;43m.\u001b[39;49m\u001b[43m_request\u001b[49m\u001b[43m(\u001b[49m\u001b[43mcommand_info\u001b[49m\u001b[43m[\u001b[49m\u001b[38;5;241;43m0\u001b[39;49m\u001b[43m]\u001b[49m\u001b[43m,\u001b[49m\u001b[43m \u001b[49m\u001b[43murl\u001b[49m\u001b[43m,\u001b[49m\u001b[43m \u001b[49m\u001b[43mbody\u001b[49m\u001b[38;5;241;43m=\u001b[39;49m\u001b[43mdata\u001b[49m\u001b[43m)\u001b[49m\n",
      "File \u001b[1;32mc:\\Users\\nguye\\AppData\\Local\\Programs\\Python\\Python310\\lib\\site-packages\\selenium\\webdriver\\remote\\remote_connection.py:311\u001b[0m, in \u001b[0;36mRemoteConnection._request\u001b[1;34m(self, method, url, body)\u001b[0m\n\u001b[0;32m    308\u001b[0m     body \u001b[38;5;241m=\u001b[39m \u001b[38;5;28;01mNone\u001b[39;00m\n\u001b[0;32m    310\u001b[0m \u001b[38;5;28;01mif\u001b[39;00m \u001b[38;5;28mself\u001b[39m\u001b[38;5;241m.\u001b[39mkeep_alive:\n\u001b[1;32m--> 311\u001b[0m     response \u001b[38;5;241m=\u001b[39m \u001b[38;5;28;43mself\u001b[39;49m\u001b[38;5;241;43m.\u001b[39;49m\u001b[43m_conn\u001b[49m\u001b[38;5;241;43m.\u001b[39;49m\u001b[43mrequest\u001b[49m\u001b[43m(\u001b[49m\u001b[43mmethod\u001b[49m\u001b[43m,\u001b[49m\u001b[43m \u001b[49m\u001b[43murl\u001b[49m\u001b[43m,\u001b[49m\u001b[43m \u001b[49m\u001b[43mbody\u001b[49m\u001b[38;5;241;43m=\u001b[39;49m\u001b[43mbody\u001b[49m\u001b[43m,\u001b[49m\u001b[43m \u001b[49m\u001b[43mheaders\u001b[49m\u001b[38;5;241;43m=\u001b[39;49m\u001b[43mheaders\u001b[49m\u001b[43m)\u001b[49m\n\u001b[0;32m    312\u001b[0m     statuscode \u001b[38;5;241m=\u001b[39m response\u001b[38;5;241m.\u001b[39mstatus\n\u001b[0;32m    313\u001b[0m \u001b[38;5;28;01melse\u001b[39;00m:\n",
      "File \u001b[1;32m~\\AppData\\Roaming\\Python\\Python310\\site-packages\\urllib3\\request.py:78\u001b[0m, in \u001b[0;36mRequestMethods.request\u001b[1;34m(self, method, url, fields, headers, **urlopen_kw)\u001b[0m\n\u001b[0;32m     74\u001b[0m     \u001b[38;5;28;01mreturn\u001b[39;00m \u001b[38;5;28mself\u001b[39m\u001b[38;5;241m.\u001b[39mrequest_encode_url(\n\u001b[0;32m     75\u001b[0m         method, url, fields\u001b[38;5;241m=\u001b[39mfields, headers\u001b[38;5;241m=\u001b[39mheaders, \u001b[38;5;241m*\u001b[39m\u001b[38;5;241m*\u001b[39murlopen_kw\n\u001b[0;32m     76\u001b[0m     )\n\u001b[0;32m     77\u001b[0m \u001b[38;5;28;01melse\u001b[39;00m:\n\u001b[1;32m---> 78\u001b[0m     \u001b[38;5;28;01mreturn\u001b[39;00m \u001b[38;5;28mself\u001b[39m\u001b[38;5;241m.\u001b[39mrequest_encode_body(\n\u001b[0;32m     79\u001b[0m         method, url, fields\u001b[38;5;241m=\u001b[39mfields, headers\u001b[38;5;241m=\u001b[39mheaders, \u001b[38;5;241m*\u001b[39m\u001b[38;5;241m*\u001b[39murlopen_kw\n\u001b[0;32m     80\u001b[0m     )\n",
      "File \u001b[1;32m~\\AppData\\Roaming\\Python\\Python310\\site-packages\\urllib3\\request.py:170\u001b[0m, in \u001b[0;36mRequestMethods.request_encode_body\u001b[1;34m(self, method, url, fields, headers, encode_multipart, multipart_boundary, **urlopen_kw)\u001b[0m\n\u001b[0;32m    167\u001b[0m extra_kw[\u001b[38;5;124m\"\u001b[39m\u001b[38;5;124mheaders\u001b[39m\u001b[38;5;124m\"\u001b[39m]\u001b[38;5;241m.\u001b[39mupdate(headers)\n\u001b[0;32m    168\u001b[0m extra_kw\u001b[38;5;241m.\u001b[39mupdate(urlopen_kw)\n\u001b[1;32m--> 170\u001b[0m \u001b[38;5;28;01mreturn\u001b[39;00m \u001b[38;5;28mself\u001b[39m\u001b[38;5;241m.\u001b[39murlopen(method, url, \u001b[38;5;241m*\u001b[39m\u001b[38;5;241m*\u001b[39mextra_kw)\n",
      "File \u001b[1;32m~\\AppData\\Roaming\\Python\\Python310\\site-packages\\urllib3\\poolmanager.py:376\u001b[0m, in \u001b[0;36mPoolManager.urlopen\u001b[1;34m(self, method, url, redirect, **kw)\u001b[0m\n\u001b[0;32m    374\u001b[0m     response \u001b[38;5;241m=\u001b[39m conn\u001b[38;5;241m.\u001b[39murlopen(method, url, \u001b[38;5;241m*\u001b[39m\u001b[38;5;241m*\u001b[39mkw)\n\u001b[0;32m    375\u001b[0m \u001b[38;5;28;01melse\u001b[39;00m:\n\u001b[1;32m--> 376\u001b[0m     response \u001b[38;5;241m=\u001b[39m conn\u001b[38;5;241m.\u001b[39murlopen(method, u\u001b[38;5;241m.\u001b[39mrequest_uri, \u001b[38;5;241m*\u001b[39m\u001b[38;5;241m*\u001b[39mkw)\n\u001b[0;32m    378\u001b[0m redirect_location \u001b[38;5;241m=\u001b[39m redirect \u001b[38;5;129;01mand\u001b[39;00m response\u001b[38;5;241m.\u001b[39mget_redirect_location()\n\u001b[0;32m    379\u001b[0m \u001b[38;5;28;01mif\u001b[39;00m \u001b[38;5;129;01mnot\u001b[39;00m redirect_location:\n",
      "File \u001b[1;32m~\\AppData\\Roaming\\Python\\Python310\\site-packages\\urllib3\\connectionpool.py:703\u001b[0m, in \u001b[0;36mHTTPConnectionPool.urlopen\u001b[1;34m(self, method, url, body, headers, retries, redirect, assert_same_host, timeout, pool_timeout, release_conn, chunked, body_pos, **response_kw)\u001b[0m\n\u001b[0;32m    700\u001b[0m     \u001b[38;5;28mself\u001b[39m\u001b[38;5;241m.\u001b[39m_prepare_proxy(conn)\n\u001b[0;32m    702\u001b[0m \u001b[38;5;66;03m# Make the request on the httplib connection object.\u001b[39;00m\n\u001b[1;32m--> 703\u001b[0m httplib_response \u001b[38;5;241m=\u001b[39m \u001b[38;5;28;43mself\u001b[39;49m\u001b[38;5;241;43m.\u001b[39;49m\u001b[43m_make_request\u001b[49m\u001b[43m(\u001b[49m\n\u001b[0;32m    704\u001b[0m \u001b[43m    \u001b[49m\u001b[43mconn\u001b[49m\u001b[43m,\u001b[49m\n\u001b[0;32m    705\u001b[0m \u001b[43m    \u001b[49m\u001b[43mmethod\u001b[49m\u001b[43m,\u001b[49m\n\u001b[0;32m    706\u001b[0m \u001b[43m    \u001b[49m\u001b[43murl\u001b[49m\u001b[43m,\u001b[49m\n\u001b[0;32m    707\u001b[0m \u001b[43m    \u001b[49m\u001b[43mtimeout\u001b[49m\u001b[38;5;241;43m=\u001b[39;49m\u001b[43mtimeout_obj\u001b[49m\u001b[43m,\u001b[49m\n\u001b[0;32m    708\u001b[0m \u001b[43m    \u001b[49m\u001b[43mbody\u001b[49m\u001b[38;5;241;43m=\u001b[39;49m\u001b[43mbody\u001b[49m\u001b[43m,\u001b[49m\n\u001b[0;32m    709\u001b[0m \u001b[43m    \u001b[49m\u001b[43mheaders\u001b[49m\u001b[38;5;241;43m=\u001b[39;49m\u001b[43mheaders\u001b[49m\u001b[43m,\u001b[49m\n\u001b[0;32m    710\u001b[0m \u001b[43m    \u001b[49m\u001b[43mchunked\u001b[49m\u001b[38;5;241;43m=\u001b[39;49m\u001b[43mchunked\u001b[49m\u001b[43m,\u001b[49m\n\u001b[0;32m    711\u001b[0m \u001b[43m\u001b[49m\u001b[43m)\u001b[49m\n\u001b[0;32m    713\u001b[0m \u001b[38;5;66;03m# If we're going to release the connection in ``finally:``, then\u001b[39;00m\n\u001b[0;32m    714\u001b[0m \u001b[38;5;66;03m# the response doesn't need to know about the connection. Otherwise\u001b[39;00m\n\u001b[0;32m    715\u001b[0m \u001b[38;5;66;03m# it will also try to release it and we'll have a double-release\u001b[39;00m\n\u001b[0;32m    716\u001b[0m \u001b[38;5;66;03m# mess.\u001b[39;00m\n\u001b[0;32m    717\u001b[0m response_conn \u001b[38;5;241m=\u001b[39m conn \u001b[38;5;28;01mif\u001b[39;00m \u001b[38;5;129;01mnot\u001b[39;00m release_conn \u001b[38;5;28;01melse\u001b[39;00m \u001b[38;5;28;01mNone\u001b[39;00m\n",
      "File \u001b[1;32m~\\AppData\\Roaming\\Python\\Python310\\site-packages\\urllib3\\connectionpool.py:449\u001b[0m, in \u001b[0;36mHTTPConnectionPool._make_request\u001b[1;34m(self, conn, method, url, timeout, chunked, **httplib_request_kw)\u001b[0m\n\u001b[0;32m    444\u001b[0m             httplib_response \u001b[38;5;241m=\u001b[39m conn\u001b[38;5;241m.\u001b[39mgetresponse()\n\u001b[0;32m    445\u001b[0m         \u001b[38;5;28;01mexcept\u001b[39;00m \u001b[38;5;167;01mBaseException\u001b[39;00m \u001b[38;5;28;01mas\u001b[39;00m e:\n\u001b[0;32m    446\u001b[0m             \u001b[38;5;66;03m# Remove the TypeError from the exception chain in\u001b[39;00m\n\u001b[0;32m    447\u001b[0m             \u001b[38;5;66;03m# Python 3 (including for exceptions like SystemExit).\u001b[39;00m\n\u001b[0;32m    448\u001b[0m             \u001b[38;5;66;03m# Otherwise it looks like a bug in the code.\u001b[39;00m\n\u001b[1;32m--> 449\u001b[0m             \u001b[43msix\u001b[49m\u001b[38;5;241;43m.\u001b[39;49m\u001b[43mraise_from\u001b[49m\u001b[43m(\u001b[49m\u001b[43me\u001b[49m\u001b[43m,\u001b[49m\u001b[43m \u001b[49m\u001b[38;5;28;43;01mNone\u001b[39;49;00m\u001b[43m)\u001b[49m\n\u001b[0;32m    450\u001b[0m \u001b[38;5;28;01mexcept\u001b[39;00m (SocketTimeout, BaseSSLError, SocketError) \u001b[38;5;28;01mas\u001b[39;00m e:\n\u001b[0;32m    451\u001b[0m     \u001b[38;5;28mself\u001b[39m\u001b[38;5;241m.\u001b[39m_raise_timeout(err\u001b[38;5;241m=\u001b[39me, url\u001b[38;5;241m=\u001b[39murl, timeout_value\u001b[38;5;241m=\u001b[39mread_timeout)\n",
      "File \u001b[1;32m<string>:3\u001b[0m, in \u001b[0;36mraise_from\u001b[1;34m(value, from_value)\u001b[0m\n",
      "File \u001b[1;32m~\\AppData\\Roaming\\Python\\Python310\\site-packages\\urllib3\\connectionpool.py:444\u001b[0m, in \u001b[0;36mHTTPConnectionPool._make_request\u001b[1;34m(self, conn, method, url, timeout, chunked, **httplib_request_kw)\u001b[0m\n\u001b[0;32m    441\u001b[0m \u001b[38;5;28;01mexcept\u001b[39;00m \u001b[38;5;167;01mTypeError\u001b[39;00m:\n\u001b[0;32m    442\u001b[0m     \u001b[38;5;66;03m# Python 3\u001b[39;00m\n\u001b[0;32m    443\u001b[0m     \u001b[38;5;28;01mtry\u001b[39;00m:\n\u001b[1;32m--> 444\u001b[0m         httplib_response \u001b[38;5;241m=\u001b[39m \u001b[43mconn\u001b[49m\u001b[38;5;241;43m.\u001b[39;49m\u001b[43mgetresponse\u001b[49m\u001b[43m(\u001b[49m\u001b[43m)\u001b[49m\n\u001b[0;32m    445\u001b[0m     \u001b[38;5;28;01mexcept\u001b[39;00m \u001b[38;5;167;01mBaseException\u001b[39;00m \u001b[38;5;28;01mas\u001b[39;00m e:\n\u001b[0;32m    446\u001b[0m         \u001b[38;5;66;03m# Remove the TypeError from the exception chain in\u001b[39;00m\n\u001b[0;32m    447\u001b[0m         \u001b[38;5;66;03m# Python 3 (including for exceptions like SystemExit).\u001b[39;00m\n\u001b[0;32m    448\u001b[0m         \u001b[38;5;66;03m# Otherwise it looks like a bug in the code.\u001b[39;00m\n\u001b[0;32m    449\u001b[0m         six\u001b[38;5;241m.\u001b[39mraise_from(e, \u001b[38;5;28;01mNone\u001b[39;00m)\n",
      "File \u001b[1;32mc:\\Users\\nguye\\AppData\\Local\\Programs\\Python\\Python310\\lib\\http\\client.py:1374\u001b[0m, in \u001b[0;36mHTTPConnection.getresponse\u001b[1;34m(self)\u001b[0m\n\u001b[0;32m   1372\u001b[0m \u001b[38;5;28;01mtry\u001b[39;00m:\n\u001b[0;32m   1373\u001b[0m     \u001b[38;5;28;01mtry\u001b[39;00m:\n\u001b[1;32m-> 1374\u001b[0m         \u001b[43mresponse\u001b[49m\u001b[38;5;241;43m.\u001b[39;49m\u001b[43mbegin\u001b[49m\u001b[43m(\u001b[49m\u001b[43m)\u001b[49m\n\u001b[0;32m   1375\u001b[0m     \u001b[38;5;28;01mexcept\u001b[39;00m \u001b[38;5;167;01mConnectionError\u001b[39;00m:\n\u001b[0;32m   1376\u001b[0m         \u001b[38;5;28mself\u001b[39m\u001b[38;5;241m.\u001b[39mclose()\n",
      "File \u001b[1;32mc:\\Users\\nguye\\AppData\\Local\\Programs\\Python\\Python310\\lib\\http\\client.py:318\u001b[0m, in \u001b[0;36mHTTPResponse.begin\u001b[1;34m(self)\u001b[0m\n\u001b[0;32m    316\u001b[0m \u001b[38;5;66;03m# read until we get a non-100 response\u001b[39;00m\n\u001b[0;32m    317\u001b[0m \u001b[38;5;28;01mwhile\u001b[39;00m \u001b[38;5;28;01mTrue\u001b[39;00m:\n\u001b[1;32m--> 318\u001b[0m     version, status, reason \u001b[38;5;241m=\u001b[39m \u001b[38;5;28;43mself\u001b[39;49m\u001b[38;5;241;43m.\u001b[39;49m\u001b[43m_read_status\u001b[49m\u001b[43m(\u001b[49m\u001b[43m)\u001b[49m\n\u001b[0;32m    319\u001b[0m     \u001b[38;5;28;01mif\u001b[39;00m status \u001b[38;5;241m!=\u001b[39m CONTINUE:\n\u001b[0;32m    320\u001b[0m         \u001b[38;5;28;01mbreak\u001b[39;00m\n",
      "File \u001b[1;32mc:\\Users\\nguye\\AppData\\Local\\Programs\\Python\\Python310\\lib\\http\\client.py:279\u001b[0m, in \u001b[0;36mHTTPResponse._read_status\u001b[1;34m(self)\u001b[0m\n\u001b[0;32m    278\u001b[0m \u001b[38;5;28;01mdef\u001b[39;00m \u001b[38;5;21m_read_status\u001b[39m(\u001b[38;5;28mself\u001b[39m):\n\u001b[1;32m--> 279\u001b[0m     line \u001b[38;5;241m=\u001b[39m \u001b[38;5;28mstr\u001b[39m(\u001b[38;5;28;43mself\u001b[39;49m\u001b[38;5;241;43m.\u001b[39;49m\u001b[43mfp\u001b[49m\u001b[38;5;241;43m.\u001b[39;49m\u001b[43mreadline\u001b[49m\u001b[43m(\u001b[49m\u001b[43m_MAXLINE\u001b[49m\u001b[43m \u001b[49m\u001b[38;5;241;43m+\u001b[39;49m\u001b[43m \u001b[49m\u001b[38;5;241;43m1\u001b[39;49m\u001b[43m)\u001b[49m, \u001b[38;5;124m\"\u001b[39m\u001b[38;5;124miso-8859-1\u001b[39m\u001b[38;5;124m\"\u001b[39m)\n\u001b[0;32m    280\u001b[0m     \u001b[38;5;28;01mif\u001b[39;00m \u001b[38;5;28mlen\u001b[39m(line) \u001b[38;5;241m>\u001b[39m _MAXLINE:\n\u001b[0;32m    281\u001b[0m         \u001b[38;5;28;01mraise\u001b[39;00m LineTooLong(\u001b[38;5;124m\"\u001b[39m\u001b[38;5;124mstatus line\u001b[39m\u001b[38;5;124m\"\u001b[39m)\n",
      "File \u001b[1;32mc:\\Users\\nguye\\AppData\\Local\\Programs\\Python\\Python310\\lib\\socket.py:705\u001b[0m, in \u001b[0;36mSocketIO.readinto\u001b[1;34m(self, b)\u001b[0m\n\u001b[0;32m    703\u001b[0m \u001b[38;5;28;01mwhile\u001b[39;00m \u001b[38;5;28;01mTrue\u001b[39;00m:\n\u001b[0;32m    704\u001b[0m     \u001b[38;5;28;01mtry\u001b[39;00m:\n\u001b[1;32m--> 705\u001b[0m         \u001b[38;5;28;01mreturn\u001b[39;00m \u001b[38;5;28;43mself\u001b[39;49m\u001b[38;5;241;43m.\u001b[39;49m\u001b[43m_sock\u001b[49m\u001b[38;5;241;43m.\u001b[39;49m\u001b[43mrecv_into\u001b[49m\u001b[43m(\u001b[49m\u001b[43mb\u001b[49m\u001b[43m)\u001b[49m\n\u001b[0;32m    706\u001b[0m     \u001b[38;5;28;01mexcept\u001b[39;00m timeout:\n\u001b[0;32m    707\u001b[0m         \u001b[38;5;28mself\u001b[39m\u001b[38;5;241m.\u001b[39m_timeout_occurred \u001b[38;5;241m=\u001b[39m \u001b[38;5;28;01mTrue\u001b[39;00m\n",
      "\u001b[1;31mKeyboardInterrupt\u001b[0m: "
     ]
    }
   ],
   "source": [
    "df_link_ip15pm = pd.read_csv('../../Data/TinhTe/TinhTe_Iphone15pm_InfoPosts2.csv')\n",
    "df_ip15 = main_func(df_link_ip15pm,1,20)\n",
    "save_path = \"../../Data/TinhTe/TinhTe_Iphone15pm_Comments.csv\"\n",
    "df_ip15.to_csv(save_path,index=False)\n",
    "winsound.Beep(freq,duration)"
   ]
  },
  {
   "cell_type": "markdown",
   "metadata": {},
   "source": [
    "##### Get comments for posts on the Samsung S23 Ultra."
   ]
  },
  {
   "cell_type": "code",
   "execution_count": null,
   "metadata": {},
   "outputs": [
    {
     "name": "stdout",
     "output_type": "stream",
     "text": [
      "Crawling page: https://tinhte.vn/thread/tren-tay-samsung-galaxy-s23-ultra-minh-da-bi-lua.3629326/\n",
      "Crawling page: https://tinhte.vn/thread/tren-tay-samsung-galaxy-s23-ultra-minh-da-bi-lua.3629326//page-2\n",
      "Crawling page: https://tinhte.vn/thread/tren-tay-samsung-galaxy-s23-ultra-minh-da-bi-lua.3629326//page-3\n",
      "Crawling page: https://tinhte.vn/thread/tren-tay-samsung-galaxy-s23-ultra-minh-da-bi-lua.3629326//page-4\n",
      "Crawling page: https://tinhte.vn/thread/tren-tay-samsung-galaxy-s23-ultra-minh-da-bi-lua.3629326//page-5\n",
      "Crawling page: https://tinhte.vn/thread/tren-tay-samsung-galaxy-s23-ultra-minh-da-bi-lua.3629326//page-6\n",
      "Crawling page: https://tinhte.vn/thread/tren-tay-samsung-galaxy-s23-ultra-minh-da-bi-lua.3629326//page-7\n",
      "Crawling page: https://tinhte.vn/thread/tren-tay-samsung-galaxy-s23-ultra-minh-da-bi-lua.3629326//page-8\n",
      "Crawling page: https://tinhte.vn/thread/tren-tay-samsung-galaxy-s23-ultra-minh-da-bi-lua.3629326//page-9\n",
      "Crawling page: https://tinhte.vn/thread/tren-tay-samsung-galaxy-s23-ultra-minh-da-bi-lua.3629326//page-10\n",
      "Crawling page: https://tinhte.vn/thread/tren-tay-samsung-galaxy-s23-ultra-minh-da-bi-lua.3629326//page-11\n",
      "Crawling page: https://tinhte.vn/thread/moi-nguoi-danh-gia-sao-ve-samsung-s23-ultra-8gb-ram.3640898/\n",
      "Crawling page: https://tinhte.vn/thread/moi-nguoi-danh-gia-sao-ve-samsung-s23-ultra-8gb-ram.3640898//page-2\n",
      "Crawling page: https://tinhte.vn/thread/galaxy-s23-ultra-co-bui-trong-camera-va-samsung-tra-loi-do-la-dieu-binh-thuong.3639395/\n",
      "Crawling page: https://tinhte.vn/thread/galaxy-s23-ultra-co-bui-trong-camera-va-samsung-tra-loi-do-la-dieu-binh-thuong.3639395//page-2\n",
      "Crawling page: https://tinhte.vn/thread/galaxy-s23-ultra-co-bui-trong-camera-va-samsung-tra-loi-do-la-dieu-binh-thuong.3639395//page-3\n",
      "Crawling page: https://tinhte.vn/thread/galaxy-s23-ultra-co-bui-trong-camera-va-samsung-tra-loi-do-la-dieu-binh-thuong.3639395//page-4\n",
      "Crawling page: https://tinhte.vn/thread/galaxy-s23-ultra-co-bui-trong-camera-va-samsung-tra-loi-do-la-dieu-binh-thuong.3639395//page-5\n",
      "Crawling page: https://tinhte.vn/thread/galaxy-s23-ultra-co-bui-trong-camera-va-samsung-tra-loi-do-la-dieu-binh-thuong.3639395//page-6\n",
      "Crawling page: https://tinhte.vn/thread/galaxy-s23-ultra-co-bui-trong-camera-va-samsung-tra-loi-do-la-dieu-binh-thuong.3639395//page-7\n",
      "Crawling page: https://tinhte.vn/thread/galaxy-s23-ultra-co-bui-trong-camera-va-samsung-tra-loi-do-la-dieu-binh-thuong.3639395//page-8\n",
      "Crawling page: https://tinhte.vn/thread/galaxy-s23-ultra-co-bui-trong-camera-va-samsung-tra-loi-do-la-dieu-binh-thuong.3639395//page-9\n"
     ]
    }
   ],
   "source": [
    "df_link_sss23u = pd.read_csv('./TinhTe_SamsungS23u_InfoPosts.csv')\n",
    "df_ss23u = main_func(df_link_sss23u,1,100)\n",
    "save_path = \"../../Data/TinhTe/TinhTe_SamsungS23u_Comments.csv\"\n",
    "df_ss23u.to_csv(save_path, index=False)\n",
    "winsound.Beep(freq,duration)"
   ]
  }
 ],
 "metadata": {
  "kernelspec": {
   "display_name": "Python 3",
   "language": "python",
   "name": "python3"
  },
  "language_info": {
   "codemirror_mode": {
    "name": "ipython",
    "version": 3
   },
   "file_extension": ".py",
   "mimetype": "text/x-python",
   "name": "python",
   "nbconvert_exporter": "python",
   "pygments_lexer": "ipython3",
   "version": "3.10.8"
  }
 },
 "nbformat": 4,
 "nbformat_minor": 2
}
