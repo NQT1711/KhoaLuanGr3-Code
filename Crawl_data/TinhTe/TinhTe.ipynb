{
 "cells": [
  {
   "cell_type": "code",
   "execution_count": 7,
   "metadata": {},
   "outputs": [],
   "source": [
    "import pandas as pd \n",
    "from bs4 import BeautifulSoup\n",
    "import requests\n",
    "from selenium import webdriver\n",
    "\n",
    "from selenium.webdriver.common.by import By\n",
    "import time\n",
    "import random\n",
    "from selenium.webdriver.chrome.service import Service\n",
    "from selenium.webdriver.support.ui import WebDriverWait\n",
    "from selenium.webdriver.support import expected_conditions as EC\n",
    "from selenium.webdriver.common.keys import Keys\n",
    "\n",
    "import sys\n",
    "sys.path.insert(0,\"..\")\n",
    "from data_classes.funcs import DataSaver\n",
    "import selenium \n"
   ]
  },
  {
   "cell_type": "code",
   "execution_count": 225,
   "metadata": {},
   "outputs": [],
   "source": [
    "import winsound\n",
    "duration = 1000  # milliseconds\n",
    "freq = 440  # Hz\n",
    "winsound.Beep(freq, duration)"
   ]
  },
  {
   "cell_type": "code",
   "execution_count": 126,
   "metadata": {},
   "outputs": [],
   "source": [
    "# Mở trình duyệt Google Chrome\n",
    "options = webdriver.ChromeOptions()\n",
    "options.add_argument('--ignore-certificate-errors')\n",
    "options.add_argument('--incognito') # Tab ẩn danh\n",
    "options.add_argument(\"--start-maximized\") # Full window\n",
    "# options.add_argument('headless') # Không hiển thị chrome\n",
    "s = Service('../chromedriver.exe')\n",
    "\n",
    "# user_agents =  [ \n",
    "# \t\"Mozilla/5.0 (Windows NT 10.0; Win64; x64) AppleWebKit/537.36 (KHTML, like Gecko) Chrome/108.0.0.0 Safari/537.36\", \n",
    "# \t\"Mozilla/5.0 (Windows NT 10.0; Win64; x64) AppleWebKit/537.36 (KHTML, like Gecko) Chrome/107.0.0.0 Safari/537.36\",\n",
    "#     \"Mozilla/5.0 (Windows NT 10.0; Win64; x64) AppleWebKit/537.36 (KHTML, like Gecko) Chrome/91.0.4472.124 Safari/537.36\",\n",
    "# ] \n",
    "user_agents = [\n",
    "    \"Mozilla/5.0 (Windows NT 10.0; Win64; x64) AppleWebKit/537.36 (KHTML, like Gecko) Chrome/58.0.3029.110 Safari/537.3\",\n",
    "    \"Mozilla/5.0 (Windows NT 10.0; Win64; x64; rv:54.0) Gecko/20100101 Firefox/54.0\",\n",
    "    \"Mozilla/5.0 (Macintosh; Intel Mac OS X 10_12_6) AppleWebKit/537.36 (KHTML, like Gecko) Safari/537.36\",\n",
    "    \"Mozilla/5.0 (Windows NT 10.0; Win64; x64) AppleWebKit/537.36 (KHTML, like Gecko) Edge/16.16299\",\n",
    "    \"Mozilla/5.0 (Windows NT 6.1; WOW64) AppleWebKit/537.36 (KHTML, like Gecko) Chrome/57.0.2987.133 Safari/537.3\",\n",
    "    \"Mozilla/5.0 (Windows NT 6.1; Win64; x64) AppleWebKit/537.36 (KHTML, like Gecko) Chrome/64.0.3282.140 Safari/537.36 Edge/17.17134\",\n",
    "    \"Mozilla/5.0 (X11; Linux x86_64) AppleWebKit/537.36 (KHTML, like Gecko) Chrome/64.0.3282.140 Safari/537.36 Edge/17.17134\",\n",
    "    \"Mozilla/5.0 (Windows NT 10.0; WOW64) AppleWebKit/537.36 (KHTML, like Gecko) Chrome/65.0.3325.181 Safari/537.36\",\n",
    "    \"Mozilla/5.0 (Windows NT 6.1; WOW64; rv:54.0) Gecko/20100101 Firefox/54.0\",\n",
    "    \"Mozilla/5.0 (Windows NT 6.1; Win64; x64) AppleWebKit/537.36 (KHTML, like Gecko) Chrome/74.0.3729.169 Safari/537.36\"\n",
    "]\n",
    "\n",
    "def get_random_proxy():\n",
    "    proxies = [\n",
    "        {\"http\": \"http://123.30.154.171:7777\", \"https\": \"http://123.30.154.171:7777\"},\n",
    "        {\"http\": \"http://165.154.186.232:80\", \"https\": \"http://165.154.186.232:80\"},\n",
    "        {\"http\": \"http://113.161.131.43:80\", \"https\": \"http://113.161.131.43:80\"},\n",
    "        {\"http\": \"http://117.4.50.142:32650\", \"https\": \"http://117.4.50.142:32650\"},\n",
    "    ]\n",
    "    return random.choice(proxies)\n",
    "# options.add_argument(f'--proxy-server={get_random_proxy()[\"http\"]}')\n",
    "options.add_argument(f'user-agent={random.choice(user_agents)}')\n"
   ]
  },
  {
   "cell_type": "markdown",
   "metadata": {},
   "source": [
    "#### Get Url PosT - (BOT)"
   ]
  },
  {
   "cell_type": "code",
   "execution_count": 123,
   "metadata": {},
   "outputs": [],
   "source": [
    "def get_url_post(keyword):\n",
    "    url_page = 'https://tinhte.vn/'\n",
    "    driver = webdriver.Chrome(service=s, options=options)\n",
    "    driver.get(url_page)\n",
    "    element= WebDriverWait(driver, 30).until(EC.presence_of_element_located((By.XPATH, '//*[@id=\"gsc-i-id1\"]')))\n",
    "    time.sleep(random.randint(2,4))\n",
    "\n",
    "    # Sending searchword into Input Box/ Inputing search word into box\n",
    "    box = driver.find_element(By.XPATH,'//*[@id=\"gsc-i-id1\"]')\n",
    "    box.send_keys(keyword)\n",
    "    time.sleep(random.randint(2,4))\n",
    "    box.send_keys(Keys.ENTER)\n",
    "    print(f'Crawling posts related to {keyword}')\n",
    "    \n",
    "    df_link=[]\n",
    "    index = 1\n",
    "\n",
    "    while index<10:    \n",
    "        print(f'Crawling Page {index} of {keyword}')\n",
    "        driver.find_element(By.XPATH,'//*[@id=\"___gcse_0\"]/div/div/div[1]/div[6]')\n",
    "        soup=BeautifulSoup(driver.page_source,'html.parser')\n",
    "        \n",
    "        soup2 = soup.select('div[class=\"gs-title\"]')\n",
    "        time.sleep(random.randint(3,7))\n",
    "        for item in range(len(soup2)-1):\n",
    "            i2 = soup2[item].find('a').get('href')\n",
    "            df_link.append(i2)\n",
    "            print(i2)\n",
    "            time.sleep(random.randint(1,5))\n",
    "\n",
    "        index+=1\n",
    "        xpath = f'//*[@id=\"___gcse_0\"]/div/div/div[1]/div[6]/div[2]/div/div/div[2]/div/div[{index}]'\n",
    "        wait = WebDriverWait(driver, 10) \n",
    "        # element = wait.until(EC.presence_of_element_located((By.CSS_SELECTOR, xpath))).click() \n",
    "        driver.find_element(By.XPATH,xpath).click()\n",
    "\n",
    "    # driver.close()\n",
    "    \n",
    "    return df_link"
   ]
  },
  {
   "cell_type": "code",
   "execution_count": 118,
   "metadata": {},
   "outputs": [],
   "source": [
    "keyword=['Iphone 15 pro max','Samsung S23 Ultra']"
   ]
  },
  {
   "cell_type": "markdown",
   "metadata": {},
   "source": [
    "##### Crawl Iphone 15 Pro Max Link"
   ]
  },
  {
   "cell_type": "code",
   "execution_count": null,
   "metadata": {},
   "outputs": [],
   "source": [
    "df_link1 = get_url_post(keyword[0])\n",
    "\n",
    "\n",
    "df=pd.DataFrame({'Link':df_link1})\n",
    "df.to_csv('TinhTe_Iphone15pm_Link.csv',index=False)"
   ]
  },
  {
   "cell_type": "markdown",
   "metadata": {},
   "source": [
    "##### Crawl Samsung S23 Ultra Link"
   ]
  },
  {
   "cell_type": "code",
   "execution_count": 127,
   "metadata": {},
   "outputs": [
    {
     "name": "stdout",
     "output_type": "stream",
     "text": [
      "Crawling posts related to Samsung S23 Ultra\n",
      "https://tinhte.vn/thread/tren-tay-samsung-galaxy-s23-ultra-minh-da-bi-lua.3629326/\n",
      "https://tinhte.vn/thread/moi-nguoi-danh-gia-sao-ve-samsung-s23-ultra-8gb-ram.3640898/\n",
      "https://tinhte.vn/thread/galaxy-s23-ultra-co-bui-trong-camera-va-samsung-tra-loi-do-la-dieu-binh-thuong.3639395/\n",
      "https://tinhte.vn/thread/camera-cua-samsung-galaxy-s23-ultra-mot-chiec-may-anh-duong-pho-tuyet-voi.3630306/\n",
      "https://tinhte.vn/thread/review-nhanh-samsung-galaxy-s23-ultra-di-tam-man-dep-may-dep-cam-it-loi.3630375/\n",
      "https://tinhte.vn/thread/samsung-s23-ultra-dung-het-bao-hanh-la-bi-loi-man-hinh-dung-hay-sai.3736411/\n",
      "https://tinhte.vn/thread/danh-gia-pin-samsung-galaxy-s23-ultra-on-screen-trung-binh-gan-6-tieng-dung-1-ngay-thoai-mai.3658083/\n",
      "https://tinhte.vn/thread/giua-samsung-s23-ultra-voi-z-fold-4-may-nao-oke-hon.3641925/\n",
      "https://tinhte.vn/thread/test-sac-sieu-nhanh-45w-cho-samsung-galaxy-s23-ultra.3635075/\n",
      "https://tinhte.vn/thread/samsung-s23-ultra-ban-8gb-moi-hay-12-gb-cu.3720263/\n",
      "https://tinhte.vn/thread/s23-ultra-bi-loi-cam-ung-a-cac-bac-tinh-mua-ma-thay-ren-qua.3688293/\n",
      "https://tinhte.vn/thread/gia-samsung-s23-den-s23-ultra-co-bi-ngao-gia.3629429/\n",
      "https://tinhte.vn/thread/co-nen-mua-samsung-s23-ultra-thi-truong-my.3733341/\n",
      "https://tinhte.vn/thread/nen-mua-samsung-s23-ultra-de-choi-game-khong-nhi.3742415/\n",
      "https://tinhte.vn/thread/so-sanh-camera-iphone-15-pro-max-va-samsung-galaxy-s23-ultra.3728276/\n",
      "https://tinhte.vn/thread/samsung-s23-ultra-mau-tim-co-ban-nu-nao-mua-dung-khong.3637274/\n",
      "https://tinhte.vn/thread/galaxy-s23-ultra-nguoi-dung-duoc-loi-gi-sau-viec-samsung-chinh-thuc-tu-bo-exynos.3629443/\n",
      "https://tinhte.vn/thread/mua-samsung-s23-ultra-thi-co-nen-mua-them-samsung-care-khong.3665614/\n",
      "https://tinhte.vn/thread/samsung-s23-ultra-dung-het-bao-hanh-la-bi-loi-man-hinh-dung-hay-sai.3736411/page-2\n",
      "https://tinhte.vn/thread/dung-tam-3-nam-nua-nen-chon-samsung-s23-ultra-hay-iphone-15-pro-max.3754897/\n",
      "https://tinhte.vn/thread/cac-bac-danh-gia-camera-cua-may-samsung-s23-ultra-nhu-nao.3720041/\n",
      "https://tinhte.vn/thread/mua-samsung-s23-ultra-dung-tam-2-3-nam-nua-co-on-khong-moi-nguoi.3735746/\n",
      "https://tinhte.vn/thread/galaxy-s23-ultra-chi-con-22-trieu-dong-smartphone-android-cao-cap-dang-mua.3706032/\n",
      "https://tinhte.vn/thread/cam-nhan-nhanh-ve-galaxy-s23-ultra-tu-nguoi-dung-iphone-14-pro.3645330/\n",
      "https://tinhte.vn/thread/samsung-s23-ultra-co-dang-mua-thoi-diem-nay-khong.3664877/\n",
      "https://tinhte.vn/thread/so-sanh-tong-the-galaxy-s23-ultra-va-iphone-14-pro-max.3637229/\n",
      "https://tinhte.vn/thread/samsung-s23-ultra-dung-het-bao-hanh-la-bi-loi-man-hinh-dung-hay-sai.3736411/page-3\n",
      "https://tinhte.vn/thread/samsung-galaxy-s23-ultra-va-nhung-dieu-ban-can-biet.3629456/\n",
      "https://tinhte.vn/thread/mot-ngay-voi-galaxy-s23-ultra.3652190/\n",
      "https://tinhte.vn/thread/trai-nghiem-choi-game-tren-samsung-galaxy-s23-ultra-hieu-nang-an-tuong-tan-nhiet-on-cam-nam-tot.3633982/\n",
      "https://tinhte.vn/thread/di-choi-chup-hinh-bang-galaxy-s23-ultra-on.3684559/\n",
      "https://tinhte.vn/thread/coc-samsung-s23-ultra-thi-nen-coc-o-web-samsung-hay-cua-hang-ban-le.3630757/\n",
      "https://tinhte.vn/thread/samsung-s23-voi-samsung-s23-ultra-mua-em-nao-hon-va-s23-ultra-co-bi-can-khong-a.3640164/page-3\n",
      "https://tinhte.vn/thread/em-muon-may-samsung-s23-ultra-cua-ban-em-dung-suong-that.3635604/\n",
      "https://tinhte.vn/thread/anh-em-thich-chan-dung-cua-samsung-galaxy-s23-ultra-hay-apple-iphone-14-pro-max.3636594/\n",
      "https://tinhte.vn/thread/moi-anh-em-chon-anh-dep-nhat-tu-iphone-14-pro-mi-13-pro-vivo-x90-pro-va-galaxy-s23-ultra.3632365/\n",
      "https://tinhte.vn/thread/samsung-s23-ultra-ban-8gb-moi-hay-12-gb-cu.3720263/page-2\n",
      "https://tinhte.vn/thread/trai-nghiem-te-khi-mua-s23-ultra-tren-website-samsung.3638799/\n",
      "https://tinhte.vn/thread/samsung-s23-ultra-tam-nay-mua-on-khong-vi-em-thay-sap-ra-s24-ultra-rui.3754027/\n",
      "https://tinhte.vn/thread/mot-vai-cai-dat-minh-thiet-lap-ngay-khi-mua-galaxy-s23-ultra.3640846/\n",
      "https://tinhte.vn/thread/samsung-s23-ultra-mau-huong.3626297/\n",
      "https://tinhte.vn/thread/cong-bo-ket-qua-binh-chon-anh-dep-galaxy-s23-ultra-dung-dau-iphone-14-pro-dung-cuoi.3633781/\n",
      "https://tinhte.vn/thread/mua-samsung-s23-ultra-cu-phai-may-tra-gop-thi-lam-the-nao.3662348/\n",
      "https://tinhte.vn/thread/moi-nguoi-mua-may-samsung-s23-ultra-ve-co-dung-but-nhieu-khong.3676542/\n",
      "https://tinhte.vn/thread/so-sanh-samsung-galaxy-s23-ultra-va-iphone-13-promax.3718908/\n",
      "https://tinhte.vn/tag/galaxy-s23-ultra/\n",
      "https://tinhte.vn/thread/samsung-galaxy-s23-ultra-co-that-su-fake-hinh-anh-khi-chup-mat-trang-hay-khong.3644657/\n",
      "https://tinhte.vn/thread/cac-bac-danh-gia-camera-cua-may-samsung-s23-ultra-nhu-nao.3720041/page-3\n",
      "https://tinhte.vn/thread/dung-mua-samsung-galaxy-s23-ultra-vi-dieu-nay.3631400/\n",
      "https://tinhte.vn/thread/s23-ultra-co-that-su-dang-mua.3652629/\n",
      "https://tinhte.vn/thread/moi-nguoi-thay-camera-cua-samsung-s23-ultra-hon-hay-iphone-14-pro-max-hon.3663065/\n",
      "https://tinhte.vn/thread/samsung-s23-s23-ultra-moi-dep-qua.3616792/\n",
      "https://tinhte.vn/thread/mong-anh-em-tu-van-giup-minh-iphone-15-pro-max-va-samsung-s23-ultra.3719368/\n",
      "https://tinhte.vn/thread/ban-s23-ultra-nam-nay-co-mau-xanh-reu-dep-me-li-qua.3631924/\n",
      "https://tinhte.vn/thread/galaxy-s23-ultra-van-la-dinh-trong-the-gioi-android-dang-thanh.3633783/\n",
      "https://tinhte.vn/thread/gio-mua-samsung-s23-ultra-co-hop-ly-khong.3745389/page-2\n",
      "https://tinhte.vn/thread/samsung-noi-gi-ve-cao-buoc-s23-ultra-fake-hinh-chup-mat-trang.3645400/\n",
      "https://tinhte.vn/thread/tu-iphone-12-pro-max-doi-sang-s23-ultra-co-ok-khong.3720974/\n",
      "https://tinhte.vn/thread/con-gai-nen-mua-samsung-s23-hay-la-samsung-s23-ultra.3748611/page-3\n",
      "https://tinhte.vn/thread/giua-samsung-s23-ultra-voi-z-fold-4-may-nao-oke-hon.3641925/page-2\n",
      "https://tinhte.vn/thread/co-nen-mua-samsung-s23-ultra-thi-truong-my.3733341/page-3\n",
      "https://tinhte.vn/thread/chon-samsung-s23-ultra-hay-z-fold-5-dung-on-hon.3721708/\n",
      "https://tinhte.vn/thread/mua-s23-ultra-thoi-diem-nay-lieu-co-hop-ly.3718870/\n",
      "https://tinhte.vn/thread/samsung-s23-ultra-co-dang-mua-thoi-diem-nay-khong.3664877/page-3\n",
      "https://tinhte.vn/thread/samsung-galaxy-s23-ultra-anh-em-note-fan-con-cho-gi-nua.3640451/\n",
      "https://tinhte.vn/thread/con-gai-nen-mua-samsung-s23-hay-la-samsung-s23-ultra.3748611/page-2\n",
      "https://tinhte.vn/thread/200mp-tren-galaxy-s23-ultra-khi-crop-lai-co-chat-luong-hon-zoom-100x.3635071/\n",
      "https://tinhte.vn/thread/combo-s23-ultra-watch-4-classic-46mm-sac-khong-day-doi-bao-da-smart-view-nay-22-trieu-co.3689514/\n",
      "https://tinhte.vn/thread/moi-nguoi-mua-may-samsung-s23-ultra-ve-co-dung-but-nhieu-khong.3676542/page-2\n",
      "https://tinhte.vn/thread/mua-samsung-s23-ultra-cu-phai-may-tra-gop-thi-lam-the-nao.3662348/page-2\n",
      "https://tinhte.vn/thread/so-sanh-iphone-15-pro-max-va-galaxy-s23-ultra.3715879/\n",
      "https://tinhte.vn/thread/moi-nguoi-mua-may-samsung-s23-ultra-ve-co-dung-but-nhieu-khong.3676542/page-3\n",
      "https://tinhte.vn/thread/test-so-sanh-4-cu-sac-belkin-mophie-cong-suat-30w-65w-67w-voi-samsung-s23-ultra-laptop.3641767/\n",
      "https://tinhte.vn/thread/mua-samsung-s23-ultra-dung-tam-2-3-nam-nua-co-on-khong-moi-nguoi.3735746/page-2\n",
      "https://tinhte.vn/thread/chon-samsung-s23-ultra-hay-z-fold-5-dung-on-hon.3721708/page-3\n",
      "https://tinhte.vn/thread/ket-qua-ttbc23-hang-muc-smartphone-chien-thang-cho-galaxy-s23-ultra-noi-rieng-va-samsung-noi-chung.3746933/\n",
      "https://tinhte.vn/thread/con-gai-nen-mua-samsung-s23-hay-la-samsung-s23-ultra.3748611\n",
      "https://tinhte.vn/thread/samsung-s23-ultra-mau-tim-co-ban-nu-nao-mua-dung-khong.3637274/page-3\n",
      "https://tinhte.vn/thread/nhung-meo-co-the-lam-de-tang-thoi-gian-dung-pin-s23-ultra-cung-nhu-cac-may-galaxy-khac.3656333/\n",
      "https://tinhte.vn/thread/unbox-galaxy-s23-ultra-quay-chup-bang-s23-ultra-ngay-dem-nhan-may.3632363/\n"
     ]
    }
   ],
   "source": [
    "df_link2 = get_url_post(keyword[1])\n",
    "\n",
    "df=pd.DataFrame({'Link':df_link2})\n",
    "df.to_csv('TinhTe_SamsungS23u_Link2.csv',index=False)"
   ]
  },
  {
   "cell_type": "code",
   "execution_count": 129,
   "metadata": {},
   "outputs": [
    {
     "name": "stdout",
     "output_type": "stream",
     "text": [
      "Crawling posts related to ['Iphone 15 pro max', 'Samsung S23 Ultra']\n"
     ]
    }
   ],
   "source": [
    "url_page = 'https://tinhte.vn/'\n",
    "driver = webdriver.Chrome(service=s, options=options)\n",
    "driver.get(url_page)\n",
    "element= WebDriverWait(driver, 30).until(EC.presence_of_element_located((By.XPATH, '//*[@id=\"gsc-i-id1\"]')))\n",
    "time.sleep(random.randint(2,4))\n",
    "\n",
    "# Sending searchword into Input Box/ Inputing search word into box\n",
    "box = driver.find_element(By.XPATH,'//*[@id=\"gsc-i-id1\"]')\n",
    "box.send_keys(keyword)\n",
    "time.sleep(random.randint(2,4))\n",
    "box.send_keys(Keys.ENTER)\n",
    "print(f'Crawling posts related to {keyword}')\n",
    "\n"
   ]
  },
  {
   "cell_type": "code",
   "execution_count": 130,
   "metadata": {},
   "outputs": [],
   "source": [
    "box = driver.find_element(By.XPATH,'//*[@id=\"gsc-i-id1\"]')\n",
    "box.send_keys(keyword[1])\n",
    "time.sleep(random.randint(2,4))\n",
    "box.send_keys(Keys.ENTER)"
   ]
  },
  {
   "cell_type": "code",
   "execution_count": 133,
   "metadata": {},
   "outputs": [
    {
     "name": "stdout",
     "output_type": "stream",
     "text": [
      "https://tinhte.vn/thread/thu-chup-chan-dung-tren-galaxy-s23-ultra-trong-nhieu-dieu-kien-anh-sang-khac-nhau.3630828/\n",
      "https://tinhte.vn/thread/dung-lau-dai-ben-thi-nen-chon-s23-ultra-hay-z-fold-5.3719561/\n",
      "https://tinhte.vn/thread/loa-cua-s23-ultra-se-duoc-nang-cap.3625048/\n",
      "https://tinhte.vn/thread/camera-cua-samsung-galaxy-s23-ultra-mot-chiec-may-anh-duong-pho-tuyet-voi.3630306/page-3\n",
      "https://tinhte.vn/thread/dung-tam-3-nam-nua-nen-chon-samsung-s23-ultra-hay-iphone-15-pro-max.3754897/page-2\n",
      "https://tinhte.vn/thread/samsung-s23-ultra-mau-tim-co-ban-nu-nao-mua-dung-khong.3637274/page-2\n",
      "https://tinhte.vn/thread/review-nhanh-samsung-galaxy-s23-ultra-di-tam-man-dep-may-dep-cam-it-loi.3630375/page-4\n",
      "https://tinhte.vn/thread/minh-dang-tinh-mua-samsung-s22ultra-hoac-s23-plus-thi-nen-lua-chon-may-nao-hon-em-dang-thich-con.3660509/\n",
      "https://tinhte.vn/thread/nen-mua-samsung-s23-ultra-de-choi-game-khong-nhi.3742415/page-3\n",
      "https://tinhte.vn/thread/z-fold-5-hay-s23-ultra-dang-xuong-tien-hon.3720261/\n"
     ]
    }
   ],
   "source": [
    "\n",
    "# xpath = f'//*[@id=\"___gcse_0\"]/div/div/div[1]/div[6]/div[2]/div/div/div[2]/div/div[9]'\n",
    "# wait = WebDriverWait(driver, 10) \n",
    "\n",
    "driver.find_element(By.XPATH,'//*[@id=\"___gcse_0\"]/div/div/div[1]/div[6]')\n",
    "soup=BeautifulSoup(driver.page_source,'html.parser')\n",
    "\n",
    "soup2 = soup.select('div[class=\"gs-title\"]')\n",
    "time.sleep(random.randint(3,7))\n",
    "for item in range(len(soup2)-1):\n",
    "    i2 = soup2[item].find('a').get('href')\n",
    "    df_link2.append(i2)\n",
    "    print(i2)\n",
    "    time.sleep(random.randint(1,5))"
   ]
  },
  {
   "cell_type": "markdown",
   "metadata": {},
   "source": [
    "#### Crawl Post Information"
   ]
  },
  {
   "cell_type": "code",
   "execution_count": 216,
   "metadata": {},
   "outputs": [],
   "source": [
    "def get_content_post(soup):\n",
    "    soup_ct = soup.select_one('article')\n",
    "    soup_ct1 = soup_ct.select('span[class=\"xf-body-paragraph\"]')\n",
    "    content=[]\n",
    "    for child in soup_ct1:\n",
    "        info_div = child.find(\"div\",class_=\"info\")\n",
    "        if info_div:\n",
    "            info_div.extract()\n",
    "        content.append(child.getText(separator='\\n' ,strip=True))\n",
    "    return content\n",
    "\n",
    "def get_info_post(url):\n",
    "    respone = requests.get(url)\n",
    "    list_info =[]\n",
    "    if respone.status_code ==200:\n",
    "        soup = BeautifulSoup(respone.text,'lxml')\n",
    "        tt = soup.select_one('div[class=\"jsx-89440 thread-title\"] > h1')\n",
    "        if tt != None:\n",
    "            title=tt.text\n",
    "            author = soup.select_one('div[class=\"jsx-89440 author-name\"]>a').text\n",
    "            post_date = soup.select_one('div[class=\"jsx-89440 date-comment-view\"]>span[class=\"jsx-89440 date\"]').text\n",
    "            comments_count = soup.select_one('div[class=\"jsx-89440 date-comment-view\"]>span[class=\"jsx-89440 comment\"]>span').text\n",
    "            content_list =  get_content_post(soup)\n",
    "            content = '\\n'.join(content_list)\n",
    "            list_info.append([title,author,post_date,comments_count,content])\n",
    "        # else:\n",
    "        #     return \n",
    "    else:\n",
    "        print(\"Error\")\n",
    "\n",
    "    return list_info\n",
    "\n",
    "# df = get_info_post(url,'Iphone15pm')\n"
   ]
  },
  {
   "cell_type": "code",
   "execution_count": null,
   "metadata": {},
   "outputs": [],
   "source": [
    "url = 'https://tinhte.vn/thread/tong-hop-tin-don-ve-iphone-15-pro-va-iphone-15-pro-max.3693355/'\n",
    "\n",
    "respone = requests.get(url)\n",
    "list_info =[]\n",
    "if respone.status_code ==200:\n",
    "    soup = BeautifulSoup(respone.text,'lxml')\n",
    "    \n",
    "    title = soup.select_one('div[class=\"jsx-89440 thread-title\"] > h1').text\n",
    "    author = soup.select_one('div[class=\"jsx-89440 author-name\"]>a').text\n",
    "    post_date = soup.select_one('div[class=\"jsx-89440 date-comment-view\"]>span[class=\"jsx-89440 date\"]').text\n",
    "    comments_count = soup.select_one('div[class=\"jsx-89440 date-comment-view\"]>span[class=\"jsx-89440 comment\"]>span').text\n",
    "    content =  get_content_post(soup)\n",
    "    list_info.append([title,author,post_date,comments_count,content])\n",
    "    # df = pd.DataFrame({'title':[title],'author':[author],'post_date':[post_date],\n",
    "    #                    'comment_count':[comments_count],'content':[content]})\n",
    "    # df.to_csv(f'TinhTe_info{item}.csv')\n",
    "    print('Crawl successfully')\n",
    "else:\n",
    "    print(\"Error\")"
   ]
  },
  {
   "cell_type": "markdown",
   "metadata": {},
   "source": [
    "##### Get Post Information for Iphone 15 Promax"
   ]
  },
  {
   "cell_type": "code",
   "execution_count": 245,
   "metadata": {},
   "outputs": [],
   "source": [
    "# A function to crawl with a specified number of rows\n",
    "def number_post(start,end,df_save,df_source,columns):\n",
    "    for url in df_source['Link'][start-1:end]:\n",
    "        data = get_info_post(url)\n",
    "        df_save = pd.concat([df_save, pd.DataFrame(data,columns=columns)], ignore_index=True)\n",
    "        time.sleep(random.randint(3,5))\n",
    "        # info.append(data)\n",
    "    return df_save"
   ]
  },
  {
   "cell_type": "code",
   "execution_count": 246,
   "metadata": {},
   "outputs": [],
   "source": [
    "df_link_ip15pm = pd.read_csv('./TinhTe_Iphone15pm_Link.csv')\n",
    "columns = ['Title', 'Author', 'Post Date', 'Comments Count', 'Content']\n",
    "df_info_ip15pm = pd.DataFrame(columns=columns)\n",
    "start =1\n",
    "end=20\n",
    "df = number_post(start,end,df_info_ip15pm,df_link_ip15pm,columns)"
   ]
  },
  {
   "cell_type": "code",
   "execution_count": 248,
   "metadata": {},
   "outputs": [],
   "source": [
    "# Continue to crawl url from 20 to 50\n",
    "start =20\n",
    "end=50\n",
    "df = number_post(start,end,df,df_link_ip15pm,columns)"
   ]
  },
  {
   "cell_type": "code",
   "execution_count": 252,
   "metadata": {},
   "outputs": [],
   "source": [
    "# Continue to crawl url from 50 to 100\n",
    "start =50\n",
    "end=100\n",
    "df = number_post(start,end,df,df_link_ip15pm,columns)"
   ]
  },
  {
   "cell_type": "markdown",
   "metadata": {},
   "source": [
    "### Crawl Comments for Posts (incomplete)"
   ]
  },
  {
   "cell_type": "code",
   "execution_count": null,
   "metadata": {},
   "outputs": [],
   "source": [
    "def get_comments(soup):\n",
    "    cmt_soup = soup.select('div[class=\"jsx-691990575 thread-comment__wrapper\"]')"
   ]
  },
  {
   "cell_type": "code",
   "execution_count": 250,
   "metadata": {},
   "outputs": [],
   "source": [
    "url = 'https://tinhte.vn/thread/so-sanh-camera-iphone-15-pro-max-va-samsung-galaxy-s23-ultra.3728276/'\n",
    "\n",
    "respone = requests.get(url)\n",
    "soup = BeautifulSoup(respone.text,'lxml')\n",
    "title = soup.select_one('div[class=\"jsx-89440 thread-title\"] > h1').text"
   ]
  },
  {
   "cell_type": "code",
   "execution_count": 251,
   "metadata": {},
   "outputs": [
    {
     "name": "stdout",
     "output_type": "stream",
     "text": [
      "<div class=\"jsx-691990575 thread-comment no-margin\"><div class=\"jsx-691990575 thread-comment__container\"><div class=\"jsx-691990575 thread-comment__avatar\"><a class=\"jsx-691990575\" href=\"/profile/thg1812.566216/\"><div class=\"jsx-691990575 avatar\" style=\"background-image:url(https://photo2.tinhte.vn/data/avatars/m/566/566216.jpg?1645275340)\"></div></a></div><div class=\"jsx-691990575 thread-comment__wrapper\"><div class=\"jsx-691990575 thread-comment__box\" id=\"post-65031561\"><div class=\"jsx-691990575 thread-comment__author-container\"><div class=\"jsx-691990575 thread-comment__author\"><a class=\"jsx-691990575 author-name\" href=\"/profile/thg1812.566216/\">thg.1812<i class=\"jsx-691990575\"></i></a><div class=\"jsx-691990575 author-rank\">TÍCH CỰC</div><a class=\"jsx-691990575 thread-comment__date\" href=\"/thread/3728276#post-65031561\"><span title=\"\">3 tháng</span></a></div><div class=\"jsx-691990575 comment-menu-toggle\"><div class=\"jsx-20322081 menu-container\"><button class=\"jsx-20322081 menu-trigger\"><span class=\"jsx-20322081\"></span><span class=\"jsx-20322081\"></span><span class=\"jsx-20322081\"></span></button><nav class=\"jsx-20322081 menu inactive right\"><button class=\"jsx-691990575\">Báo xấu</button></nav></div></div></div><div class=\"jsx-691990575 thread-comment__content\"><div><div class=\"jsx-4267282249 xfBodyContainer\"><div class=\"jsx-4267282249 xfBody\" data-author=\"thg.1812\"><span class=\"xf-body-paragraph\">Em hàng trắng trẻo thơm ngon, lấy ip quảng cáo 1000 đô khách bảo 10 đô</span></div></div></div></div></div><div class=\"jsx-691990575 thread-comment__action no-user-select\"><div class=\"jsx-691990575 thread-comment__action--left\"><div class=\"jsx-1686779128 comment-mode total-reactions\"><button class=\"jsx-1686779128\"><img alt=\"Thích\" class=\"jsx-1686779128\" src=\"https://tinhte.vn/styles/default/Tinhte/Reactions/love.png\" width=\"25\"/><img alt=\"Haha\" class=\"jsx-1686779128\" src=\"https://tinhte.vn/styles/default/Tinhte/Reactions/haha.png\" width=\"25\"/><span>2</span></button><div class=\"jsx-905855373 modal\"></div></div><div class=\"jsx-691990575\"></div></div></div><div class=\"jsx-691990575 thread-comments__container\"><button class=\"jsx-691990575 thread-comments__load-more\">Xem thêm <!-- -->3<!-- --> trả lời cũ hơn...</button><div class=\"jsx-3765928931\"><div class=\"jsx-3765928931 thread-comment\"><div class=\"jsx-3765928931 thread-comment__container\"><div class=\"jsx-3765928931 thread-comment__avatar\"><a class=\"jsx-3765928931\" href=\"/profile/icuu-01.2392824/\"><div class=\"jsx-3765928931 avatar\" style=\"background-image:url(https://photo2.tinhte.vn/data/avatars/m/2392/2392824.jpg?1598807120)\"></div></a></div><div class=\"jsx-3765928931 thread-comment__wrapper\"><div class=\"jsx-3765928931 thread-comment__box\" id=\"post-65035929\"><div class=\"jsx-3765928931 thread-comment__author-container\"><div class=\"jsx-3765928931 thread-comment__author\"><a class=\"jsx-3765928931 author-name\" href=\"/profile/icuu-01.2392824/\">iCừu 01<i class=\"jsx-3765928931\"></i></a><div class=\"jsx-3765928931 author-rank\">CAO CẤP</div><a class=\"jsx-3765928931 thread-comment__date\" href=\"#post-65035929\"><span title=\"\">3 tháng</span></a><button class=\"jsx-3765928931 show-quote-reply-button\"><i class=\"jsx-3765928931 fas fa-chevron-down\"></i></button></div><div class=\"jsx-3765928931\"><div class=\"jsx-3765928931 comment-menu-toggle\"><div class=\"jsx-20322081 menu-container\"><button class=\"jsx-20322081 menu-trigger\"><span class=\"jsx-20322081\"></span><span class=\"jsx-20322081\"></span><span class=\"jsx-20322081\"></span></button><nav class=\"jsx-20322081 menu inactive right\"><button class=\"jsx-3765928931 dropdown-action\">Báo xấu</button></nav></div></div></div></div><div class=\"jsx-3765928931 thread-comment__content\"><div><div class=\"jsx-4267282249 xfBodyContainer\"><div class=\"jsx-4267282249 xfBody\" data-author=\"iCừu 01\"><!--<link rel=\"stylesheet\" href=\"https://tinhte.vn/css.php?css=bb_code&amp;style=85&amp;dir=LTR&amp;d=1704202951\" /><script src=\"https://tinhte.vn/js/bdPostTree/script.min.js?_v=0eeb0e74\"></script>--><div class=\"bdPostTree_ParentQuote hash-4b35a922618994957f9a4d3afe7f6ee7\">\n",
      "<div class=\"bbCodeBlock bbCodeQuote\" data-author=\"zer0_7\">\n",
      "<aside>\n",
      "<div class=\"attribution type\">zer0_7 đã nói:\n",
      "\t\t\t\t\n",
      "\t\t\t\t\t<a class=\"AttributionLink\" href=\"https://tinhte.vn/goto/post?id=65035822#post-65035822\">↑</a>\n",
      "</div>\n",
      "<blockquote class=\"quoteContainer\"><div class=\"quote\">Xác nhận là xóa phông trên iPhone lởm, từ xóa người tới xóa vật thể đều ko gọn gàng. Trước iPhone xóa tóc lem nhem thì chủ tịch bảo chỉ có gà mới nhìn ảnh chân dung mà soi tóc tai. Giờ chủ tịch dùng cam 5x của iPhone 15prm thì khen là xóa tóc tai chính xác ko còn nhầm nữa. hehehe</div></blockquote>\n",
      "</aside>\n",
      "</div></div>\n",
      "<span class=\"bdPostTree_ParentPoster\" data-hash=\"4b35a922618994957f9a4d3afe7f6ee7\"><a class=\"username\" data-user=\"318318, @zer0_7\" href=\"https://tinhte.vn/profile/zer0_7.318318/\">@zer0_7</a></span>\n",
      "Ai bảo ko nhầm, xóa râu con mèo cắt trụi cả râu =))</div></div></div></div><div class=\"jsx-3765928931 thread-comment__attachments\"><div class=\"jsx-3765928931 thread-comment__attachment\"><img alt=\"8149809-8142180-so-sanh-camera-iphone-pro-15-pro-tinhte-24.jpg\" class=\"jsx-3765928931\" src=\"https://imgproxy7.tinhte.vn/7e3ypWLob19qiQjQVSHhRP3pzTYjvi5cqTfRVWY4b2w/h:400/plain/https://photo2.tinhte.vn/data/attachment-files/2023/10/8156247_8149809-8142180-so-sanh-camera-iphone-pro-15-pro-tinhte-24.jpg\"/></div></div></div><div class=\"jsx-3765928931 thread-comment__action no-user-select\"><div class=\"jsx-3765928931 thread-comment__action--left\"><div class=\"jsx-1686779128 comment-mode total-reactions\"><button class=\"jsx-1686779128\"><img alt=\"Haha\" class=\"jsx-1686779128\" src=\"https://tinhte.vn/styles/default/Tinhte/Reactions/haha.png\" width=\"25\"/><img alt=\"Wow\" class=\"jsx-1686779128\" src=\"https://tinhte.vn/styles/default/Tinhte/Reactions/wow.png\" width=\"25\"/><span>8</span></button><div class=\"jsx-905855373 modal\"></div></div><div class=\"jsx-3765928931\"></div></div></div></div></div></div></div><div class=\"jsx-3765928931\"><div class=\"jsx-3765928931 thread-comment\"><div class=\"jsx-3765928931 thread-comment__container\"><div class=\"jsx-3765928931 thread-comment__avatar\"><a class=\"jsx-3765928931\" href=\"/profile/zer07.318318/\"><div class=\"jsx-3765928931 avatar\" style=\"background-image:url(https://photo2.tinhte.vn/data/avatars/m/318/318318.jpg?1394077624)\"></div></a></div><div class=\"jsx-3765928931 thread-comment__wrapper\"><div class=\"jsx-3765928931 thread-comment__box\" id=\"post-65035959\"><div class=\"jsx-3765928931 thread-comment__author-container\"><div class=\"jsx-3765928931 thread-comment__author\"><a class=\"jsx-3765928931 author-name\" href=\"/profile/zer07.318318/\">zer0_7<i class=\"jsx-3765928931\"></i></a><div class=\"jsx-3765928931 author-rank\">VIP</div><a class=\"jsx-3765928931 thread-comment__date\" href=\"#post-65035959\"><span title=\"\">3 tháng</span></a><button class=\"jsx-3765928931 show-quote-reply-button\"><i class=\"jsx-3765928931 fas fa-chevron-down\"></i></button></div><div class=\"jsx-3765928931\"><div class=\"jsx-3765928931 comment-menu-toggle\"><div class=\"jsx-20322081 menu-container\"><button class=\"jsx-20322081 menu-trigger\"><span class=\"jsx-20322081\"></span><span class=\"jsx-20322081\"></span><span class=\"jsx-20322081\"></span></button><nav class=\"jsx-20322081 menu inactive right\"><button class=\"jsx-3765928931 dropdown-action\">Báo xấu</button></nav></div></div></div></div><div class=\"jsx-3765928931 thread-comment__content\"><div><div class=\"jsx-4267282249 xfBodyContainer\"><div class=\"jsx-4267282249 xfBody\" data-author=\"zer0_7\"><!--<link rel=\"stylesheet\" href=\"https://tinhte.vn/css.php?css=bb_code&amp;style=85&amp;dir=LTR&amp;d=1704202951\" /><script src=\"https://tinhte.vn/js/bdPostTree/script.min.js?_v=0eeb0e74\"></script>--><div class=\"bdPostTree_ParentQuote hash-a03b221c5390bd686e8d4f85aeeb131c\">\n",
      "<div class=\"bbCodeBlock bbCodeQuote\" data-author=\"iCừu 01\">\n",
      "<aside>\n",
      "<div class=\"attribution type\">iCừu 01 đã nói:\n",
      "\t\t\t\t\n",
      "\t\t\t\t\t<a class=\"AttributionLink\" href=\"https://tinhte.vn/goto/post?id=65035929#post-65035929\">↑</a>\n",
      "</div>\n",
      "<blockquote class=\"quoteContainer\"><div class=\"quote\">Ai bảo ko nhầm, xóa râu con mèo cắt trụi cả râu =))</div></blockquote>\n",
      "</aside>\n",
      "</div></div>\n",
      "<span class=\"bdPostTree_ParentPoster\" data-hash=\"a03b221c5390bd686e8d4f85aeeb131c\"><a class=\"username\" data-user=\"2392824, @iCừu 01\" href=\"https://tinhte.vn/profile/icuu-01.2392824/\">@iCừu 01</a></span>\n",
      "Mất râu nhìn hèn quá =))</div></div></div></div></div><div class=\"jsx-3765928931 thread-comment__action no-user-select\"><div class=\"jsx-3765928931 thread-comment__action--left\"><div class=\"jsx-1686779128 comment-mode total-reactions\"><button class=\"jsx-1686779128\"><img alt=\"Haha\" class=\"jsx-1686779128\" src=\"https://tinhte.vn/styles/default/Tinhte/Reactions/haha.png\" width=\"25\"/><span>1</span></button><div class=\"jsx-905855373 modal\"></div></div><div class=\"jsx-3765928931\"></div></div></div></div></div></div></div><div class=\"jsx-3765928931\"><div class=\"jsx-3765928931 thread-comment\"><div class=\"jsx-3765928931 thread-comment__container\"><div class=\"jsx-3765928931 thread-comment__avatar\"><a class=\"jsx-3765928931\" href=\"/profile/vanthoan.822959/\"><div class=\"jsx-3765928931 avatar\" style=\"background-image:url(https://tinhte.vn/styles/default/TinhteMods/avatars/avatar_8.png)\"></div></a></div><div class=\"jsx-3765928931 thread-comment__wrapper\"><div class=\"jsx-3765928931 thread-comment__box\" id=\"post-65036740\"><div class=\"jsx-3765928931 thread-comment__author-container\"><div class=\"jsx-3765928931 thread-comment__author\"><a class=\"jsx-3765928931 author-name\" href=\"/profile/vanthoan.822959/\">vanthoan<i class=\"jsx-3765928931\"></i></a><div class=\"jsx-3765928931 author-rank\">TÍCH CỰC</div><a class=\"jsx-3765928931 thread-comment__date\" href=\"#post-65036740\"><span title=\"\">3 tháng</span></a><button class=\"jsx-3765928931 show-quote-reply-button\"><i class=\"jsx-3765928931 fas fa-chevron-down\"></i></button></div><div class=\"jsx-3765928931\"><div class=\"jsx-3765928931 comment-menu-toggle\"><div class=\"jsx-20322081 menu-container\"><button class=\"jsx-20322081 menu-trigger\"><span class=\"jsx-20322081\"></span><span class=\"jsx-20322081\"></span><span class=\"jsx-20322081\"></span></button><nav class=\"jsx-20322081 menu inactive right\"><button class=\"jsx-3765928931 dropdown-action\">Báo xấu</button></nav></div></div></div></div><div class=\"jsx-3765928931 thread-comment__content\"><div><div class=\"jsx-4267282249 xfBodyContainer\"><div class=\"jsx-4267282249 xfBody\" data-author=\"vanthoan\"><!--<link rel=\"stylesheet\" href=\"https://tinhte.vn/css.php?css=bb_code&amp;style=85&amp;dir=LTR&amp;d=1704202951\" /><script src=\"https://tinhte.vn/js/bdPostTree/script.min.js?_v=0eeb0e74\"></script>--><div class=\"bdPostTree_ParentQuote hash-a03b221c5390bd686e8d4f85aeeb131c\">\n",
      "<div class=\"bbCodeBlock bbCodeQuote\" data-author=\"iCừu 01\">\n",
      "<aside>\n",
      "<div class=\"attribution type\">iCừu 01 đã nói:\n",
      "\t\t\t\t\n",
      "\t\t\t\t\t<a class=\"AttributionLink\" href=\"https://tinhte.vn/goto/post?id=65035929#post-65035929\">↑</a>\n",
      "</div>\n",
      "<blockquote class=\"quoteContainer\"><div class=\"quote\">Ai bảo ko nhầm, xóa râu con mèo cắt trụi cả râu =))</div></blockquote>\n",
      "</aside>\n",
      "</div></div>\n",
      "<span class=\"bdPostTree_ParentPoster\" data-hash=\"a03b221c5390bd686e8d4f85aeeb131c\"><a class=\"username\" data-user=\"2392824, @iCừu 01\" href=\"https://tinhte.vn/profile/icuu-01.2392824/\">@iCừu 01</a></span>\n",
      "Giống mèo này lạ, râu mọc 1 bên 😃</div></div></div></div></div><div class=\"jsx-3765928931 thread-comment__action no-user-select\"><div class=\"jsx-3765928931 thread-comment__action--left\"><div class=\"jsx-3765928931\"></div></div></div></div></div></div></div><div class=\"jsx-3765928931\"><div class=\"jsx-3765928931 thread-comment\"><div class=\"jsx-3765928931 thread-comment__container\"><div class=\"jsx-3765928931 thread-comment__avatar\"><a class=\"jsx-3765928931\" href=\"/profile/tungtt210.2872952/\"><div class=\"jsx-3765928931 avatar\" style=\"background-image:url(https://photo2.tinhte.vn/data/avatars/m/2872/2872952.jpg?1698356441)\"></div></a></div><div class=\"jsx-3765928931 thread-comment__wrapper\"><div class=\"jsx-3765928931 thread-comment__box\" id=\"post-65037868\"><div class=\"jsx-3765928931 thread-comment__author-container\"><div class=\"jsx-3765928931 thread-comment__author\"><a class=\"jsx-3765928931 author-name\" href=\"/profile/tungtt210.2872952/\">TUNGTT210<i class=\"jsx-3765928931\"></i></a><div class=\"jsx-3765928931 author-rank\">ĐẠI BÀNG</div><a class=\"jsx-3765928931 thread-comment__date\" href=\"#post-65037868\"><span title=\"\">3 tháng</span></a><button class=\"jsx-3765928931 show-quote-reply-button\"><i class=\"jsx-3765928931 fas fa-chevron-down\"></i></button></div><div class=\"jsx-3765928931\"><div class=\"jsx-3765928931 comment-menu-toggle\"><div class=\"jsx-20322081 menu-container\"><button class=\"jsx-20322081 menu-trigger\"><span class=\"jsx-20322081\"></span><span class=\"jsx-20322081\"></span><span class=\"jsx-20322081\"></span></button><nav class=\"jsx-20322081 menu inactive right\"><button class=\"jsx-3765928931 dropdown-action\">Báo xấu</button></nav></div></div></div></div><div class=\"jsx-3765928931 thread-comment__content\"><div><div class=\"jsx-4267282249 xfBodyContainer\"><div class=\"jsx-4267282249 xfBody\" data-author=\"TUNGTT210\"><!--<link rel=\"stylesheet\" href=\"https://tinhte.vn/css.php?css=bb_code&amp;style=85&amp;dir=LTR&amp;d=1704202951\" /><script src=\"https://tinhte.vn/js/bdPostTree/script.min.js?_v=0eeb0e74\"></script>--><div class=\"bdPostTree_ParentQuote hash-a03b221c5390bd686e8d4f85aeeb131c\">\n",
      "<div class=\"bbCodeBlock bbCodeQuote\" data-author=\"iCừu 01\">\n",
      "<aside>\n",
      "<div class=\"attribution type\">iCừu 01 đã nói:\n",
      "\t\t\t\t\n",
      "\t\t\t\t\t<a class=\"AttributionLink\" href=\"https://tinhte.vn/goto/post?id=65035929#post-65035929\">↑</a>\n",
      "</div>\n",
      "<blockquote class=\"quoteContainer\"><div class=\"quote\">Ai bảo ko nhầm, xóa râu con mèo cắt trụi cả râu =))</div></blockquote>\n",
      "</aside>\n",
      "</div></div>\n",
      "<span class=\"bdPostTree_ParentPoster\" data-hash=\"a03b221c5390bd686e8d4f85aeeb131c\"><a class=\"username\" data-user=\"2392824, @iCừu 01\" href=\"https://tinhte.vn/profile/icuu-01.2392824/\">@iCừu 01</a></span>\n",
      "Iphone giờ chụp đêm, chân dung, zoom, góc rộng so ra đều kém hơn flagship android, mà được cái mạng xã hội giờ upload lên là quy về chung một chất lượng nên iphone vẫn sống tốt, cộng với quay phim ngon</div></div></div></div></div><div class=\"jsx-3765928931 thread-comment__action no-user-select\"><div class=\"jsx-3765928931 thread-comment__action--left\"><div class=\"jsx-3765928931\"></div></div></div></div></div></div></div></div></div></div></div>\n"
     ]
    },
    {
     "data": {
      "text/plain": [
       "15"
      ]
     },
     "execution_count": 251,
     "metadata": {},
     "output_type": "execute_result"
    }
   ],
   "source": [
    "soup_cont = soup.select('div[class=\"jsx-691990575 thread-comment no-margin\"]')\n",
    "print(soup_cont[5])\n",
    "len(soup_cont)\n",
    "# for soup in soup_cont:\n",
    "\n",
    "#     print(soup.text)"
   ]
  },
  {
   "cell_type": "code",
   "execution_count": null,
   "metadata": {},
   "outputs": [],
   "source": []
  }
 ],
 "metadata": {
  "kernelspec": {
   "display_name": "Python 3",
   "language": "python",
   "name": "python3"
  },
  "language_info": {
   "codemirror_mode": {
    "name": "ipython",
    "version": 3
   },
   "file_extension": ".py",
   "mimetype": "text/x-python",
   "name": "python",
   "nbconvert_exporter": "python",
   "pygments_lexer": "ipython3",
   "version": "3.10.8"
  }
 },
 "nbformat": 4,
 "nbformat_minor": 2
}
