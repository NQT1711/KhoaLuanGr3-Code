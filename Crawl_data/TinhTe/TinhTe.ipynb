{
 "cells": [
  {
   "cell_type": "markdown",
   "metadata": {},
   "source": [
    "#### Import Libraries & Set Options for Chrome"
   ]
  },
  {
   "cell_type": "code",
   "execution_count": 1,
   "metadata": {},
   "outputs": [],
   "source": [
    "import pandas as pd \n",
    "from bs4 import BeautifulSoup\n",
    "import requests\n",
    "from selenium import webdriver\n",
    "\n",
    "from selenium.webdriver.common.by import By\n",
    "import time\n",
    "import random\n",
    "from selenium.webdriver.chrome.service import Service\n",
    "from selenium.webdriver.support.ui import WebDriverWait\n",
    "from selenium.webdriver.support import expected_conditions as EC\n",
    "from selenium.webdriver.common.keys import Keys\n",
    "\n",
    "import sys\n",
    "sys.path.insert(0,\"..\")\n",
    "from fake_useragent import UserAgent\n",
    "ua = UserAgent()\n",
    "user_agent = ua.random\n"
   ]
  },
  {
   "cell_type": "code",
   "execution_count": 2,
   "metadata": {},
   "outputs": [],
   "source": [
    "import winsound\n",
    "duration = 1000  # milliseconds\n",
    "freq = 440  # Hz"
   ]
  },
  {
   "cell_type": "code",
   "execution_count": 3,
   "metadata": {},
   "outputs": [],
   "source": [
    "# Mở trình duyệt Google Chrome\n",
    "options = webdriver.ChromeOptions()\n",
    "options.add_argument('--ignore-certificate-errors')\n",
    "options.add_argument('--incognito') # Tab ẩn danh\n",
    "options.add_argument(\"--start-maximized\") # Full window\n",
    "options.add_argument('headless') # Không hiển thị chrome\n",
    "options.add_argument(f'user-agent={user_agent}')\n",
    "s = Service('../chromedriver.exe')"
   ]
  },
  {
   "cell_type": "code",
   "execution_count": 66,
   "metadata": {},
   "outputs": [],
   "source": [
    "# user_agents = [\n",
    "#     \"Mozilla/5.0 (Windows NT 10.0; Win64; x64) AppleWebKit/537.36 (KHTML, like Gecko) Chrome/96.0.4664.110 Safari/537.36\",\n",
    "#     \"Mozilla/5.0 (Windows NT 10.0; Win64; x64) AppleWebKit/537.36 (KHTML, like Gecko) Edge/96.0.1054.62\",\n",
    "#     \"Mozilla/5.0 (Windows NT 10.0; Win64; x64) AppleWebKit/537.36 (KHTML, like Gecko) Firefox/95.0\",\n",
    "#     \"Mozilla/5.0 (Windows NT 10.0; Win64; x64) AppleWebKit/537.36 (KHTML, like Gecko) Safari/537.36\",\n",
    "#     \"Mozilla/5.0 (Macintosh; Intel Mac OS X 10_15_7) AppleWebKit/605.1.15 (KHTML, like Gecko) Version/15.1 Safari/605.1.15\",\n",
    "#     \"Mozilla/5.0 (Macintosh; Intel Mac OS X 11_5_1) AppleWebKit/537.36 (KHTML, like Gecko) Chrome/92.0.4515.159 Safari/537.36\",\n",
    "#     \"Mozilla/5.0 (Macintosh; Intel Mac OS X 11_5_1) AppleWebKit/537.36 (KHTML, like Gecko) Edge/96.0.1054.62\",\n",
    "#     \"Mozilla/5.0 (Macintosh; Intel Mac OS X 11_5_1) AppleWebKit/537.36 (KHTML, like Gecko) Firefox/95.0\",\n",
    "#     \"Mozilla/5.0 (iPhone; CPU iPhone OS 15_1 like Mac OS X) AppleWebKit/605.1.15 (KHTML, like Gecko) Version/15.1 Mobile/15E148 Safari/604.1\",\n",
    "#     \"Mozilla/5.0 (Linux; Android 11; SM-G988U) AppleWebKit/537.36 (KHTML, like Gecko) Chrome/96.0.4664.110 Mobile Safari/537.36\",\n",
    "#     \"Mozilla/5.0 (Linux; Android 11; Pixel 4 XL) AppleWebKit/537.36 (KHTML, like Gecko) Chrome/96.0.4664.110 Mobile Safari/537.36\",\n",
    "#     \"Mozilla/5.0 (X11; Linux x86_64) AppleWebKit/537.36 (KHTML, like Gecko) Chrome/96.0.4664.110 Safari/537.36\",\n",
    "#     \"Mozilla/5.0 (X11; Linux x86_64) AppleWebKit/537.36 (KHTML, like Gecko) Firefox/95.0\",\n",
    "#     \"Mozilla/5.0 (X11; Ubuntu; Linux x86_64; rv:95.0) Gecko/20100101 Firefox/95.0\",\n",
    "#     \"Mozilla/5.0 (Windows NT 10.0; Win64; x64; rv:95.0) Gecko/20100101 Firefox/95.0\",\n",
    "#     \"Mozilla/5.0 (Windows NT 10.0; Win64; x64; Trident/7.0; rv:11.0) like Gecko\",\n",
    "#     \"Mozilla/5.0 (Windows NT 6.1; WOW64; Trident/7.0; AS; rv:11.0) like Gecko\",\n",
    "#     \"Mozilla/5.0 (Windows NT 6.3; Win64; x64) AppleWebKit/537.36 (KHTML, like Gecko) Chrome/96.0.4664.110 Safari/537.36 Edg/96.0.1054.62\",\n",
    "#     \"Mozilla/5.0 (Windows NT 6.1; WOW64; rv:95.0) Gecko/20100101 Firefox/95.0\",\n",
    "#     \"Mozilla/5.0 (Windows NT 10.0; Win64; x64) AppleWebKit/537.36 (KHTML, like Gecko) Chrome/96.0.4664.110 Safari/537.36 OPR/83.0.4787.63\"\n",
    "# ]\n",
    "\n",
    "\n",
    "# def get_random_proxy():\n",
    "#     proxies = [\n",
    "#         {\"http\": \"http://123.30.154.171:7777\", \"https\": \"http://123.30.154.171:7777\"},\n",
    "#         {\"http\": \"http://165.154.186.232:80\", \"https\": \"http://165.154.186.232:80\"},\n",
    "#         {\"http\": \"http://113.161.131.43:80\", \"https\": \"http://113.161.131.43:80\"},\n",
    "#         {\"http\": \"http://117.4.50.142:32650\", \"https\": \"http://117.4.50.142:32650\"},\n",
    "#     ]\n",
    "#     return random.choice(proxies)\n",
    "# # options.add_argument(f'--proxy-server={get_random_proxy()[\"http\"]}')\n",
    "# options.add_argument(f'user-agent={random.choice(user_agents)}')"
   ]
  },
  {
   "cell_type": "markdown",
   "metadata": {},
   "source": [
    "#### Get Url PosT"
   ]
  },
  {
   "cell_type": "code",
   "execution_count": 74,
   "metadata": {},
   "outputs": [],
   "source": [
    "def get_url_post(keyword):\n",
    "    url_page = 'https://tinhte.vn/'\n",
    "    driver = webdriver.Chrome(service=s, options=options)\n",
    "    driver.get(url_page)\n",
    "    WebDriverWait(driver, 30).until(EC.presence_of_element_located((By.XPATH, '//*[@id=\"gsc-i-id1\"]')))\n",
    "    time.sleep(random.randint(3,7))\n",
    "\n",
    "    # Send searchword into Input Box/ Inputing search word into box\n",
    "    box = driver.find_element(By.XPATH,'//*[@id=\"gsc-i-id1\"]')\n",
    "    box.send_keys(keyword)\n",
    "    time.sleep(random.randint(3,9))\n",
    "    box.send_keys(Keys.ENTER)\n",
    "    print(f'Crawling posts related to {keyword}')\n",
    "    \n",
    "    # Get urls of all pages\n",
    "    df_link=[]\n",
    "    for i in range(1,11):\n",
    "        print(f'Crawling Page {i} of {keyword}')\n",
    "        time.sleep(random.randint(5, 7))\n",
    "        driver.find_element(By.XPATH,'//*[@id=\"___gcse_0\"]/div/div/div[1]/div[6]')\n",
    "        soup=BeautifulSoup(driver.page_source,'html.parser')\n",
    "        soup2 = soup.select('div[class=\"gs-title\"]')\n",
    "\n",
    "        # Get all urls in a page (10)\n",
    "        for item in range(len(soup2)-1):\n",
    "            i2 = soup2[item].find('a').get('href')\n",
    "            df_link.append(i2)\n",
    "\n",
    "        # Don't click into page 1.\n",
    "        if i <10:\n",
    "            xpath = f'//*[@id=\"___gcse_0\"]/div/div/div[1]/div[6]/div[2]/div/div/div[2]/div/div[{i+1}]'\n",
    "            WebDriverWait(driver, 11) \n",
    "            driver.find_element(By.XPATH,xpath).click()\n",
    "\n",
    "    driver.close()\n",
    "    return df_link"
   ]
  },
  {
   "cell_type": "code",
   "execution_count": 68,
   "metadata": {},
   "outputs": [],
   "source": [
    "keyword=['Iphone 15 pro max','Samsung S23 Ultra']"
   ]
  },
  {
   "cell_type": "markdown",
   "metadata": {},
   "source": [
    "##### Crawl Iphone 15 Pro Max Link"
   ]
  },
  {
   "cell_type": "code",
   "execution_count": 72,
   "metadata": {},
   "outputs": [
    {
     "name": "stdout",
     "output_type": "stream",
     "text": [
      "Crawling posts related to Iphone 15 pro max\n",
      "Crawling Page 1 of Iphone 15 pro max\n",
      "Crawling Page 2 of Iphone 15 pro max\n",
      "Crawling Page 3 of Iphone 15 pro max\n",
      "Crawling Page 4 of Iphone 15 pro max\n",
      "Crawling Page 5 of Iphone 15 pro max\n",
      "Crawling Page 6 of Iphone 15 pro max\n",
      "Crawling Page 7 of Iphone 15 pro max\n",
      "Crawling Page 8 of Iphone 15 pro max\n",
      "Crawling Page 9 of Iphone 15 pro max\n",
      "Crawling Page 10 of Iphone 15 pro max\n"
     ]
    }
   ],
   "source": [
    "df_link1 = get_url_post(keyword[0])\n",
    "df=pd.DataFrame({'Link':df_link1})\n",
    "save_path = \"../../Data/TinhTe/TinhTe_Iphone15pm_Link.csv\"\n",
    "df.to_csv(save_path,index=False)"
   ]
  },
  {
   "cell_type": "markdown",
   "metadata": {},
   "source": [
    "##### Crawl Samsung S23 Ultra Link"
   ]
  },
  {
   "cell_type": "code",
   "execution_count": 75,
   "metadata": {},
   "outputs": [
    {
     "name": "stdout",
     "output_type": "stream",
     "text": [
      "Crawling posts related to Samsung S23 Ultra\n",
      "Crawling Page 1 of Samsung S23 Ultra\n",
      "Crawling Page 2 of Samsung S23 Ultra\n",
      "Crawling Page 3 of Samsung S23 Ultra\n",
      "Crawling Page 4 of Samsung S23 Ultra\n",
      "Crawling Page 5 of Samsung S23 Ultra\n",
      "Crawling Page 6 of Samsung S23 Ultra\n",
      "Crawling Page 7 of Samsung S23 Ultra\n",
      "Crawling Page 8 of Samsung S23 Ultra\n",
      "Crawling Page 9 of Samsung S23 Ultra\n",
      "Crawling Page 10 of Samsung S23 Ultra\n"
     ]
    }
   ],
   "source": [
    "df_link2 = get_url_post(keyword[1])\n",
    "df=pd.DataFrame({'Link':df_link2})\n",
    "save_path = '../../Data/TinhTe/TinhTe_SamsungS23u_Link.csv'\n",
    "df.to_csv(save_path,index=False)"
   ]
  },
  {
   "cell_type": "markdown",
   "metadata": {},
   "source": [
    "#### Crawl Post Information"
   ]
  },
  {
   "cell_type": "code",
   "execution_count": 76,
   "metadata": {},
   "outputs": [],
   "source": [
    "def get_content_post(soup):\n",
    "    soup_ct = soup.select_one('article')\n",
    "    soup_ct1 = soup_ct.select('span[class=\"xf-body-paragraph\"]')\n",
    "    content=[]\n",
    "    for child in soup_ct1:\n",
    "        info_div = child.find(\"div\",class_=\"info\")\n",
    "        if info_div:\n",
    "            info_div.extract()\n",
    "        content.append(child.getText(separator='\\n' ,strip=True))\n",
    "    return content\n",
    "\n",
    "def get_info_post(url):\n",
    "    respone = requests.get(url)\n",
    "    list_info =[]\n",
    "    if respone.status_code ==200:\n",
    "        soup = BeautifulSoup(respone.text,'lxml')\n",
    "        tt = soup.select_one('div[class=\"jsx-89440 thread-title\"] > h1')\n",
    "        if tt != None:\n",
    "            title=tt.text\n",
    "            author = soup.select_one('div[class=\"jsx-89440 author-name\"]>a').text\n",
    "            post_date = soup.select_one('div[class=\"jsx-89440 date-comment-view\"]>span[class=\"jsx-89440 date\"]').text\n",
    "            comments_count = soup.select_one('div[class=\"jsx-89440 date-comment-view\"]>span[class=\"jsx-89440 comment\"]>span').text\n",
    "            if 'page' not in url:\n",
    "                content_list =  get_content_post(soup)\n",
    "                content = '\\n'.join(content_list)\n",
    "            else:\n",
    "                content = ''\n",
    "            list_info.append([url,title,author,post_date,comments_count,content])\n",
    "\n",
    "    else:\n",
    "        print(\"Error\")\n",
    "\n",
    "    return list_info\n",
    "\n"
   ]
  },
  {
   "cell_type": "code",
   "execution_count": 77,
   "metadata": {},
   "outputs": [],
   "source": [
    "def number_post(start,end,df_save,df_source,columns):\n",
    "    for url in df_source['Link'][start-1:end]:\n",
    "        data = get_info_post(url)\n",
    "        df_save = pd.concat([df_save, pd.DataFrame(data,columns=columns)], ignore_index=True)\n",
    "        time.sleep(random.randint(3,5))\n",
    "    return df_save"
   ]
  },
  {
   "cell_type": "markdown",
   "metadata": {},
   "source": [
    "##### Get Post Information for Iphone 15 Promax"
   ]
  },
  {
   "cell_type": "code",
   "execution_count": 79,
   "metadata": {},
   "outputs": [],
   "source": [
    "df_link_ip15pm = pd.read_csv('../../Data/TinhTe/TinhTe_Iphone15pm_Link.csv')\n",
    "columns = ['Link','Title', 'Author', 'Post Date', 'Comments Count', 'Content']\n",
    "df_info_ip15pm = pd.DataFrame(columns=columns)\n",
    "start =1\n",
    "end=100\n",
    "df = number_post(start,end,df_info_ip15pm,df_link_ip15pm,columns)\n",
    "save_path = \"../../Data/TinhTe/TinhTe_Iphone15pm_InfoPosts2.csv\"\n",
    "df.to_csv(save_path,index=False)"
   ]
  },
  {
   "cell_type": "markdown",
   "metadata": {},
   "source": [
    "##### Get Post Information for Samsung S23 Ultra"
   ]
  },
  {
   "cell_type": "code",
   "execution_count": null,
   "metadata": {},
   "outputs": [],
   "source": [
    "df_link_sss23u = pd.read_csv('../../Data/TinhTe/TinhTe_SamsungS23u_Link.csv')\n",
    "columns = ['Link','Title', 'Author', 'Post Date', 'Comments Count', 'Content']\n",
    "df_info_sss23u = pd.DataFrame(columns=columns)\n",
    "start =1\n",
    "end=100\n",
    "df = number_post(start,end,df_info_sss23u,df_link_sss23u,columns)\n",
    "save_path = \"../../Data/TinhTe/TinhTe_SamsungS23u_InfoPosts.csv\"\n",
    "\n",
    "df.to_csv(save_path,index=False)\n",
    "winsound.Beep(freq, duration)"
   ]
  },
  {
   "cell_type": "markdown",
   "metadata": {},
   "source": [
    "### Crawl Comments for Posts"
   ]
  },
  {
   "cell_type": "code",
   "execution_count": 4,
   "metadata": {},
   "outputs": [],
   "source": [
    "def handle_older_replies(driver):\n",
    "    while True:\n",
    "        soup_handle_rl = BeautifulSoup(driver.page_source,'html.parser')\n",
    "        click_elms = soup_handle_rl.select('button[class=\"jsx-691990575 thread-comments__load-more\"]')\n",
    "        if len(click_elms)==0:\n",
    "            break\n",
    "        else:\n",
    "            for i in range(35):\n",
    "                try:\n",
    "                    driver.find_element(By.XPATH,f'//*[@id=\"__next\"]/div[1]/div/div[2]/div[2]/div[1]/div/div/div[1]/div[3]/div[2]/div/div[{i}]/div/div[2]/div[3]/button').click()\n",
    "                    time.sleep(random.randint(2,4))\n",
    "                except:              \n",
    "                    pass"
   ]
  },
  {
   "cell_type": "code",
   "execution_count": 5,
   "metadata": {},
   "outputs": [],
   "source": [
    "\n",
    "def get_comments(url,driver):\n",
    "    list_cmt = [] # create a list to save all comments\n",
    "    # time.sleep(random.randint(3,7))\n",
    "    soup = BeautifulSoup(driver.page_source,'html.parser')\n",
    "    main_cmt = soup.select('div[class=\"jsx-691990575 thread-comment__wrapper\"]')\n",
    "    for item in main_cmt:\n",
    "        first_child = item.find_all()[0]\n",
    "        date = first_child.find('a',class_='jsx-691990575 thread-comment__date').text\n",
    "\n",
    "        second_child = item.find_all('div',class_='jsx-4267282249 xfBodyContainer')\n",
    "        for i in second_child:\n",
    "            for tag in i.find_all(['div', 'a'], {'class': ['attribution', 'bbCodeQuote', 'NoOverlay']}):\n",
    "                tag.decompose()\n",
    "            cmt = i.find('div', class_='jsx-4267282249 xfBody').text.strip()\n",
    "            list_cmt.append([url,date,cmt])\n",
    "\n",
    "    return list_cmt"
   ]
  },
  {
   "cell_type": "code",
   "execution_count": 6,
   "metadata": {},
   "outputs": [],
   "source": [
    "\n",
    "def main_func(df_source,start,end):\n",
    "\n",
    "    summary = pd.DataFrame({'Link':[],'Date':[],'Comment':[]}) # create a df to save all comments\n",
    "    driver = webdriver.Chrome(service=s, options=options)\n",
    "    for url in df_source['Link'][start-1:end]:\n",
    "        print(f'Crawling url: {url}')\n",
    "        driver.get(url)\n",
    "        WebDriverWait(driver,60).until(EC.presence_of_element_located(\n",
    "                (By.XPATH,'//*[@id=\"__next\"]/div[1]/div/div[2]/div[2]/div[1]/div/div/div[1]/div[3]/div[1]/a/div')))\n",
    "        \n",
    "        soup_temp = BeautifulSoup(driver.page_source,'html.parser')\n",
    "\n",
    "        try:\n",
    "            num_page = soup_temp.select('div[class=\"jsx-2305813501 pagination--pages\"]>a[class=\"jsx-2305813501 page\"]')[0].text                \n",
    "        except:\n",
    "            num_page =0\n",
    "        \n",
    "        # click_elms = soup_temp.select('button[class=\"jsx-691990575 thread-comments__load-more\"]')\n",
    "\n",
    "        if num_page!=0:\n",
    "            for i_page in range(1,int(num_page)+1):\n",
    "                if i_page !=1:\n",
    "                    new_url = f'{url}/page-{i_page}'\n",
    "                else:\n",
    "                    new_url = url\n",
    "                # print(f'Crawling page: {new_url}')\n",
    "                driver.get(new_url)\n",
    "                WebDriverWait(driver,60).until(EC.presence_of_element_located((By.XPATH,'//*[@id=\"__next\"]/div[1]/div/div[2]/div[2]/div[1]/div/div/div[1]/div[3]/div[1]/a/div')))\n",
    "\n",
    "                click_elms = soup_temp.select('button[class=\"jsx-691990575 thread-comments__load-more\"]')\n",
    "                if len(click_elms) !=0:\n",
    "                    handle_older_replies(driver)\n",
    "                \n",
    "                list_cmt = get_comments(url,driver)\n",
    "                df_sub_cmt = pd.DataFrame(list_cmt,columns=['Link','Date','Comment'])\n",
    "                summary = pd.concat([summary,df_sub_cmt])\n",
    "                # summary.append([url,date2,cmt2])\n",
    "                time.sleep(random.randint(2,3))\n",
    "    return summary\n"
   ]
  },
  {
   "cell_type": "markdown",
   "metadata": {},
   "source": [
    "##### Get comments for posts on the Iphone 15 Pro Max."
   ]
  },
  {
   "cell_type": "code",
   "execution_count": 7,
   "metadata": {},
   "outputs": [
    {
     "name": "stdout",
     "output_type": "stream",
     "text": [
      "Crawling url: https://tinhte.vn/thread/nang-cap-len-iphone-15-pro-max-ban-facelift-gia-tri-nhung-khong-hoan-chinh.3730221/\n",
      "Crawling url: https://tinhte.vn/thread/so-sanh-camera-iphone-15-pro-max-va-google-pixel-8-pro.3729498/\n",
      "Crawling url: https://tinhte.vn/thread/cach-minh-thiet-lap-de-chup-hinh-va-quay-phim-tren-camera-iphone-15-pro-pro-max.3731101/\n",
      "Crawling url: https://tinhte.vn/thread/mo-hop-iphone-15-pro-max-natural-titan-mem-mai-hon-vien-man-hinh-mong-hon-va-nhe-hon.3718938/\n",
      "Crawling url: https://tinhte.vn/thread/lai-phai-quay-ve-iphone-15-pro-sau-2-tuan-dung-15-pro-max.3729651/\n",
      "Crawling url: https://tinhte.vn/thread/iphone-15-pro-pro-max-chup-anh-bat-ky-van-ra-duoc-anh-chan-dung.3721878/\n",
      "Crawling url: https://tinhte.vn/thread/quay-video-prores-log-tren-iphone-15-promax.3721963/\n",
      "Crawling url: https://tinhte.vn/thread/tren-tay-apple-iphone-15-pro-nhe-dep-cam-nam-thoai-mai.3718805/\n",
      "Crawling url: https://tinhte.vn/thread/chi-tiet-camera-iphone-15-pro-pro-max-co-den-7-tieu-cu-khac-nhau-zoom-quang-120mm.3715687/\n",
      "Crawling url: https://tinhte.vn/thread/so-sanh-camera-iphone-15-pro-max-va-samsung-galaxy-s23-ultra.3728276/\n",
      "Crawling url: https://tinhte.vn/thread/iphone-15-pro-max-chup-chan-dung-5x-van-qua-ngon-va-kho-co-doi-thu.3726067/\n",
      "Crawling url: https://tinhte.vn/thread/iphone-15-pro-duoc-xac-nhan-co-8gb-ram-iphone-15-van-la-6gb-ram.3716014/\n",
      "Crawling url: https://tinhte.vn/thread/trai-nghiem-bi-lua-apple-trade-in-iphone-15-promax-tai-apple-online-store-vn.3741470/\n",
      "Crawling url: https://tinhte.vn/thread/lai-noi-ve-iphone-15-pro-pro-max-voi-khung-suon-nhom-op-titanium.3715874/\n",
      "Crawling url: https://tinhte.vn/thread/chup-nhanh-tieu-cu-120mm-tren-iphone-15-pro-max.3719920/\n",
      "Crawling url: https://tinhte.vn/thread/camera-5x-tren-iphone-15-pro-max-xau-hon-3x-tren-iphone-15-pro.3721864/\n",
      "Crawling url: https://tinhte.vn/thread/nut-tac-vu-tren-iphone-15-pro-pro-max-rat-manh-co-the-khoi-chay-bat-ky-phan-mem-nao-tren-iphone.3721092/\n",
      "Crawling url: https://tinhte.vn/thread/so-sanh-iphone-15-pro-max-va-galaxy-s23-ultra.3715879/\n",
      "Crawling url: https://tinhte.vn/thread/mot-so-iphone-15-pro-pro-max-bi-hien-tuong-burn-in.3724176/\n",
      "Crawling url: https://tinhte.vn/thread/iphone-15-co-the-duoc-san-xuat-vao-thang-8-dong-pro-max-tang-gia.3689504/\n"
     ]
    }
   ],
   "source": [
    "df_link_ip15pm = pd.read_csv('../../Data/TinhTe/TinhTe_Iphone15pm_InfoPosts2.csv')\n",
    "df_ip15 = main_func(df_link_ip15pm,1,20)\n",
    "save_path = \"../../Data/TinhTe/TinhTe_Iphone15pm_Comments.csv\"\n",
    "df_ip15.to_csv(save_path,index=False)\n",
    "winsound.Beep(freq,duration)"
   ]
  },
  {
   "cell_type": "markdown",
   "metadata": {},
   "source": [
    "##### Get comments for posts on the Samsung S23 Ultra."
   ]
  },
  {
   "cell_type": "code",
   "execution_count": 9,
   "metadata": {},
   "outputs": [
    {
     "name": "stdout",
     "output_type": "stream",
     "text": [
      "Crawling url: https://tinhte.vn/thread/tren-tay-samsung-galaxy-s23-ultra-minh-da-bi-lua.3629326/\n",
      "Crawling url: https://tinhte.vn/thread/galaxy-s23-ultra-co-bui-trong-camera-va-samsung-tra-loi-do-la-dieu-binh-thuong.3639395/\n",
      "Crawling url: https://tinhte.vn/thread/moi-nguoi-danh-gia-sao-ve-samsung-s23-ultra-8gb-ram.3640898/\n",
      "Crawling url: https://tinhte.vn/thread/camera-cua-samsung-galaxy-s23-ultra-mot-chiec-may-anh-duong-pho-tuyet-voi.3630306/\n",
      "Crawling url: https://tinhte.vn/thread/review-nhanh-samsung-galaxy-s23-ultra-di-tam-man-dep-may-dep-cam-it-loi.3630375/\n",
      "Crawling url: https://tinhte.vn/thread/samsung-s23-ultra-dung-het-bao-hanh-la-bi-loi-man-hinh-dung-hay-sai.3736411/\n",
      "Crawling url: https://tinhte.vn/thread/danh-gia-pin-samsung-galaxy-s23-ultra-on-screen-trung-binh-gan-6-tieng-dung-1-ngay-thoai-mai.3658083/\n",
      "Crawling url: https://tinhte.vn/thread/giua-samsung-s23-ultra-voi-z-fold-4-may-nao-oke-hon.3641925/\n",
      "Crawling url: https://tinhte.vn/thread/samsung-s23-ultra-ban-8gb-moi-hay-12-gb-cu.3720263/\n",
      "Crawling url: https://tinhte.vn/thread/test-sac-sieu-nhanh-45w-cho-samsung-galaxy-s23-ultra.3635075/\n",
      "Crawling url: https://tinhte.vn/thread/co-nen-mua-samsung-s23-ultra-thi-truong-my.3733341/\n",
      "Crawling url: https://tinhte.vn/thread/trai-nghiem-choi-game-tren-samsung-galaxy-s23-ultra-hieu-nang-an-tuong-tan-nhiet-on-cam-nam-tot.3633982/\n",
      "Crawling url: https://tinhte.vn/thread/gia-samsung-s23-den-s23-ultra-co-bi-ngao-gia.3629429/\n",
      "Crawling url: https://tinhte.vn/thread/s23-ultra-bi-loi-cam-ung-a-cac-bac-tinh-mua-ma-thay-ren-qua.3688293/\n",
      "Crawling url: https://tinhte.vn/thread/so-sanh-camera-iphone-15-pro-max-va-samsung-galaxy-s23-ultra.3728276/\n",
      "Crawling url: https://tinhte.vn/thread/samsung-s23-ultra-dung-het-bao-hanh-la-bi-loi-man-hinh-dung-hay-sai.3736411/page-2\n",
      "Crawling url: https://tinhte.vn/thread/galaxy-s23-ultra-nguoi-dung-duoc-loi-gi-sau-viec-samsung-chinh-thuc-tu-bo-exynos.3629443/\n",
      "Crawling url: https://tinhte.vn/thread/samsung-s23-ultra-mau-tim-co-ban-nu-nao-mua-dung-khong.3637274/\n",
      "Crawling url: https://tinhte.vn/thread/nen-mua-samsung-s23-ultra-de-choi-game-khong-nhi.3742415/\n",
      "Crawling url: https://tinhte.vn/thread/mua-samsung-s23-ultra-thi-co-nen-mua-them-samsung-care-khong.3665614/\n",
      "Crawling url: https://tinhte.vn/thread/cac-bac-danh-gia-camera-cua-may-samsung-s23-ultra-nhu-nao.3720041/\n",
      "Crawling url: https://tinhte.vn/thread/samsung-s23-ultra-tam-nay-mua-on-khong-vi-em-thay-sap-ra-s24-ultra-rui.3754027/\n",
      "Crawling url: https://tinhte.vn/thread/samsung-s23-ultra-co-dang-mua-thoi-diem-nay-khong.3664877/\n",
      "Crawling url: https://tinhte.vn/thread/mot-ngay-voi-galaxy-s23-ultra.3652190/\n",
      "Crawling url: https://tinhte.vn/thread/dung-tam-3-nam-nua-nen-chon-samsung-s23-ultra-hay-iphone-15-pro-max.3754897/\n",
      "Crawling url: https://tinhte.vn/thread/cam-nhan-nhanh-ve-galaxy-s23-ultra-tu-nguoi-dung-iphone-14-pro.3645330/\n",
      "Crawling url: https://tinhte.vn/thread/mot-vai-cai-dat-minh-thiet-lap-ngay-khi-mua-galaxy-s23-ultra.3640846/\n",
      "Crawling url: https://tinhte.vn/thread/mua-samsung-s23-ultra-dung-tam-2-3-nam-nua-co-on-khong-moi-nguoi.3735746/\n",
      "Crawling url: https://tinhte.vn/thread/galaxy-s23-ultra-chi-con-22-trieu-dong-smartphone-android-cao-cap-dang-mua.3706032/\n",
      "Crawling url: https://tinhte.vn/thread/samsung-s23-ultra-dung-het-bao-hanh-la-bi-loi-man-hinh-dung-hay-sai.3736411/page-3\n",
      "Crawling url: https://tinhte.vn/thread/di-choi-chup-hinh-bang-galaxy-s23-ultra-on.3684559/\n",
      "Crawling url: https://tinhte.vn/thread/anh-em-thich-chan-dung-cua-samsung-galaxy-s23-ultra-hay-apple-iphone-14-pro-max.3636594/\n",
      "Crawling url: https://tinhte.vn/thread/samsung-galaxy-s23-ultra-va-nhung-dieu-ban-can-biet.3629456/\n",
      "Crawling url: https://tinhte.vn/thread/so-sanh-tong-the-galaxy-s23-ultra-va-iphone-14-pro-max.3637229/\n",
      "Crawling url: https://tinhte.vn/thread/samsung-galaxy-s23-ultra-co-that-su-fake-hinh-anh-khi-chup-mat-trang-hay-khong.3644657/\n",
      "Crawling url: https://tinhte.vn/thread/coc-samsung-s23-ultra-thi-nen-coc-o-web-samsung-hay-cua-hang-ban-le.3630757/\n",
      "Crawling url: https://tinhte.vn/thread/samsung-s23-voi-samsung-s23-ultra-mua-em-nao-hon-va-s23-ultra-co-bi-can-khong-a.3640164/page-3\n",
      "Crawling url: https://tinhte.vn/thread/dung-mua-samsung-galaxy-s23-ultra-vi-dieu-nay.3631400/\n",
      "Crawling url: https://tinhte.vn/thread/moi-anh-em-chon-anh-dep-nhat-tu-iphone-14-pro-mi-13-pro-vivo-x90-pro-va-galaxy-s23-ultra.3632365/\n",
      "Crawling url: https://tinhte.vn/thread/samsung-s23-ultra-ban-8gb-moi-hay-12-gb-cu.3720263/page-2\n",
      "Crawling url: https://tinhte.vn/thread/so-sanh-samsung-galaxy-s23-ultra-va-iphone-13-promax.3718908/\n",
      "Crawling url: https://tinhte.vn/thread/trai-nghiem-te-khi-mua-s23-ultra-tren-website-samsung.3638799/\n",
      "Crawling url: https://tinhte.vn/thread/em-muon-may-samsung-s23-ultra-cua-ban-em-dung-suong-that.3635604/\n",
      "Crawling url: https://tinhte.vn/thread/mua-samsung-s23-ultra-cu-phai-may-tra-gop-thi-lam-the-nao.3662348/\n",
      "Crawling url: https://tinhte.vn/thread/moi-nguoi-mua-may-samsung-s23-ultra-ve-co-dung-but-nhieu-khong.3676542/\n",
      "Crawling url: https://tinhte.vn/thread/cac-bac-danh-gia-camera-cua-may-samsung-s23-ultra-nhu-nao.3720041/page-3\n",
      "Crawling url: https://tinhte.vn/thread/cong-bo-ket-qua-binh-chon-anh-dep-galaxy-s23-ultra-dung-dau-iphone-14-pro-dung-cuoi.3633781/\n",
      "Crawling url: https://tinhte.vn/thread/moi-nguoi-thay-camera-cua-samsung-s23-ultra-hon-hay-iphone-14-pro-max-hon.3663065/\n",
      "Crawling url: https://tinhte.vn/thread/s23-ultra-co-that-su-dang-mua.3652629/\n",
      "Crawling url: https://tinhte.vn/thread/galaxy-s23-ultra-van-la-dinh-trong-the-gioi-android-dang-thanh.3633783/\n",
      "Crawling url: https://tinhte.vn/thread/samsung-s23-ultra-tam-nay-mua-on-khong-vi-em-thay-sap-ra-s24-ultra-rui.3754027/page-2\n",
      "Crawling url: https://tinhte.vn/thread/co-nen-mua-samsung-s23-ultra-thi-truong-my.3733341/page-3\n",
      "Crawling url: https://tinhte.vn/thread/gio-mua-samsung-s23-ultra-co-hop-ly-khong.3745389/page-2\n",
      "Crawling url: https://tinhte.vn/thread/samsung-noi-gi-ve-cao-buoc-s23-ultra-fake-hinh-chup-mat-trang.3645400/\n",
      "Crawling url: https://tinhte.vn/thread/mong-anh-em-tu-van-giup-minh-iphone-15-pro-max-va-samsung-s23-ultra.3719368/\n",
      "Crawling url: https://tinhte.vn/thread/dung-lau-dai-ben-thi-nen-chon-s23-ultra-hay-z-fold-5.3719561/\n",
      "Crawling url: https://tinhte.vn/thread/tu-iphone-12-pro-max-doi-sang-s23-ultra-co-ok-khong.3720974/\n",
      "Crawling url: https://tinhte.vn/thread/con-gai-nen-mua-samsung-s23-hay-la-samsung-s23-ultra.3748611/page-3\n",
      "Crawling url: https://tinhte.vn/thread/giua-samsung-s23-ultra-voi-z-fold-4-may-nao-oke-hon.3641925/page-2\n",
      "Crawling url: https://tinhte.vn/thread/chon-samsung-s23-ultra-hay-z-fold-5-dung-on-hon.3721708/\n",
      "Crawling url: https://tinhte.vn/thread/mua-s23-ultra-thoi-diem-nay-lieu-co-hop-ly.3718870/\n",
      "Crawling url: https://tinhte.vn/thread/ket-qua-ttbc23-hang-muc-smartphone-chien-thang-cho-galaxy-s23-ultra-noi-rieng-va-samsung-noi-chung.3746933/\n",
      "Crawling url: https://tinhte.vn/thread/samsung-s23-ultra-co-dang-mua-thoi-diem-nay-khong.3664877/page-3\n",
      "Crawling url: https://tinhte.vn/thread/samsung-galaxy-s23-ultra-anh-em-note-fan-con-cho-gi-nua.3640451/\n",
      "Crawling url: https://tinhte.vn/thread/200mp-tren-galaxy-s23-ultra-khi-crop-lai-co-chat-luong-hon-zoom-100x.3635071/\n",
      "Crawling url: https://tinhte.vn/thread/moi-nguoi-mua-may-samsung-s23-ultra-ve-co-dung-but-nhieu-khong.3676542/page-2\n",
      "Crawling url: https://tinhte.vn/thread/so-sanh-iphone-15-pro-max-va-galaxy-s23-ultra.3715879/\n",
      "Crawling url: https://tinhte.vn/thread/dung-tam-3-nam-nua-nen-chon-samsung-s23-ultra-hay-iphone-15-pro-max.3754897/page-2\n",
      "Crawling url: https://tinhte.vn/thread/moi-nguoi-mua-may-samsung-s23-ultra-ve-co-dung-but-nhieu-khong.3676542/page-3\n",
      "Crawling url: https://tinhte.vn/thread/mua-samsung-s23-ultra-dung-tam-2-3-nam-nua-co-on-khong-moi-nguoi.3735746/page-2\n",
      "Crawling url: https://tinhte.vn/thread/chon-samsung-s23-ultra-hay-z-fold-5-dung-on-hon.3721708/page-3\n",
      "Crawling url: https://tinhte.vn/thread/dung-tam-3-nam-nua-nen-chon-samsung-s23-ultra-hay-iphone-15-pro-max.3754897/page-3\n",
      "Crawling url: https://tinhte.vn/thread/test-so-sanh-4-cu-sac-belkin-mophie-cong-suat-30w-65w-67w-voi-samsung-s23-ultra-laptop.3641767/\n",
      "Crawling url: https://tinhte.vn/thread/con-gai-nen-mua-samsung-s23-hay-la-samsung-s23-ultra.3748611\n",
      "Crawling url: https://tinhte.vn/thread/ban-s23-ultra-nam-nay-co-mau-xanh-reu-dep-me-li-qua.3631924/\n",
      "Crawling url: https://tinhte.vn/thread/gio-nen-mua-s23-ultra-hay-la-doi-may-man-hinh-gap-moi-nha-samsung.3647951/\n",
      "Crawling url: https://tinhte.vn/thread/gio-nen-mua-s23-ultra-hay-la-doi-may-man-hinh-gap-moi-nha-samsung.3647951/\n",
      "Crawling url: https://tinhte.vn/thread/unbox-galaxy-s23-ultra-quay-chup-bang-s23-ultra-ngay-dem-nhan-may.3632363/\n",
      "Crawling url: https://tinhte.vn/thread/nhung-meo-co-the-lam-de-tang-thoi-gian-dung-pin-s23-ultra-cung-nhu-cac-may-galaxy-khac.3656333/\n",
      "Crawling url: https://tinhte.vn/thread/coc-samsung-s23-ultra-thi-nen-coc-o-web-samsung-hay-cua-hang-ban-le.3630757/page-2\n",
      "Crawling url: https://tinhte.vn/thread/e-dang-muon-chuyen-sang-s23-ultra-ma-ss-so-rot-gia-nhanh-voi-ca-thay-mn-bao-bi-soc-man-cung-ren.3683822/\n",
      "Crawling url: https://tinhte.vn/thread/tin-don-samsung-galaxy-s23-ultra-se-trang-bi-cam-bien-van-tay-3d-sonic-max-cua-qualcomm.3555237/\n",
      "Crawling url: https://tinhte.vn/thread/gia-samsung-s23-den-s23-ultra-co-bi-ngao-gia.3629429/page-2\n",
      "Crawling url: https://tinhte.vn/thread/moi-nguoi-thay-camera-cua-samsung-s23-ultra-hon-hay-iphone-14-pro-max-hon.3663065/page-2\n",
      "Crawling url: https://tinhte.vn/thread/doi-s23-ultra-len-z-fold-5-thi-co-nen-khong-cac-bac.3735014/\n",
      "Crawling url: https://tinhte.vn/thread/3685917\n",
      "Crawling url: https://tinhte.vn/thread/thu-chup-chan-dung-tren-galaxy-s23-ultra-trong-nhieu-dieu-kien-anh-sang-khac-nhau.3630828/\n",
      "Crawling url: https://tinhte.vn/thread/minh-dang-tinh-mua-samsung-s22ultra-hoac-s23-plus-thi-nen-lua-chon-may-nao-hon-em-dang-thich-con.3660509/\n",
      "Crawling url: https://tinhte.vn/thread/loa-cua-s23-ultra-se-duoc-nang-cap.3625048/\n",
      "Crawling url: https://tinhte.vn/thread/camera-cua-samsung-galaxy-s23-ultra-mot-chiec-may-anh-duong-pho-tuyet-voi.3630306/page-3\n",
      "Crawling url: https://tinhte.vn/thread/dan-kinh-cuong-luc-uv-can-than-keo-mat-bao-hanh-samsung.3666096/\n",
      "Crawling url: https://tinhte.vn/thread/nhung-nang-cap-noi-bat-tren-galaxy-s23-ultra-cam-bien-200mp-thiet-ke-vuong-vuc-snapdragon-8-gen2.3629290/\n",
      "Crawling url: https://tinhte.vn/thread/samsung-s23-ultra-mau-tim-co-ban-nu-nao-mua-dung-khong.3637274/page-2\n",
      "Crawling url: https://tinhte.vn/thread/thu-mang-galaxy-s23-ultra-di-chup-the-thao-bang-ong-10x.3642647/\n"
     ]
    }
   ],
   "source": [
    "df_link_sss23u = pd.read_csv('../../Data/TinhTe/TinhTe_SamsungS23u_InfoPosts.csv')\n",
    "df_ss23u = main_func(df_link_sss23u,1,100)\n",
    "save_path = \"../../Data/TinhTe/TinhTe_SamsungS23u_Comments.csv\"\n",
    "df_ss23u.to_csv(save_path, index=False)\n",
    "winsound.Beep(freq,duration)"
   ]
  }
 ],
 "metadata": {
  "kernelspec": {
   "display_name": "Python 3",
   "language": "python",
   "name": "python3"
  },
  "language_info": {
   "codemirror_mode": {
    "name": "ipython",
    "version": 3
   },
   "file_extension": ".py",
   "mimetype": "text/x-python",
   "name": "python",
   "nbconvert_exporter": "python",
   "pygments_lexer": "ipython3",
   "version": "3.9.0"
  }
 },
 "nbformat": 4,
 "nbformat_minor": 2
}
